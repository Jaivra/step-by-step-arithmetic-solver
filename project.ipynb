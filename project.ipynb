{
 "cells": [
  {
   "cell_type": "code",
   "execution_count": 1,
   "id": "9b88f61a",
   "metadata": {},
   "outputs": [],
   "source": [
    "%load_ext autoreload\n",
    "%autoreload 2"
   ]
  },
  {
   "cell_type": "code",
   "execution_count": 2,
   "id": "baf755e7",
   "metadata": {},
   "outputs": [],
   "source": [
    "from textwrap import indent\n",
    "\n",
    "from IPython.display import Javascript\n",
    "\n",
    "from liblet import ANTLR, AnnotatedTreeWalker, Tree, pyast2tree, side_by_side\n",
    "\n",
    "from operator import add, mul, truediv, sub\n",
    "\n",
    "from operator import itemgetter\n",
    "\n",
    "from IPython.display import Latex\n",
    "\n",
    "from fractions import Fraction\n",
    "\n",
    "import importlib\n",
    "\n",
    "from core.arithmetic_manager import ArithManager\n",
    "\n",
    "from core.util import *"
   ]
  },
  {
   "cell_type": "code",
   "execution_count": 8,
   "id": "af49ae67",
   "metadata": {},
   "outputs": [
    {
     "name": "stdout",
     "output_type": "stream",
     "text": [
      "*\n"
     ]
    },
    {
     "data": {
      "text/latex": [
       "\\begin{align}\\left({2}^{\\frac{-1} {3}} + 0.5 + 8 - 2.3 \\times 2.1 - 2 + \\left(\\left(\\left(2 + 3\\right) + 1\\right) - 1\\right) + \\left(2 + \\left(2 - 2 \\times \\left(8 + 9 - \\color{blue}{\\left(\\color{red}{\\boxed{5\\times6}}\\right)}\\right)\\right)\\right)\\right) : 0\\end{align}"
      ],
      "text/plain": [
       "<IPython.core.display.Latex object>"
      ]
     },
     "metadata": {},
     "output_type": "display_data"
    },
    {
     "data": {
      "text/latex": [
       "\\begin{align}\\left({2}^{\\frac{-1} {3}} + 0.5 + 8 - 2.3 \\times 2.1 - 2 + \\left(\\left(\\color{blue}{\\left(\\color{red}{\\boxed{2+3}}\\right)} + 1\\right) - 1\\right) + \\left(2 + \\left(2 - 2 \\times \\left(8 + 9 - \\color{green}{\\boxed{30}}\\right)\\right)\\right)\\right) : 0\\end{align}"
      ],
      "text/plain": [
       "<IPython.core.display.Latex object>"
      ]
     },
     "metadata": {},
     "output_type": "display_data"
    },
    {
     "data": {
      "text/latex": [
       "\\begin{align}\\left({2}^{\\frac{-1} {3}} + 0.5 + 8 - 2.3 \\times 2.1 - 2 + \\left(\\left(\\color{green}{\\boxed{5}} + 1\\right) - 1\\right) + \\left(2 + \\left(2 - 2 \\times \\color{blue}{\\left(\\color{red}{\\boxed{8 + 9-30}}\\right)}\\right)\\right)\\right) : 0\\end{align}"
      ],
      "text/plain": [
       "<IPython.core.display.Latex object>"
      ]
     },
     "metadata": {},
     "output_type": "display_data"
    },
    {
     "data": {
      "text/latex": [
       "\\begin{align}\\left({2}^{\\frac{-1} {3}} + 0.5 + 8 - 2.3 \\times 2.1 - 2 + \\left(\\color{blue}{\\left(\\color{red}{\\boxed{5+1}}\\right)} - 1\\right) + \\left(2 + \\left(2 - 2 \\times \\color{green}{\\boxed{-13}}\\right)\\right)\\right) : 0\\end{align}"
      ],
      "text/plain": [
       "<IPython.core.display.Latex object>"
      ]
     },
     "metadata": {},
     "output_type": "display_data"
    },
    {
     "data": {
      "text/latex": [
       "\\begin{align}\\left({2}^{\\frac{-1} {3}} + 0.5 + 8 - 2.3 \\times 2.1 - 2 + \\left(\\color{green}{\\boxed{6}} - 1\\right) + \\left(2 + \\color{blue}{\\left(2 - \\color{red}{\\boxed{2\\times-13}}\\right)}\\right)\\right) : 0\\end{align}"
      ],
      "text/plain": [
       "<IPython.core.display.Latex object>"
      ]
     },
     "metadata": {},
     "output_type": "display_data"
    },
    {
     "data": {
      "text/latex": [
       "\\begin{align}\\left({2}^{\\frac{-1} {3}} + 0.5 + 8 - 2.3 \\times 2.1 - 2 + \\left(6 - 1\\right) + \\left(2 + \\color{blue}{\\left(\\color{red}{\\boxed{2-\\color{green}{\\boxed{-26}}}}\\right)}\\right)\\right) : 0\\end{align}"
      ],
      "text/plain": [
       "<IPython.core.display.Latex object>"
      ]
     },
     "metadata": {},
     "output_type": "display_data"
    },
    {
     "data": {
      "text/latex": [
       "\\begin{align}\\left({2}^{\\frac{-1} {3}} + 0.5 + 8 - 2.3 \\times 2.1 - 2 + \\color{blue}{\\left(\\color{red}{\\boxed{6-1}}\\right)} + \\left(2 + \\color{green}{\\boxed{28}}\\right)\\right) : 0\\end{align}"
      ],
      "text/plain": [
       "<IPython.core.display.Latex object>"
      ]
     },
     "metadata": {},
     "output_type": "display_data"
    },
    {
     "data": {
      "text/latex": [
       "\\begin{align}\\left({2}^{\\frac{-1} {3}} + 0.5 + 8 - 2.3 \\times 2.1 - 2 + \\color{green}{\\boxed{5}} + \\color{blue}{\\left(\\color{red}{\\boxed{2+28}}\\right)}\\right) : 0\\end{align}"
      ],
      "text/plain": [
       "<IPython.core.display.Latex object>"
      ]
     },
     "metadata": {},
     "output_type": "display_data"
    },
    {
     "data": {
      "text/latex": [
       "\\begin{align}\\color{blue}{\\left(\\color{red}{\\boxed{{2}^{\\frac{-1} {3}}}} + 0.5 + 8 - 2.3 \\times 2.1 - 2 + 5 + \\color{green}{\\boxed{30}}\\right)} : 0\\end{align}"
      ],
      "text/plain": [
       "<IPython.core.display.Latex object>"
      ]
     },
     "metadata": {},
     "output_type": "display_data"
    },
    {
     "data": {
      "text/latex": [
       "\\begin{align}\\color{blue}{\\left(\\color{green}{\\boxed{0.794}} + 0.5 + 8 - \\color{red}{\\boxed{2.3\\times2.1}} - 2 + 5 + 30\\right)} : 0\\end{align}"
      ],
      "text/plain": [
       "<IPython.core.display.Latex object>"
      ]
     },
     "metadata": {},
     "output_type": "display_data"
    },
    {
     "data": {
      "text/latex": [
       "\\begin{align}\\color{blue}{\\left(\\color{red}{\\boxed{0.794 + 0.5 + 8 - \\color{green}{\\boxed{4.83}} - 2 + 5+30}}\\right)} : 0\\end{align}"
      ],
      "text/plain": [
       "<IPython.core.display.Latex object>"
      ]
     },
     "metadata": {},
     "output_type": "display_data"
    },
    {
     "data": {
      "text/latex": [
       "\\begin{align}\\color{red}{\\boxed{\\color{green}{\\boxed{37.464}}:0}}\\end{align}"
      ],
      "text/plain": [
       "<IPython.core.display.Latex object>"
      ]
     },
     "metadata": {},
     "output_type": "display_data"
    },
    {
     "ename": "Exception",
     "evalue": "Division by 0 --> 37.464:0",
     "output_type": "error",
     "traceback": [
      "\u001b[0;31m---------------------------------------------------------------------------\u001b[0m",
      "\u001b[0;31mException\u001b[0m                                 Traceback (most recent call last)",
      "\u001b[0;32m/tmp/ipykernel_3024/1932591638.py\u001b[0m in \u001b[0;36m<module>\u001b[0;34m\u001b[0m\n\u001b[1;32m     26\u001b[0m     \u001b[0mdisplay_latex\u001b[0m\u001b[0;34m(\u001b[0m\u001b[0mAM\u001b[0m\u001b[0;34m.\u001b[0m\u001b[0mlatex\u001b[0m\u001b[0;34m(\u001b[0m\u001b[0mmain_block\u001b[0m\u001b[0;34m,\u001b[0m \u001b[0mMEMORY\u001b[0m\u001b[0;34m)\u001b[0m\u001b[0;34m)\u001b[0m\u001b[0;34m\u001b[0m\u001b[0;34m\u001b[0m\u001b[0m\n\u001b[1;32m     27\u001b[0m \u001b[0;34m\u001b[0m\u001b[0m\n\u001b[0;32m---> 28\u001b[0;31m     parent_to_calc.children =  [Tree({'type': 'atomExpr', 'value': AM.eval(child, MEMORY), 'priority': 0, '_calc': 'last'}, []) \n\u001b[0m\u001b[1;32m     29\u001b[0m                                 \u001b[0;32mif\u001b[0m \u001b[0mis_next_to_calc\u001b[0m\u001b[0;34m(\u001b[0m\u001b[0mchild\u001b[0m\u001b[0;34m)\u001b[0m \u001b[0;32melse\u001b[0m \u001b[0mchild\u001b[0m\u001b[0;34m\u001b[0m\u001b[0;34m\u001b[0m\u001b[0m\n\u001b[1;32m     30\u001b[0m                                 for child in parent_to_calc.children]\n",
      "\u001b[0;32m/tmp/ipykernel_3024/1932591638.py\u001b[0m in \u001b[0;36m<listcomp>\u001b[0;34m(.0)\u001b[0m\n\u001b[1;32m     26\u001b[0m     \u001b[0mdisplay_latex\u001b[0m\u001b[0;34m(\u001b[0m\u001b[0mAM\u001b[0m\u001b[0;34m.\u001b[0m\u001b[0mlatex\u001b[0m\u001b[0;34m(\u001b[0m\u001b[0mmain_block\u001b[0m\u001b[0;34m,\u001b[0m \u001b[0mMEMORY\u001b[0m\u001b[0;34m)\u001b[0m\u001b[0;34m)\u001b[0m\u001b[0;34m\u001b[0m\u001b[0;34m\u001b[0m\u001b[0m\n\u001b[1;32m     27\u001b[0m \u001b[0;34m\u001b[0m\u001b[0m\n\u001b[0;32m---> 28\u001b[0;31m     parent_to_calc.children =  [Tree({'type': 'atomExpr', 'value': AM.eval(child, MEMORY), 'priority': 0, '_calc': 'last'}, []) \n\u001b[0m\u001b[1;32m     29\u001b[0m                                 \u001b[0;32mif\u001b[0m \u001b[0mis_next_to_calc\u001b[0m\u001b[0;34m(\u001b[0m\u001b[0mchild\u001b[0m\u001b[0;34m)\u001b[0m \u001b[0;32melse\u001b[0m \u001b[0mchild\u001b[0m\u001b[0;34m\u001b[0m\u001b[0;34m\u001b[0m\u001b[0m\n\u001b[1;32m     30\u001b[0m                                 for child in parent_to_calc.children]\n",
      "\u001b[0;32m~/Documents/university/let/handouts/project/core/arithmetic_manager.py\u001b[0m in \u001b[0;36meval\u001b[0;34m(self, ast, memory)\u001b[0m\n\u001b[1;32m     35\u001b[0m         \u001b[0;32mif\u001b[0m \u001b[0mmemory\u001b[0m \u001b[0;32mis\u001b[0m \u001b[0;32mNone\u001b[0m\u001b[0;34m:\u001b[0m\u001b[0;34m\u001b[0m\u001b[0;34m\u001b[0m\u001b[0m\n\u001b[1;32m     36\u001b[0m             \u001b[0mmemory\u001b[0m \u001b[0;34m=\u001b[0m \u001b[0mdict\u001b[0m\u001b[0;34m(\u001b[0m\u001b[0;34m)\u001b[0m\u001b[0;34m\u001b[0m\u001b[0;34m\u001b[0m\u001b[0m\n\u001b[0;32m---> 37\u001b[0;31m         \u001b[0;32mreturn\u001b[0m \u001b[0mself\u001b[0m\u001b[0;34m.\u001b[0m\u001b[0m_atw_eval_expr\u001b[0m\u001b[0;34m.\u001b[0m\u001b[0mstart\u001b[0m\u001b[0;34m(\u001b[0m\u001b[0mast\u001b[0m\u001b[0;34m,\u001b[0m \u001b[0mmemory\u001b[0m\u001b[0;34m)\u001b[0m\u001b[0;34m\u001b[0m\u001b[0;34m\u001b[0m\u001b[0m\n\u001b[0m\u001b[1;32m     38\u001b[0m \u001b[0;34m\u001b[0m\u001b[0m\n\u001b[1;32m     39\u001b[0m     \u001b[0;32mdef\u001b[0m \u001b[0mlatex\u001b[0m\u001b[0;34m(\u001b[0m\u001b[0mself\u001b[0m\u001b[0;34m,\u001b[0m \u001b[0mast\u001b[0m\u001b[0;34m,\u001b[0m \u001b[0mmemory\u001b[0m\u001b[0;34m)\u001b[0m\u001b[0;34m:\u001b[0m\u001b[0;34m\u001b[0m\u001b[0;34m\u001b[0m\u001b[0m\n",
      "\u001b[0;32m~/Documents/university/let/handouts/project/core/atw_expr_eval.py\u001b[0m in \u001b[0;36mstart\u001b[0;34m(self, ast, memory)\u001b[0m\n\u001b[1;32m     26\u001b[0m     \u001b[0;32mdef\u001b[0m \u001b[0mstart\u001b[0m\u001b[0;34m(\u001b[0m\u001b[0mself\u001b[0m\u001b[0;34m,\u001b[0m \u001b[0mast\u001b[0m\u001b[0;34m,\u001b[0m \u001b[0mmemory\u001b[0m\u001b[0;34m)\u001b[0m\u001b[0;34m:\u001b[0m\u001b[0;34m\u001b[0m\u001b[0;34m\u001b[0m\u001b[0m\n\u001b[1;32m     27\u001b[0m         \u001b[0mself\u001b[0m\u001b[0;34m.\u001b[0m\u001b[0mMEMORY\u001b[0m \u001b[0;34m=\u001b[0m \u001b[0mmemory\u001b[0m\u001b[0;34m\u001b[0m\u001b[0;34m\u001b[0m\u001b[0m\n\u001b[0;32m---> 28\u001b[0;31m         \u001b[0;32mreturn\u001b[0m \u001b[0mself\u001b[0m\u001b[0;34m(\u001b[0m\u001b[0mast\u001b[0m\u001b[0;34m)\u001b[0m\u001b[0;34m\u001b[0m\u001b[0;34m\u001b[0m\u001b[0m\n\u001b[0m\u001b[1;32m     29\u001b[0m \u001b[0;34m\u001b[0m\u001b[0m\n\u001b[1;32m     30\u001b[0m     \u001b[0;32mdef\u001b[0m \u001b[0m_atw_atomExpr\u001b[0m\u001b[0;34m(\u001b[0m\u001b[0mself\u001b[0m\u001b[0;34m,\u001b[0m \u001b[0mast\u001b[0m\u001b[0;34m)\u001b[0m\u001b[0;34m:\u001b[0m\u001b[0;34m\u001b[0m\u001b[0;34m\u001b[0m\u001b[0m\n",
      "\u001b[0;32m~/Documents/university/let/handouts/project/core/my_atw.py\u001b[0m in \u001b[0;36m__call__\u001b[0;34m(self, tree)\u001b[0m\n\u001b[1;32m     31\u001b[0m     \u001b[0;32mdef\u001b[0m \u001b[0m__call__\u001b[0m\u001b[0;34m(\u001b[0m\u001b[0mself\u001b[0m\u001b[0;34m,\u001b[0m \u001b[0mtree\u001b[0m\u001b[0;34m)\u001b[0m\u001b[0;34m:\u001b[0m\u001b[0;34m\u001b[0m\u001b[0;34m\u001b[0m\u001b[0m\n\u001b[1;32m     32\u001b[0m         \u001b[0mkey\u001b[0m \u001b[0;34m=\u001b[0m \u001b[0mtree\u001b[0m\u001b[0;34m.\u001b[0m\u001b[0mroot\u001b[0m\u001b[0;34m[\u001b[0m\u001b[0mself\u001b[0m\u001b[0;34m.\u001b[0m\u001b[0m_key\u001b[0m\u001b[0;34m]\u001b[0m\u001b[0;34m\u001b[0m\u001b[0;34m\u001b[0m\u001b[0m\n\u001b[0;32m---> 33\u001b[0;31m         \u001b[0;32mreturn\u001b[0m \u001b[0mself\u001b[0m\u001b[0;34m.\u001b[0m\u001b[0m_dispatch_table\u001b[0m\u001b[0;34m[\u001b[0m\u001b[0mkey\u001b[0m\u001b[0;34m]\u001b[0m\u001b[0;34m(\u001b[0m\u001b[0mtree\u001b[0m\u001b[0;34m)\u001b[0m \u001b[0;32mif\u001b[0m \u001b[0mkey\u001b[0m \u001b[0;32min\u001b[0m \u001b[0mself\u001b[0m\u001b[0;34m.\u001b[0m\u001b[0m_dispatch_table\u001b[0m \u001b[0;32melse\u001b[0m \u001b[0mself\u001b[0m\u001b[0;34m.\u001b[0m\u001b[0mcatchall\u001b[0m\u001b[0;34m(\u001b[0m\u001b[0mtree\u001b[0m\u001b[0;34m)\u001b[0m\u001b[0;34m\u001b[0m\u001b[0;34m\u001b[0m\u001b[0m\n\u001b[0m\u001b[1;32m     34\u001b[0m \u001b[0;34m\u001b[0m\u001b[0m\n\u001b[1;32m     35\u001b[0m \u001b[0;34m\u001b[0m\u001b[0m\n",
      "\u001b[0;32m~/Documents/university/let/handouts/project/core/util.py\u001b[0m in \u001b[0;36mcheck_type_aux\u001b[0;34m(*x)\u001b[0m\n\u001b[1;32m     33\u001b[0m \u001b[0;32mdef\u001b[0m \u001b[0mcheck_type\u001b[0m\u001b[0;34m(\u001b[0m\u001b[0mf\u001b[0m\u001b[0;34m)\u001b[0m\u001b[0;34m:\u001b[0m\u001b[0;34m\u001b[0m\u001b[0;34m\u001b[0m\u001b[0m\n\u001b[1;32m     34\u001b[0m     \u001b[0;32mdef\u001b[0m \u001b[0mcheck_type_aux\u001b[0m\u001b[0;34m(\u001b[0m\u001b[0;34m*\u001b[0m\u001b[0mx\u001b[0m\u001b[0;34m)\u001b[0m\u001b[0;34m:\u001b[0m\u001b[0;34m\u001b[0m\u001b[0;34m\u001b[0m\u001b[0m\n\u001b[0;32m---> 35\u001b[0;31m         \u001b[0mres\u001b[0m \u001b[0;34m=\u001b[0m \u001b[0mf\u001b[0m\u001b[0;34m(\u001b[0m\u001b[0;34m*\u001b[0m\u001b[0mx\u001b[0m\u001b[0;34m)\u001b[0m\u001b[0;34m\u001b[0m\u001b[0;34m\u001b[0m\u001b[0m\n\u001b[0m\u001b[1;32m     36\u001b[0m         \u001b[0;32mif\u001b[0m \u001b[0misinstance\u001b[0m\u001b[0;34m(\u001b[0m\u001b[0mres\u001b[0m\u001b[0;34m,\u001b[0m \u001b[0mFraction\u001b[0m\u001b[0;34m)\u001b[0m \u001b[0;32mand\u001b[0m \u001b[0mres\u001b[0m\u001b[0;34m.\u001b[0m\u001b[0mdenominator\u001b[0m \u001b[0;34m!=\u001b[0m \u001b[0;36m1\u001b[0m\u001b[0;34m:\u001b[0m\u001b[0;34m\u001b[0m\u001b[0;34m\u001b[0m\u001b[0m\n\u001b[1;32m     37\u001b[0m             \u001b[0;32mreturn\u001b[0m \u001b[0mres\u001b[0m\u001b[0;34m\u001b[0m\u001b[0;34m\u001b[0m\u001b[0m\n",
      "\u001b[0;32m~/Documents/university/let/handouts/project/core/atw_expr_eval.py\u001b[0m in \u001b[0;36m_atw_divProdExpr\u001b[0;34m(self, ast)\u001b[0m\n\u001b[1;32m     48\u001b[0m         \u001b[0mleft\u001b[0m\u001b[0;34m,\u001b[0m \u001b[0mright\u001b[0m \u001b[0;34m=\u001b[0m \u001b[0mself\u001b[0m\u001b[0;34m(\u001b[0m\u001b[0mleft\u001b[0m\u001b[0;34m)\u001b[0m\u001b[0;34m,\u001b[0m \u001b[0mself\u001b[0m\u001b[0;34m(\u001b[0m\u001b[0mright\u001b[0m\u001b[0;34m)\u001b[0m\u001b[0;34m\u001b[0m\u001b[0;34m\u001b[0m\u001b[0m\n\u001b[1;32m     49\u001b[0m         \u001b[0;32mif\u001b[0m \u001b[0mop\u001b[0m \u001b[0;34m==\u001b[0m \u001b[0;34m':'\u001b[0m \u001b[0;32mand\u001b[0m \u001b[0mright\u001b[0m \u001b[0;34m==\u001b[0m \u001b[0;36m0\u001b[0m\u001b[0;34m:\u001b[0m\u001b[0;34m\u001b[0m\u001b[0;34m\u001b[0m\u001b[0m\n\u001b[0;32m---> 50\u001b[0;31m             \u001b[0;32mraise\u001b[0m \u001b[0mException\u001b[0m\u001b[0;34m(\u001b[0m\u001b[0;34mf'Division by 0 --> {left}:{right}'\u001b[0m\u001b[0;34m)\u001b[0m\u001b[0;34m\u001b[0m\u001b[0;34m\u001b[0m\u001b[0m\n\u001b[0m\u001b[1;32m     51\u001b[0m         \u001b[0;32mreturn\u001b[0m \u001b[0mAtwEvalExpr\u001b[0m\u001b[0;34m.\u001b[0m\u001b[0mARITH_OP\u001b[0m\u001b[0;34m[\u001b[0m\u001b[0mop\u001b[0m\u001b[0;34m]\u001b[0m\u001b[0;34m(\u001b[0m\u001b[0mleft\u001b[0m\u001b[0;34m,\u001b[0m \u001b[0mright\u001b[0m\u001b[0;34m)\u001b[0m\u001b[0;34m\u001b[0m\u001b[0;34m\u001b[0m\u001b[0m\n\u001b[1;32m     52\u001b[0m \u001b[0;34m\u001b[0m\u001b[0m\n",
      "\u001b[0;31mException\u001b[0m: Division by 0 --> 37.464:0"
     ]
    }
   ],
   "source": [
    "ex1 = '1 + {2 x [(3 + 4 : 2) + 5] x 6} - [ 7 + (1 + 8) : 3 ] x [ 9 : (2 + 1) + 2 ]'\n",
    "ex2 = '<2+3>/4/<5+6>/7'\n",
    "ex3 = '2^<3+4^5:2^7>'\n",
    "ex4 = '3 + 13 x -<1 + 3>/<2^<1+4> - 6>'\n",
    "ex5a = '3 / < 4 + 2 > + 2 x { 3 : ( 4 + 5 ) + 2 ^ < 6 x 1/2 > } - < 2 x [ 5 x ( 3 + 4 ) + 5 ] - 1 > / 6'\n",
    "ex5b = '3 / < 4 + 2 > + 2 x ( 3 : ( 4 + 5 ) + 2 ^ < 6 x 1/2 > ) - < 2 x ( 5 x ( 3 + 4 ) + 5 ) - 1 > / 6'\n",
    "\n",
    "src = '(2^-1/3 + 0.5 + 8 - 2.3 x 2.1 - 2 + (((2 + 3) + 1) - 1) + (2 + (2 - 2 x (8 + 9 - (5 x 6))))):0'\n",
    "\n",
    "AM = ArithManager()\n",
    "ast = AM.ptree2ast(AM.ptree('antlrGrammar.g', src))\n",
    "blocks = AM.blocks(ast)\n",
    "MEMORY = dict(blocks)\n",
    "\n",
    "main_block = blocks[-1][1]\n",
    "child_to_calc = None\n",
    "\n",
    "current_block = block_id = None\n",
    "\n",
    "while blocks and is_calculable(blocks[0][1]): blocks = blocks[1:]\n",
    "    \n",
    "while blocks:\n",
    "    block_id, current_block = blocks[0]\n",
    "        \n",
    "    parent_to_calc = AM.prior(current_block)\n",
    "    display_latex(AM.latex(main_block, MEMORY))\n",
    "\n",
    "    parent_to_calc.children =  [Tree({'type': 'atomExpr', 'value': AM.eval(child, MEMORY), 'priority': 0, '_calc': 'last'}, []) \n",
    "                                if is_next_to_calc(child) else child\n",
    "                                for child in parent_to_calc.children]\n",
    "    \n",
    "    if is_calculable(current_block):\n",
    "        current_block = current_block.children[0]\n",
    "        blocks = blocks[1:]\n",
    "        \n",
    "    MEMORY[block_id] = current_block\n",
    "\n",
    "display_latex(AM.latex(main_block, {}))"
   ]
  },
  {
   "cell_type": "code",
   "execution_count": null,
   "id": "baf778cf",
   "metadata": {},
   "outputs": [],
   "source": [
    "with open(\"core/atw_expr_eval.py\") as f:\n",
    "    print(f.read())"
   ]
  },
  {
   "cell_type": "code",
   "execution_count": null,
   "id": "b5a5e400",
   "metadata": {},
   "outputs": [],
   "source": [
    "from decimal import Decimal\n",
    "str(Decimal('%.2E' % 1000000))"
   ]
  },
  {
   "cell_type": "code",
   "execution_count": null,
   "id": "53669a00",
   "metadata": {},
   "outputs": [],
   "source": [
    "isinstance(8.0, int)\n",
    "Fraction(1.333)\n",
    "8.4.is_integer()\n",
    "isinstance(Fraction(4, 2), int)\n",
    "int(Fraction(4, 2))"
   ]
  },
  {
   "cell_type": "code",
   "execution_count": null,
   "id": "fd4dc8ef",
   "metadata": {},
   "outputs": [],
   "source": [
    "import re\n",
    "if re.match(r'_atw_[^\\W\\d_]+', '_atw_'):\n",
    "    print('ski')"
   ]
  },
  {
   "cell_type": "code",
   "execution_count": null,
   "id": "4ef37aa0",
   "metadata": {},
   "outputs": [],
   "source": [
    "src = '(4 + 5)'\n",
    "\n",
    "\n",
    "arithExpr = ArithManager.arith_expr('antlrGrammar.g')\n",
    "ast = ArithManager.ptree2ast(ArithManager.ptree(arithExpr, src))\n",
    "ast"
   ]
  }
 ],
 "metadata": {
  "kernelspec": {
   "display_name": "Python 3 (ipykernel)",
   "language": "python",
   "name": "python3"
  },
  "language_info": {
   "codemirror_mode": {
    "name": "ipython",
    "version": 3
   },
   "file_extension": ".py",
   "mimetype": "text/x-python",
   "name": "python",
   "nbconvert_exporter": "python",
   "pygments_lexer": "ipython3",
   "version": "3.8.8"
  }
 },
 "nbformat": 4,
 "nbformat_minor": 5
}
