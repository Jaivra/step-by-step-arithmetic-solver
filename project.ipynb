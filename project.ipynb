{
 "cells": [
  {
   "cell_type": "code",
   "execution_count": 10,
   "metadata": {},
   "outputs": [
    {
     "name": "stdout",
     "output_type": "stream",
     "text": [
      "The autoreload extension is already loaded. To reload it, use:\n",
      "  %reload_ext autoreload\n"
     ]
    }
   ],
   "source": [
    "%load_ext autoreload\n",
    "%autoreload 2"
   ]
  },
  {
   "cell_type": "code",
   "execution_count": 11,
   "metadata": {},
   "outputs": [],
   "source": [
    "from textwrap import indent\n",
    "\n",
    "from IPython.display import Javascript\n",
    "\n",
    "from liblet import ANTLR, AnnotatedTreeWalker, Tree, pyast2tree, side_by_side\n",
    "\n",
    "from operator import add, mul, truediv, sub\n",
    "\n",
    "from operator import itemgetter\n",
    "\n",
    "from IPython.display import Latex\n",
    "\n",
    "from fractions import Fraction\n",
    "\n",
    "import importlib\n",
    "\n",
    "from core.arithmetic_manager import ArithManager\n",
    "\n",
    "from core.util import *\n",
    "\n",
    "from core.shunting_yard_parser import ShuntingYardParser\n",
    "from core.arithmetic_manager import ArithManager\n",
    "from core.util import *"
   ]
  },
  {
   "cell_type": "code",
   "execution_count": 12,
   "metadata": {},
   "outputs": [
    {
     "data": {
      "text/plain": [
       "Fraction(5, 4)"
      ]
     },
     "execution_count": 12,
     "metadata": {},
     "output_type": "execute_result"
    }
   ],
   "source": [
    "Fraction(2, 4) + Fraction(3, 4)"
   ]
  },
  {
   "cell_type": "code",
   "execution_count": 13,
   "metadata": {},
   "outputs": [
    {
     "name": "stdout",
     "output_type": "stream",
     "text": [
      "ANTLR runtime and generated code versions disagree: 4.9.1!=4.7.2\n",
      "ANTLR runtime and generated code versions disagree: 4.9.1!=4.7.2\n"
     ]
    },
    {
     "data": {
      "text/latex": [
       "\\begin{align}\\frac{3} {4 + 2} + 2 \\times \\left(3 : \\color{blue}{\\left(\\color{red}{\\boxed{4+5}}\\right)} + {2}^{6 \\times \\frac{1} {2}}\\right) - \\frac{2 \\times \\left(5 \\times \\left(3 + 4\\right) + 5\\right) - 1} {6}\\end{align}"
      ],
      "text/plain": [
       "<IPython.core.display.Latex object>"
      ]
     },
     "metadata": {},
     "output_type": "display_data"
    },
    {
     "data": {
      "text/latex": [
       "\\begin{align}\\frac{3} {4 + 2} + 2 \\times \\left(3 : \\color{green}{\\boxed{9}} + {2}^{6 \\times \\frac{1} {2}}\\right) - \\frac{2 \\times \\left(5 \\times \\color{blue}{\\left(\\color{red}{\\boxed{3+4}}\\right)} + 5\\right) - 1} {6}\\end{align}"
      ],
      "text/plain": [
       "<IPython.core.display.Latex object>"
      ]
     },
     "metadata": {},
     "output_type": "display_data"
    },
    {
     "data": {
      "text/latex": [
       "\\begin{align}\\frac{3} {4 + 2} + 2 \\times \\color{blue}{\\left(3 : 9 + {2}^{\\color{red}{\\boxed{6\\times\\frac{1} {2}}}}\\right)} - \\frac{2 \\times \\left(5 \\times \\color{green}{\\boxed{7}} + 5\\right) - 1} {6}\\end{align}"
      ],
      "text/plain": [
       "<IPython.core.display.Latex object>"
      ]
     },
     "metadata": {},
     "output_type": "display_data"
    },
    {
     "data": {
      "text/latex": [
       "\\begin{align}\\frac{3} {4 + 2} + 2 \\times \\color{blue}{\\left(3 : 9 + \\color{red}{\\boxed{{2}^{\\color{green}{\\boxed{3}}}}}\\right)} - \\frac{2 \\times \\left(5 \\times 7 + 5\\right) - 1} {6}\\end{align}"
      ],
      "text/plain": [
       "<IPython.core.display.Latex object>"
      ]
     },
     "metadata": {},
     "output_type": "display_data"
    },
    {
     "data": {
      "text/latex": [
       "\\begin{align}\\frac{3} {4 + 2} + 2 \\times \\color{blue}{\\left(\\color{red}{\\boxed{3:9}} + \\color{green}{\\boxed{8}}\\right)} - \\frac{2 \\times \\left(5 \\times 7 + 5\\right) - 1} {6}\\end{align}"
      ],
      "text/plain": [
       "<IPython.core.display.Latex object>"
      ]
     },
     "metadata": {},
     "output_type": "display_data"
    },
    {
     "data": {
      "text/latex": [
       "\\begin{align}\\frac{3} {4 + 2} + 2 \\times \\color{blue}{\\left(\\color{red}{\\boxed{\\color{green}{\\boxed{\\frac{1} {3}}}+8}}\\right)} - \\frac{2 \\times \\left(5 \\times 7 + 5\\right) - 1} {6}\\end{align}"
      ],
      "text/plain": [
       "<IPython.core.display.Latex object>"
      ]
     },
     "metadata": {},
     "output_type": "display_data"
    },
    {
     "data": {
      "text/latex": [
       "\\begin{align}\\frac{3} {4 + 2} + 2 \\times \\color{green}{\\boxed{\\frac{25} {3}}} - \\frac{2 \\times \\color{blue}{\\left(\\color{red}{\\boxed{5\\times7}} + 5\\right)} - 1} {6}\\end{align}"
      ],
      "text/plain": [
       "<IPython.core.display.Latex object>"
      ]
     },
     "metadata": {},
     "output_type": "display_data"
    },
    {
     "data": {
      "text/latex": [
       "\\begin{align}\\frac{3} {4 + 2} + 2 \\times \\frac{25} {3} - \\frac{2 \\times \\color{blue}{\\left(\\color{red}{\\boxed{\\color{green}{\\boxed{35}}+5}}\\right)} - 1} {6}\\end{align}"
      ],
      "text/plain": [
       "<IPython.core.display.Latex object>"
      ]
     },
     "metadata": {},
     "output_type": "display_data"
    },
    {
     "data": {
      "text/latex": [
       "\\begin{align}\\frac{3} {\\color{red}{\\boxed{4+2}}} + 2 \\times \\frac{25} {3} - \\frac{2 \\times \\color{green}{\\boxed{40}} - 1} {6}\\end{align}"
      ],
      "text/plain": [
       "<IPython.core.display.Latex object>"
      ]
     },
     "metadata": {},
     "output_type": "display_data"
    },
    {
     "data": {
      "text/latex": [
       "\\begin{align}\\color{red}{\\boxed{\\frac{3} {\\color{green}{\\boxed{6}}}}} + 2 \\times \\frac{25} {3} - \\frac{2 \\times 40 - 1} {6}\\end{align}"
      ],
      "text/plain": [
       "<IPython.core.display.Latex object>"
      ]
     },
     "metadata": {},
     "output_type": "display_data"
    },
    {
     "data": {
      "text/latex": [
       "\\begin{align}\\color{green}{\\boxed{\\frac{1} {2}}} + 2 \\times \\frac{25} {3} - \\frac{\\color{red}{\\boxed{2\\times40}} - 1} {6}\\end{align}"
      ],
      "text/plain": [
       "<IPython.core.display.Latex object>"
      ]
     },
     "metadata": {},
     "output_type": "display_data"
    },
    {
     "data": {
      "text/latex": [
       "\\begin{align}\\frac{1} {2} + 2 \\times \\frac{25} {3} - \\frac{\\color{red}{\\boxed{\\color{green}{\\boxed{80}}-1}}} {6}\\end{align}"
      ],
      "text/plain": [
       "<IPython.core.display.Latex object>"
      ]
     },
     "metadata": {},
     "output_type": "display_data"
    },
    {
     "data": {
      "text/latex": [
       "\\begin{align}\\frac{1} {2} + 2 \\times \\frac{25} {3} - \\color{red}{\\boxed{\\frac{\\color{green}{\\boxed{79}}} {6}}}\\end{align}"
      ],
      "text/plain": [
       "<IPython.core.display.Latex object>"
      ]
     },
     "metadata": {},
     "output_type": "display_data"
    },
    {
     "data": {
      "text/latex": [
       "\\begin{align}\\frac{1} {2} + \\color{red}{\\boxed{2\\times\\frac{25} {3}}} - \\color{green}{\\boxed{\\frac{79} {6}}}\\end{align}"
      ],
      "text/plain": [
       "<IPython.core.display.Latex object>"
      ]
     },
     "metadata": {},
     "output_type": "display_data"
    },
    {
     "data": {
      "text/latex": [
       "\\begin{align}\\color{red}{\\boxed{\\frac{1} {2} + \\color{green}{\\boxed{\\frac{50} {3}}}-\\frac{79} {6}}}\\end{align}"
      ],
      "text/plain": [
       "<IPython.core.display.Latex object>"
      ]
     },
     "metadata": {},
     "output_type": "display_data"
    },
    {
     "data": {
      "text/latex": [
       "\\begin{align}\\color{green}{\\boxed{4}}\\end{align}"
      ],
      "text/plain": [
       "<IPython.core.display.Latex object>"
      ]
     },
     "metadata": {},
     "output_type": "display_data"
    }
   ],
   "source": [
    "ex1 = '1 + {2 x [(3 + 4 : 2) + 5] x 6} - [ 7 + (1 + 8) : 3 ] x [ 9 : (2 + 1) + 2 ]'\n",
    "ex2 = '< 2 + 3 > / 4 / < 5 + 6 > / 7'\n",
    "ex3 = '2 ^ < 3 + 4 ^ 5 : 2 ^ 7 >'\n",
    "ex4 = '3 + 13 x -<1 + 3>/<2^<1+4> - 6>'\n",
    "ex5a = '3 / < 4 + 2 > + 2 x { 3 : ( 4 + 5 ) + 2 ^ < 6 x 1/2 > } - < 2 x [ 5 x ( 3 + 4 ) + 5 ] - 1 > / 6'\n",
    "ex5b = '3 / < 4 + 2 > + 2 x ( 3 : ( 4 + 5 ) + 2 ^ < 6 x 1/2 > ) - < 2 x ( 5 x ( 3 + 4 ) + 5 ) - 1 > / 6'\n",
    "\n",
    "src = ex5b\n",
    "\n",
    "AM = ArithManager()\n",
    "ptree = AM.ptree('antlrGrammar.g', src)\n",
    "ast = AM.ptree2ast(ptree)\n",
    "blocks = AM.blocks(ast)\n",
    "MEMORY = dict(blocks)\n",
    "\n",
    "#display(ast)\n",
    "\n",
    "main_block = blocks[-1][1]\n",
    "child_to_calc = None\n",
    "\n",
    "current_block = block_id = None\n",
    "\n",
    "while blocks and is_calculable(blocks[0][1]): blocks = blocks[1:]\n",
    "    \n",
    "while blocks:\n",
    "    block_id, current_block = blocks[0]\n",
    "        \n",
    "    parent_to_calc = AM.prior(current_block)\n",
    "    display_latex(AM.latex(main_block, MEMORY))\n",
    "\n",
    "    parent_to_calc.children =  [Tree({'type': 'atomExpr', 'value': AM.eval(child, MEMORY), 'priority': 0, '_calc': 'last'}, []) \n",
    "                                if is_next_to_calc(child) else child\n",
    "                                for child in parent_to_calc.children]\n",
    "    \n",
    "    if is_calculable(current_block):\n",
    "        current_block = current_block.children[0]\n",
    "        blocks = blocks[1:]\n",
    "        \n",
    "    MEMORY[block_id] = current_block\n",
    "\n",
    "display_latex(AM.latex(main_block, {}))\n",
    "\n"
   ]
  },
  {
   "cell_type": "code",
   "execution_count": 14,
   "metadata": {},
   "outputs": [],
   "source": [
    "def ast_eval(ast, show_latex, show_ast):\n",
    "    AM = ArithManager()\n",
    "    \n",
    "    if show_ast: display(ast)\n",
    "        \n",
    "    blocks = AM.blocks(ast)\n",
    "    MEMORY = dict(blocks)\n",
    "    main_block = blocks[-1][1]\n",
    "    child_to_calc = None\n",
    "    current_block = block_id = None\n",
    "\n",
    "    while blocks and is_calculable(blocks[0][1]): blocks = blocks[1:]\n",
    "\n",
    "    while blocks:\n",
    "        block_id, current_block = blocks[0]\n",
    "        parent_to_calc = AM.prior(current_block)\n",
    "        tex = AM.latex(main_block, MEMORY)\n",
    "        if show_latex: display_latex(tex)\n",
    "        \n",
    "        parent_to_calc.children =  [Tree({'type': 'atomExpr', 'value': AM.eval(child, MEMORY), 'priority': 0, '_calc': 'last'}, []) \n",
    "                                    if is_next_to_calc(child) else child\n",
    "                                    for child in parent_to_calc.children]\n",
    "\n",
    "        if is_calculable(current_block):\n",
    "            current_block = current_block.children[0]\n",
    "            blocks = blocks[1:]\n",
    "\n",
    "        MEMORY[block_id] = current_block\n",
    "\n",
    "    tex = AM.latex(main_block, {})\n",
    "    if show_latex: display_latex(tex)\n",
    "    \n",
    "    return main_block.children[0].root['value']\n",
    "\n",
    "\n",
    "def antlr_eval(expr, show_latex=False, show_ast = False):\n",
    "    AM = ArithManager()\n",
    "    ast = AM.ptree2ast(AM.ptree('antlrGrammar.g',expr))\n",
    "    return ast_eval(ast, show_latex, show_ast)\n",
    "\n",
    "\n",
    "def shunting_eval(expr, show_latex=False, show_ast = False):\n",
    "    AM = ArithManager()\n",
    "\n",
    "\n",
    "    ast = AM.shuntingYardExpr2ast(expr)\n",
    "    return ast_eval(ast, show_latex, show_ast)\n"
   ]
  },
  {
   "cell_type": "code",
   "execution_count": 25,
   "metadata": {},
   "outputs": [
    {
     "name": "stdout",
     "output_type": "stream",
     "text": [
      "ANTLR runtime and generated code versions disagree: 4.9.1!=4.7.2\n",
      "ANTLR runtime and generated code versions disagree: 4.9.1!=4.7.2\n",
      "ANTLR runtime and generated code versions disagree: 4.9.1!=4.7.2\n",
      "ANTLR runtime and generated code versions disagree: 4.9.1!=4.7.2\n",
      "ANTLR runtime and generated code versions disagree: 4.9.1!=4.7.2\n",
      "ANTLR runtime and generated code versions disagree: 4.9.1!=4.7.2\n",
      "ANTLR runtime and generated code versions disagree: 4.9.1!=4.7.2\n",
      "ANTLR runtime and generated code versions disagree: 4.9.1!=4.7.2\n",
      "ANTLR runtime and generated code versions disagree: 4.9.1!=4.7.2\n",
      "ANTLR runtime and generated code versions disagree: 4.9.1!=4.7.2\n",
      "ANTLR runtime and generated code versions disagree: 4.9.1!=4.7.2\n",
      "ANTLR runtime and generated code versions disagree: 4.9.1!=4.7.2\n",
      "ANTLR runtime and generated code versions disagree: 4.9.1!=4.7.2\n",
      "ANTLR runtime and generated code versions disagree: 4.9.1!=4.7.2\n",
      "ANTLR runtime and generated code versions disagree: 4.9.1!=4.7.2\n",
      "ANTLR runtime and generated code versions disagree: 4.9.1!=4.7.2\n",
      "ANTLR runtime and generated code versions disagree: 4.9.1!=4.7.2\n",
      "ANTLR runtime and generated code versions disagree: 4.9.1!=4.7.2\n",
      "ANTLR runtime and generated code versions disagree: 4.9.1!=4.7.2\n",
      "ANTLR runtime and generated code versions disagree: 4.9.1!=4.7.2\n",
      "ANTLR runtime and generated code versions disagree: 4.9.1!=4.7.2\n",
      "ANTLR runtime and generated code versions disagree: 4.9.1!=4.7.2\n",
      "ANTLR runtime and generated code versions disagree: 4.9.1!=4.7.2\n",
      "ANTLR runtime and generated code versions disagree: 4.9.1!=4.7.2\n",
      "ANTLR runtime and generated code versions disagree: 4.9.1!=4.7.2\n",
      "ANTLR runtime and generated code versions disagree: 4.9.1!=4.7.2\n",
      "ANTLR runtime and generated code versions disagree: 4.9.1!=4.7.2\n",
      "ANTLR runtime and generated code versions disagree: 4.9.1!=4.7.2\n",
      "ANTLR runtime and generated code versions disagree: 4.9.1!=4.7.2\n",
      "ANTLR runtime and generated code versions disagree: 4.9.1!=4.7.2\n",
      "** EXCEPTION SHUNTING **  Fraction(1, 0)\n",
      "ANTLR runtime and generated code versions disagree: 4.9.1!=4.7.2\n",
      "ANTLR runtime and generated code versions disagree: 4.9.1!=4.7.2\n",
      "ANTLR runtime and generated code versions disagree: 4.9.1!=4.7.2\n",
      "ANTLR runtime and generated code versions disagree: 4.9.1!=4.7.2\n",
      "ANTLR runtime and generated code versions disagree: 4.9.1!=4.7.2\n",
      "ANTLR runtime and generated code versions disagree: 4.9.1!=4.7.2\n",
      "ANTLR runtime and generated code versions disagree: 4.9.1!=4.7.2\n",
      "ANTLR runtime and generated code versions disagree: 4.9.1!=4.7.2\n",
      "ANTLR runtime and generated code versions disagree: 4.9.1!=4.7.2\n",
      "ANTLR runtime and generated code versions disagree: 4.9.1!=4.7.2\n",
      "ANTLR runtime and generated code versions disagree: 4.9.1!=4.7.2\n",
      "ANTLR runtime and generated code versions disagree: 4.9.1!=4.7.2\n",
      "ANTLR runtime and generated code versions disagree: 4.9.1!=4.7.2\n",
      "ANTLR runtime and generated code versions disagree: 4.9.1!=4.7.2\n",
      "ANTLR runtime and generated code versions disagree: 4.9.1!=4.7.2\n",
      "ANTLR runtime and generated code versions disagree: 4.9.1!=4.7.2\n",
      "** EXCEPTION SHUNTING **  can't convert complex to int\n",
      "ANTLR runtime and generated code versions disagree: 4.9.1!=4.7.2\n",
      "ANTLR runtime and generated code versions disagree: 4.9.1!=4.7.2\n",
      "ANTLR runtime and generated code versions disagree: 4.9.1!=4.7.2\n",
      "ANTLR runtime and generated code versions disagree: 4.9.1!=4.7.2\n",
      "ANTLR runtime and generated code versions disagree: 4.9.1!=4.7.2\n",
      "ANTLR runtime and generated code versions disagree: 4.9.1!=4.7.2\n",
      "ANTLR runtime and generated code versions disagree: 4.9.1!=4.7.2\n",
      "ANTLR runtime and generated code versions disagree: 4.9.1!=4.7.2\n",
      "ANTLR runtime and generated code versions disagree: 4.9.1!=4.7.2\n",
      "ANTLR runtime and generated code versions disagree: 4.9.1!=4.7.2\n",
      "ANTLR runtime and generated code versions disagree: 4.9.1!=4.7.2\n",
      "ANTLR runtime and generated code versions disagree: 4.9.1!=4.7.2\n",
      "ANTLR runtime and generated code versions disagree: 4.9.1!=4.7.2\n",
      "ANTLR runtime and generated code versions disagree: 4.9.1!=4.7.2\n",
      "ANTLR runtime and generated code versions disagree: 4.9.1!=4.7.2\n",
      "ANTLR runtime and generated code versions disagree: 4.9.1!=4.7.2\n",
      "ANTLR runtime and generated code versions disagree: 4.9.1!=4.7.2\n",
      "ANTLR runtime and generated code versions disagree: 4.9.1!=4.7.2\n",
      "ANTLR runtime and generated code versions disagree: 4.9.1!=4.7.2\n",
      "ANTLR runtime and generated code versions disagree: 4.9.1!=4.7.2\n",
      "ANTLR runtime and generated code versions disagree: 4.9.1!=4.7.2\n",
      "ANTLR runtime and generated code versions disagree: 4.9.1!=4.7.2\n",
      "ANTLR runtime and generated code versions disagree: 4.9.1!=4.7.2\n",
      "ANTLR runtime and generated code versions disagree: 4.9.1!=4.7.2\n",
      "ANTLR runtime and generated code versions disagree: 4.9.1!=4.7.2\n",
      "ANTLR runtime and generated code versions disagree: 4.9.1!=4.7.2\n",
      "** EXCEPTION SHUNTING **  can't convert complex to int\n",
      "ANTLR runtime and generated code versions disagree: 4.9.1!=4.7.2\n",
      "ANTLR runtime and generated code versions disagree: 4.9.1!=4.7.2\n",
      "ANTLR runtime and generated code versions disagree: 4.9.1!=4.7.2\n",
      "ANTLR runtime and generated code versions disagree: 4.9.1!=4.7.2\n",
      "ANTLR runtime and generated code versions disagree: 4.9.1!=4.7.2\n",
      "ANTLR runtime and generated code versions disagree: 4.9.1!=4.7.2\n",
      "** EXCEPTION SHUNTING **  can't convert complex to int\n",
      "ANTLR runtime and generated code versions disagree: 4.9.1!=4.7.2\n",
      "ANTLR runtime and generated code versions disagree: 4.9.1!=4.7.2\n",
      "ANTLR runtime and generated code versions disagree: 4.9.1!=4.7.2\n",
      "ANTLR runtime and generated code versions disagree: 4.9.1!=4.7.2\n",
      "ANTLR runtime and generated code versions disagree: 4.9.1!=4.7.2\n",
      "ANTLR runtime and generated code versions disagree: 4.9.1!=4.7.2\n",
      "ANTLR runtime and generated code versions disagree: 4.9.1!=4.7.2\n",
      "ANTLR runtime and generated code versions disagree: 4.9.1!=4.7.2\n",
      "ANTLR runtime and generated code versions disagree: 4.9.1!=4.7.2\n",
      "ANTLR runtime and generated code versions disagree: 4.9.1!=4.7.2\n",
      "ANTLR runtime and generated code versions disagree: 4.9.1!=4.7.2\n",
      "ANTLR runtime and generated code versions disagree: 4.9.1!=4.7.2\n",
      "ANTLR runtime and generated code versions disagree: 4.9.1!=4.7.2\n",
      "ANTLR runtime and generated code versions disagree: 4.9.1!=4.7.2\n",
      "ANTLR runtime and generated code versions disagree: 4.9.1!=4.7.2\n",
      "ANTLR runtime and generated code versions disagree: 4.9.1!=4.7.2\n",
      "ANTLR runtime and generated code versions disagree: 4.9.1!=4.7.2\n",
      "ANTLR runtime and generated code versions disagree: 4.9.1!=4.7.2\n",
      "** EXCEPTION SHUNTING **  can't convert complex to int\n",
      "ANTLR runtime and generated code versions disagree: 4.9.1!=4.7.2\n",
      "ANTLR runtime and generated code versions disagree: 4.9.1!=4.7.2\n",
      "ANTLR runtime and generated code versions disagree: 4.9.1!=4.7.2\n",
      "ANTLR runtime and generated code versions disagree: 4.9.1!=4.7.2\n",
      "** EXCEPTION SHUNTING **  can't convert complex to int\n",
      "ANTLR runtime and generated code versions disagree: 4.9.1!=4.7.2\n",
      "ANTLR runtime and generated code versions disagree: 4.9.1!=4.7.2\n",
      "ANTLR runtime and generated code versions disagree: 4.9.1!=4.7.2\n",
      "ANTLR runtime and generated code versions disagree: 4.9.1!=4.7.2\n",
      "ANTLR runtime and generated code versions disagree: 4.9.1!=4.7.2\n",
      "ANTLR runtime and generated code versions disagree: 4.9.1!=4.7.2\n",
      "ANTLR runtime and generated code versions disagree: 4.9.1!=4.7.2\n",
      "ANTLR runtime and generated code versions disagree: 4.9.1!=4.7.2\n",
      "ANTLR runtime and generated code versions disagree: 4.9.1!=4.7.2\n",
      "ANTLR runtime and generated code versions disagree: 4.9.1!=4.7.2\n",
      "ANTLR runtime and generated code versions disagree: 4.9.1!=4.7.2\n",
      "ANTLR runtime and generated code versions disagree: 4.9.1!=4.7.2\n",
      "ANTLR runtime and generated code versions disagree: 4.9.1!=4.7.2\n",
      "ANTLR runtime and generated code versions disagree: 4.9.1!=4.7.2\n",
      "ANTLR runtime and generated code versions disagree: 4.9.1!=4.7.2\n",
      "ANTLR runtime and generated code versions disagree: 4.9.1!=4.7.2\n",
      "ANTLR runtime and generated code versions disagree: 4.9.1!=4.7.2\n",
      "ANTLR runtime and generated code versions disagree: 4.9.1!=4.7.2\n",
      "ANTLR runtime and generated code versions disagree: 4.9.1!=4.7.2\n",
      "ANTLR runtime and generated code versions disagree: 4.9.1!=4.7.2\n",
      "** EXCEPTION SHUNTING **  can't convert complex to int\n",
      "ANTLR runtime and generated code versions disagree: 4.9.1!=4.7.2\n",
      "ANTLR runtime and generated code versions disagree: 4.9.1!=4.7.2\n"
     ]
    },
    {
     "name": "stdout",
     "output_type": "stream",
     "text": [
      "ANTLR runtime and generated code versions disagree: 4.9.1!=4.7.2\n",
      "ANTLR runtime and generated code versions disagree: 4.9.1!=4.7.2\n",
      "ANTLR runtime and generated code versions disagree: 4.9.1!=4.7.2\n",
      "ANTLR runtime and generated code versions disagree: 4.9.1!=4.7.2\n",
      "ANTLR runtime and generated code versions disagree: 4.9.1!=4.7.2\n",
      "ANTLR runtime and generated code versions disagree: 4.9.1!=4.7.2\n",
      "ANTLR runtime and generated code versions disagree: 4.9.1!=4.7.2\n",
      "ANTLR runtime and generated code versions disagree: 4.9.1!=4.7.2\n",
      "ANTLR runtime and generated code versions disagree: 4.9.1!=4.7.2\n",
      "ANTLR runtime and generated code versions disagree: 4.9.1!=4.7.2\n",
      "ANTLR runtime and generated code versions disagree: 4.9.1!=4.7.2\n",
      "ANTLR runtime and generated code versions disagree: 4.9.1!=4.7.2\n",
      "ANTLR runtime and generated code versions disagree: 4.9.1!=4.7.2\n",
      "ANTLR runtime and generated code versions disagree: 4.9.1!=4.7.2\n",
      "ANTLR runtime and generated code versions disagree: 4.9.1!=4.7.2\n",
      "ANTLR runtime and generated code versions disagree: 4.9.1!=4.7.2\n",
      "ANTLR runtime and generated code versions disagree: 4.9.1!=4.7.2\n",
      "ANTLR runtime and generated code versions disagree: 4.9.1!=4.7.2\n",
      "ANTLR runtime and generated code versions disagree: 4.9.1!=4.7.2\n",
      "ANTLR runtime and generated code versions disagree: 4.9.1!=4.7.2\n",
      "ANTLR runtime and generated code versions disagree: 4.9.1!=4.7.2\n",
      "ANTLR runtime and generated code versions disagree: 4.9.1!=4.7.2\n",
      "ANTLR runtime and generated code versions disagree: 4.9.1!=4.7.2\n",
      "ANTLR runtime and generated code versions disagree: 4.9.1!=4.7.2\n",
      "ANTLR runtime and generated code versions disagree: 4.9.1!=4.7.2\n",
      "ANTLR runtime and generated code versions disagree: 4.9.1!=4.7.2\n",
      "ANTLR runtime and generated code versions disagree: 4.9.1!=4.7.2\n",
      "ANTLR runtime and generated code versions disagree: 4.9.1!=4.7.2\n",
      "ANTLR runtime and generated code versions disagree: 4.9.1!=4.7.2\n",
      "ANTLR runtime and generated code versions disagree: 4.9.1!=4.7.2\n",
      "ANTLR runtime and generated code versions disagree: 4.9.1!=4.7.2\n",
      "ANTLR runtime and generated code versions disagree: 4.9.1!=4.7.2\n",
      "ANTLR runtime and generated code versions disagree: 4.9.1!=4.7.2\n",
      "ANTLR runtime and generated code versions disagree: 4.9.1!=4.7.2\n",
      "ANTLR runtime and generated code versions disagree: 4.9.1!=4.7.2\n",
      "ANTLR runtime and generated code versions disagree: 4.9.1!=4.7.2\n",
      "ANTLR runtime and generated code versions disagree: 4.9.1!=4.7.2\n",
      "ANTLR runtime and generated code versions disagree: 4.9.1!=4.7.2\n",
      "ANTLR runtime and generated code versions disagree: 4.9.1!=4.7.2\n",
      "ANTLR runtime and generated code versions disagree: 4.9.1!=4.7.2\n",
      "ANTLR runtime and generated code versions disagree: 4.9.1!=4.7.2\n",
      "ANTLR runtime and generated code versions disagree: 4.9.1!=4.7.2\n",
      "ANTLR runtime and generated code versions disagree: 4.9.1!=4.7.2\n",
      "ANTLR runtime and generated code versions disagree: 4.9.1!=4.7.2\n",
      "ANTLR runtime and generated code versions disagree: 4.9.1!=4.7.2\n",
      "ANTLR runtime and generated code versions disagree: 4.9.1!=4.7.2\n",
      "ANTLR runtime and generated code versions disagree: 4.9.1!=4.7.2\n",
      "ANTLR runtime and generated code versions disagree: 4.9.1!=4.7.2\n",
      "ANTLR runtime and generated code versions disagree: 4.9.1!=4.7.2\n",
      "ANTLR runtime and generated code versions disagree: 4.9.1!=4.7.2\n",
      "ANTLR runtime and generated code versions disagree: 4.9.1!=4.7.2\n",
      "ANTLR runtime and generated code versions disagree: 4.9.1!=4.7.2\n",
      "** EXCEPTION SHUNTING **  can't convert complex to int\n",
      "ANTLR runtime and generated code versions disagree: 4.9.1!=4.7.2\n",
      "ANTLR runtime and generated code versions disagree: 4.9.1!=4.7.2\n",
      "ANTLR runtime and generated code versions disagree: 4.9.1!=4.7.2\n",
      "ANTLR runtime and generated code versions disagree: 4.9.1!=4.7.2\n",
      "ANTLR runtime and generated code versions disagree: 4.9.1!=4.7.2\n",
      "ANTLR runtime and generated code versions disagree: 4.9.1!=4.7.2\n",
      "ANTLR runtime and generated code versions disagree: 4.9.1!=4.7.2\n",
      "ANTLR runtime and generated code versions disagree: 4.9.1!=4.7.2\n",
      "ANTLR runtime and generated code versions disagree: 4.9.1!=4.7.2\n",
      "ANTLR runtime and generated code versions disagree: 4.9.1!=4.7.2\n",
      "ANTLR runtime and generated code versions disagree: 4.9.1!=4.7.2\n",
      "ANTLR runtime and generated code versions disagree: 4.9.1!=4.7.2\n",
      "ANTLR runtime and generated code versions disagree: 4.9.1!=4.7.2\n",
      "ANTLR runtime and generated code versions disagree: 4.9.1!=4.7.2\n",
      "ANTLR runtime and generated code versions disagree: 4.9.1!=4.7.2\n",
      "ANTLR runtime and generated code versions disagree: 4.9.1!=4.7.2\n",
      "ANTLR runtime and generated code versions disagree: 4.9.1!=4.7.2\n",
      "ANTLR runtime and generated code versions disagree: 4.9.1!=4.7.2\n",
      "ANTLR runtime and generated code versions disagree: 4.9.1!=4.7.2\n",
      "ANTLR runtime and generated code versions disagree: 4.9.1!=4.7.2\n",
      "ANTLR runtime and generated code versions disagree: 4.9.1!=4.7.2\n",
      "ANTLR runtime and generated code versions disagree: 4.9.1!=4.7.2\n",
      "ANTLR runtime and generated code versions disagree: 4.9.1!=4.7.2\n",
      "ANTLR runtime and generated code versions disagree: 4.9.1!=4.7.2\n",
      "ANTLR runtime and generated code versions disagree: 4.9.1!=4.7.2\n",
      "ANTLR runtime and generated code versions disagree: 4.9.1!=4.7.2\n",
      "ANTLR runtime and generated code versions disagree: 4.9.1!=4.7.2\n",
      "ANTLR runtime and generated code versions disagree: 4.9.1!=4.7.2\n",
      "ANTLR runtime and generated code versions disagree: 4.9.1!=4.7.2\n",
      "ANTLR runtime and generated code versions disagree: 4.9.1!=4.7.2\n",
      "ANTLR runtime and generated code versions disagree: 4.9.1!=4.7.2\n",
      "ANTLR runtime and generated code versions disagree: 4.9.1!=4.7.2\n",
      "** EXCEPTION SHUNTING **  can't convert complex to int\n",
      "ANTLR runtime and generated code versions disagree: 4.9.1!=4.7.2\n",
      "ANTLR runtime and generated code versions disagree: 4.9.1!=4.7.2\n",
      "ANTLR runtime and generated code versions disagree: 4.9.1!=4.7.2\n",
      "ANTLR runtime and generated code versions disagree: 4.9.1!=4.7.2\n",
      "** EXCEPTION SHUNTING **  can't convert complex to int\n",
      "ANTLR runtime and generated code versions disagree: 4.9.1!=4.7.2\n",
      "ANTLR runtime and generated code versions disagree: 4.9.1!=4.7.2\n",
      "ANTLR runtime and generated code versions disagree: 4.9.1!=4.7.2\n",
      "ANTLR runtime and generated code versions disagree: 4.9.1!=4.7.2\n",
      "ANTLR runtime and generated code versions disagree: 4.9.1!=4.7.2\n",
      "ANTLR runtime and generated code versions disagree: 4.9.1!=4.7.2\n",
      "ANTLR runtime and generated code versions disagree: 4.9.1!=4.7.2\n",
      "ANTLR runtime and generated code versions disagree: 4.9.1!=4.7.2\n",
      "ANTLR runtime and generated code versions disagree: 4.9.1!=4.7.2\n",
      "ANTLR runtime and generated code versions disagree: 4.9.1!=4.7.2\n",
      "ANTLR runtime and generated code versions disagree: 4.9.1!=4.7.2\n",
      "ANTLR runtime and generated code versions disagree: 4.9.1!=4.7.2\n",
      "ANTLR runtime and generated code versions disagree: 4.9.1!=4.7.2\n",
      "ANTLR runtime and generated code versions disagree: 4.9.1!=4.7.2\n",
      "ANTLR runtime and generated code versions disagree: 4.9.1!=4.7.2\n",
      "ANTLR runtime and generated code versions disagree: 4.9.1!=4.7.2\n",
      "ANTLR runtime and generated code versions disagree: 4.9.1!=4.7.2\n",
      "ANTLR runtime and generated code versions disagree: 4.9.1!=4.7.2\n",
      "ANTLR runtime and generated code versions disagree: 4.9.1!=4.7.2\n",
      "ANTLR runtime and generated code versions disagree: 4.9.1!=4.7.2\n",
      "ANTLR runtime and generated code versions disagree: 4.9.1!=4.7.2\n",
      "ANTLR runtime and generated code versions disagree: 4.9.1!=4.7.2\n",
      "ANTLR runtime and generated code versions disagree: 4.9.1!=4.7.2\n",
      "ANTLR runtime and generated code versions disagree: 4.9.1!=4.7.2\n",
      "ANTLR runtime and generated code versions disagree: 4.9.1!=4.7.2\n",
      "ANTLR runtime and generated code versions disagree: 4.9.1!=4.7.2\n",
      "ANTLR runtime and generated code versions disagree: 4.9.1!=4.7.2\n",
      "ANTLR runtime and generated code versions disagree: 4.9.1!=4.7.2\n",
      "ANTLR runtime and generated code versions disagree: 4.9.1!=4.7.2\n",
      "ANTLR runtime and generated code versions disagree: 4.9.1!=4.7.2\n",
      "ANTLR runtime and generated code versions disagree: 4.9.1!=4.7.2\n",
      "ANTLR runtime and generated code versions disagree: 4.9.1!=4.7.2\n",
      "ANTLR runtime and generated code versions disagree: 4.9.1!=4.7.2\n",
      "ANTLR runtime and generated code versions disagree: 4.9.1!=4.7.2\n",
      "ANTLR runtime and generated code versions disagree: 4.9.1!=4.7.2\n",
      "ANTLR runtime and generated code versions disagree: 4.9.1!=4.7.2\n"
     ]
    },
    {
     "name": "stdout",
     "output_type": "stream",
     "text": [
      "ANTLR runtime and generated code versions disagree: 4.9.1!=4.7.2\n",
      "ANTLR runtime and generated code versions disagree: 4.9.1!=4.7.2\n",
      "** EXCEPTION SHUNTING **  can't convert complex to int\n",
      "ANTLR runtime and generated code versions disagree: 4.9.1!=4.7.2\n",
      "ANTLR runtime and generated code versions disagree: 4.9.1!=4.7.2\n",
      "ANTLR runtime and generated code versions disagree: 4.9.1!=4.7.2\n",
      "ANTLR runtime and generated code versions disagree: 4.9.1!=4.7.2\n",
      "ANTLR runtime and generated code versions disagree: 4.9.1!=4.7.2\n",
      "ANTLR runtime and generated code versions disagree: 4.9.1!=4.7.2\n",
      "ANTLR runtime and generated code versions disagree: 4.9.1!=4.7.2\n",
      "ANTLR runtime and generated code versions disagree: 4.9.1!=4.7.2\n",
      "** EXCEPTION SHUNTING **  can't convert complex to int\n",
      "ANTLR runtime and generated code versions disagree: 4.9.1!=4.7.2\n",
      "ANTLR runtime and generated code versions disagree: 4.9.1!=4.7.2\n",
      "ANTLR runtime and generated code versions disagree: 4.9.1!=4.7.2\n",
      "ANTLR runtime and generated code versions disagree: 4.9.1!=4.7.2\n",
      "ANTLR runtime and generated code versions disagree: 4.9.1!=4.7.2\n",
      "ANTLR runtime and generated code versions disagree: 4.9.1!=4.7.2\n",
      "ANTLR runtime and generated code versions disagree: 4.9.1!=4.7.2\n",
      "ANTLR runtime and generated code versions disagree: 4.9.1!=4.7.2\n",
      "ANTLR runtime and generated code versions disagree: 4.9.1!=4.7.2\n",
      "ANTLR runtime and generated code versions disagree: 4.9.1!=4.7.2\n",
      "ANTLR runtime and generated code versions disagree: 4.9.1!=4.7.2\n",
      "ANTLR runtime and generated code versions disagree: 4.9.1!=4.7.2\n",
      "ANTLR runtime and generated code versions disagree: 4.9.1!=4.7.2\n",
      "ANTLR runtime and generated code versions disagree: 4.9.1!=4.7.2\n",
      "ANTLR runtime and generated code versions disagree: 4.9.1!=4.7.2\n",
      "ANTLR runtime and generated code versions disagree: 4.9.1!=4.7.2\n",
      "** EXCEPTION SHUNTING **  can't convert complex to int\n",
      "ANTLR runtime and generated code versions disagree: 4.9.1!=4.7.2\n",
      "ANTLR runtime and generated code versions disagree: 4.9.1!=4.7.2\n",
      "ANTLR runtime and generated code versions disagree: 4.9.1!=4.7.2\n",
      "ANTLR runtime and generated code versions disagree: 4.9.1!=4.7.2\n",
      "ANTLR runtime and generated code versions disagree: 4.9.1!=4.7.2\n",
      "ANTLR runtime and generated code versions disagree: 4.9.1!=4.7.2\n",
      "ANTLR runtime and generated code versions disagree: 4.9.1!=4.7.2\n",
      "ANTLR runtime and generated code versions disagree: 4.9.1!=4.7.2\n",
      "ANTLR runtime and generated code versions disagree: 4.9.1!=4.7.2\n",
      "ANTLR runtime and generated code versions disagree: 4.9.1!=4.7.2\n",
      "ANTLR runtime and generated code versions disagree: 4.9.1!=4.7.2\n",
      "ANTLR runtime and generated code versions disagree: 4.9.1!=4.7.2\n",
      "ANTLR runtime and generated code versions disagree: 4.9.1!=4.7.2\n",
      "ANTLR runtime and generated code versions disagree: 4.9.1!=4.7.2\n",
      "ANTLR runtime and generated code versions disagree: 4.9.1!=4.7.2\n",
      "ANTLR runtime and generated code versions disagree: 4.9.1!=4.7.2\n",
      "ANTLR runtime and generated code versions disagree: 4.9.1!=4.7.2\n",
      "ANTLR runtime and generated code versions disagree: 4.9.1!=4.7.2\n",
      "ANTLR runtime and generated code versions disagree: 4.9.1!=4.7.2\n",
      "ANTLR runtime and generated code versions disagree: 4.9.1!=4.7.2\n",
      "ANTLR runtime and generated code versions disagree: 4.9.1!=4.7.2\n",
      "ANTLR runtime and generated code versions disagree: 4.9.1!=4.7.2\n",
      "ANTLR runtime and generated code versions disagree: 4.9.1!=4.7.2\n",
      "ANTLR runtime and generated code versions disagree: 4.9.1!=4.7.2\n",
      "ANTLR runtime and generated code versions disagree: 4.9.1!=4.7.2\n",
      "ANTLR runtime and generated code versions disagree: 4.9.1!=4.7.2\n",
      "ANTLR runtime and generated code versions disagree: 4.9.1!=4.7.2\n",
      "ANTLR runtime and generated code versions disagree: 4.9.1!=4.7.2\n",
      "*** WRONG 11 ***\n",
      "\n",
      " $$$ 0 $$$   ( - ( - ( 38 ) x 68 / ( - - ( 85 ) ^ -2 - 88 - 17 ^ -2 ) / 17 ^ 2 - ( - ( 12 ) ) ) x - ( 40 ^ -2 ) / ( ( 39 ) + 33 ^ 2 ) x ( - 90 + - 43 - - 29 - 80 ) - ( ( ( - ( - 5 ) ) - 75 ) + - ( ( ( 54 ) ) ) x ( ( 28 ) - 56 ) x - 87 ^ 2 ^ -2 - ( - - 51 x 88 ) + - ( 33 ) + - ( - - 44 / ( 37 ) ) / ( ( - 3 x 64 ^ -2 ) / 74 / 46 - 94 ) - - 44 + 100 - 48 x 15 / ( 66 ) + ( 15 / - 56 - 11 ) ) ^ 2 )\n",
      " $$$ 1 $$$   ( ( - - - 36 x ( ( - 32 / 25 ) ) ) / ( 2 x 94 ) - - ( ( 52 x - - 77 ) ) x ( 21 ) ^ 2 ) ^ 2 x - ( - - 6 ^ -2 ) ^ -2 + - - - ( ( 66 ^ -2 - 49 ^ 2 ) ) - - ( - ( - 55 - ( ( 30 + 46 / 77 ) ) - 26 ) x ( - 72 - 39 ) ) + - ( 83 / ( 91 ) ) + - ( 25 ) - ( - - 70 - 49 + 43 ^ 2 - - 93 ) - - 34 x ( 87 / 49 x - ( 27 ) ^ -2 ) / ( 91 ) - - 41 + - - 11 - ( - 16 ) + - 44 ^ 2 - 87 / 99 - ( ( ( 75 ) + 88 ) ) / - ( ( 15 ^ -2 / 93 - 55 x 64 ) ) / ( 87 ) x ( 53 + 83 ) ^ -2 ^ -2 - - 41 + 4 x - ( 78 - 2 ) x - 4 + 32 x 35 - - - 64 ^ -2 - ( 94 ^ -2 + 75 ) / - 92 + - 67 / 13 + 93 - - 95 + 35 ^ 2\n",
      " $$$ 2 $$$   - - - ( ( 52 - 11 - 83 - 99 ) ) - - - - ( ( 14 ) ) - ( ( ( 62 ) ) ) - 95 - 7 ^ 2 - 11 + 62 x 66 / 32 x 98 x - - 30 x - 46 x 16 / - ( ( 55 ) ) ^ -2 ^ -2 - - - ( ( - 61 ^ 2 ) ) / - ( 56 x ( 43 - ( 39 ) ) x 29 ) + ( 56 ^ -2 / ( 66 ) ) ^ 2 - - ( - ( 8 ) / - 86 ) x 19\n",
      " $$$ 3 $$$   ( - - - - ( - 61 / 52 ) + - ( 54 ) ^ 2 - ( - 50 x 76 ^ 2 ^ -2 / - 97 ^ -2 - 84 + ( 41 x - 27 + 4 ^ -2 + 43 x 2 ) ^ -2 - - - - - ( 19 ) ) + ( ( 36 ^ 2 ) ^ -2 ^ -2 ) / ( ( 46 ^ 2 x - 47 ) - ( - - ( 50 x ( 52 - 91 ) ) ) ) - - ( - 34 x 54 ^ -2 ) + ( 56 ^ -2 / - 72 ) ^ -2 )\n",
      " $$$ 4 $$$   - ( - ( 92 ^ 2 x 73 x 71 / ( - 59 ) - - 80 x 52 - 25 - ( ( 92 x 25 + 52 ) ) / ( 15 x ( 78 ) x - 70 x 81 / 28 ) ^ 2 ) ) - - ( 15 ) - - 90 ^ 2 / - ( 36 ^ -2 ^ -2 ) + ( - ( - 50 ) / ( - ( 84 ) x ( 68 ) ) ) - - 95 ^ -2 / - - - 83 ^ 2 + - ( 52 ) ^ -2 x ( - - ( ( 22 + - 6 x 84 / ( ( 40 ) ) ^ -2 ) ) x ( ( 17 ^ 2 x - - 28 / ( 18 ) ^ 2 x - 79 ) + - - ( 83 ) ) )\n",
      " $$$ 5 $$$   - - ( ( 26 ) x ( 18 + 76 ) + 59 ^ -2 ^ -2 ) - ( ( 94 x ( ( 28 ) ) ^ -2 ) ) - - ( 5 + 86 ) - ( 31 x 65 / ( 77 ^ -2 - 83 ) ) / ( 8 / ( 39 ) / ( - 37 - 81 ) ) ^ -2 - - ( ( ( 64 ) ) ^ -2 / ( - 67 + 64 / 41 ) ^ -2 x 33 ^ -2 ^ 2 ) + - 1 - 29 + 95 ^ -2 ^ 2 - ( ( ( 42 ^ -2 ) ) - ( - 34 ) + ( 58 ) + 64 x 81 - - 7 + 78 x 55 ^ 2 ) / - - 34 x 80 x - ( 98 ) x ( - 100 ) ^ 2 x - ( 79 ^ 2 ^ -2 ) + ( - - - ( 1 ) ) ^ -2 / ( ( - - 59 + 48 - 2 ) x - 15 x 55 - - 45 ^ 2 / ( 68 ) ^ -2 / - 43 ^ -2 x - 91 ^ 2 + 97 / ( 13 ) - - ( 97 ) / - 35 / 91 / 99 - ( 62 ) + 84 + ( ( - 12 ^ 2 x - ( 19 ) ^ 2 ) ) ^ 2 ) + - - 18 + - 19 + 76 - 6 x ( ( 46 ) + ( 70 ) ) - ( - 54 ) + ( 20 x 42 - - 46 ) - - - - 40 x 99 ^ -2 x 16 ^ 2 / ( - 27 x 6 + 10 + 93 - 70 + ( 77 ) x - 83 + 50 ) + ( - ( ( 49 + 26 ^ -2 x - 59 ) ) + - ( 43 x 62 ) ) - ( - - 14 ^ -2 + ( 67 ^ 2 ) / 75 - 86 ^ -2 x ( - 75 / 28 - - 24 ^ 2 ) ) - - - - ( 90 ) x ( 60 ) - ( - 78 - 20 ) x - ( - 10 / 11 + - ( 27 ) ) x 22 / - 98 + - 27 x ( ( 50 - 64 ) ) / ( 94 ) ^ 2 - ( - ( - 86 + 23 ) ) x - 51 + ( - 27 ) x - 16 / 18 x - 74 x ( - 99 ) + 60 x ( 52 - 21 ) ^ 2\n",
      " $$$ 6 $$$   - ( - ( ( 60 + - 49 + 72 ^ 2 ^ -2 ) + ( 11 - - - ( 14 ) ^ -2 x 12 - ( 21 ) + ( 15 ) + - 67 ^ 2 ) ) ) x - - - - ( 17 x ( 90 ) ^ -2 / 48 x 100 + 96 ) x - ( 18 ) / ( 44 ^ -2 / 19 ^ 2 x 71 ) x 80 - 93 - - 34 / ( 3 ) / ( ( 69 x 31 + 92 ) ) - ( 20 ) / - 40 ^ -2 - - - ( - 30 / 57 ) - - - ( 96 x 6 ^ -2 )\n",
      " $$$ 7 $$$   ( ( - ( ( 92 - 51 x 29 ) / 49 + 53 x 34 / 54 ) ) ) / ( - 95 - ( 82 ) / ( 44 x ( 99 + 71 ) / 5 / 65 + 63 / 29 + 97 - - 50 / ( 16 ) x 68 ^ -2 x 39 + ( 65 ) ) ) / - ( ( 90 ) ) + 93 x 83 + - 68 x 85 - 72 - 30 ^ 2 ^ -2 x 39 ^ 2 / ( - - 19 ) / ( - 58 ) / 51 + ( 76 - 43 / 98 x 67 ^ 2 ) ^ -2 / - - 18 - - 79 ^ 2 + ( 33 ) / ( ( 15 ) ) / - ( - 18 ) + ( 59 ) ^ 2 - ( 48 x 98 - 97 ^ 2 - ( 100 ) + 79 ) + 61 - 64 ^ -2 - 89 ^ -2 x 31 x ( 39 ) ^ 2 ^ -2 x 13 / 63 ^ -2 / - ( 65 ) ^ -2 + ( ( - ( - ( 59 ) ) ) ) / - ( 62 ^ 2 ) / ( 52 ) x - ( 36 ) - 88 / 11 + ( 52 + 90 ) + 92 ^ 2 / 100 + ( - 9 ) / - ( ( 22 - 15 / 38 x 86 - 10 ) / 80 ) - - 38 - ( - 25 + 69 / 24 + 83 - 3 ^ -2 / 72 x ( 53 ) / - 80 x 49 + - 63 ) + - - 82 / 98 / - ( 22 ) ^ 2 + 40 x 89 + 67 - ( 86 ) / 6 / 17 / - 80 - - - - 47 / 2 - 91 x 62 - 49 - 28 x 98 - ( - 71 - 21 / 55 x 29 ^ 2 ) x 20 x - ( - ( 93 ^ 2 ) ) x 41 x - 80 - 6 ^ 2 + - ( - - ( - 91 ) ) - ( ( - - 68 x ( - 66 / 84 ) + 34 + 51 ) ) ^ 2\n",
      " $$$ 8 $$$   - - - ( ( 24 ) - 89 + - - ( 58 x 83 ) - - 4 / 34 x 1 / 66 ) ^ -2 x 73 x - - ( 83 ) - - - - ( 80 ) - 43 x 41 x ( 70 ) / 38 ^ 2 ^ -2 + ( ( - - 84 / 24 + - 57 ) + - ( - - - 59 ) / - ( - 95 ) ) + - - ( - - ( 24 / - 82 + - 97 + 88 ) + - ( 99 ) / ( 29 ) x 11 ^ -2 / - 43 / - ( 13 ) / 73 / 49 x 71 ) x - ( - - - - ( 52 ) + 22 x - 92 x 75 + 23 x 7 / - 41 + 30 / 69 - ( 40 ^ -2 ) / - 11 / 91 ^ -2 + ( ( 18 ^ -2 ) ) + - - 66 - ( 26 ) + - 43 x 78 / ( 68 / 57 ) )\n",
      " $$$ 9 $$$   ( - - ( ( ( 16 / 70 + - ( 12 / 11 ) ^ 2 - ( 26 ) ) ) ) - ( - - ( 24 ^ 2 x 25 ^ 2 ) ) ) x ( - ( 48 ) + 68 ^ -2 - 40 x 2 ^ 2 / ( ( - 6 + 62 - 39 + ( 8 - 76 ) ) x 4 x 65 / ( ( 24 ) ) ^ -2 ^ -2 ^ -2 ) / ( ( - 64 x - - 37 - 70 + ( 46 ) ) ) x ( - ( ( 45 ) ) ) + ( ( ( 58 x 5 / ( - 62 ) x 83 ) ) ) / - - ( 71 ) x 82 / - 69 ^ -2 - ( - 38 ) ) - - ( ( - ( ( ( 53 + 88 ) ) ) ) ) x ( ( - 52 / - ( 39 ) + 3 / ( 90 - - 28 x - 52 + 19 ^ 2 ) ) ) + ( ( ( ( ( 61 ) ) ) + ( ( 84 + - - 61 ) ) ) ) - ( ( ( 61 / 62 + 47 ) x - 39 / ( 57 ) ) )\n",
      " $$$ 10 $$$   - - - ( - - 11 - ( ( 60 ^ -2 - 2 ) ) ) + ( ( ( - 28 + - 90 + 13 ^ 2 ^ -2 ) ) / - ( ( 7 ) / - - 56 x 12 - 6 x 52 / 10 + 86 ^ -2 ) ^ 2 ) x - ( ( ( 21 x 34 - 40 x - ( 18 ) / 32 / ( 85 ^ 2 ) ^ 2 ) ) x - ( ( 28 ^ -2 ) + ( - - 24 - 54 ) ) ) x - 19 + ( ( ( 79 ) ) ) - 93 - - 11 x 100 - 86 ^ -2 x - ( 32 ) x 71 / ( 92 + 2 ) x - ( ( 20 ) x ( 53 ) ) + 46 / 43 - - ( ( - 23 x 50 / 27 / 72 + 30 ) ) x - 70 / ( 64 ) / - ( 16 ) ^ -2 x 54 x 47 x - - ( - 65 + 76 - - 85 ^ 2 ) - 53 / ( ( 55 ) ) / ( - - 55 ) / 8 + 77 + 35 / - - - 98 - 12 - 18 / - ( 15 ) x 42 + ( - - ( ( 89 ) ) - - - 100 )\n"
     ]
    }
   ],
   "source": [
    "from core.expression_generator import generate_expression\n",
    "\n",
    "wrong_expr = []\n",
    "for _ in range(150):\n",
    "    exception = False\n",
    "    expr = generate_expression(4)\n",
    "    \n",
    "    try:\n",
    "        antlr_res = antlr_eval(expr)\n",
    "    except Exception as e:\n",
    "        exception = True\n",
    "\n",
    "    try:\n",
    "        shunting_res = shunting_eval(expr)\n",
    "        if exception: \n",
    "            wrong_expr.append(expr)\n",
    "            continue\n",
    "    except Exception as e:\n",
    "        print('** EXCEPTION SHUNTING ** ', e)\n",
    "        if not exception: \n",
    "            wrong_expr.append(expr)\n",
    "        continue\n",
    "\n",
    "    formatted_expr = expr.replace('x', '*').replace(':', '/').replace('^', '**')\n",
    "    res =  round(eval(formatted_expr), 3)\n",
    "\n",
    "    if antlr_res != shunting_res or abs(antlr_res - res) > 1:\n",
    "        wrong_expr.append(expr)\n",
    "        \n",
    "    \n",
    "    #print(antlr_res, shunting_res, res)\n",
    "        \n",
    "if wrong_expr != []:\n",
    "    print(f'*** WRONG {len(wrong_expr)} ***\\n')\n",
    "    for i, it in enumerate(wrong_expr):\n",
    "        print(f' $$$ {i} $$$  ', it)\n",
    "else:\n",
    "    print(\"ALL DONE\")"
   ]
  },
  {
   "cell_type": "code",
   "execution_count": 30,
   "metadata": {},
   "outputs": [
    {
     "name": "stdout",
     "output_type": "stream",
     "text": [
      "['39', '/', '--', '15', '/', '16']\n"
     ]
    },
    {
     "data": {
      "image/svg+xml": [
       "<?xml version=\"1.0\" encoding=\"UTF-8\" standalone=\"no\"?>\r\n",
       "<!DOCTYPE svg PUBLIC \"-//W3C//DTD SVG 1.1//EN\"\r\n",
       " \"http://www.w3.org/Graphics/SVG/1.1/DTD/svg11.dtd\">\r\n",
       "<!-- Generated by graphviz version 2.47.3 (20210619.1520)\r\n",
       " -->\r\n",
       "<!-- Pages: 1 -->\r\n",
       "<svg width=\"261pt\" height=\"346pt\"\r\n",
       " viewBox=\"0.00 0.00 261.00 346.00\" xmlns=\"http://www.w3.org/2000/svg\" xmlns:xlink=\"http://www.w3.org/1999/xlink\">\r\n",
       "<g id=\"graph0\" class=\"graph\" transform=\"scale(1 1) rotate(0) translate(4 342)\">\r\n",
       "<polygon fill=\"white\" stroke=\"transparent\" points=\"-4,4 -4,-342 257,-342 257,4 -4,4\"/>\r\n",
       "<!-- 2824912767968 -->\r\n",
       "<g id=\"node1\" class=\"node\">\r\n",
       "<title>2824912767968</title>\r\n",
       "<polygon fill=\"none\" stroke=\"black\" points=\"72,-318.5 72,-337.5 98,-337.5 98,-318.5 72,-318.5\"/>\r\n",
       "<text text-anchor=\"start\" x=\"75\" y=\"-324.9\" font-family=\"Times New Roman,serif\" font-size=\"12.00\">type</text>\r\n",
       "<polygon fill=\"none\" stroke=\"black\" points=\"98,-318.5 98,-337.5 126,-337.5 126,-318.5 98,-318.5\"/>\r\n",
       "<text text-anchor=\"start\" x=\"101\" y=\"-324.9\" font-family=\"Times New Roman,serif\" font-size=\"12.00\">main</text>\r\n",
       "</g>\r\n",
       "<!-- 2824912765760 -->\r\n",
       "<g id=\"node2\" class=\"node\">\r\n",
       "<title>2824912765760</title>\r\n",
       "<polygon fill=\"none\" stroke=\"black\" points=\"55,-281.5 55,-300.5 94,-300.5 94,-281.5 55,-281.5\"/>\r\n",
       "<text text-anchor=\"start\" x=\"64.5\" y=\"-287.9\" font-family=\"Times New Roman,serif\" font-size=\"12.00\">type</text>\r\n",
       "<polygon fill=\"none\" stroke=\"black\" points=\"94,-281.5 94,-300.5 143,-300.5 143,-281.5 94,-281.5\"/>\r\n",
       "<text text-anchor=\"start\" x=\"97\" y=\"-287.9\" font-family=\"Times New Roman,serif\" font-size=\"12.00\">fractExpr</text>\r\n",
       "<polygon fill=\"none\" stroke=\"black\" points=\"55,-262.5 55,-281.5 94,-281.5 94,-262.5 55,-262.5\"/>\r\n",
       "<text text-anchor=\"start\" x=\"58\" y=\"-268.9\" font-family=\"Times New Roman,serif\" font-size=\"12.00\">priority</text>\r\n",
       "<polygon fill=\"none\" stroke=\"black\" points=\"94,-262.5 94,-281.5 143,-281.5 143,-262.5 94,-262.5\"/>\r\n",
       "<text text-anchor=\"start\" x=\"115\" y=\"-268.9\" font-family=\"Times New Roman,serif\" font-size=\"12.00\">0</text>\r\n",
       "<polygon fill=\"none\" stroke=\"black\" points=\"55,-243.5 55,-262.5 94,-262.5 94,-243.5 55,-243.5\"/>\r\n",
       "<text text-anchor=\"start\" x=\"62\" y=\"-249.9\" font-family=\"Times New Roman,serif\" font-size=\"12.00\">_calc</text>\r\n",
       "<polygon fill=\"none\" stroke=\"black\" points=\"94,-243.5 94,-262.5 143,-262.5 143,-243.5 94,-243.5\"/>\r\n",
       "<text text-anchor=\"start\" x=\"109\" y=\"-249.9\" font-family=\"Times New Roman,serif\" font-size=\"12.00\">next</text>\r\n",
       "</g>\r\n",
       "<!-- 2824912767968&#45;&gt;2824912765760 -->\r\n",
       "<g id=\"edge1\" class=\"edge\">\r\n",
       "<title>2824912767968&#45;&gt;2824912765760</title>\r\n",
       "<path fill=\"none\" stroke=\"black\" d=\"M99,-318.58C99,-313.79 99,-307.59 99,-301.33\"/>\r\n",
       "</g>\r\n",
       "<!-- 2824931420816 -->\r\n",
       "<g id=\"node3\" class=\"node\">\r\n",
       "<title>2824931420816</title>\r\n",
       "<polygon fill=\"none\" stroke=\"black\" points=\"0,-197 0,-216 39,-216 39,-197 0,-197\"/>\r\n",
       "<text text-anchor=\"start\" x=\"9.5\" y=\"-203.4\" font-family=\"Times New Roman,serif\" font-size=\"12.00\">type</text>\r\n",
       "<polygon fill=\"none\" stroke=\"black\" points=\"39,-197 39,-216 90,-216 90,-197 39,-197\"/>\r\n",
       "<text text-anchor=\"start\" x=\"42\" y=\"-203.4\" font-family=\"Times New Roman,serif\" font-size=\"12.00\">atomExpr</text>\r\n",
       "<polygon fill=\"none\" stroke=\"black\" points=\"0,-178 0,-197 39,-197 39,-178 0,-178\"/>\r\n",
       "<text text-anchor=\"start\" x=\"7.5\" y=\"-184.4\" font-family=\"Times New Roman,serif\" font-size=\"12.00\">value</text>\r\n",
       "<polygon fill=\"none\" stroke=\"black\" points=\"39,-178 39,-197 90,-197 90,-178 39,-178\"/>\r\n",
       "<text text-anchor=\"start\" x=\"58\" y=\"-184.4\" font-family=\"Times New Roman,serif\" font-size=\"12.00\">39</text>\r\n",
       "<polygon fill=\"none\" stroke=\"black\" points=\"0,-159 0,-178 39,-178 39,-159 0,-159\"/>\r\n",
       "<text text-anchor=\"start\" x=\"3\" y=\"-165.4\" font-family=\"Times New Roman,serif\" font-size=\"12.00\">priority</text>\r\n",
       "<polygon fill=\"none\" stroke=\"black\" points=\"39,-159 39,-178 90,-178 90,-159 39,-159\"/>\r\n",
       "<text text-anchor=\"start\" x=\"61\" y=\"-165.4\" font-family=\"Times New Roman,serif\" font-size=\"12.00\">0</text>\r\n",
       "</g>\r\n",
       "<!-- 2824912765760&#45;&gt;2824931420816 -->\r\n",
       "<g id=\"edge2\" class=\"edge\">\r\n",
       "<title>2824912765760&#45;&gt;2824931420816</title>\r\n",
       "<path fill=\"none\" stroke=\"black\" d=\"M80.72,-243.57C75.03,-234.87 68.76,-225.3 63.08,-216.62\"/>\r\n",
       "</g>\r\n",
       "<!-- 2824930943568 -->\r\n",
       "<g id=\"node4\" class=\"node\">\r\n",
       "<title>2824930943568</title>\r\n",
       "<polygon fill=\"none\" stroke=\"black\" points=\"108,-207 108,-226 147,-226 147,-207 108,-207\"/>\r\n",
       "<text text-anchor=\"start\" x=\"117.5\" y=\"-213.4\" font-family=\"Times New Roman,serif\" font-size=\"12.00\">type</text>\r\n",
       "<polygon fill=\"none\" stroke=\"black\" points=\"147,-207 147,-226 200,-226 200,-207 147,-207\"/>\r\n",
       "<text text-anchor=\"start\" x=\"150\" y=\"-213.4\" font-family=\"Times New Roman,serif\" font-size=\"12.00\">unaryExpr</text>\r\n",
       "<polygon fill=\"none\" stroke=\"black\" points=\"108,-188 108,-207 147,-207 147,-188 108,-188\"/>\r\n",
       "<text text-anchor=\"start\" x=\"121\" y=\"-194.4\" font-family=\"Times New Roman,serif\" font-size=\"12.00\">op</text>\r\n",
       "<polygon fill=\"none\" stroke=\"black\" points=\"147,-188 147,-207 200,-207 200,-188 147,-188\"/>\r\n",
       "<text text-anchor=\"start\" x=\"171\" y=\"-194.4\" font-family=\"Times New Roman,serif\" font-size=\"12.00\">&#45;</text>\r\n",
       "<polygon fill=\"none\" stroke=\"black\" points=\"108,-169 108,-188 147,-188 147,-169 108,-169\"/>\r\n",
       "<text text-anchor=\"start\" x=\"111\" y=\"-175.4\" font-family=\"Times New Roman,serif\" font-size=\"12.00\">priority</text>\r\n",
       "<polygon fill=\"none\" stroke=\"black\" points=\"147,-169 147,-188 200,-188 200,-169 147,-169\"/>\r\n",
       "<text text-anchor=\"start\" x=\"170\" y=\"-175.4\" font-family=\"Times New Roman,serif\" font-size=\"12.00\">0</text>\r\n",
       "<polygon fill=\"none\" stroke=\"black\" points=\"108,-150 108,-169 147,-169 147,-150 108,-150\"/>\r\n",
       "<text text-anchor=\"start\" x=\"115\" y=\"-156.4\" font-family=\"Times New Roman,serif\" font-size=\"12.00\">_calc</text>\r\n",
       "<polygon fill=\"none\" stroke=\"black\" points=\"147,-150 147,-169 200,-169 200,-150 147,-150\"/>\r\n",
       "<text text-anchor=\"start\" x=\"164\" y=\"-156.4\" font-family=\"Times New Roman,serif\" font-size=\"12.00\">next</text>\r\n",
       "</g>\r\n",
       "<!-- 2824912765760&#45;&gt;2824930943568 -->\r\n",
       "<g id=\"edge3\" class=\"edge\">\r\n",
       "<title>2824912765760&#45;&gt;2824930943568</title>\r\n",
       "<path fill=\"none\" stroke=\"black\" d=\"M117.62,-243.57C121.36,-237.96 125.35,-231.98 129.26,-226.12\"/>\r\n",
       "</g>\r\n",
       "<!-- 2824931420816&#45;&gt;2824930943568 -->\r\n",
       "<!-- 2824930946976 -->\r\n",
       "<g id=\"node5\" class=\"node\">\r\n",
       "<title>2824930946976</title>\r\n",
       "<polygon fill=\"none\" stroke=\"black\" points=\"110,-112.5 110,-131.5 149,-131.5 149,-112.5 110,-112.5\"/>\r\n",
       "<text text-anchor=\"start\" x=\"119.5\" y=\"-118.9\" font-family=\"Times New Roman,serif\" font-size=\"12.00\">type</text>\r\n",
       "<polygon fill=\"none\" stroke=\"black\" points=\"149,-112.5 149,-131.5 198,-131.5 198,-112.5 149,-112.5\"/>\r\n",
       "<text text-anchor=\"start\" x=\"152\" y=\"-118.9\" font-family=\"Times New Roman,serif\" font-size=\"12.00\">fractExpr</text>\r\n",
       "<polygon fill=\"none\" stroke=\"black\" points=\"110,-93.5 110,-112.5 149,-112.5 149,-93.5 110,-93.5\"/>\r\n",
       "<text text-anchor=\"start\" x=\"113\" y=\"-99.9\" font-family=\"Times New Roman,serif\" font-size=\"12.00\">priority</text>\r\n",
       "<polygon fill=\"none\" stroke=\"black\" points=\"149,-93.5 149,-112.5 198,-112.5 198,-93.5 149,-93.5\"/>\r\n",
       "<text text-anchor=\"start\" x=\"170\" y=\"-99.9\" font-family=\"Times New Roman,serif\" font-size=\"12.00\">0</text>\r\n",
       "<polygon fill=\"none\" stroke=\"black\" points=\"110,-74.5 110,-93.5 149,-93.5 149,-74.5 110,-74.5\"/>\r\n",
       "<text text-anchor=\"start\" x=\"117\" y=\"-80.9\" font-family=\"Times New Roman,serif\" font-size=\"12.00\">_calc</text>\r\n",
       "<polygon fill=\"none\" stroke=\"black\" points=\"149,-74.5 149,-93.5 198,-93.5 198,-74.5 149,-74.5\"/>\r\n",
       "<text text-anchor=\"start\" x=\"164\" y=\"-80.9\" font-family=\"Times New Roman,serif\" font-size=\"12.00\">next</text>\r\n",
       "</g>\r\n",
       "<!-- 2824930943568&#45;&gt;2824930946976 -->\r\n",
       "<g id=\"edge5\" class=\"edge\">\r\n",
       "<title>2824930943568&#45;&gt;2824930946976</title>\r\n",
       "<path fill=\"none\" stroke=\"black\" d=\"M154,-149.61C154,-143.81 154,-137.91 154,-132.37\"/>\r\n",
       "</g>\r\n",
       "<!-- 2824930945008 -->\r\n",
       "<g id=\"node6\" class=\"node\">\r\n",
       "<title>2824930945008</title>\r\n",
       "<polygon fill=\"none\" stroke=\"black\" points=\"55,-37.5 55,-56.5 94,-56.5 94,-37.5 55,-37.5\"/>\r\n",
       "<text text-anchor=\"start\" x=\"64.5\" y=\"-43.9\" font-family=\"Times New Roman,serif\" font-size=\"12.00\">type</text>\r\n",
       "<polygon fill=\"none\" stroke=\"black\" points=\"94,-37.5 94,-56.5 145,-56.5 145,-37.5 94,-37.5\"/>\r\n",
       "<text text-anchor=\"start\" x=\"97\" y=\"-43.9\" font-family=\"Times New Roman,serif\" font-size=\"12.00\">atomExpr</text>\r\n",
       "<polygon fill=\"none\" stroke=\"black\" points=\"55,-18.5 55,-37.5 94,-37.5 94,-18.5 55,-18.5\"/>\r\n",
       "<text text-anchor=\"start\" x=\"62.5\" y=\"-24.9\" font-family=\"Times New Roman,serif\" font-size=\"12.00\">value</text>\r\n",
       "<polygon fill=\"none\" stroke=\"black\" points=\"94,-18.5 94,-37.5 145,-37.5 145,-18.5 94,-18.5\"/>\r\n",
       "<text text-anchor=\"start\" x=\"113\" y=\"-24.9\" font-family=\"Times New Roman,serif\" font-size=\"12.00\">15</text>\r\n",
       "<polygon fill=\"none\" stroke=\"black\" points=\"55,0.5 55,-18.5 94,-18.5 94,0.5 55,0.5\"/>\r\n",
       "<text text-anchor=\"start\" x=\"58\" y=\"-5.9\" font-family=\"Times New Roman,serif\" font-size=\"12.00\">priority</text>\r\n",
       "<polygon fill=\"none\" stroke=\"black\" points=\"94,0.5 94,-18.5 145,-18.5 145,0.5 94,0.5\"/>\r\n",
       "<text text-anchor=\"start\" x=\"116\" y=\"-5.9\" font-family=\"Times New Roman,serif\" font-size=\"12.00\">0</text>\r\n",
       "</g>\r\n",
       "<!-- 2824930946976&#45;&gt;2824930945008 -->\r\n",
       "<g id=\"edge6\" class=\"edge\">\r\n",
       "<title>2824930946976&#45;&gt;2824930945008</title>\r\n",
       "<path fill=\"none\" stroke=\"black\" d=\"M133.58,-74.9C129.28,-69.09 124.75,-62.95 120.44,-57.14\"/>\r\n",
       "</g>\r\n",
       "<!-- 2824930944336 -->\r\n",
       "<g id=\"node7\" class=\"node\">\r\n",
       "<title>2824930944336</title>\r\n",
       "<polygon fill=\"none\" stroke=\"black\" points=\"163,-37.5 163,-56.5 202,-56.5 202,-37.5 163,-37.5\"/>\r\n",
       "<text text-anchor=\"start\" x=\"172.5\" y=\"-43.9\" font-family=\"Times New Roman,serif\" font-size=\"12.00\">type</text>\r\n",
       "<polygon fill=\"none\" stroke=\"black\" points=\"202,-37.5 202,-56.5 253,-56.5 253,-37.5 202,-37.5\"/>\r\n",
       "<text text-anchor=\"start\" x=\"205\" y=\"-43.9\" font-family=\"Times New Roman,serif\" font-size=\"12.00\">atomExpr</text>\r\n",
       "<polygon fill=\"none\" stroke=\"black\" points=\"163,-18.5 163,-37.5 202,-37.5 202,-18.5 163,-18.5\"/>\r\n",
       "<text text-anchor=\"start\" x=\"170.5\" y=\"-24.9\" font-family=\"Times New Roman,serif\" font-size=\"12.00\">value</text>\r\n",
       "<polygon fill=\"none\" stroke=\"black\" points=\"202,-18.5 202,-37.5 253,-37.5 253,-18.5 202,-18.5\"/>\r\n",
       "<text text-anchor=\"start\" x=\"221\" y=\"-24.9\" font-family=\"Times New Roman,serif\" font-size=\"12.00\">16</text>\r\n",
       "<polygon fill=\"none\" stroke=\"black\" points=\"163,0.5 163,-18.5 202,-18.5 202,0.5 163,0.5\"/>\r\n",
       "<text text-anchor=\"start\" x=\"166\" y=\"-5.9\" font-family=\"Times New Roman,serif\" font-size=\"12.00\">priority</text>\r\n",
       "<polygon fill=\"none\" stroke=\"black\" points=\"202,0.5 202,-18.5 253,-18.5 253,0.5 202,0.5\"/>\r\n",
       "<text text-anchor=\"start\" x=\"224\" y=\"-5.9\" font-family=\"Times New Roman,serif\" font-size=\"12.00\">0</text>\r\n",
       "</g>\r\n",
       "<!-- 2824930946976&#45;&gt;2824930944336 -->\r\n",
       "<g id=\"edge7\" class=\"edge\">\r\n",
       "<title>2824930946976&#45;&gt;2824930944336</title>\r\n",
       "<path fill=\"none\" stroke=\"black\" d=\"M174.42,-74.9C178.72,-69.09 183.25,-62.95 187.56,-57.14\"/>\r\n",
       "</g>\r\n",
       "<!-- 2824930945008&#45;&gt;2824930944336 -->\r\n",
       "</g>\r\n",
       "</svg>\r\n"
      ],
      "text/plain": [
       "({'type': 'main'}: ({'type': 'fractExpr', 'priority': 0, '_calc': 'next'}: ({'type': 'atomExpr', 'value': 39, 'priority': 0}), ({'type': 'unaryExpr', 'op': '-', 'priority': 0, '_calc': 'next'}: ({'type': 'fractExpr', 'priority': 0, '_calc': 'next'}: ({'type': 'atomExpr', 'value': 15, 'priority': 0}), ({'type': 'atomExpr', 'value': 16, 'priority': 0})))))"
      ]
     },
     "execution_count": 30,
     "metadata": {},
     "output_type": "execute_result"
    }
   ],
   "source": [
    "shunting_yard_parser = ShuntingYardParser()\n",
    "\n",
    "ast = shunting_yard_parser.parse(expr)\n",
    "ast_eval(ast, False, False)\n",
    "ast"
   ]
  },
  {
   "cell_type": "code",
   "execution_count": 46,
   "metadata": {},
   "outputs": [
    {
     "name": "stdout",
     "output_type": "stream",
     "text": [
      "- ( - (1 + ( 11 - - - ( 14 ) ^ -2 * 12 - ( 21 ) + ( 15 ) + - 67 ^ 2 ) ) ) * - - - - ( 17 * ( 90 ) ^ -2 / 48 * 100 + 96 ) * - ( 18 ) / ( 44 ^ -2 / 19 ^ 2 * 71 ) * 80 - 93 - - 34 / ( 3 ) / ( ( 69 * 31 + 92 ) ) - ( 20 ) / - 40 ^ -2 - - - ( - 30 / 57 ) - - - ( 96 * 6 ^ -2 )\n",
      "ANTLR runtime and generated code versions disagree: 4.9.1!=4.7.2\n",
      "ANTLR runtime and generated code versions disagree: 4.9.1!=4.7.2\n",
      "24291467244042595080163/3981725937 24291467244042595080163/3981725937 6100738129240.71\n"
     ]
    }
   ],
   "source": [
    "expr = '- ( - ( ( 60 + - 49 + 72 ^ 2 ^ -2 ) + ( 11 - - - ( 14 ) ^ -2 x 12 - ( 21 ) + ( 15 ) + - 67 ^ 2 ) ) ) x - - - - ( 17 x ( 90 ) ^ -2 / 48 x 100 + 96 ) x - ( 18 ) / ( 44 ^ -2 / 19 ^ 2 x 71 ) x 80 - 93 - - 34 / ( 3 ) / ( ( 69 x 31 + 92 ) ) - ( 20 ) / - 40 ^ -2 - - - ( - 30 / 57 ) - - - ( 96 x 6 ^ -2 )'\n",
    "formatted_expr = expr.replace('x', '*').replace(':', '/').replace('^', '**')\n",
    "real_expr = expr.replace('x', '*').replace(':', '/')\n",
    "print(real_expr)\n",
    "res =  round(eval(formatted_expr), 3)\n",
    "shunt = shunting_eval(expr, False, False)\n",
    "ant = antlr_eval(expr, False, False)\n",
    "print(shunt, ant, res)\n",
    "\n"
   ]
  },
  {
   "cell_type": "code",
   "execution_count": 47,
   "metadata": {},
   "outputs": [
    {
     "data": {
      "text/plain": [
       "6100738129240.711"
      ]
     },
     "execution_count": 47,
     "metadata": {},
     "output_type": "execute_result"
    }
   ],
   "source": [
    "24291467244042595080163/3981725937"
   ]
  },
  {
   "cell_type": "code",
   "execution_count": 24,
   "metadata": {},
   "outputs": [
    {
     "name": "stdout",
     "output_type": "stream",
     "text": [
      "ANTLR runtime and generated code versions disagree: 4.9.1!=4.7.2\n",
      "ANTLR runtime and generated code versions disagree: 4.9.1!=4.7.2\n"
     ]
    },
    {
     "data": {
      "text/plain": [
       "(-25883.73256, -25883.73256)"
      ]
     },
     "execution_count": 24,
     "metadata": {},
     "output_type": "execute_result"
    }
   ],
   "source": [
    "expr = '89 + ( - 3 + 100 ) / ( - ( 66 ) ) / - 19 x 37 - 55 / ( 20 x ( 49 x 80 ) ) / ( ( 87 ) - ( - 26 ) ) + - ( - - 88 + 72 / ( - 19 ) ^ -2 + - 31 + 8 ^ -2 ^ -2 + 15 - 89 )'\n",
    "antlr_res = antlr_eval(expr)\n",
    "\n",
    "shunting_res = shunting_eval(expr)\n",
    "antlr_res, shunting_res\n",
    "\n"
   ]
  },
  {
   "cell_type": "code",
   "execution_count": 10,
   "metadata": {},
   "outputs": [
    {
     "data": {
      "text/plain": [
       "-44465.29303204521"
      ]
     },
     "execution_count": 10,
     "metadata": {},
     "output_type": "execute_result"
    }
   ],
   "source": [
    "75713/2704 * -1/36 * 1/25281 * 2.806 * 515070259.31"
   ]
  }
 ],
 "metadata": {
  "kernelspec": {
   "display_name": "Python 3",
   "language": "python",
   "name": "python3"
  },
  "language_info": {
   "codemirror_mode": {
    "name": "ipython",
    "version": 3
   },
   "file_extension": ".py",
   "mimetype": "text/x-python",
   "name": "python",
   "nbconvert_exporter": "python",
   "pygments_lexer": "ipython3",
   "version": "3.8.3"
  }
 },
 "nbformat": 4,
 "nbformat_minor": 5
}
