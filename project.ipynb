{
 "cells": [
  {
   "cell_type": "code",
   "execution_count": 1,
   "metadata": {},
   "outputs": [],
   "source": [
    "%load_ext autoreload\n",
    "%autoreload 2"
   ]
  },
  {
   "cell_type": "code",
   "execution_count": 2,
   "metadata": {},
   "outputs": [],
   "source": [
    "from textwrap import indent\n",
    "\n",
    "from IPython.display import Javascript\n",
    "\n",
    "from liblet import ANTLR, AnnotatedTreeWalker, Tree, pyast2tree, side_by_side\n",
    "\n",
    "from operator import add, mul, truediv, sub\n",
    "\n",
    "from operator import itemgetter\n",
    "\n",
    "from IPython.display import Latex\n",
    "\n",
    "from fractions import Fraction\n",
    "\n",
    "import importlib\n",
    "\n",
    "from core.arithmetic_manager import ArithManager\n",
    "\n",
    "from core.util import *\n",
    "\n",
    "from core.shunting_yard_parser import ShuntingYardParser\n",
    "from core.arithmetic_manager import ArithManager\n",
    "from core.util import *"
   ]
  },
  {
   "cell_type": "code",
   "execution_count": 4,
   "metadata": {},
   "outputs": [
    {
     "name": "stdout",
     "output_type": "stream",
     "text": [
      "ANTLR runtime and generated code versions disagree: 4.9.1!=4.7.2\n",
      "ANTLR runtime and generated code versions disagree: 4.9.1!=4.7.2\n"
     ]
    },
    {
     "data": {
      "text/latex": [
       "\\begin{align}\\frac{\\color{red}{\\boxed{{2}^{-3}}}} {2}\\end{align}"
      ],
      "text/plain": [
       "<IPython.core.display.Latex object>"
      ]
     },
     "metadata": {},
     "output_type": "display_data"
    },
    {
     "data": {
      "text/latex": [
       "\\begin{align}\\color{red}{\\boxed{\\frac{\\color{green}{\\boxed{\\frac{1} {8}}}} {2}}}\\end{align}"
      ],
      "text/plain": [
       "<IPython.core.display.Latex object>"
      ]
     },
     "metadata": {},
     "output_type": "display_data"
    },
    {
     "data": {
      "text/latex": [
       "\\begin{align}\\color{green}{\\boxed{\\frac{1} {16}}}\\end{align}"
      ],
      "text/plain": [
       "<IPython.core.display.Latex object>"
      ]
     },
     "metadata": {},
     "output_type": "display_data"
    }
   ],
   "source": [
    "ex1 = '1 + {2 x [(3 + 4 : 2) + 5] x 6} - [ 7 + (1 + 8) : 3 ] x [ 9 : (2 + 1) + 2 ]'\n",
    "ex2 = '< 2 + 3 > / 4 / < 5 + 6 > / 7'\n",
    "ex3 = '2 ^ < 3 + 4 ^ 5 : 2 ^ 7 >'\n",
    "ex4 = '3 + 13 x -<1 + 3>/<2^<1+4> - 6>'\n",
    "ex5a = '3 / < 4 + 2 > + 2 x { 3 : ( 4 + 5 ) + 2 ^ < 6 x 1/2 > } - < 2 x [ 5 x ( 3 + 4 ) + 5 ] - 1 > / 6'\n",
    "ex5b = '3 / < 4 + 2 > + 2 x ( 3 : ( 4 + 5 ) + 2 ^ < 6 x 1/2 > ) - < 2 x ( 5 x ( 3 + 4 ) + 5 ) - 1 > / 6'\n",
    "\n",
    "expr = '( - ( - - ( ( 43 ) ) ^ 2 x ( - ( 78 ) + - ( 94 ) ) ) x - ( ( 19 - 69 ) ) - - ( ( ( - 100 ^ 2 - ( 36 ) ) ) ) )'\n",
    "\n",
    "\n",
    "expr = '2^-3/2'\n",
    "\n",
    "src = expr\n",
    "\n",
    "AM = ArithManager()\n",
    "ptree = AM.ptree('antlrGrammar.g', src)\n",
    "ast = AM.ptree2ast(ptree)\n",
    "blocks = AM.blocks(ast)\n",
    "MEMORY = dict(blocks)\n",
    "\n",
    "#display(ast)\n",
    "\n",
    "main_block = blocks[-1][1]\n",
    "child_to_calc = None\n",
    "\n",
    "current_block = block_id = None\n",
    "\n",
    "while blocks and is_calculable(blocks[0][1]): blocks = blocks[1:]\n",
    "    \n",
    "while blocks:\n",
    "    block_id, current_block = blocks[0]\n",
    "        \n",
    "    parent_to_calc = AM.prior(current_block)\n",
    "    display_latex(AM.latex(main_block, MEMORY))\n",
    "\n",
    "    parent_to_calc.children =  [Tree({'type': 'atomExpr', 'value': AM.eval(child, MEMORY), 'priority': 0, '_calc': 'last'}, []) \n",
    "                                if is_next_to_calc(child) else child\n",
    "                                for child in parent_to_calc.children]\n",
    "    \n",
    "    if is_calculable(current_block):\n",
    "        current_block = current_block.children[0]\n",
    "        blocks = blocks[1:]\n",
    "        \n",
    "    MEMORY[block_id] = current_block\n",
    "\n",
    "display_latex(AM.latex(main_block, {}))\n",
    "\n"
   ]
  },
  {
   "cell_type": "code",
   "execution_count": 5,
   "metadata": {},
   "outputs": [],
   "source": [
    "def ast_eval(ast, show_latex, show_ast):\n",
    "    AM = ArithManager()\n",
    "    \n",
    "    if show_ast: display(ast)\n",
    "        \n",
    "    blocks = AM.blocks(ast)\n",
    "    MEMORY = dict(blocks)\n",
    "    main_block = blocks[-1][1]\n",
    "    child_to_calc = None\n",
    "    current_block = block_id = None\n",
    "\n",
    "    while blocks and is_calculable(blocks[0][1]): blocks = blocks[1:]\n",
    "\n",
    "    while blocks:\n",
    "        block_id, current_block = blocks[0]\n",
    "        parent_to_calc = AM.prior(current_block)\n",
    "        tex = AM.latex(main_block, MEMORY)\n",
    "        if show_latex: display_latex(tex)\n",
    "        \n",
    "        parent_to_calc.children =  [Tree({'type': 'atomExpr', 'value': AM.eval(child, MEMORY), 'priority': 0, '_calc': 'last'}, []) \n",
    "                                    if is_next_to_calc(child) else child\n",
    "                                    for child in parent_to_calc.children]\n",
    "\n",
    "        if is_calculable(current_block):\n",
    "            current_block = current_block.children[0]\n",
    "            blocks = blocks[1:]\n",
    "\n",
    "        MEMORY[block_id] = current_block\n",
    "\n",
    "    tex = AM.latex(main_block, {})\n",
    "    if show_latex: display_latex(tex)\n",
    "    \n",
    "    return main_block.children[0].root['value']\n",
    "\n",
    "\n",
    "def antlr_eval(expr, show_latex=False, show_ast = False):\n",
    "    AM = ArithManager()\n",
    "    ast = AM.ptree2ast(AM.ptree('antlrGrammar.g',expr))\n",
    "    return ast_eval(ast, show_latex, show_ast)\n",
    "\n",
    "\n",
    "def shunting_eval(expr, show_latex=False, show_ast = False):\n",
    "    AM = ArithManager()\n",
    "\n",
    "\n",
    "    ast = AM.shuntingYardExpr2ast(expr)\n",
    "    return ast_eval(ast, show_latex, show_ast)\n"
   ]
  },
  {
   "cell_type": "code",
   "execution_count": 30,
   "metadata": {},
   "outputs": [
    {
     "name": "stdout",
     "output_type": "stream",
     "text": [
      "ANTLR runtime and generated code versions disagree: 4.9.1!=4.7.2\n",
      "ANTLR runtime and generated code versions disagree: 4.9.1!=4.7.2\n",
      "** EXCEPTION ANTLR **  can't convert complex to int\n",
      "** EXCEPTION SHUNTING **  can't convert complex to int\n",
      "ANTLR runtime and generated code versions disagree: 4.9.1!=4.7.2\n",
      "ANTLR runtime and generated code versions disagree: 4.9.1!=4.7.2\n",
      "ANTLR runtime and generated code versions disagree: 4.9.1!=4.7.2\n",
      "ANTLR runtime and generated code versions disagree: 4.9.1!=4.7.2\n",
      "ANTLR runtime and generated code versions disagree: 4.9.1!=4.7.2\n",
      "ANTLR runtime and generated code versions disagree: 4.9.1!=4.7.2\n",
      "ANTLR runtime and generated code versions disagree: 4.9.1!=4.7.2\n",
      "ANTLR runtime and generated code versions disagree: 4.9.1!=4.7.2\n",
      "ANTLR runtime and generated code versions disagree: 4.9.1!=4.7.2\n",
      "ANTLR runtime and generated code versions disagree: 4.9.1!=4.7.2\n",
      "ANTLR runtime and generated code versions disagree: 4.9.1!=4.7.2\n",
      "ANTLR runtime and generated code versions disagree: 4.9.1!=4.7.2\n",
      "ANTLR runtime and generated code versions disagree: 4.9.1!=4.7.2\n",
      "ANTLR runtime and generated code versions disagree: 4.9.1!=4.7.2\n",
      "** EXCEPTION ANTLR **  can't convert complex to int\n",
      "** EXCEPTION SHUNTING **  can't convert complex to int\n",
      "ANTLR runtime and generated code versions disagree: 4.9.1!=4.7.2\n",
      "ANTLR runtime and generated code versions disagree: 4.9.1!=4.7.2\n",
      "ANTLR runtime and generated code versions disagree: 4.9.1!=4.7.2\n",
      "ANTLR runtime and generated code versions disagree: 4.9.1!=4.7.2\n",
      "ANTLR runtime and generated code versions disagree: 4.9.1!=4.7.2\n",
      "ANTLR runtime and generated code versions disagree: 4.9.1!=4.7.2\n",
      "ANTLR runtime and generated code versions disagree: 4.9.1!=4.7.2\n",
      "ANTLR runtime and generated code versions disagree: 4.9.1!=4.7.2\n",
      "ANTLR runtime and generated code versions disagree: 4.9.1!=4.7.2\n",
      "ANTLR runtime and generated code versions disagree: 4.9.1!=4.7.2\n",
      "** WRONG **  - ( - ( ( ( ( - 49 - 28 - 56 + 68 ) ) ) ) - 72 + 82 x 12 ^ 2 ^ -2 ) / 81 / - 16 ^ -2 / - 81 / - 25 / ( ( 94 ) ) - ( - - 51 ^ -2 - ( 42 ) - 43 ) + 32 x ( 72 ) / ( 53 / 58 + 16 ) / ( 45 ) - - 45 ^ 2 ^ -2 / ( - 59 ^ -2 ) ^ 2 x ( - ( ( - ( 83 ) ^ 2 ) ) ) x - ( - ( 29 / 88 / ( 96 ) ^ -2 ) ) x - - ( - ( 36 ) ) x ( ( ( 86 ) / 100 / 24 + 100 - ( 1 / 23 / 32 ) ) x - ( ( 21 - - 65 / ( 22 ) / 36 ) ) / - - - 67 ) - - ( - ( 67 / 62 ) / - ( 9 ) ) - - ( ( 44 ) - 59 ^ 2 + 40 ) ^ 2 ^ 2 - ( - ( - 93 / 48 - 92 / 1 - 15 - ( 10 ) + - 17 x 67 ) ) / - ( ( 94 / 45 x - ( 59 x 74 ) / ( 60 ) / 75 x - 30 - 28 ^ -2 + 43 ^ 2 / 98 ) ) / - ( ( 27 ) ) + 26 x - 26 ^ 2 / - ( ( 74 ^ -2 ) )\n",
      "ANTLR runtime and generated code versions disagree: 4.9.1!=4.7.2\n",
      "ANTLR runtime and generated code versions disagree: 4.9.1!=4.7.2\n",
      "ANTLR runtime and generated code versions disagree: 4.9.1!=4.7.2\n",
      "ANTLR runtime and generated code versions disagree: 4.9.1!=4.7.2\n",
      "ANTLR runtime and generated code versions disagree: 4.9.1!=4.7.2\n",
      "ANTLR runtime and generated code versions disagree: 4.9.1!=4.7.2\n",
      "ANTLR runtime and generated code versions disagree: 4.9.1!=4.7.2\n",
      "ANTLR runtime and generated code versions disagree: 4.9.1!=4.7.2\n",
      "ANTLR runtime and generated code versions disagree: 4.9.1!=4.7.2\n",
      "ANTLR runtime and generated code versions disagree: 4.9.1!=4.7.2\n",
      "ANTLR runtime and generated code versions disagree: 4.9.1!=4.7.2\n",
      "ANTLR runtime and generated code versions disagree: 4.9.1!=4.7.2\n",
      "ANTLR runtime and generated code versions disagree: 4.9.1!=4.7.2\n",
      "ANTLR runtime and generated code versions disagree: 4.9.1!=4.7.2\n",
      "ANTLR runtime and generated code versions disagree: 4.9.1!=4.7.2\n",
      "ANTLR runtime and generated code versions disagree: 4.9.1!=4.7.2\n",
      "ANTLR runtime and generated code versions disagree: 4.9.1!=4.7.2\n",
      "ANTLR runtime and generated code versions disagree: 4.9.1!=4.7.2\n",
      "ANTLR runtime and generated code versions disagree: 4.9.1!=4.7.2\n",
      "ANTLR runtime and generated code versions disagree: 4.9.1!=4.7.2\n",
      "ANTLR runtime and generated code versions disagree: 4.9.1!=4.7.2\n",
      "ANTLR runtime and generated code versions disagree: 4.9.1!=4.7.2\n",
      "ANTLR runtime and generated code versions disagree: 4.9.1!=4.7.2\n",
      "ANTLR runtime and generated code versions disagree: 4.9.1!=4.7.2\n",
      "ANTLR runtime and generated code versions disagree: 4.9.1!=4.7.2\n",
      "ANTLR runtime and generated code versions disagree: 4.9.1!=4.7.2\n",
      "ANTLR runtime and generated code versions disagree: 4.9.1!=4.7.2\n",
      "ANTLR runtime and generated code versions disagree: 4.9.1!=4.7.2\n",
      "** WRONG **  ( 92 / 19 x ( - 40 / 56 x 28 ) x 79 + 7 / - 45 x - - ( - 47 ) + 18 + ( ( 52 ) ) + 26 ^ 2 x 39 / ( 32 ) ^ -2 ^ -2 / ( ( 81 ) + ( 64 - ( 38 ) ^ 2 ) x 22 - ( 38 ^ -2 ) - - - 14 + - 2 ) x - - ( 94 ) - 16 + 89 - ( 5 ) / 51 / - 100 - - 55 ^ 2 x - ( 35 + 44 ^ -2 - 21 ^ 2 ) + - ( - - 88 + 44 ) + ( - 74 + ( ( - 63 ) ) ) / ( 67 - 53 ) - - 43 x 92 + 39 ^ -2 x 53 ^ -2 - - ( 67 x - 5 - - 17 / 73 ^ 2 ) x - - - ( - 32 ) ^ -2 + 84 - 34 + 17 x 23 / 75 ^ -2 x ( - 35 - ( 31 ) - 17 ) - - - - 64 / 61 / ( - 17 x - ( 94 ) / 15 ) - ( ( 39 ) x 32 x 63 + 66 / - 87 - ( ( ( 20 ) ) ) ) + - - - - 59 - 74 ^ -2 / - 67 / 93 / 2 x 82 ^ 2 ^ 2 ) / - ( ( - - 80 - - 23 / 44 x 63 / - - 18 ) ) / - ( ( - - 49 / 23 ) + 22 ^ -2 ) ^ -2 ^ -2 + ( ( - 38 ^ 2 - 10 / 15 - - 22 / 72 x 86 - ( 37 ) / ( 2 ) / ( - 33 ) - - ( - 22 ) ) )\n",
      "ANTLR runtime and generated code versions disagree: 4.9.1!=4.7.2\n",
      "ANTLR runtime and generated code versions disagree: 4.9.1!=4.7.2\n",
      "ANTLR runtime and generated code versions disagree: 4.9.1!=4.7.2\n",
      "ANTLR runtime and generated code versions disagree: 4.9.1!=4.7.2\n",
      "ANTLR runtime and generated code versions disagree: 4.9.1!=4.7.2\n",
      "ANTLR runtime and generated code versions disagree: 4.9.1!=4.7.2\n",
      "ANTLR runtime and generated code versions disagree: 4.9.1!=4.7.2\n",
      "ANTLR runtime and generated code versions disagree: 4.9.1!=4.7.2\n",
      "ANTLR runtime and generated code versions disagree: 4.9.1!=4.7.2\n",
      "ANTLR runtime and generated code versions disagree: 4.9.1!=4.7.2\n",
      "ANTLR runtime and generated code versions disagree: 4.9.1!=4.7.2\n",
      "ANTLR runtime and generated code versions disagree: 4.9.1!=4.7.2\n",
      "ANTLR runtime and generated code versions disagree: 4.9.1!=4.7.2\n",
      "ANTLR runtime and generated code versions disagree: 4.9.1!=4.7.2\n",
      "** WRONG **  ( ( - ( 33 - 39 - 99 x - ( ( 4 ) ) + 16 ) ) x - ( 16 ) - 82 / 65 x ( - 1 ) - 5 + 92 / 91 ^ 2 / - 44 ^ -2 + 89 - - - - 56 ^ -2 x - - 52 x ( - - ( ( - 73 ^ 2 x 24 ^ -2 x - 72 ) ) ^ 2 ) x ( ( - 73 + 46 ) + ( ( 48 ^ -2 ) ^ -2 ) ) ^ 2 + ( - 33 + 37 ) - - ( 29 ) / ( 48 - 85 / 45 - 49 x 43 ^ -2 ) - - ( 67 ) - ( ( 74 - - 19 / 86 - ( 35 / 3 ) - 6 ) ) ^ 2 - - - 58 + - 93 / ( ( 6 ) - 10 - 75 ) ^ 2 / - 94 / ( 90 / 19 ) ^ 2 x ( 38 ) + 46 x ( 45 - 24 x 21 ) - - ( - 36 / 33 / 29 ) / - - ( ( 55 ) ) + 35 ^ -2 + 44 / - 15 ^ -2 / 97 ^ 2 x 5 x - 12 ^ -2 - - 39 / 85 + - 57 - 21 - 49 / ( - 76 x 91 / ( 36 ) ) ^ 2 )\n",
      "ANTLR runtime and generated code versions disagree: 4.9.1!=4.7.2\n",
      "ANTLR runtime and generated code versions disagree: 4.9.1!=4.7.2\n",
      "ANTLR runtime and generated code versions disagree: 4.9.1!=4.7.2\n",
      "ANTLR runtime and generated code versions disagree: 4.9.1!=4.7.2\n",
      "ANTLR runtime and generated code versions disagree: 4.9.1!=4.7.2\n",
      "ANTLR runtime and generated code versions disagree: 4.9.1!=4.7.2\n",
      "** WRONG **  ( - ( 12 x ( 22 - ( - ( 25 ) ) ) ) x - - - 24 x 75 - ( ( 26 ) ) / ( 61 - 11 + ( 83 ) ) ^ -2 / - ( ( ( 77 ) ^ -2 ) ) x - ( - 35 ) / - 72 - 49 + 27 ^ -2 + ( - - - 64 / 78 ) ^ 2 + ( - 27 / 44 + ( - 21 x 100 x ( ( 10 ) ) ) - ( 92 ) / 31 - 13 - - - 100 / ( 5 ) - 40 / - ( - 67 ) x - - 23 + 31 + 73 x 17 ) ) x ( - ( ( ( ( 78 ) / - 73 ) ) ) - - - 49 - ( ( 86 ) ) x - 13 / ( 19 ) + 70 x - ( 94 ) + - ( 28 ) ^ -2 + ( - ( ( 61 + 40 x 29 ) ) ) / - ( ( 89 ) ) - 39 x ( ( - 83 ) ) + - 72 x - ( 10 ) x - ( ( 98 ) - 79 ) - - - 19 - 55 ^ 2 ^ -2 ) x - ( 10 ) ^ 2 ^ -2 + ( ( 35 ^ 2 ) + 90 ^ -2 - ( 78 ) - 90 + 53 ) + - - ( 33 ) / 2 - 24 ^ -2 x ( ( ( 3 ) ) ) ^ 2 ^ 2\n",
      "ANTLR runtime and generated code versions disagree: 4.9.1!=4.7.2\n",
      "ANTLR runtime and generated code versions disagree: 4.9.1!=4.7.2\n",
      "ANTLR runtime and generated code versions disagree: 4.9.1!=4.7.2\n",
      "ANTLR runtime and generated code versions disagree: 4.9.1!=4.7.2\n",
      "** EXCEPTION ANTLR **  can't convert complex to int\n",
      "** EXCEPTION SHUNTING **  can't convert complex to int\n",
      "ANTLR runtime and generated code versions disagree: 4.9.1!=4.7.2\n",
      "ANTLR runtime and generated code versions disagree: 4.9.1!=4.7.2\n",
      "*** WRONG 4 ***\n",
      "\n",
      " $$$ 0 $$$   - ( - ( ( ( ( - 49 - 28 - 56 + 68 ) ) ) ) - 72 + 82 x 12 ^ 2 ^ -2 ) / 81 / - 16 ^ -2 / - 81 / - 25 / ( ( 94 ) ) - ( - - 51 ^ -2 - ( 42 ) - 43 ) + 32 x ( 72 ) / ( 53 / 58 + 16 ) / ( 45 ) - - 45 ^ 2 ^ -2 / ( - 59 ^ -2 ) ^ 2 x ( - ( ( - ( 83 ) ^ 2 ) ) ) x - ( - ( 29 / 88 / ( 96 ) ^ -2 ) ) x - - ( - ( 36 ) ) x ( ( ( 86 ) / 100 / 24 + 100 - ( 1 / 23 / 32 ) ) x - ( ( 21 - - 65 / ( 22 ) / 36 ) ) / - - - 67 ) - - ( - ( 67 / 62 ) / - ( 9 ) ) - - ( ( 44 ) - 59 ^ 2 + 40 ) ^ 2 ^ 2 - ( - ( - 93 / 48 - 92 / 1 - 15 - ( 10 ) + - 17 x 67 ) ) / - ( ( 94 / 45 x - ( 59 x 74 ) / ( 60 ) / 75 x - 30 - 28 ^ -2 + 43 ^ 2 / 98 ) ) / - ( ( 27 ) ) + 26 x - 26 ^ 2 / - ( ( 74 ^ -2 ) )\n",
      " $$$ 1 $$$   ( 92 / 19 x ( - 40 / 56 x 28 ) x 79 + 7 / - 45 x - - ( - 47 ) + 18 + ( ( 52 ) ) + 26 ^ 2 x 39 / ( 32 ) ^ -2 ^ -2 / ( ( 81 ) + ( 64 - ( 38 ) ^ 2 ) x 22 - ( 38 ^ -2 ) - - - 14 + - 2 ) x - - ( 94 ) - 16 + 89 - ( 5 ) / 51 / - 100 - - 55 ^ 2 x - ( 35 + 44 ^ -2 - 21 ^ 2 ) + - ( - - 88 + 44 ) + ( - 74 + ( ( - 63 ) ) ) / ( 67 - 53 ) - - 43 x 92 + 39 ^ -2 x 53 ^ -2 - - ( 67 x - 5 - - 17 / 73 ^ 2 ) x - - - ( - 32 ) ^ -2 + 84 - 34 + 17 x 23 / 75 ^ -2 x ( - 35 - ( 31 ) - 17 ) - - - - 64 / 61 / ( - 17 x - ( 94 ) / 15 ) - ( ( 39 ) x 32 x 63 + 66 / - 87 - ( ( ( 20 ) ) ) ) + - - - - 59 - 74 ^ -2 / - 67 / 93 / 2 x 82 ^ 2 ^ 2 ) / - ( ( - - 80 - - 23 / 44 x 63 / - - 18 ) ) / - ( ( - - 49 / 23 ) + 22 ^ -2 ) ^ -2 ^ -2 + ( ( - 38 ^ 2 - 10 / 15 - - 22 / 72 x 86 - ( 37 ) / ( 2 ) / ( - 33 ) - - ( - 22 ) ) )\n",
      " $$$ 2 $$$   ( ( - ( 33 - 39 - 99 x - ( ( 4 ) ) + 16 ) ) x - ( 16 ) - 82 / 65 x ( - 1 ) - 5 + 92 / 91 ^ 2 / - 44 ^ -2 + 89 - - - - 56 ^ -2 x - - 52 x ( - - ( ( - 73 ^ 2 x 24 ^ -2 x - 72 ) ) ^ 2 ) x ( ( - 73 + 46 ) + ( ( 48 ^ -2 ) ^ -2 ) ) ^ 2 + ( - 33 + 37 ) - - ( 29 ) / ( 48 - 85 / 45 - 49 x 43 ^ -2 ) - - ( 67 ) - ( ( 74 - - 19 / 86 - ( 35 / 3 ) - 6 ) ) ^ 2 - - - 58 + - 93 / ( ( 6 ) - 10 - 75 ) ^ 2 / - 94 / ( 90 / 19 ) ^ 2 x ( 38 ) + 46 x ( 45 - 24 x 21 ) - - ( - 36 / 33 / 29 ) / - - ( ( 55 ) ) + 35 ^ -2 + 44 / - 15 ^ -2 / 97 ^ 2 x 5 x - 12 ^ -2 - - 39 / 85 + - 57 - 21 - 49 / ( - 76 x 91 / ( 36 ) ) ^ 2 )\n",
      " $$$ 3 $$$   ( - ( 12 x ( 22 - ( - ( 25 ) ) ) ) x - - - 24 x 75 - ( ( 26 ) ) / ( 61 - 11 + ( 83 ) ) ^ -2 / - ( ( ( 77 ) ^ -2 ) ) x - ( - 35 ) / - 72 - 49 + 27 ^ -2 + ( - - - 64 / 78 ) ^ 2 + ( - 27 / 44 + ( - 21 x 100 x ( ( 10 ) ) ) - ( 92 ) / 31 - 13 - - - 100 / ( 5 ) - 40 / - ( - 67 ) x - - 23 + 31 + 73 x 17 ) ) x ( - ( ( ( ( 78 ) / - 73 ) ) ) - - - 49 - ( ( 86 ) ) x - 13 / ( 19 ) + 70 x - ( 94 ) + - ( 28 ) ^ -2 + ( - ( ( 61 + 40 x 29 ) ) ) / - ( ( 89 ) ) - 39 x ( ( - 83 ) ) + - 72 x - ( 10 ) x - ( ( 98 ) - 79 ) - - - 19 - 55 ^ 2 ^ -2 ) x - ( 10 ) ^ 2 ^ -2 + ( ( 35 ^ 2 ) + 90 ^ -2 - ( 78 ) - 90 + 53 ) + - - ( 33 ) / 2 - 24 ^ -2 x ( ( ( 3 ) ) ) ^ 2 ^ 2\n"
     ]
    }
   ],
   "source": [
    "from core.expression_generator import generate_expression\n",
    "\n",
    "wrong_expr = []\n",
    "for _ in range(40):\n",
    "    exception = False\n",
    "    expr = generate_expression(4)\n",
    "    \n",
    "    try:\n",
    "        antlr_res = antlr_eval(expr)\n",
    "    except Exception as e:\n",
    "        print('** EXCEPTION ANTLR ** ', e)\n",
    "        exception = True\n",
    "\n",
    "    try:\n",
    "        shunting_res = shunting_eval(expr)\n",
    "        if exception: \n",
    "            wrong_expr.append(expr)\n",
    "            continue\n",
    "    except Exception as e:\n",
    "        print('** EXCEPTION SHUNTING ** ', e)\n",
    "        if not exception: \n",
    "            wrong_expr.append(expr)\n",
    "        continue\n",
    "\n",
    "    formatted_expr = expr.replace('x', '*').replace(':', '/').replace('^', '**')\n",
    "    res =  round(eval(formatted_expr), 3)\n",
    "\n",
    "    if antlr_res != shunting_res or abs(antlr_res - res) > 1:\n",
    "        print(\"** WRONG ** \", expr)\n",
    "        wrong_expr.append(expr)\n",
    "        \n",
    "    \n",
    "    #print(antlr_res, shunting_res, res)\n",
    "        \n",
    "if wrong_expr != []:\n",
    "    print(f'*** WRONG {len(wrong_expr)} ***\\n')\n",
    "    for i, it in enumerate(wrong_expr):\n",
    "        print(f' $$$ {i} $$$  ', it)\n",
    "else:\n",
    "    print(\"ALL DONE\")"
   ]
  },
  {
   "cell_type": "code",
   "execution_count": 30,
   "metadata": {},
   "outputs": [
    {
     "name": "stdout",
     "output_type": "stream",
     "text": [
      "['39', '/', '--', '15', '/', '16']\n"
     ]
    },
    {
     "data": {
      "image/svg+xml": [
       "<?xml version=\"1.0\" encoding=\"UTF-8\" standalone=\"no\"?>\r\n",
       "<!DOCTYPE svg PUBLIC \"-//W3C//DTD SVG 1.1//EN\"\r\n",
       " \"http://www.w3.org/Graphics/SVG/1.1/DTD/svg11.dtd\">\r\n",
       "<!-- Generated by graphviz version 2.47.3 (20210619.1520)\r\n",
       " -->\r\n",
       "<!-- Pages: 1 -->\r\n",
       "<svg width=\"261pt\" height=\"346pt\"\r\n",
       " viewBox=\"0.00 0.00 261.00 346.00\" xmlns=\"http://www.w3.org/2000/svg\" xmlns:xlink=\"http://www.w3.org/1999/xlink\">\r\n",
       "<g id=\"graph0\" class=\"graph\" transform=\"scale(1 1) rotate(0) translate(4 342)\">\r\n",
       "<polygon fill=\"white\" stroke=\"transparent\" points=\"-4,4 -4,-342 257,-342 257,4 -4,4\"/>\r\n",
       "<!-- 2824912767968 -->\r\n",
       "<g id=\"node1\" class=\"node\">\r\n",
       "<title>2824912767968</title>\r\n",
       "<polygon fill=\"none\" stroke=\"black\" points=\"72,-318.5 72,-337.5 98,-337.5 98,-318.5 72,-318.5\"/>\r\n",
       "<text text-anchor=\"start\" x=\"75\" y=\"-324.9\" font-family=\"Times New Roman,serif\" font-size=\"12.00\">type</text>\r\n",
       "<polygon fill=\"none\" stroke=\"black\" points=\"98,-318.5 98,-337.5 126,-337.5 126,-318.5 98,-318.5\"/>\r\n",
       "<text text-anchor=\"start\" x=\"101\" y=\"-324.9\" font-family=\"Times New Roman,serif\" font-size=\"12.00\">main</text>\r\n",
       "</g>\r\n",
       "<!-- 2824912765760 -->\r\n",
       "<g id=\"node2\" class=\"node\">\r\n",
       "<title>2824912765760</title>\r\n",
       "<polygon fill=\"none\" stroke=\"black\" points=\"55,-281.5 55,-300.5 94,-300.5 94,-281.5 55,-281.5\"/>\r\n",
       "<text text-anchor=\"start\" x=\"64.5\" y=\"-287.9\" font-family=\"Times New Roman,serif\" font-size=\"12.00\">type</text>\r\n",
       "<polygon fill=\"none\" stroke=\"black\" points=\"94,-281.5 94,-300.5 143,-300.5 143,-281.5 94,-281.5\"/>\r\n",
       "<text text-anchor=\"start\" x=\"97\" y=\"-287.9\" font-family=\"Times New Roman,serif\" font-size=\"12.00\">fractExpr</text>\r\n",
       "<polygon fill=\"none\" stroke=\"black\" points=\"55,-262.5 55,-281.5 94,-281.5 94,-262.5 55,-262.5\"/>\r\n",
       "<text text-anchor=\"start\" x=\"58\" y=\"-268.9\" font-family=\"Times New Roman,serif\" font-size=\"12.00\">priority</text>\r\n",
       "<polygon fill=\"none\" stroke=\"black\" points=\"94,-262.5 94,-281.5 143,-281.5 143,-262.5 94,-262.5\"/>\r\n",
       "<text text-anchor=\"start\" x=\"115\" y=\"-268.9\" font-family=\"Times New Roman,serif\" font-size=\"12.00\">0</text>\r\n",
       "<polygon fill=\"none\" stroke=\"black\" points=\"55,-243.5 55,-262.5 94,-262.5 94,-243.5 55,-243.5\"/>\r\n",
       "<text text-anchor=\"start\" x=\"62\" y=\"-249.9\" font-family=\"Times New Roman,serif\" font-size=\"12.00\">_calc</text>\r\n",
       "<polygon fill=\"none\" stroke=\"black\" points=\"94,-243.5 94,-262.5 143,-262.5 143,-243.5 94,-243.5\"/>\r\n",
       "<text text-anchor=\"start\" x=\"109\" y=\"-249.9\" font-family=\"Times New Roman,serif\" font-size=\"12.00\">next</text>\r\n",
       "</g>\r\n",
       "<!-- 2824912767968&#45;&gt;2824912765760 -->\r\n",
       "<g id=\"edge1\" class=\"edge\">\r\n",
       "<title>2824912767968&#45;&gt;2824912765760</title>\r\n",
       "<path fill=\"none\" stroke=\"black\" d=\"M99,-318.58C99,-313.79 99,-307.59 99,-301.33\"/>\r\n",
       "</g>\r\n",
       "<!-- 2824931420816 -->\r\n",
       "<g id=\"node3\" class=\"node\">\r\n",
       "<title>2824931420816</title>\r\n",
       "<polygon fill=\"none\" stroke=\"black\" points=\"0,-197 0,-216 39,-216 39,-197 0,-197\"/>\r\n",
       "<text text-anchor=\"start\" x=\"9.5\" y=\"-203.4\" font-family=\"Times New Roman,serif\" font-size=\"12.00\">type</text>\r\n",
       "<polygon fill=\"none\" stroke=\"black\" points=\"39,-197 39,-216 90,-216 90,-197 39,-197\"/>\r\n",
       "<text text-anchor=\"start\" x=\"42\" y=\"-203.4\" font-family=\"Times New Roman,serif\" font-size=\"12.00\">atomExpr</text>\r\n",
       "<polygon fill=\"none\" stroke=\"black\" points=\"0,-178 0,-197 39,-197 39,-178 0,-178\"/>\r\n",
       "<text text-anchor=\"start\" x=\"7.5\" y=\"-184.4\" font-family=\"Times New Roman,serif\" font-size=\"12.00\">value</text>\r\n",
       "<polygon fill=\"none\" stroke=\"black\" points=\"39,-178 39,-197 90,-197 90,-178 39,-178\"/>\r\n",
       "<text text-anchor=\"start\" x=\"58\" y=\"-184.4\" font-family=\"Times New Roman,serif\" font-size=\"12.00\">39</text>\r\n",
       "<polygon fill=\"none\" stroke=\"black\" points=\"0,-159 0,-178 39,-178 39,-159 0,-159\"/>\r\n",
       "<text text-anchor=\"start\" x=\"3\" y=\"-165.4\" font-family=\"Times New Roman,serif\" font-size=\"12.00\">priority</text>\r\n",
       "<polygon fill=\"none\" stroke=\"black\" points=\"39,-159 39,-178 90,-178 90,-159 39,-159\"/>\r\n",
       "<text text-anchor=\"start\" x=\"61\" y=\"-165.4\" font-family=\"Times New Roman,serif\" font-size=\"12.00\">0</text>\r\n",
       "</g>\r\n",
       "<!-- 2824912765760&#45;&gt;2824931420816 -->\r\n",
       "<g id=\"edge2\" class=\"edge\">\r\n",
       "<title>2824912765760&#45;&gt;2824931420816</title>\r\n",
       "<path fill=\"none\" stroke=\"black\" d=\"M80.72,-243.57C75.03,-234.87 68.76,-225.3 63.08,-216.62\"/>\r\n",
       "</g>\r\n",
       "<!-- 2824930943568 -->\r\n",
       "<g id=\"node4\" class=\"node\">\r\n",
       "<title>2824930943568</title>\r\n",
       "<polygon fill=\"none\" stroke=\"black\" points=\"108,-207 108,-226 147,-226 147,-207 108,-207\"/>\r\n",
       "<text text-anchor=\"start\" x=\"117.5\" y=\"-213.4\" font-family=\"Times New Roman,serif\" font-size=\"12.00\">type</text>\r\n",
       "<polygon fill=\"none\" stroke=\"black\" points=\"147,-207 147,-226 200,-226 200,-207 147,-207\"/>\r\n",
       "<text text-anchor=\"start\" x=\"150\" y=\"-213.4\" font-family=\"Times New Roman,serif\" font-size=\"12.00\">unaryExpr</text>\r\n",
       "<polygon fill=\"none\" stroke=\"black\" points=\"108,-188 108,-207 147,-207 147,-188 108,-188\"/>\r\n",
       "<text text-anchor=\"start\" x=\"121\" y=\"-194.4\" font-family=\"Times New Roman,serif\" font-size=\"12.00\">op</text>\r\n",
       "<polygon fill=\"none\" stroke=\"black\" points=\"147,-188 147,-207 200,-207 200,-188 147,-188\"/>\r\n",
       "<text text-anchor=\"start\" x=\"171\" y=\"-194.4\" font-family=\"Times New Roman,serif\" font-size=\"12.00\">&#45;</text>\r\n",
       "<polygon fill=\"none\" stroke=\"black\" points=\"108,-169 108,-188 147,-188 147,-169 108,-169\"/>\r\n",
       "<text text-anchor=\"start\" x=\"111\" y=\"-175.4\" font-family=\"Times New Roman,serif\" font-size=\"12.00\">priority</text>\r\n",
       "<polygon fill=\"none\" stroke=\"black\" points=\"147,-169 147,-188 200,-188 200,-169 147,-169\"/>\r\n",
       "<text text-anchor=\"start\" x=\"170\" y=\"-175.4\" font-family=\"Times New Roman,serif\" font-size=\"12.00\">0</text>\r\n",
       "<polygon fill=\"none\" stroke=\"black\" points=\"108,-150 108,-169 147,-169 147,-150 108,-150\"/>\r\n",
       "<text text-anchor=\"start\" x=\"115\" y=\"-156.4\" font-family=\"Times New Roman,serif\" font-size=\"12.00\">_calc</text>\r\n",
       "<polygon fill=\"none\" stroke=\"black\" points=\"147,-150 147,-169 200,-169 200,-150 147,-150\"/>\r\n",
       "<text text-anchor=\"start\" x=\"164\" y=\"-156.4\" font-family=\"Times New Roman,serif\" font-size=\"12.00\">next</text>\r\n",
       "</g>\r\n",
       "<!-- 2824912765760&#45;&gt;2824930943568 -->\r\n",
       "<g id=\"edge3\" class=\"edge\">\r\n",
       "<title>2824912765760&#45;&gt;2824930943568</title>\r\n",
       "<path fill=\"none\" stroke=\"black\" d=\"M117.62,-243.57C121.36,-237.96 125.35,-231.98 129.26,-226.12\"/>\r\n",
       "</g>\r\n",
       "<!-- 2824931420816&#45;&gt;2824930943568 -->\r\n",
       "<!-- 2824930946976 -->\r\n",
       "<g id=\"node5\" class=\"node\">\r\n",
       "<title>2824930946976</title>\r\n",
       "<polygon fill=\"none\" stroke=\"black\" points=\"110,-112.5 110,-131.5 149,-131.5 149,-112.5 110,-112.5\"/>\r\n",
       "<text text-anchor=\"start\" x=\"119.5\" y=\"-118.9\" font-family=\"Times New Roman,serif\" font-size=\"12.00\">type</text>\r\n",
       "<polygon fill=\"none\" stroke=\"black\" points=\"149,-112.5 149,-131.5 198,-131.5 198,-112.5 149,-112.5\"/>\r\n",
       "<text text-anchor=\"start\" x=\"152\" y=\"-118.9\" font-family=\"Times New Roman,serif\" font-size=\"12.00\">fractExpr</text>\r\n",
       "<polygon fill=\"none\" stroke=\"black\" points=\"110,-93.5 110,-112.5 149,-112.5 149,-93.5 110,-93.5\"/>\r\n",
       "<text text-anchor=\"start\" x=\"113\" y=\"-99.9\" font-family=\"Times New Roman,serif\" font-size=\"12.00\">priority</text>\r\n",
       "<polygon fill=\"none\" stroke=\"black\" points=\"149,-93.5 149,-112.5 198,-112.5 198,-93.5 149,-93.5\"/>\r\n",
       "<text text-anchor=\"start\" x=\"170\" y=\"-99.9\" font-family=\"Times New Roman,serif\" font-size=\"12.00\">0</text>\r\n",
       "<polygon fill=\"none\" stroke=\"black\" points=\"110,-74.5 110,-93.5 149,-93.5 149,-74.5 110,-74.5\"/>\r\n",
       "<text text-anchor=\"start\" x=\"117\" y=\"-80.9\" font-family=\"Times New Roman,serif\" font-size=\"12.00\">_calc</text>\r\n",
       "<polygon fill=\"none\" stroke=\"black\" points=\"149,-74.5 149,-93.5 198,-93.5 198,-74.5 149,-74.5\"/>\r\n",
       "<text text-anchor=\"start\" x=\"164\" y=\"-80.9\" font-family=\"Times New Roman,serif\" font-size=\"12.00\">next</text>\r\n",
       "</g>\r\n",
       "<!-- 2824930943568&#45;&gt;2824930946976 -->\r\n",
       "<g id=\"edge5\" class=\"edge\">\r\n",
       "<title>2824930943568&#45;&gt;2824930946976</title>\r\n",
       "<path fill=\"none\" stroke=\"black\" d=\"M154,-149.61C154,-143.81 154,-137.91 154,-132.37\"/>\r\n",
       "</g>\r\n",
       "<!-- 2824930945008 -->\r\n",
       "<g id=\"node6\" class=\"node\">\r\n",
       "<title>2824930945008</title>\r\n",
       "<polygon fill=\"none\" stroke=\"black\" points=\"55,-37.5 55,-56.5 94,-56.5 94,-37.5 55,-37.5\"/>\r\n",
       "<text text-anchor=\"start\" x=\"64.5\" y=\"-43.9\" font-family=\"Times New Roman,serif\" font-size=\"12.00\">type</text>\r\n",
       "<polygon fill=\"none\" stroke=\"black\" points=\"94,-37.5 94,-56.5 145,-56.5 145,-37.5 94,-37.5\"/>\r\n",
       "<text text-anchor=\"start\" x=\"97\" y=\"-43.9\" font-family=\"Times New Roman,serif\" font-size=\"12.00\">atomExpr</text>\r\n",
       "<polygon fill=\"none\" stroke=\"black\" points=\"55,-18.5 55,-37.5 94,-37.5 94,-18.5 55,-18.5\"/>\r\n",
       "<text text-anchor=\"start\" x=\"62.5\" y=\"-24.9\" font-family=\"Times New Roman,serif\" font-size=\"12.00\">value</text>\r\n",
       "<polygon fill=\"none\" stroke=\"black\" points=\"94,-18.5 94,-37.5 145,-37.5 145,-18.5 94,-18.5\"/>\r\n",
       "<text text-anchor=\"start\" x=\"113\" y=\"-24.9\" font-family=\"Times New Roman,serif\" font-size=\"12.00\">15</text>\r\n",
       "<polygon fill=\"none\" stroke=\"black\" points=\"55,0.5 55,-18.5 94,-18.5 94,0.5 55,0.5\"/>\r\n",
       "<text text-anchor=\"start\" x=\"58\" y=\"-5.9\" font-family=\"Times New Roman,serif\" font-size=\"12.00\">priority</text>\r\n",
       "<polygon fill=\"none\" stroke=\"black\" points=\"94,0.5 94,-18.5 145,-18.5 145,0.5 94,0.5\"/>\r\n",
       "<text text-anchor=\"start\" x=\"116\" y=\"-5.9\" font-family=\"Times New Roman,serif\" font-size=\"12.00\">0</text>\r\n",
       "</g>\r\n",
       "<!-- 2824930946976&#45;&gt;2824930945008 -->\r\n",
       "<g id=\"edge6\" class=\"edge\">\r\n",
       "<title>2824930946976&#45;&gt;2824930945008</title>\r\n",
       "<path fill=\"none\" stroke=\"black\" d=\"M133.58,-74.9C129.28,-69.09 124.75,-62.95 120.44,-57.14\"/>\r\n",
       "</g>\r\n",
       "<!-- 2824930944336 -->\r\n",
       "<g id=\"node7\" class=\"node\">\r\n",
       "<title>2824930944336</title>\r\n",
       "<polygon fill=\"none\" stroke=\"black\" points=\"163,-37.5 163,-56.5 202,-56.5 202,-37.5 163,-37.5\"/>\r\n",
       "<text text-anchor=\"start\" x=\"172.5\" y=\"-43.9\" font-family=\"Times New Roman,serif\" font-size=\"12.00\">type</text>\r\n",
       "<polygon fill=\"none\" stroke=\"black\" points=\"202,-37.5 202,-56.5 253,-56.5 253,-37.5 202,-37.5\"/>\r\n",
       "<text text-anchor=\"start\" x=\"205\" y=\"-43.9\" font-family=\"Times New Roman,serif\" font-size=\"12.00\">atomExpr</text>\r\n",
       "<polygon fill=\"none\" stroke=\"black\" points=\"163,-18.5 163,-37.5 202,-37.5 202,-18.5 163,-18.5\"/>\r\n",
       "<text text-anchor=\"start\" x=\"170.5\" y=\"-24.9\" font-family=\"Times New Roman,serif\" font-size=\"12.00\">value</text>\r\n",
       "<polygon fill=\"none\" stroke=\"black\" points=\"202,-18.5 202,-37.5 253,-37.5 253,-18.5 202,-18.5\"/>\r\n",
       "<text text-anchor=\"start\" x=\"221\" y=\"-24.9\" font-family=\"Times New Roman,serif\" font-size=\"12.00\">16</text>\r\n",
       "<polygon fill=\"none\" stroke=\"black\" points=\"163,0.5 163,-18.5 202,-18.5 202,0.5 163,0.5\"/>\r\n",
       "<text text-anchor=\"start\" x=\"166\" y=\"-5.9\" font-family=\"Times New Roman,serif\" font-size=\"12.00\">priority</text>\r\n",
       "<polygon fill=\"none\" stroke=\"black\" points=\"202,0.5 202,-18.5 253,-18.5 253,0.5 202,0.5\"/>\r\n",
       "<text text-anchor=\"start\" x=\"224\" y=\"-5.9\" font-family=\"Times New Roman,serif\" font-size=\"12.00\">0</text>\r\n",
       "</g>\r\n",
       "<!-- 2824930946976&#45;&gt;2824930944336 -->\r\n",
       "<g id=\"edge7\" class=\"edge\">\r\n",
       "<title>2824930946976&#45;&gt;2824930944336</title>\r\n",
       "<path fill=\"none\" stroke=\"black\" d=\"M174.42,-74.9C178.72,-69.09 183.25,-62.95 187.56,-57.14\"/>\r\n",
       "</g>\r\n",
       "<!-- 2824930945008&#45;&gt;2824930944336 -->\r\n",
       "</g>\r\n",
       "</svg>\r\n"
      ],
      "text/plain": [
       "({'type': 'main'}: ({'type': 'fractExpr', 'priority': 0, '_calc': 'next'}: ({'type': 'atomExpr', 'value': 39, 'priority': 0}), ({'type': 'unaryExpr', 'op': '-', 'priority': 0, '_calc': 'next'}: ({'type': 'fractExpr', 'priority': 0, '_calc': 'next'}: ({'type': 'atomExpr', 'value': 15, 'priority': 0}), ({'type': 'atomExpr', 'value': 16, 'priority': 0})))))"
      ]
     },
     "execution_count": 30,
     "metadata": {},
     "output_type": "execute_result"
    }
   ],
   "source": [
    "shunting_yard_parser = ShuntingYardParser()\n",
    "\n",
    "ast = shunting_yard_parser.parse(expr)\n",
    "ast_eval(ast, False, False)\n",
    "ast"
   ]
  },
  {
   "cell_type": "code",
   "execution_count": 60,
   "metadata": {},
   "outputs": [
    {
     "name": "stdout",
     "output_type": "stream",
     "text": [
      "( 92 / 19 * ( - 40 / 56 * 28 ) * 79 + 7 / - 45 * - - ( - 47 ) + 18 + ( ( 52 ) ) + 26 ^ 2 * 39 / ( 32 ) ^ -2 ^ -2 / ( ( 81 ) + ( 64 - ( 38 ) ^ 2 ) * 22 - ( 38 ^ -2 ) - - - 14 + - 2 ) * - - ( 94 ) - 16 + 89 - ( 5 ) / 51 / - 100 - - 55 ^ 2 * - ( 35 + 44 ^ -2 - 21 ^ 2 ) + - ( - - 88 + 44 ) + ( - 74 + ( ( - 63 ) ) ) / ( 67 - 53 ) - - 43 * 92 + 39 ^ -2 * 53 ^ -2 - - ( 67 * - 5 - - 17 / 73 ^ 2 ) * - - - ( - 32 ) ^ -2 + 84 - 34 + 17 * 23 / 75 ^ -2 * ( - 35 - ( 31 ) - 17 ) - - - - 64 / 61 / ( - 17 * - ( 94 ) / 15 ) - ( ( 39 ) * 32 * 63 + 66 / - 87 - ( ( ( 20 ) ) ) ) + - - - - 59 - 74 ^ -2 / - 67 / 93 / 2 * 82 ^ 2 ^ 2 ) / - ( ( - - 80 - - 23 / 44 * 63 / - - 18 ) ) / - ( ( - - 49 / 23 ) + 22 ^ -2 ) ^ -2 ^ -2 + ( ( - 38 ^ 2 - 10 / 15 - - 22 / 72 * 86 - ( 37 ) / ( 2 ) / ( - 33 ) - - ( - 22 ) ) )\n",
      "ANTLR runtime and generated code versions disagree: 4.9.1!=4.7.2\n",
      "ANTLR runtime and generated code versions disagree: 4.9.1!=4.7.2\n",
      "-2680326.07036 -2680326.07036 -2680331.035\n"
     ]
    }
   ],
   "source": [
    "expr = '( 92 / 19 x ( - 40 / 56 x 28 ) x 79 + 7 / - 45 x - - ( - 47 ) + 18 + ( ( 52 ) ) + 26 ^ 2 x 39 / ( 32 ) ^ -2 ^ -2 / ( ( 81 ) + ( 64 - ( 38 ) ^ 2 ) x 22 - ( 38 ^ -2 ) - - - 14 + - 2 ) x - - ( 94 ) - 16 + 89 - ( 5 ) / 51 / - 100 - - 55 ^ 2 x - ( 35 + 44 ^ -2 - 21 ^ 2 ) + - ( - - 88 + 44 ) + ( - 74 + ( ( - 63 ) ) ) / ( 67 - 53 ) - - 43 x 92 + 39 ^ -2 x 53 ^ -2 - - ( 67 x - 5 - - 17 / 73 ^ 2 ) x - - - ( - 32 ) ^ -2 + 84 - 34 + 17 x 23 / 75 ^ -2 x ( - 35 - ( 31 ) - 17 ) - - - - 64 / 61 / ( - 17 x - ( 94 ) / 15 ) - ( ( 39 ) x 32 x 63 + 66 / - 87 - ( ( ( 20 ) ) ) ) + - - - - 59 - 74 ^ -2 / - 67 / 93 / 2 x 82 ^ 2 ^ 2 ) / - ( ( - - 80 - - 23 / 44 x 63 / - - 18 ) ) / - ( ( - - 49 / 23 ) + 22 ^ -2 ) ^ -2 ^ -2 + ( ( - 38 ^ 2 - 10 / 15 - - 22 / 72 x 86 - ( 37 ) / ( 2 ) / ( - 33 ) - - ( - 22 ) ) )'\n",
    "formatted_expr = expr.replace('x', '*').replace(':', '/').replace('^', '**')\n",
    "real_expr = expr.replace('x', '*').replace(':', '/')\n",
    "print(real_expr)\n",
    "res =  round(eval(formatted_expr), 3)\n",
    "shunt = shunting_eval(expr, False, False)\n",
    "ant = antlr_eval(expr, False, False)\n",
    "print(shunt, ant, res)\n",
    "\n"
   ]
  },
  {
   "cell_type": "code",
   "execution_count": 57,
   "metadata": {},
   "outputs": [
    {
     "data": {
      "text/plain": [
       "2.0733099754458224e+17"
      ]
     },
     "execution_count": 57,
     "metadata": {},
     "output_type": "execute_result"
    }
   ],
   "source": [
    "50006678291167707811616843828662750813269008591834603/241192483918931631084333889063910400 "
   ]
  },
  {
   "cell_type": "code",
   "execution_count": 8,
   "metadata": {},
   "outputs": [
    {
     "data": {
      "text/plain": [
       "Fraction(4, 1)"
      ]
     },
     "execution_count": 8,
     "metadata": {},
     "output_type": "execute_result"
    }
   ],
   "source": [
    "Fraction(1, 2) ** -2"
   ]
  },
  {
   "cell_type": "code",
   "execution_count": 24,
   "metadata": {},
   "outputs": [
    {
     "name": "stdout",
     "output_type": "stream",
     "text": [
      "ANTLR runtime and generated code versions disagree: 4.9.1!=4.7.2\n",
      "ANTLR runtime and generated code versions disagree: 4.9.1!=4.7.2\n"
     ]
    },
    {
     "data": {
      "text/plain": [
       "(-25883.73256, -25883.73256)"
      ]
     },
     "execution_count": 24,
     "metadata": {},
     "output_type": "execute_result"
    }
   ],
   "source": [
    "expr = '89 + ( - 3 + 100 ) / ( - ( 66 ) ) / - 19 x 37 - 55 / ( 20 x ( 49 x 80 ) ) / ( ( 87 ) - ( - 26 ) ) + - ( - - 88 + 72 / ( - 19 ) ^ -2 + - 31 + 8 ^ -2 ^ -2 + 15 - 89 )'\n",
    "antlr_res = antlr_eval(expr)\n",
    "\n",
    "shunting_res = shunting_eval(expr)\n",
    "antlr_res, shunting_res\n",
    "\n"
   ]
  },
  {
   "cell_type": "code",
   "execution_count": 10,
   "metadata": {},
   "outputs": [
    {
     "data": {
      "text/plain": [
       "-44465.29303204521"
      ]
     },
     "execution_count": 10,
     "metadata": {},
     "output_type": "execute_result"
    }
   ],
   "source": [
    "75713/2704 * -1/36 * 1/25281 * 2.806 * 515070259.31"
   ]
  }
 ],
 "metadata": {
  "kernelspec": {
   "display_name": "Python 3",
   "language": "python",
   "name": "python3"
  },
  "language_info": {
   "codemirror_mode": {
    "name": "ipython",
    "version": 3
   },
   "file_extension": ".py",
   "mimetype": "text/x-python",
   "name": "python",
   "nbconvert_exporter": "python",
   "pygments_lexer": "ipython3",
   "version": "3.8.3"
  }
 },
 "nbformat": 4,
 "nbformat_minor": 5
}
