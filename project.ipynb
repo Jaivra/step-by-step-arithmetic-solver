{
 "cells": [
  {
   "cell_type": "code",
   "execution_count": 1,
   "metadata": {},
   "outputs": [],
   "source": [
    "%load_ext autoreload\n",
    "%autoreload 2"
   ]
  },
  {
   "cell_type": "code",
   "execution_count": 2,
   "metadata": {},
   "outputs": [],
   "source": [
    "from textwrap import indent\n",
    "\n",
    "from IPython.display import Javascript\n",
    "\n",
    "from liblet import ANTLR, AnnotatedTreeWalker, Tree, pyast2tree, side_by_side\n",
    "\n",
    "from operator import add, mul, truediv, sub\n",
    "\n",
    "from operator import itemgetter\n",
    "\n",
    "from IPython.display import Latex\n",
    "\n",
    "from fractions import Fraction\n",
    "\n",
    "import importlib\n",
    "\n",
    "from core.arithmetic_manager import ArithManager\n",
    "\n",
    "from core.util import *\n",
    "\n",
    "from core.shunting_yard_parser import ShuntingYardParser\n",
    "from core.arithmetic_manager import ArithManager\n",
    "from core.util import *"
   ]
  },
  {
   "cell_type": "code",
   "execution_count": 3,
   "metadata": {},
   "outputs": [
    {
     "name": "stdout",
     "output_type": "stream",
     "text": [
      "ANTLR runtime and generated code versions disagree: 4.9.1!=4.7.2\n",
      "ANTLR runtime and generated code versions disagree: 4.9.1!=4.7.2\n"
     ]
    },
    {
     "data": {
      "text/latex": [
       "\\begin{align}\\color{red}{\\boxed{{2}^{\\frac{-3} {2}}}}\\end{align}"
      ],
      "text/plain": [
       "<IPython.core.display.Latex object>"
      ]
     },
     "metadata": {},
     "output_type": "display_data"
    },
    {
     "data": {
      "text/latex": [
       "\\begin{align}\\color{green}{\\boxed{0.35355}}\\end{align}"
      ],
      "text/plain": [
       "<IPython.core.display.Latex object>"
      ]
     },
     "metadata": {},
     "output_type": "display_data"
    }
   ],
   "source": [
    "ex1 = '1 + {2 x [(3 + 4 : 2) + 5] x 6} - [ 7 + (1 + 8) : 3 ] x [ 9 : (2 + 1) + 2 ]'\n",
    "ex2 = '< 2 + 3 > / 4 / < 5 + 6 > / 7'\n",
    "ex3 = '2 ^ < 3 + 4 ^ 5 : 2 ^ 7 >'\n",
    "ex4 = '3 + 13 x -<1 + 3>/<2^<1+4> - 6>'\n",
    "ex5a = '3 / < 4 + 2 > + 2 x { 3 : ( 4 + 5 ) + 2 ^ < 6 x 1/2 > } - < 2 x [ 5 x ( 3 + 4 ) + 5 ] - 1 > / 6'\n",
    "ex5b = '3 / < 4 + 2 > + 2 x ( 3 : ( 4 + 5 ) + 2 ^ < 6 x 1/2 > ) - < 2 x ( 5 x ( 3 + 4 ) + 5 ) - 1 > / 6'\n",
    "\n",
    "expr = '( - ( - - ( ( 43 ) ) ^ 2 x ( - ( 78 ) + - ( 94 ) ) ) x - ( ( 19 - 69 ) ) - - ( ( ( - 100 ^ 2 - ( 36 ) ) ) ) )'\n",
    "\n",
    "\n",
    "expr = '2^-<3/2>'\n",
    "\n",
    "src = expr\n",
    "\n",
    "AM = ArithManager()\n",
    "ptree = AM.ptree('antlrGrammar.g', src)\n",
    "ast = AM.ptree2ast(ptree)\n",
    "blocks = AM.blocks(ast)\n",
    "MEMORY = dict(blocks)\n",
    "\n",
    "#display(ast)\n",
    "\n",
    "main_block = blocks[-1][1]\n",
    "child_to_calc = None\n",
    "\n",
    "current_block = block_id = None\n",
    "\n",
    "while blocks and is_calculable(blocks[0][1]): blocks = blocks[1:]\n",
    "    \n",
    "while blocks:\n",
    "    block_id, current_block = blocks[0]\n",
    "        \n",
    "    parent_to_calc = AM.prior(current_block)\n",
    "    display_latex(AM.latex(main_block, MEMORY))\n",
    "\n",
    "    parent_to_calc.children =  [Tree({'type': 'atomExpr', 'value': AM.eval(child, MEMORY), 'priority': 0, '_calc': 'last'}, []) \n",
    "                                if is_next_to_calc(child) else child\n",
    "                                for child in parent_to_calc.children]\n",
    "    \n",
    "    if is_calculable(current_block):\n",
    "        current_block = current_block.children[0]\n",
    "        blocks = blocks[1:]\n",
    "        \n",
    "    MEMORY[block_id] = current_block\n",
    "\n",
    "display_latex(AM.latex(main_block, {}))\n",
    "\n"
   ]
  },
  {
   "cell_type": "code",
   "execution_count": 12,
   "metadata": {},
   "outputs": [],
   "source": [
    "def ast_eval(ast, show_latex, show_ast):\n",
    "    AM = ArithManager()\n",
    "    \n",
    "    if show_ast: display(ast)\n",
    "        \n",
    "    blocks = AM.blocks(ast)\n",
    "    MEMORY = dict(blocks)\n",
    "    main_block = blocks[-1][1]\n",
    "    child_to_calc = None\n",
    "    current_block = block_id = None\n",
    "\n",
    "    while blocks and is_calculable(blocks[0][1]): blocks = blocks[1:]\n",
    "\n",
    "    while blocks:\n",
    "        block_id, current_block = blocks[0]\n",
    "        parent_to_calc = AM.prior(current_block)\n",
    "        tex = AM.latex(main_block, MEMORY)\n",
    "        if show_latex: display_latex(tex)\n",
    "        \n",
    "        parent_to_calc.children =  [Tree({'type': 'atomExpr', 'value': AM.eval(child, MEMORY), 'priority': 0, '_calc': 'last'}, []) \n",
    "                                    if is_next_to_calc(child) else child\n",
    "                                    for child in parent_to_calc.children]\n",
    "\n",
    "        if is_calculable(current_block):\n",
    "            current_block = current_block.children[0]\n",
    "            blocks = blocks[1:]\n",
    "\n",
    "        MEMORY[block_id] = current_block\n",
    "\n",
    "    tex = AM.latex(main_block, {})\n",
    "    if show_latex: display_latex(tex)\n",
    "    \n",
    "    return main_block.children[0].root['value']\n",
    "\n",
    "\n",
    "def antlr_eval(expr, show_latex=False, show_ast = False):\n",
    "    AM = ArithManager()\n",
    "    ast = AM.ptree2ast(AM.ptree('antlrGrammar.g',expr))\n",
    "    return ast_eval(ast, show_latex, show_ast)\n",
    "\n",
    "\n",
    "def shunting_eval(expr, show_latex=False, show_ast = False):\n",
    "    AM = ArithManager()\n",
    "\n",
    "\n",
    "    ast = AM.shuntingYardExpr2ast(expr)\n",
    "    return ast_eval(ast, show_latex, show_ast)\n"
   ]
  },
  {
   "cell_type": "code",
   "execution_count": 5,
   "metadata": {},
   "outputs": [
    {
     "name": "stdout",
     "output_type": "stream",
     "text": [
      "ANTLR runtime and generated code versions disagree: 4.9.1!=4.7.2\n",
      "ANTLR runtime and generated code versions disagree: 4.9.1!=4.7.2\n",
      "['(', '(', '49', '-', '33', '-', '--', '71', ')', ')', '+', '(', '52', '-', '(', '--', '(', '21', ')', '-', '5', ')', '/', '(', '(', '16', ')', ')', ')', '^', '2', 'x', '(', '--', '57', '/', '98', '/', '53', '^', '2', '/', '(', '89', ')', '/', '80', '^', '--', '2', ')']\n",
      "ANTLR runtime and generated code versions disagree: 4.9.1!=4.7.2\n",
      "ANTLR runtime and generated code versions disagree: 4.9.1!=4.7.2\n",
      "['(', '--', '--', '--', '--', '(', '(', '(', '77', ')', '/', '44', ')', '/', '35', '/', '57', 'x', '77', ')', '^', '2', 'x', '98', '/', '73', '/', '(', '26', '-', '33', ')', ')']\n",
      "ANTLR runtime and generated code versions disagree: 4.9.1!=4.7.2\n",
      "ANTLR runtime and generated code versions disagree: 4.9.1!=4.7.2\n",
      "['--', '--', '--', '--', '39', '+', '36', 'x', '51', 'x', '71', '^', '2', '+', '(', '--', '48', ')']\n",
      "ANTLR runtime and generated code versions disagree: 4.9.1!=4.7.2\n",
      "ANTLR runtime and generated code versions disagree: 4.9.1!=4.7.2\n",
      "['--', '(', '--', '68', 'x', '(', '72', ')', '-', '80', '^', '--', '2', '^', '--', '2', ')', 'x', '--', '71', '+', '(', '--', '(', '99', ')', ')', '/', '6', '-', '42', '-', '(', '--', '58', ')', '^', '2']\n",
      "ANTLR runtime and generated code versions disagree: 4.9.1!=4.7.2\n",
      "ANTLR runtime and generated code versions disagree: 4.9.1!=4.7.2\n",
      "['--', '(', '(', '--', '12', '^', '--', '2', ')', ')', '^', '2']\n",
      "ANTLR runtime and generated code versions disagree: 4.9.1!=4.7.2\n",
      "ANTLR runtime and generated code versions disagree: 4.9.1!=4.7.2\n",
      "['(', '(', '(', '81', '-', '--', '51', '-', '(', '(', '55', ')', ')', '^', '--', '2', ')', 'x', '(', '--', '24', 'x', '49', 'x', '17', ')', '^', '2', ')', ')']\n",
      "ANTLR runtime and generated code versions disagree: 4.9.1!=4.7.2\n",
      "ANTLR runtime and generated code versions disagree: 4.9.1!=4.7.2\n",
      "['--', '(', '(', '57', ')', ')', '/', '(', '12', '^', '--', '2', 'x', '--', '(', '72', '^', '--', '2', ')', ')', '/', '--', '(', '(', '72', ')', ')', 'x', '--', '88', '+', '--', '8', '^', '2', '+', '(', '(', '(', '(', '(', '74', '+', '(', '65', ')', '^', '2', ')', ')', ')', ')', ')', '-', '--', '86', '^', '--', '2', '/', '78', '/', '(', '23', ')', '-', '62', '^', '2']\n",
      "** WRONG **  - ( ( 57 ) ) / ( 12 ^ -2 x - ( 72 ^ -2 ) ) / - ( ( 72 ) ) x - 88 + - 8 ^ 2 + ( ( ( ( ( 74 + ( 65 ) ^ 2 ) ) ) ) ) - - 86 ^ -2 / 78 / ( 23 ) - 62 ^ 2\n",
      "ANTLR runtime and generated code versions disagree: 4.9.1!=4.7.2\n",
      "ANTLR runtime and generated code versions disagree: 4.9.1!=4.7.2\n",
      "['--', '--', '(', '--', '34', ')', '/', '(', '7', 'x', '23', ')', '-', '5', '^', '2', '^', '2']\n",
      "ANTLR runtime and generated code versions disagree: 4.9.1!=4.7.2\n",
      "ANTLR runtime and generated code versions disagree: 4.9.1!=4.7.2\n",
      "['--', '--', '--', '67', 'x', '(', '48', '-', '7', ')', '-', '67', '/', '--', '79', '^', '2', '-', '--', '90', '/', '46', 'x', '47', '/', '47', 'x', '92', '-', '(', '56', '/', '66', '+', '47', ')', '^', '--', '2', 'x', '(', '47', ')', '^', '2', '^', '--', '2', 'x', '--', '(', '(', '(', '(', '5', ')', '+', '70', '^', '--', '2', ')', ')', ')']\n",
      "ANTLR runtime and generated code versions disagree: 4.9.1!=4.7.2\n",
      "ANTLR runtime and generated code versions disagree: 4.9.1!=4.7.2\n",
      "['(', '--', '81', 'x', '(', '65', '^', '2', '/', '--', '--', '--', '96', '/', '71', ')', '-', '--', '(', '27', ')', '-', '--', '--', '(', '14', ')', 'x', '--', '79', '-', '--', '37', '/', '(', '30', '/', '79', ')', '+', '26', '+', '--', '(', '96', '-', '89', '-', '--', '53', ')', ')']\n",
      "** WRONG **  ( - 81 x ( 65 ^ 2 / - - - 96 / 71 ) - - ( 27 ) - - - ( 14 ) x - 79 - - 37 / ( 30 / 79 ) + 26 + - ( 96 - 89 - - 53 ) )\n",
      "*** WRONG 2 ***\n",
      "\n",
      " $$$ 0 $$$   - ( ( 57 ) ) / ( 12 ^ -2 x - ( 72 ^ -2 ) ) / - ( ( 72 ) ) x - 88 + - 8 ^ 2 + ( ( ( ( ( 74 + ( 65 ) ^ 2 ) ) ) ) ) - - 86 ^ -2 / 78 / ( 23 ) - 62 ^ 2\n",
      " $$$ 1 $$$   ( - 81 x ( 65 ^ 2 / - - - 96 / 71 ) - - ( 27 ) - - - ( 14 ) x - 79 - - 37 / ( 30 / 79 ) + 26 + - ( 96 - 89 - - 53 ) )\n"
     ]
    }
   ],
   "source": [
    "from core.expression_generator import generate_expression\n",
    "\n",
    "wrong_expr = []\n",
    "for _ in range(10):\n",
    "    exception = False\n",
    "    expr = generate_expression(2)\n",
    "    \n",
    "    try:\n",
    "        antlr_res = antlr_eval(expr)\n",
    "    except Exception as e:\n",
    "        print('** EXCEPTION ANTLR ** ', e)\n",
    "        exception = True\n",
    "\n",
    "    try:\n",
    "        shunting_res = shunting_eval(expr)\n",
    "        if exception: \n",
    "            wrong_expr.append(expr)\n",
    "            continue\n",
    "    except Exception as e:\n",
    "        print('** EXCEPTION SHUNTING ** ', e)\n",
    "        if not exception: \n",
    "            wrong_expr.append(expr)\n",
    "        continue\n",
    "\n",
    "    formatted_expr = expr.replace('x', '*').replace(':', '/').replace('^', '**')\n",
    "    res =  round(eval(formatted_expr), 3)\n",
    "\n",
    "    if antlr_res != shunting_res or abs(antlr_res - res) > 1:\n",
    "        print(\"** WRONG ** \", expr)\n",
    "        wrong_expr.append(expr)\n",
    "        \n",
    "    \n",
    "    #print(antlr_res, shunting_res, res)\n",
    "        \n",
    "if wrong_expr != []:\n",
    "    print(f'*** WRONG {len(wrong_expr)} ***\\n')\n",
    "    for i, it in enumerate(wrong_expr):\n",
    "        print(f' $$$ {i} $$$  ', it)\n",
    "else:\n",
    "    print(\"ALL DONE\")"
   ]
  },
  {
   "cell_type": "code",
   "execution_count": 30,
   "metadata": {},
   "outputs": [
    {
     "name": "stdout",
     "output_type": "stream",
     "text": [
      "['39', '/', '--', '15', '/', '16']\n"
     ]
    },
    {
     "data": {
      "image/svg+xml": [
       "<?xml version=\"1.0\" encoding=\"UTF-8\" standalone=\"no\"?>\r\n",
       "<!DOCTYPE svg PUBLIC \"-//W3C//DTD SVG 1.1//EN\"\r\n",
       " \"http://www.w3.org/Graphics/SVG/1.1/DTD/svg11.dtd\">\r\n",
       "<!-- Generated by graphviz version 2.47.3 (20210619.1520)\r\n",
       " -->\r\n",
       "<!-- Pages: 1 -->\r\n",
       "<svg width=\"261pt\" height=\"346pt\"\r\n",
       " viewBox=\"0.00 0.00 261.00 346.00\" xmlns=\"http://www.w3.org/2000/svg\" xmlns:xlink=\"http://www.w3.org/1999/xlink\">\r\n",
       "<g id=\"graph0\" class=\"graph\" transform=\"scale(1 1) rotate(0) translate(4 342)\">\r\n",
       "<polygon fill=\"white\" stroke=\"transparent\" points=\"-4,4 -4,-342 257,-342 257,4 -4,4\"/>\r\n",
       "<!-- 2824912767968 -->\r\n",
       "<g id=\"node1\" class=\"node\">\r\n",
       "<title>2824912767968</title>\r\n",
       "<polygon fill=\"none\" stroke=\"black\" points=\"72,-318.5 72,-337.5 98,-337.5 98,-318.5 72,-318.5\"/>\r\n",
       "<text text-anchor=\"start\" x=\"75\" y=\"-324.9\" font-family=\"Times New Roman,serif\" font-size=\"12.00\">type</text>\r\n",
       "<polygon fill=\"none\" stroke=\"black\" points=\"98,-318.5 98,-337.5 126,-337.5 126,-318.5 98,-318.5\"/>\r\n",
       "<text text-anchor=\"start\" x=\"101\" y=\"-324.9\" font-family=\"Times New Roman,serif\" font-size=\"12.00\">main</text>\r\n",
       "</g>\r\n",
       "<!-- 2824912765760 -->\r\n",
       "<g id=\"node2\" class=\"node\">\r\n",
       "<title>2824912765760</title>\r\n",
       "<polygon fill=\"none\" stroke=\"black\" points=\"55,-281.5 55,-300.5 94,-300.5 94,-281.5 55,-281.5\"/>\r\n",
       "<text text-anchor=\"start\" x=\"64.5\" y=\"-287.9\" font-family=\"Times New Roman,serif\" font-size=\"12.00\">type</text>\r\n",
       "<polygon fill=\"none\" stroke=\"black\" points=\"94,-281.5 94,-300.5 143,-300.5 143,-281.5 94,-281.5\"/>\r\n",
       "<text text-anchor=\"start\" x=\"97\" y=\"-287.9\" font-family=\"Times New Roman,serif\" font-size=\"12.00\">fractExpr</text>\r\n",
       "<polygon fill=\"none\" stroke=\"black\" points=\"55,-262.5 55,-281.5 94,-281.5 94,-262.5 55,-262.5\"/>\r\n",
       "<text text-anchor=\"start\" x=\"58\" y=\"-268.9\" font-family=\"Times New Roman,serif\" font-size=\"12.00\">priority</text>\r\n",
       "<polygon fill=\"none\" stroke=\"black\" points=\"94,-262.5 94,-281.5 143,-281.5 143,-262.5 94,-262.5\"/>\r\n",
       "<text text-anchor=\"start\" x=\"115\" y=\"-268.9\" font-family=\"Times New Roman,serif\" font-size=\"12.00\">0</text>\r\n",
       "<polygon fill=\"none\" stroke=\"black\" points=\"55,-243.5 55,-262.5 94,-262.5 94,-243.5 55,-243.5\"/>\r\n",
       "<text text-anchor=\"start\" x=\"62\" y=\"-249.9\" font-family=\"Times New Roman,serif\" font-size=\"12.00\">_calc</text>\r\n",
       "<polygon fill=\"none\" stroke=\"black\" points=\"94,-243.5 94,-262.5 143,-262.5 143,-243.5 94,-243.5\"/>\r\n",
       "<text text-anchor=\"start\" x=\"109\" y=\"-249.9\" font-family=\"Times New Roman,serif\" font-size=\"12.00\">next</text>\r\n",
       "</g>\r\n",
       "<!-- 2824912767968&#45;&gt;2824912765760 -->\r\n",
       "<g id=\"edge1\" class=\"edge\">\r\n",
       "<title>2824912767968&#45;&gt;2824912765760</title>\r\n",
       "<path fill=\"none\" stroke=\"black\" d=\"M99,-318.58C99,-313.79 99,-307.59 99,-301.33\"/>\r\n",
       "</g>\r\n",
       "<!-- 2824931420816 -->\r\n",
       "<g id=\"node3\" class=\"node\">\r\n",
       "<title>2824931420816</title>\r\n",
       "<polygon fill=\"none\" stroke=\"black\" points=\"0,-197 0,-216 39,-216 39,-197 0,-197\"/>\r\n",
       "<text text-anchor=\"start\" x=\"9.5\" y=\"-203.4\" font-family=\"Times New Roman,serif\" font-size=\"12.00\">type</text>\r\n",
       "<polygon fill=\"none\" stroke=\"black\" points=\"39,-197 39,-216 90,-216 90,-197 39,-197\"/>\r\n",
       "<text text-anchor=\"start\" x=\"42\" y=\"-203.4\" font-family=\"Times New Roman,serif\" font-size=\"12.00\">atomExpr</text>\r\n",
       "<polygon fill=\"none\" stroke=\"black\" points=\"0,-178 0,-197 39,-197 39,-178 0,-178\"/>\r\n",
       "<text text-anchor=\"start\" x=\"7.5\" y=\"-184.4\" font-family=\"Times New Roman,serif\" font-size=\"12.00\">value</text>\r\n",
       "<polygon fill=\"none\" stroke=\"black\" points=\"39,-178 39,-197 90,-197 90,-178 39,-178\"/>\r\n",
       "<text text-anchor=\"start\" x=\"58\" y=\"-184.4\" font-family=\"Times New Roman,serif\" font-size=\"12.00\">39</text>\r\n",
       "<polygon fill=\"none\" stroke=\"black\" points=\"0,-159 0,-178 39,-178 39,-159 0,-159\"/>\r\n",
       "<text text-anchor=\"start\" x=\"3\" y=\"-165.4\" font-family=\"Times New Roman,serif\" font-size=\"12.00\">priority</text>\r\n",
       "<polygon fill=\"none\" stroke=\"black\" points=\"39,-159 39,-178 90,-178 90,-159 39,-159\"/>\r\n",
       "<text text-anchor=\"start\" x=\"61\" y=\"-165.4\" font-family=\"Times New Roman,serif\" font-size=\"12.00\">0</text>\r\n",
       "</g>\r\n",
       "<!-- 2824912765760&#45;&gt;2824931420816 -->\r\n",
       "<g id=\"edge2\" class=\"edge\">\r\n",
       "<title>2824912765760&#45;&gt;2824931420816</title>\r\n",
       "<path fill=\"none\" stroke=\"black\" d=\"M80.72,-243.57C75.03,-234.87 68.76,-225.3 63.08,-216.62\"/>\r\n",
       "</g>\r\n",
       "<!-- 2824930943568 -->\r\n",
       "<g id=\"node4\" class=\"node\">\r\n",
       "<title>2824930943568</title>\r\n",
       "<polygon fill=\"none\" stroke=\"black\" points=\"108,-207 108,-226 147,-226 147,-207 108,-207\"/>\r\n",
       "<text text-anchor=\"start\" x=\"117.5\" y=\"-213.4\" font-family=\"Times New Roman,serif\" font-size=\"12.00\">type</text>\r\n",
       "<polygon fill=\"none\" stroke=\"black\" points=\"147,-207 147,-226 200,-226 200,-207 147,-207\"/>\r\n",
       "<text text-anchor=\"start\" x=\"150\" y=\"-213.4\" font-family=\"Times New Roman,serif\" font-size=\"12.00\">unaryExpr</text>\r\n",
       "<polygon fill=\"none\" stroke=\"black\" points=\"108,-188 108,-207 147,-207 147,-188 108,-188\"/>\r\n",
       "<text text-anchor=\"start\" x=\"121\" y=\"-194.4\" font-family=\"Times New Roman,serif\" font-size=\"12.00\">op</text>\r\n",
       "<polygon fill=\"none\" stroke=\"black\" points=\"147,-188 147,-207 200,-207 200,-188 147,-188\"/>\r\n",
       "<text text-anchor=\"start\" x=\"171\" y=\"-194.4\" font-family=\"Times New Roman,serif\" font-size=\"12.00\">&#45;</text>\r\n",
       "<polygon fill=\"none\" stroke=\"black\" points=\"108,-169 108,-188 147,-188 147,-169 108,-169\"/>\r\n",
       "<text text-anchor=\"start\" x=\"111\" y=\"-175.4\" font-family=\"Times New Roman,serif\" font-size=\"12.00\">priority</text>\r\n",
       "<polygon fill=\"none\" stroke=\"black\" points=\"147,-169 147,-188 200,-188 200,-169 147,-169\"/>\r\n",
       "<text text-anchor=\"start\" x=\"170\" y=\"-175.4\" font-family=\"Times New Roman,serif\" font-size=\"12.00\">0</text>\r\n",
       "<polygon fill=\"none\" stroke=\"black\" points=\"108,-150 108,-169 147,-169 147,-150 108,-150\"/>\r\n",
       "<text text-anchor=\"start\" x=\"115\" y=\"-156.4\" font-family=\"Times New Roman,serif\" font-size=\"12.00\">_calc</text>\r\n",
       "<polygon fill=\"none\" stroke=\"black\" points=\"147,-150 147,-169 200,-169 200,-150 147,-150\"/>\r\n",
       "<text text-anchor=\"start\" x=\"164\" y=\"-156.4\" font-family=\"Times New Roman,serif\" font-size=\"12.00\">next</text>\r\n",
       "</g>\r\n",
       "<!-- 2824912765760&#45;&gt;2824930943568 -->\r\n",
       "<g id=\"edge3\" class=\"edge\">\r\n",
       "<title>2824912765760&#45;&gt;2824930943568</title>\r\n",
       "<path fill=\"none\" stroke=\"black\" d=\"M117.62,-243.57C121.36,-237.96 125.35,-231.98 129.26,-226.12\"/>\r\n",
       "</g>\r\n",
       "<!-- 2824931420816&#45;&gt;2824930943568 -->\r\n",
       "<!-- 2824930946976 -->\r\n",
       "<g id=\"node5\" class=\"node\">\r\n",
       "<title>2824930946976</title>\r\n",
       "<polygon fill=\"none\" stroke=\"black\" points=\"110,-112.5 110,-131.5 149,-131.5 149,-112.5 110,-112.5\"/>\r\n",
       "<text text-anchor=\"start\" x=\"119.5\" y=\"-118.9\" font-family=\"Times New Roman,serif\" font-size=\"12.00\">type</text>\r\n",
       "<polygon fill=\"none\" stroke=\"black\" points=\"149,-112.5 149,-131.5 198,-131.5 198,-112.5 149,-112.5\"/>\r\n",
       "<text text-anchor=\"start\" x=\"152\" y=\"-118.9\" font-family=\"Times New Roman,serif\" font-size=\"12.00\">fractExpr</text>\r\n",
       "<polygon fill=\"none\" stroke=\"black\" points=\"110,-93.5 110,-112.5 149,-112.5 149,-93.5 110,-93.5\"/>\r\n",
       "<text text-anchor=\"start\" x=\"113\" y=\"-99.9\" font-family=\"Times New Roman,serif\" font-size=\"12.00\">priority</text>\r\n",
       "<polygon fill=\"none\" stroke=\"black\" points=\"149,-93.5 149,-112.5 198,-112.5 198,-93.5 149,-93.5\"/>\r\n",
       "<text text-anchor=\"start\" x=\"170\" y=\"-99.9\" font-family=\"Times New Roman,serif\" font-size=\"12.00\">0</text>\r\n",
       "<polygon fill=\"none\" stroke=\"black\" points=\"110,-74.5 110,-93.5 149,-93.5 149,-74.5 110,-74.5\"/>\r\n",
       "<text text-anchor=\"start\" x=\"117\" y=\"-80.9\" font-family=\"Times New Roman,serif\" font-size=\"12.00\">_calc</text>\r\n",
       "<polygon fill=\"none\" stroke=\"black\" points=\"149,-74.5 149,-93.5 198,-93.5 198,-74.5 149,-74.5\"/>\r\n",
       "<text text-anchor=\"start\" x=\"164\" y=\"-80.9\" font-family=\"Times New Roman,serif\" font-size=\"12.00\">next</text>\r\n",
       "</g>\r\n",
       "<!-- 2824930943568&#45;&gt;2824930946976 -->\r\n",
       "<g id=\"edge5\" class=\"edge\">\r\n",
       "<title>2824930943568&#45;&gt;2824930946976</title>\r\n",
       "<path fill=\"none\" stroke=\"black\" d=\"M154,-149.61C154,-143.81 154,-137.91 154,-132.37\"/>\r\n",
       "</g>\r\n",
       "<!-- 2824930945008 -->\r\n",
       "<g id=\"node6\" class=\"node\">\r\n",
       "<title>2824930945008</title>\r\n",
       "<polygon fill=\"none\" stroke=\"black\" points=\"55,-37.5 55,-56.5 94,-56.5 94,-37.5 55,-37.5\"/>\r\n",
       "<text text-anchor=\"start\" x=\"64.5\" y=\"-43.9\" font-family=\"Times New Roman,serif\" font-size=\"12.00\">type</text>\r\n",
       "<polygon fill=\"none\" stroke=\"black\" points=\"94,-37.5 94,-56.5 145,-56.5 145,-37.5 94,-37.5\"/>\r\n",
       "<text text-anchor=\"start\" x=\"97\" y=\"-43.9\" font-family=\"Times New Roman,serif\" font-size=\"12.00\">atomExpr</text>\r\n",
       "<polygon fill=\"none\" stroke=\"black\" points=\"55,-18.5 55,-37.5 94,-37.5 94,-18.5 55,-18.5\"/>\r\n",
       "<text text-anchor=\"start\" x=\"62.5\" y=\"-24.9\" font-family=\"Times New Roman,serif\" font-size=\"12.00\">value</text>\r\n",
       "<polygon fill=\"none\" stroke=\"black\" points=\"94,-18.5 94,-37.5 145,-37.5 145,-18.5 94,-18.5\"/>\r\n",
       "<text text-anchor=\"start\" x=\"113\" y=\"-24.9\" font-family=\"Times New Roman,serif\" font-size=\"12.00\">15</text>\r\n",
       "<polygon fill=\"none\" stroke=\"black\" points=\"55,0.5 55,-18.5 94,-18.5 94,0.5 55,0.5\"/>\r\n",
       "<text text-anchor=\"start\" x=\"58\" y=\"-5.9\" font-family=\"Times New Roman,serif\" font-size=\"12.00\">priority</text>\r\n",
       "<polygon fill=\"none\" stroke=\"black\" points=\"94,0.5 94,-18.5 145,-18.5 145,0.5 94,0.5\"/>\r\n",
       "<text text-anchor=\"start\" x=\"116\" y=\"-5.9\" font-family=\"Times New Roman,serif\" font-size=\"12.00\">0</text>\r\n",
       "</g>\r\n",
       "<!-- 2824930946976&#45;&gt;2824930945008 -->\r\n",
       "<g id=\"edge6\" class=\"edge\">\r\n",
       "<title>2824930946976&#45;&gt;2824930945008</title>\r\n",
       "<path fill=\"none\" stroke=\"black\" d=\"M133.58,-74.9C129.28,-69.09 124.75,-62.95 120.44,-57.14\"/>\r\n",
       "</g>\r\n",
       "<!-- 2824930944336 -->\r\n",
       "<g id=\"node7\" class=\"node\">\r\n",
       "<title>2824930944336</title>\r\n",
       "<polygon fill=\"none\" stroke=\"black\" points=\"163,-37.5 163,-56.5 202,-56.5 202,-37.5 163,-37.5\"/>\r\n",
       "<text text-anchor=\"start\" x=\"172.5\" y=\"-43.9\" font-family=\"Times New Roman,serif\" font-size=\"12.00\">type</text>\r\n",
       "<polygon fill=\"none\" stroke=\"black\" points=\"202,-37.5 202,-56.5 253,-56.5 253,-37.5 202,-37.5\"/>\r\n",
       "<text text-anchor=\"start\" x=\"205\" y=\"-43.9\" font-family=\"Times New Roman,serif\" font-size=\"12.00\">atomExpr</text>\r\n",
       "<polygon fill=\"none\" stroke=\"black\" points=\"163,-18.5 163,-37.5 202,-37.5 202,-18.5 163,-18.5\"/>\r\n",
       "<text text-anchor=\"start\" x=\"170.5\" y=\"-24.9\" font-family=\"Times New Roman,serif\" font-size=\"12.00\">value</text>\r\n",
       "<polygon fill=\"none\" stroke=\"black\" points=\"202,-18.5 202,-37.5 253,-37.5 253,-18.5 202,-18.5\"/>\r\n",
       "<text text-anchor=\"start\" x=\"221\" y=\"-24.9\" font-family=\"Times New Roman,serif\" font-size=\"12.00\">16</text>\r\n",
       "<polygon fill=\"none\" stroke=\"black\" points=\"163,0.5 163,-18.5 202,-18.5 202,0.5 163,0.5\"/>\r\n",
       "<text text-anchor=\"start\" x=\"166\" y=\"-5.9\" font-family=\"Times New Roman,serif\" font-size=\"12.00\">priority</text>\r\n",
       "<polygon fill=\"none\" stroke=\"black\" points=\"202,0.5 202,-18.5 253,-18.5 253,0.5 202,0.5\"/>\r\n",
       "<text text-anchor=\"start\" x=\"224\" y=\"-5.9\" font-family=\"Times New Roman,serif\" font-size=\"12.00\">0</text>\r\n",
       "</g>\r\n",
       "<!-- 2824930946976&#45;&gt;2824930944336 -->\r\n",
       "<g id=\"edge7\" class=\"edge\">\r\n",
       "<title>2824930946976&#45;&gt;2824930944336</title>\r\n",
       "<path fill=\"none\" stroke=\"black\" d=\"M174.42,-74.9C178.72,-69.09 183.25,-62.95 187.56,-57.14\"/>\r\n",
       "</g>\r\n",
       "<!-- 2824930945008&#45;&gt;2824930944336 -->\r\n",
       "</g>\r\n",
       "</svg>\r\n"
      ],
      "text/plain": [
       "({'type': 'main'}: ({'type': 'fractExpr', 'priority': 0, '_calc': 'next'}: ({'type': 'atomExpr', 'value': 39, 'priority': 0}), ({'type': 'unaryExpr', 'op': '-', 'priority': 0, '_calc': 'next'}: ({'type': 'fractExpr', 'priority': 0, '_calc': 'next'}: ({'type': 'atomExpr', 'value': 15, 'priority': 0}), ({'type': 'atomExpr', 'value': 16, 'priority': 0})))))"
      ]
     },
     "execution_count": 30,
     "metadata": {},
     "output_type": "execute_result"
    }
   ],
   "source": [
    "shunting_yard_parser = ShuntingYardParser()\n",
    "\n",
    "ast = shunting_yard_parser.parse(expr)\n",
    "ast_eval(ast, False, False)\n",
    "ast"
   ]
  },
  {
   "cell_type": "code",
   "execution_count": 21,
   "metadata": {},
   "outputs": [
    {
     "name": "stdout",
     "output_type": "stream",
     "text": [
      "39 / - 15 / 16 \n"
     ]
    },
    {
     "data": {
      "text/latex": [
       "\\begin{align}\\frac{-13} {80}\\end{align}"
      ],
      "text/plain": [
       "<IPython.core.display.Latex object>"
      ]
     },
     "metadata": {},
     "output_type": "display_data"
    },
    {
     "name": "stdout",
     "output_type": "stream",
     "text": [
      "ANTLR runtime and generated code versions disagree: 4.9.1!=4.7.2\n",
      "ANTLR runtime and generated code versions disagree: 4.9.1!=4.7.2\n",
      "-13/80 -13/80 -0.163\n"
     ]
    }
   ],
   "source": [
    "expr = '39 / - 15 / 16 '\n",
    "formatted_expr = expr.replace('x', '*').replace(':', '/').replace('^', '**')\n",
    "real_expr = expr.replace('x', '*').replace(':', '/')\n",
    "print(real_expr)\n",
    "res =  round(eval(formatted_expr), 3)\n",
    "shunt = shunting_eval(expr, True, False)\n",
    "ant = antlr_eval(expr, False, False)\n",
    "print(shunt, ant, res)\n",
    "\n"
   ]
  },
  {
   "cell_type": "code",
   "execution_count": 7,
   "metadata": {},
   "outputs": [
    {
     "data": {
      "text/plain": [
       "2.82842712474619"
      ]
     },
     "execution_count": 7,
     "metadata": {},
     "output_type": "execute_result"
    }
   ],
   "source": [
    "1 / 2 ** Fraction(-3, 2)"
   ]
  },
  {
   "cell_type": "code",
   "execution_count": 8,
   "metadata": {},
   "outputs": [
    {
     "data": {
      "text/plain": [
       "Fraction(4, 1)"
      ]
     },
     "execution_count": 8,
     "metadata": {},
     "output_type": "execute_result"
    }
   ],
   "source": [
    "Fraction(1, 2) ** -2"
   ]
  },
  {
   "cell_type": "code",
   "execution_count": 9,
   "metadata": {},
   "outputs": [
    {
     "name": "stdout",
     "output_type": "stream",
     "text": [
      "ANTLR runtime and generated code versions disagree: 4.9.1!=4.7.2\n",
      "ANTLR runtime and generated code versions disagree: 4.9.1!=4.7.2\n",
      "['(', '75', '-', '7', '+', '--', '14', 'x', '35', 'x', '(', '70', ')', '-', '(', '23', 'x', '5', ':', '(', '40', ')', ')', ')', '/', '--', '--', '--', '97', '/', '--', '(', '43', ')', '/', '--', '--', '(', '65', ')', '^', '2', 'x', '89', ':', '34', 'x', '92', ':', '4', '+', '95', '+', '41', '/', '60', '^', '2', '^', '2', '-', '(', '(', '27', '-', '19', ':', '(', '7', ')', '-', '80', ':', '--', '10', ')', ')', '/', '(', '81', ')', '-', '63', '-', '20', 'x', '(', '(', '(', '(', '41', '/', '28', '/', '54', ')', 'x', '71', '-', '48', '-', '10', 'x', '88', ':', '46', '^', '2', ')', ')', ')', '-', '(', '--', '(', '64', ')', '/', '--', '--', '--', '9', '+', '22', '-', '58', ':', '--', '48', '^', '2', '^', '2', '^', '2', ')', ':', '--', '--', '(', '(', '(', '(', '25', '/', '(', '--', '89', '-', '60', '+', '99', ':', '56', 'x', '62', ')', '^', '2', ')', ')', ')', '^', '2', ')', '^', '2']\n"
     ]
    },
    {
     "data": {
      "text/plain": [
       "(Fraction(-3275873520263128885607736546050121549596584118220093800217319, 7580354141431009007654021884536779140654694400000000),\n",
       " Fraction(-76183143225802383286740081056231966937624492629956521121333, 176287305614674628084977253128762305596620800000000))"
      ]
     },
     "execution_count": 9,
     "metadata": {},
     "output_type": "execute_result"
    }
   ],
   "source": [
    "expr = '( 75 - 7 + - 14 x 35 x ( 70 ) - ( 23 x 5 : ( 40 ) ) ) / - - - 97 / - ( 43 ) / - - ( 65 ) ^ 2 x 89 : 34 x 92 : 4 + 95 + 41 / 60 ^ 2 ^ 2 - ( ( 27 - 19 : ( 7 ) - 80 : - 10 ) ) / ( 81 ) - 63 - 20 x ( ( ( ( 41 / 28 / 54 ) x 71 - 48 - 10 x 88 : 46 ^ 2 ) ) ) - ( - ( 64 ) / - - - 9 + 22 - 58 : - 48 ^ 2 ^ 2 ^ 2 ) : - - ( ( ( ( 25 / ( - 89 - 60 + 99 : 56 x 62 ) ^ 2 ) ) ) ^ 2 ) ^ 2'\n",
    "antlr_res = antlr_eval(expr)\n",
    "\n",
    "shunting_res = shunting_eval(expr)\n",
    "antlr_res, shunting_res\n",
    "\n"
   ]
  },
  {
   "cell_type": "code",
   "execution_count": 10,
   "metadata": {},
   "outputs": [
    {
     "data": {
      "text/plain": [
       "-44465.29303204521"
      ]
     },
     "execution_count": 10,
     "metadata": {},
     "output_type": "execute_result"
    }
   ],
   "source": [
    "75713/2704 * -1/36 * 1/25281 * 2.806 * 515070259.31"
   ]
  }
 ],
 "metadata": {
  "kernelspec": {
   "display_name": "Python 3",
   "language": "python",
   "name": "python3"
  },
  "language_info": {
   "codemirror_mode": {
    "name": "ipython",
    "version": 3
   },
   "file_extension": ".py",
   "mimetype": "text/x-python",
   "name": "python",
   "nbconvert_exporter": "python",
   "pygments_lexer": "ipython3",
   "version": "3.8.3"
  }
 },
 "nbformat": 4,
 "nbformat_minor": 5
}
