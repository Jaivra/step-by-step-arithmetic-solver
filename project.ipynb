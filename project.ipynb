{
 "cells": [
  {
   "cell_type": "code",
   "execution_count": 1,
   "id": "baf755e7",
   "metadata": {},
   "outputs": [],
   "source": [
    "from textwrap import indent\n",
    "\n",
    "from IPython.display import Javascript\n",
    "\n",
    "from liblet import ANTLR, AnnotatedTreeWalker, Tree, pyast2tree, side_by_side\n",
    "\n",
    "from operator import add, mul, truediv, sub\n",
    "\n",
    "from operator import itemgetter\n",
    "\n",
    "from IPython.display import Latex\n",
    "\n",
    "from fractions import Fraction\n",
    "\n",
    "import importlib\n",
    "\n",
    "import core.arithmetic_manager\n",
    "\n",
    "from core.util import *"
   ]
  },
  {
   "cell_type": "code",
   "execution_count": 2,
   "id": "9ccdb686",
   "metadata": {},
   "outputs": [],
   "source": [
    "importlib.reload(core.util)\n",
    "importlib.reload(core.arithmetic_manager)\n",
    "ArithManager = core.arithmetic_manager.ArithManager"
   ]
  },
  {
   "cell_type": "code",
   "execution_count": 3,
   "id": "af49ae67",
   "metadata": {},
   "outputs": [
    {
     "data": {
      "text/latex": [
       "\\begin{align}\\color{red}{\\boxed{{2}^{3}}} + {2}^{3 - 1 + 1 - 2 - \\frac{3} {2}}\\end{align}"
      ],
      "text/plain": [
       "<IPython.core.display.Latex object>"
      ]
     },
     "metadata": {},
     "output_type": "display_data"
    },
    {
     "data": {
      "text/latex": [
       "\\begin{align}\\color{green}{\\boxed{8}} + {2}^{\\color{red}{\\boxed{3 - 1 + 1 - 2-\\frac{3} {2}}}}\\end{align}"
      ],
      "text/plain": [
       "<IPython.core.display.Latex object>"
      ]
     },
     "metadata": {},
     "output_type": "display_data"
    },
    {
     "data": {
      "text/latex": [
       "\\begin{align}8 + \\color{red}{\\boxed{{2}^{\\color{green}{\\boxed{\\frac{-1} {2}}}}}}\\end{align}"
      ],
      "text/plain": [
       "<IPython.core.display.Latex object>"
      ]
     },
     "metadata": {},
     "output_type": "display_data"
    },
    {
     "data": {
      "text/latex": [
       "\\begin{align}\\color{red}{\\boxed{8+\\color{green}{\\boxed{0.707}}}}\\end{align}"
      ],
      "text/plain": [
       "<IPython.core.display.Latex object>"
      ]
     },
     "metadata": {},
     "output_type": "display_data"
    },
    {
     "data": {
      "text/latex": [
       "\\begin{align}\\color{green}{\\boxed{8.707}}\\end{align}"
      ],
      "text/plain": [
       "<IPython.core.display.Latex object>"
      ]
     },
     "metadata": {},
     "output_type": "display_data"
    }
   ],
   "source": [
    "ex1 = '1 + {2 x [(3 + 4 : 2) + 5] x 6} - [ 7 + (1 + 8) : 3 ] x [ 9 : (2 + 1) + 2 ]'\n",
    "ex2 = '<2+3>/4/<5+6>/7'\n",
    "ex3 = '2^<3+4^5:2^7>'\n",
    "ex4 = '3 + 13 x -<1 + 3>/<2^<1+4> - 6>'\n",
    "ex5a = '3 / < 4 + 2 > + 2 x { 3 : ( 4 + 5 ) + 2 ^ < 6 x 1/2 > } - < 2 x [ 5 x ( 3 + 4 ) + 5 ] - 1 > / 6'\n",
    "ex5b = '3 / < 4 + 2 > + 2 x ( 3 : ( 4 + 5 ) + 2 ^ < 6 x 1/2 > ) - < 2 x ( 5 x ( 3 + 4 ) + 5 ) - 1 > / 6'\n",
    "\n",
    "src = '2^3+2^<3-1+(1)-2 - 3/2>'\n",
    "\n",
    "AM = ArithManager()\n",
    "\n",
    "ast = AM.ptree2ast(AM.ptree('antlrGrammar.g', src))\n",
    "blocks = AM.blocks(ast)\n",
    "MEMORY = dict(blocks)\n",
    "\n",
    "main_block = blocks[-1][1]\n",
    "child_to_calc = None\n",
    "\n",
    "current_block = block_id = None\n",
    "\n",
    "while blocks and is_calculable(blocks[0][1]): blocks = blocks[1:]\n",
    "while blocks:\n",
    "    block_id, current_block = blocks[0]\n",
    "        \n",
    "    parent_to_calc = AM.prior(current_block)\n",
    "    display_latex(AM.latex(main_block, MEMORY))\n",
    "\n",
    "    parent_to_calc.children =  [Tree({'type': 'atomExpr', 'value': AM.eval(child, MEMORY), 'priority': 0, '_calc': 'last'}, []) \n",
    "                                if is_next_to_calc(child) else child\n",
    "                                for child in parent_to_calc.children]\n",
    "    \n",
    "    if is_calculable(current_block):\n",
    "        current_block = current_block.children[0]\n",
    "        blocks = blocks[1:]\n",
    "        \n",
    "    MEMORY[block_id] = current_block\n",
    "\n",
    "display_latex(AM.latex(main_block, {}))"
   ]
  },
  {
   "cell_type": "code",
   "execution_count": 21,
   "id": "b5a5e400",
   "metadata": {},
   "outputs": [
    {
     "data": {
      "text/plain": [
       "'1.00E+6'"
      ]
     },
     "execution_count": 21,
     "metadata": {},
     "output_type": "execute_result"
    }
   ],
   "source": [
    "from decimal import Decimal\n",
    "str(Decimal('%.2E' % 1000000))"
   ]
  },
  {
   "cell_type": "code",
   "execution_count": 5,
   "id": "53669a00",
   "metadata": {},
   "outputs": [
    {
     "data": {
      "text/plain": [
       "2"
      ]
     },
     "execution_count": 5,
     "metadata": {},
     "output_type": "execute_result"
    }
   ],
   "source": [
    "isinstance(8.0, int)\n",
    "Fraction(1.333)\n",
    "8.4.is_integer()\n",
    "isinstance(Fraction(4, 2), int)\n",
    "int(Fraction(4, 2))"
   ]
  },
  {
   "cell_type": "code",
   "execution_count": 6,
   "id": "fd4dc8ef",
   "metadata": {},
   "outputs": [],
   "source": [
    "import re\n",
    "if re.match(r'_atw_[^\\W\\d_]+', '_atw_'):\n",
    "    print('ski')"
   ]
  },
  {
   "cell_type": "code",
   "execution_count": 7,
   "id": "4ef37aa0",
   "metadata": {},
   "outputs": [
    {
     "ename": "AttributeError",
     "evalue": "type object 'ArithManager' has no attribute 'arith_expr'",
     "output_type": "error",
     "traceback": [
      "\u001b[0;31m---------------------------------------------------------------------------\u001b[0m",
      "\u001b[0;31mAttributeError\u001b[0m                            Traceback (most recent call last)",
      "\u001b[0;32m/tmp/ipykernel_12692/1200910854.py\u001b[0m in \u001b[0;36m<module>\u001b[0;34m\u001b[0m\n\u001b[1;32m      2\u001b[0m \u001b[0;34m\u001b[0m\u001b[0m\n\u001b[1;32m      3\u001b[0m \u001b[0;34m\u001b[0m\u001b[0m\n\u001b[0;32m----> 4\u001b[0;31m \u001b[0marithExpr\u001b[0m \u001b[0;34m=\u001b[0m \u001b[0mArithManager\u001b[0m\u001b[0;34m.\u001b[0m\u001b[0marith_expr\u001b[0m\u001b[0;34m(\u001b[0m\u001b[0;34m'antlrGrammar.g'\u001b[0m\u001b[0;34m)\u001b[0m\u001b[0;34m\u001b[0m\u001b[0;34m\u001b[0m\u001b[0m\n\u001b[0m\u001b[1;32m      5\u001b[0m \u001b[0mast\u001b[0m \u001b[0;34m=\u001b[0m \u001b[0mArithManager\u001b[0m\u001b[0;34m.\u001b[0m\u001b[0mptree2ast\u001b[0m\u001b[0;34m(\u001b[0m\u001b[0mArithManager\u001b[0m\u001b[0;34m.\u001b[0m\u001b[0mptree\u001b[0m\u001b[0;34m(\u001b[0m\u001b[0marithExpr\u001b[0m\u001b[0;34m,\u001b[0m \u001b[0msrc\u001b[0m\u001b[0;34m)\u001b[0m\u001b[0;34m)\u001b[0m\u001b[0;34m\u001b[0m\u001b[0;34m\u001b[0m\u001b[0m\n\u001b[1;32m      6\u001b[0m \u001b[0mast\u001b[0m\u001b[0;34m\u001b[0m\u001b[0;34m\u001b[0m\u001b[0m\n",
      "\u001b[0;31mAttributeError\u001b[0m: type object 'ArithManager' has no attribute 'arith_expr'"
     ]
    }
   ],
   "source": [
    "src = '(4 + 5)'\n",
    "\n",
    "\n",
    "arithExpr = ArithManager.arith_expr('antlrGrammar.g')\n",
    "ast = ArithManager.ptree2ast(ArithManager.ptree(arithExpr, src))\n",
    "ast"
   ]
  }
 ],
 "metadata": {
  "kernelspec": {
   "display_name": "Python 3 (ipykernel)",
   "language": "python",
   "name": "python3"
  },
  "language_info": {
   "codemirror_mode": {
    "name": "ipython",
    "version": 3
   },
   "file_extension": ".py",
   "mimetype": "text/x-python",
   "name": "python",
   "nbconvert_exporter": "python",
   "pygments_lexer": "ipython3",
   "version": "3.8.8"
  }
 },
 "nbformat": 4,
 "nbformat_minor": 5
}
