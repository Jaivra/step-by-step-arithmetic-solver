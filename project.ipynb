{
 "cells": [
  {
   "cell_type": "code",
   "execution_count": 1,
   "id": "86881ab9",
   "metadata": {},
   "outputs": [],
   "source": [
    "%load_ext autoreload\n",
    "%autoreload 2"
   ]
  },
  {
   "cell_type": "code",
   "execution_count": 2,
   "id": "54832a38",
   "metadata": {},
   "outputs": [],
   "source": [
    "from textwrap import indent\n",
    "\n",
    "from IPython.display import Javascript\n",
    "\n",
    "from liblet import ANTLR, AnnotatedTreeWalker, Tree, pyast2tree, side_by_side\n",
    "\n",
    "from operator import add, mul, truediv, sub\n",
    "\n",
    "from operator import itemgetter\n",
    "\n",
    "from IPython.display import Latex\n",
    "\n",
    "from fractions import Fraction\n",
    "\n",
    "import importlib\n",
    "\n",
    "from core.arithmetic_manager import ArithManager\n",
    "\n",
    "from core.util import *\n",
    "\n",
    "from core.shunting_yard_parser import ShuntingYardParser\n",
    "from core.arithmetic_manager import ArithManager\n",
    "from core.util import *"
   ]
  },
  {
   "cell_type": "code",
   "execution_count": 3,
   "id": "ca56d214",
   "metadata": {},
   "outputs": [
    {
     "data": {
      "text/latex": [
       "\\begin{align}\\color{red}{\\boxed{1.1:1.3}}\\end{align}"
      ],
      "text/plain": [
       "<IPython.core.display.Latex object>"
      ]
     },
     "metadata": {},
     "output_type": "display_data"
    },
    {
     "data": {
      "text/latex": [
       "\\begin{align}\\color{green}{\\boxed{0.84615}}\\end{align}"
      ],
      "text/plain": [
       "<IPython.core.display.Latex object>"
      ]
     },
     "metadata": {},
     "output_type": "display_data"
    }
   ],
   "source": [
    "ex1 = '1 + {2 x [(3 + 4 : 2) + 5] x 6} - [ 7 + (1 + 8) : 3 ] x [ 9 : (2 + 1) + 2 ]'\n",
    "ex2 = '< 2 + 3 > / 4 / < 5 + 6 > / 7'\n",
    "ex3 = '2 ^ < 3 + 4 ^ 5 : 2 ^ 7 >'\n",
    "ex4 = '3 + 13 x -<1 + 3>/<2^<1+4> - 6>'\n",
    "ex5a = '3 / < 4 + 2 > + 2 x { 3 : ( 4 + 5 ) + 2 ^ < 6 x 1/2 > } - < 2 x [ 5 x ( 3 + 4 ) + 5 ] - 1 > / 6'\n",
    "ex5b = '3 / < 4 + 2 > + 2 x ( 3 : ( 4 + 5 ) + 2 ^ < 6 x 1/2 > ) - < 2 x ( 5 x ( 3 + 4 ) + 5 ) - 1 > / 6'\n",
    "\n",
    "expr = '( - ( - - ( ( 43 ) ) ^ 2 x ( - ( 78 ) + - ( 94 ) ) ) x - ( ( 19 - 69 ) ) - - ( ( ( - 100 ^ 2 - ( 36 ) ) ) ) )'\n",
    "\n",
    "\n",
    "expr = '1.1:1.3'\n",
    "\n",
    "src = expr\n",
    "\n",
    "AM = ArithManager()\n",
    "ptree = AM.ptree('antlrGrammar.g', src)\n",
    "ast = AM.ptree2ast(ptree)\n",
    "blocks = AM.blocks(ast)\n",
    "MEMORY = dict(blocks)\n",
    "\n",
    "#display(ast)\n",
    "\n",
    "main_block = blocks[-1][1]\n",
    "child_to_calc = None\n",
    "\n",
    "current_block = block_id = None\n",
    "\n",
    "while blocks and is_calculable(blocks[0][1]): blocks = blocks[1:]\n",
    "    \n",
    "while blocks:\n",
    "    block_id, current_block = blocks[0]\n",
    "        \n",
    "    parent_to_calc = AM.prior(current_block)\n",
    "    display_latex(AM.latex(main_block, MEMORY))\n",
    "\n",
    "    parent_to_calc.children =  [Tree({'type': 'atomExpr', 'value': AM.eval(child, MEMORY), 'priority': 0, '_calc': 'last'}, []) \n",
    "                                if is_next_to_calc(child) else child\n",
    "                                for child in parent_to_calc.children]\n",
    "    \n",
    "    if is_calculable(current_block):\n",
    "        current_block = current_block.children[0]\n",
    "        blocks = blocks[1:]\n",
    "        \n",
    "    MEMORY[block_id] = current_block\n",
    "\n",
    "display_latex(AM.latex(main_block, {}))\n",
    "\n"
   ]
  },
  {
   "cell_type": "code",
   "execution_count": 4,
   "id": "1fcbdab1",
   "metadata": {},
   "outputs": [],
   "source": [
    "def ast_eval(ast, show_latex, show_ast):\n",
    "    AM = ArithManager()\n",
    "    \n",
    "    if show_ast: display(ast)\n",
    "        \n",
    "    blocks = AM.blocks(ast)\n",
    "    MEMORY = dict(blocks)\n",
    "    main_block = blocks[-1][1]\n",
    "    child_to_calc = None\n",
    "    current_block = block_id = None\n",
    "\n",
    "    while blocks and is_calculable(blocks[0][1]): blocks = blocks[1:]\n",
    "\n",
    "    while blocks:\n",
    "        block_id, current_block = blocks[0]\n",
    "        parent_to_calc = AM.prior(current_block)\n",
    "        tex = AM.latex(main_block, MEMORY)\n",
    "        if show_latex: display_latex(tex)\n",
    "        \n",
    "        parent_to_calc.children =  [Tree({'type': 'atomExpr', 'value': AM.eval(child, MEMORY), 'priority': 0, '_calc': 'last'}, []) \n",
    "                                    if is_next_to_calc(child) else child\n",
    "                                    for child in parent_to_calc.children]\n",
    "\n",
    "        if is_calculable(current_block):\n",
    "            current_block = current_block.children[0]\n",
    "            blocks = blocks[1:]\n",
    "\n",
    "        MEMORY[block_id] = current_block\n",
    "\n",
    "    tex = AM.latex(main_block, {})\n",
    "    if show_latex: display_latex(tex)\n",
    "    \n",
    "    return main_block.children[0].root['value']\n",
    "\n",
    "\n",
    "def antlr_eval(expr, show_latex=False, show_ast = False):\n",
    "    AM = ArithManager()\n",
    "    ast = AM.ptree2ast(AM.ptree('antlrGrammar.g',expr))\n",
    "    return ast_eval(ast, show_latex, show_ast)\n",
    "\n",
    "\n",
    "def shunting_eval(expr, show_latex=False, show_ast = False):\n",
    "    shunting_yard_parser = ShuntingYardParser()\n",
    "\n",
    "    ast = shunting_yard_parser.parse(expr)\n",
    "    return ast_eval(ast, show_latex, show_ast)\n"
   ]
  },
  {
   "cell_type": "code",
   "execution_count": 10,
   "id": "0d4f7f5d",
   "metadata": {},
   "outputs": [
    {
     "name": "stdout",
     "output_type": "stream",
     "text": [
      "['--', '(', '--', '--', '64', '/', '84', '-', '81', '/', '82', '^', '--', '2', '-', '61', '+', '50', '/', '37', '/', '91', 'x', '(', '--', '17', ')', 'x', '--', '94', '-', '86', ')', '-', '--', '25', 'x', '(', '(', '--', '4', ')', ')', '^', '2', '/', '--', '(', '--', '91', '-', '41', ')', '^', '--', '2', '^', '2', '/', '(', '--', '48', '-', '67', '-', '50', '+', '12', ')']\n",
      "** EXCEPTION SHUNTING **  can't convert complex to int\n",
      "['--', '--', '--', '(', '--', '(', '79', ')', 'x', '7', ')', '-', '(', '(', '81', '^', '2', '/', '14', ')', '^', '2', ')', '^', '--', '2']\n",
      "['(', '93', '+', '(', '85', '/', '73', '-', '92', 'x', '(', '86', ')', ')', '-', '48', 'x', '(', '40', ')', ')', '-', '(', '(', '--', '(', '(', '36', ')', '-', '17', ')', '+', '36', '/', '72', '/', '--', '65', ')', ')', '/', '--', '(', '34', 'x', '--', '23', '^', '2', ')', '/', '(', '--', '--', '--', '96', '/', '--', '27', ')', 'x', '(', '65', ')']\n",
      "** WRONG **  ( 93 + ( 85 / 73 - 92 x ( 86 ) ) - 48 x ( 40 ) ) - ( ( - ( ( 36 ) - 17 ) + 36 / 72 / - 65 ) ) / - ( 34 x - 23 ^ 2 ) / ( - - - 96 / - 27 ) x ( 65 )\n",
      "['(', '79', '/', '(', '61', ')', '+', '--', '45', '+', '83', '-', '92', '+', '(', '(', '60', '-', '--', '98', ')', ')', '^', '2', '/', '--', '--', '68', 'x', '(', '(', '61', ')', ')', '^', '--', '2', '-', '(', '97', 'x', '--', '--', '30', 'x', '28', '-', '7', 'x', '33', '-', '--', '90', ')', '-', '(', '(', '58', ')', ')', '/', '--', '45', '/', '(', '68', ')', '+', '85', 'x', '36', 'x', '11', '/', '--', '--', '--', '--', '(', '--', '83', ')', ')']\n",
      "** WRONG **  ( 79 / ( 61 ) + - 45 + 83 - 92 + ( ( 60 - - 98 ) ) ^ 2 / - - 68 x ( ( 61 ) ) ^ -2 - ( 97 x - - 30 x 28 - 7 x 33 - - 90 ) - ( ( 58 ) ) / - 45 / ( 68 ) + 85 x 36 x 11 / - - - - ( - 83 ) )\n",
      "['(', '--', '40', 'x', '--', '(', '(', '--', '--', '70', ')', ')', '/', '--', '99', 'x', '71', '/', '24', '+', '(', '18', ')', '+', '--', '(', '7', ')', '/', '--', '--', '--', '--', '56', '/', '--', '41', '^', '2', '^', '2', '/', '(', '54', '^', '2', ')', ')']\n",
      "** WRONG **  ( - 40 x - ( ( - - 70 ) ) / - 99 x 71 / 24 + ( 18 ) + - ( 7 ) / - - - - 56 / - 41 ^ 2 ^ 2 / ( 54 ^ 2 ) )\n",
      "['--', '--', '46', '+', '(', '30', ')', '-', '94', '^', '2', 'x', '--', '9', '-', '42', '^', '2', '+', '30', '^', '--', '2', '+', '--', '--', '57', '/', '--', '(', '--', '19', '/', '27', 'x', '47', ')', '-', '--', '--', '(', '38', ')', '+', '96', '-', '33', 'x', '68', 'x', '(', '58', ')', '^', '2', '^', '2', '-', '--', '--', '82']\n",
      "['--', '--', '19', '-', '--', '89', '^', '2', '/', '70', 'x', '71', '+', '(', '--', '--', '(', '(', '29', ')', ')', 'x', '(', '54', '^', '--', '2', '/', '22', '^', '2', ')', 'x', '--', '100', '+', '87', 'x', '80', '^', '--', '2', ')', 'x', '--', '--', '(', '56', ')', '^', '--', '2', '^', '2', '^', '--', '2', '-', '(', '--', '--', '83', '/', '--', '99', 'x', '--', '37', 'x', '10', 'x', '67', '-', '76', '/', '32', ')']\n",
      "** EXCEPTION SHUNTING **  both arguments should be Rational instances\n",
      "['(', '(', '(', '97', '^', '--', '2', ')', ')', 'x', '--', '(', '--', '97', '+', '--', '65', '^', '2', '+', '(', '35', ')', ')', '^', '--', '2', '^', '2', ')']\n",
      "['(', '--', '--', '(', '87', ')', '+', '(', '--', '--', '23', ')', 'x', '--', '37', '/', '82', '^', '2', '+', '--', '--', '88', '^', '2', 'x', '20', '/', '--', '(', '31', ')', '+', '49', '+', '72', 'x', '98', ')']\n",
      "['--', '--', '--', '--', '(', '60', ')', '-', '47', '/', '--', '(', '(', '13', ')', ')', '-', '32', 'x', '92', '-', '--', '3', '^', '2', '/', '26', '-', '--', '--', '--', '6', '-', '68', 'x', '50', '-', '--', '73', '/', '54', '/', '(', '--', '94', ')']\n",
      "*** WRONG 5 ***\n",
      "\n",
      " $$$ 0 $$$   - ( - - 64 / 84 - 81 / 82 ^ -2 - 61 + 50 / 37 / 91 x ( - 17 ) x - 94 - 86 ) - - 25 x ( ( - 4 ) ) ^ 2 / - ( - 91 - 41 ) ^ -2 ^ 2 / ( - 48 - 67 - 50 + 12 )\n",
      " $$$ 1 $$$   ( 93 + ( 85 / 73 - 92 x ( 86 ) ) - 48 x ( 40 ) ) - ( ( - ( ( 36 ) - 17 ) + 36 / 72 / - 65 ) ) / - ( 34 x - 23 ^ 2 ) / ( - - - 96 / - 27 ) x ( 65 )\n",
      " $$$ 2 $$$   ( 79 / ( 61 ) + - 45 + 83 - 92 + ( ( 60 - - 98 ) ) ^ 2 / - - 68 x ( ( 61 ) ) ^ -2 - ( 97 x - - 30 x 28 - 7 x 33 - - 90 ) - ( ( 58 ) ) / - 45 / ( 68 ) + 85 x 36 x 11 / - - - - ( - 83 ) )\n",
      " $$$ 3 $$$   ( - 40 x - ( ( - - 70 ) ) / - 99 x 71 / 24 + ( 18 ) + - ( 7 ) / - - - - 56 / - 41 ^ 2 ^ 2 / ( 54 ^ 2 ) )\n",
      " $$$ 4 $$$   - - 19 - - 89 ^ 2 / 70 x 71 + ( - - ( ( 29 ) ) x ( 54 ^ -2 / 22 ^ 2 ) x - 100 + 87 x 80 ^ -2 ) x - - ( 56 ) ^ -2 ^ 2 ^ -2 - ( - - 83 / - 99 x - 37 x 10 x 67 - 76 / 32 )\n"
     ]
    }
   ],
   "source": [
    "from core.expression_generator import generate_expression\n",
    "\n",
    "wrong_expr = []\n",
    "for _ in range(10):\n",
    "    exception = False\n",
    "    expr = generate_expression(2)\n",
    "    \n",
    "    try:\n",
    "        antlr_res = antlr_eval(expr)\n",
    "    except Exception as e:\n",
    "        print('** EXCEPTION ANTLR ** ', e)\n",
    "        exception = True\n",
    "\n",
    "    try:\n",
    "        shunting_res = shunting_eval(expr)\n",
    "        if exception: \n",
    "            wrong_expr.append(expr)\n",
    "            continue\n",
    "    except Exception as e:\n",
    "        print('** EXCEPTION SHUNTING ** ', e)\n",
    "        if not exception: \n",
    "            wrong_expr.append(expr)\n",
    "        continue\n",
    "\n",
    "    formatted_expr = expr.replace('x', '*').replace(':', '/').replace('^', '**')\n",
    "    res =  round(eval(formatted_expr), 3)\n",
    "\n",
    "    if antlr_res != shunting_res or abs(antlr_res - res) > 1:\n",
    "        print(\"** WRONG ** \", expr)\n",
    "        wrong_expr.append(expr)\n",
    "        \n",
    "    \n",
    "    #print(antlr_res, shunting_res, res)\n",
    "        \n",
    "if wrong_expr != []:\n",
    "    print(f'*** WRONG {len(wrong_expr)} ***\\n')\n",
    "    for i, it in enumerate(wrong_expr):\n",
    "        print(f' $$$ {i} $$$  ', it)\n",
    "else:\n",
    "    print(\"ALL DONE\")"
   ]
  },
  {
   "cell_type": "code",
   "execution_count": 60,
   "id": "52306705",
   "metadata": {},
   "outputs": [
    {
     "data": {
      "text/plain": [
       "dict_keys(['++', '--'])"
      ]
     },
     "execution_count": 60,
     "metadata": {},
     "output_type": "execute_result"
    }
   ],
   "source": [
    "from collections import namedtuple\n",
    "opinfo = namedtuple('Operator', 'prec assoc type')\n",
    "\n",
    "operators = {\n",
    "        \"+\": opinfo(0, \"L\", \"B\"),\n",
    "        \"-\": opinfo(0, \"L\", \"B\"),\n",
    "        \":\": opinfo(1, \"L\", \"B\"),\n",
    "        \"x\": opinfo(1, \"L\", \"B\"),\n",
    "        \"++\": opinfo(2, \"R\", \"U\"),  # unconsidered\n",
    "        \"--\": opinfo(2, \"R\", \"U\"),\n",
    "        \"/\": opinfo(3, \"L\", \"B\"),\n",
    "        \"^\": opinfo(4, \"R\", \"B\"),\n",
    "    }\n",
    "\n",
    "{k: v for k, v in operators.items() if v.type == 'U'}\n"
   ]
  },
  {
   "cell_type": "code",
   "execution_count": 48,
   "id": "420af83d",
   "metadata": {},
   "outputs": [
    {
     "name": "stdout",
     "output_type": "stream",
     "text": [
      "2 ^ -3 / 2\n",
      "['2', '^', '--', '3', '/', '2']\n"
     ]
    },
    {
     "data": {
      "text/latex": [
       "\\begin{align}{2}^{-\\color{red}{\\boxed{\\frac{3} {2}}}}\\end{align}"
      ],
      "text/plain": [
       "<IPython.core.display.Latex object>"
      ]
     },
     "metadata": {},
     "output_type": "display_data"
    },
    {
     "data": {
      "text/latex": [
       "\\begin{align}{2}^{\\color{red}{\\boxed{-\\color{green}{\\boxed{\\frac{3} {2}}}}}}\\end{align}"
      ],
      "text/plain": [
       "<IPython.core.display.Latex object>"
      ]
     },
     "metadata": {},
     "output_type": "display_data"
    },
    {
     "data": {
      "text/latex": [
       "\\begin{align}\\color{red}{\\boxed{{2}^{\\color{green}{\\boxed{\\frac{-3} {2}}}}}}\\end{align}"
      ],
      "text/plain": [
       "<IPython.core.display.Latex object>"
      ]
     },
     "metadata": {},
     "output_type": "display_data"
    },
    {
     "ename": "TypeError",
     "evalue": "both arguments should be Rational instances",
     "output_type": "error",
     "traceback": [
      "\u001b[0;31m---------------------------------------------------------------------------\u001b[0m",
      "\u001b[0;31mTypeError\u001b[0m                                 Traceback (most recent call last)",
      "\u001b[0;32m/tmp/ipykernel_27490/3438577143.py\u001b[0m in \u001b[0;36m<module>\u001b[0;34m\u001b[0m\n\u001b[1;32m      4\u001b[0m \u001b[0mprint\u001b[0m\u001b[0;34m(\u001b[0m\u001b[0mreal_expr\u001b[0m\u001b[0;34m)\u001b[0m\u001b[0;34m\u001b[0m\u001b[0;34m\u001b[0m\u001b[0m\n\u001b[1;32m      5\u001b[0m \u001b[0mres\u001b[0m \u001b[0;34m=\u001b[0m  \u001b[0mround\u001b[0m\u001b[0;34m(\u001b[0m\u001b[0meval\u001b[0m\u001b[0;34m(\u001b[0m\u001b[0mformatted_expr\u001b[0m\u001b[0;34m)\u001b[0m\u001b[0;34m,\u001b[0m \u001b[0;36m3\u001b[0m\u001b[0;34m)\u001b[0m\u001b[0;34m\u001b[0m\u001b[0;34m\u001b[0m\u001b[0m\n\u001b[0;32m----> 6\u001b[0;31m \u001b[0mshunt\u001b[0m \u001b[0;34m=\u001b[0m \u001b[0mshunting_eval\u001b[0m\u001b[0;34m(\u001b[0m\u001b[0mexpr\u001b[0m\u001b[0;34m,\u001b[0m \u001b[0;32mTrue\u001b[0m\u001b[0;34m,\u001b[0m \u001b[0;32mFalse\u001b[0m\u001b[0;34m)\u001b[0m\u001b[0;34m\u001b[0m\u001b[0;34m\u001b[0m\u001b[0m\n\u001b[0m\u001b[1;32m      7\u001b[0m \u001b[0mant\u001b[0m \u001b[0;34m=\u001b[0m \u001b[0mantlr_eval\u001b[0m\u001b[0;34m(\u001b[0m\u001b[0mexpr\u001b[0m\u001b[0;34m,\u001b[0m \u001b[0;32mFalse\u001b[0m\u001b[0;34m,\u001b[0m \u001b[0;32mFalse\u001b[0m\u001b[0;34m)\u001b[0m\u001b[0;34m\u001b[0m\u001b[0;34m\u001b[0m\u001b[0m\n\u001b[1;32m      8\u001b[0m \u001b[0mshunt\u001b[0m\u001b[0;34m,\u001b[0m \u001b[0mant\u001b[0m\u001b[0;34m,\u001b[0m \u001b[0mres\u001b[0m\u001b[0;34m\u001b[0m\u001b[0;34m\u001b[0m\u001b[0m\n",
      "\u001b[0;32m/tmp/ipykernel_27490/2086797191.py\u001b[0m in \u001b[0;36mshunting_eval\u001b[0;34m(expr, show_latex, show_ast)\u001b[0m\n\u001b[1;32m     44\u001b[0m \u001b[0;34m\u001b[0m\u001b[0m\n\u001b[1;32m     45\u001b[0m     \u001b[0mast\u001b[0m \u001b[0;34m=\u001b[0m \u001b[0mshunting_yard_parser\u001b[0m\u001b[0;34m.\u001b[0m\u001b[0mparse\u001b[0m\u001b[0;34m(\u001b[0m\u001b[0mexpr\u001b[0m\u001b[0;34m)\u001b[0m\u001b[0;34m\u001b[0m\u001b[0;34m\u001b[0m\u001b[0m\n\u001b[0;32m---> 46\u001b[0;31m     \u001b[0;32mreturn\u001b[0m \u001b[0mast_eval\u001b[0m\u001b[0;34m(\u001b[0m\u001b[0mast\u001b[0m\u001b[0;34m,\u001b[0m \u001b[0mshow_latex\u001b[0m\u001b[0;34m,\u001b[0m \u001b[0mshow_ast\u001b[0m\u001b[0;34m)\u001b[0m\u001b[0;34m\u001b[0m\u001b[0;34m\u001b[0m\u001b[0m\n\u001b[0m",
      "\u001b[0;32m/tmp/ipykernel_27490/2086797191.py\u001b[0m in \u001b[0;36mast_eval\u001b[0;34m(ast, show_latex, show_ast)\u001b[0m\n\u001b[1;32m     18\u001b[0m         \u001b[0;32mif\u001b[0m \u001b[0mshow_latex\u001b[0m\u001b[0;34m:\u001b[0m \u001b[0mdisplay_latex\u001b[0m\u001b[0;34m(\u001b[0m\u001b[0mtex\u001b[0m\u001b[0;34m)\u001b[0m\u001b[0;34m\u001b[0m\u001b[0;34m\u001b[0m\u001b[0m\n\u001b[1;32m     19\u001b[0m \u001b[0;34m\u001b[0m\u001b[0m\n\u001b[0;32m---> 20\u001b[0;31m         parent_to_calc.children =  [Tree({'type': 'atomExpr', 'value': AM.eval(child, MEMORY), 'priority': 0, '_calc': 'last'}, []) \n\u001b[0m\u001b[1;32m     21\u001b[0m                                     \u001b[0;32mif\u001b[0m \u001b[0mis_next_to_calc\u001b[0m\u001b[0;34m(\u001b[0m\u001b[0mchild\u001b[0m\u001b[0;34m)\u001b[0m \u001b[0;32melse\u001b[0m \u001b[0mchild\u001b[0m\u001b[0;34m\u001b[0m\u001b[0;34m\u001b[0m\u001b[0m\n\u001b[1;32m     22\u001b[0m                                     for child in parent_to_calc.children]\n",
      "\u001b[0;32m/tmp/ipykernel_27490/2086797191.py\u001b[0m in \u001b[0;36m<listcomp>\u001b[0;34m(.0)\u001b[0m\n\u001b[1;32m     18\u001b[0m         \u001b[0;32mif\u001b[0m \u001b[0mshow_latex\u001b[0m\u001b[0;34m:\u001b[0m \u001b[0mdisplay_latex\u001b[0m\u001b[0;34m(\u001b[0m\u001b[0mtex\u001b[0m\u001b[0;34m)\u001b[0m\u001b[0;34m\u001b[0m\u001b[0;34m\u001b[0m\u001b[0m\n\u001b[1;32m     19\u001b[0m \u001b[0;34m\u001b[0m\u001b[0m\n\u001b[0;32m---> 20\u001b[0;31m         parent_to_calc.children =  [Tree({'type': 'atomExpr', 'value': AM.eval(child, MEMORY), 'priority': 0, '_calc': 'last'}, []) \n\u001b[0m\u001b[1;32m     21\u001b[0m                                     \u001b[0;32mif\u001b[0m \u001b[0mis_next_to_calc\u001b[0m\u001b[0;34m(\u001b[0m\u001b[0mchild\u001b[0m\u001b[0;34m)\u001b[0m \u001b[0;32melse\u001b[0m \u001b[0mchild\u001b[0m\u001b[0;34m\u001b[0m\u001b[0;34m\u001b[0m\u001b[0m\n\u001b[1;32m     22\u001b[0m                                     for child in parent_to_calc.children]\n",
      "\u001b[0;32m~/Documents/university/let/handouts/project/core/arithmetic_manager.py\u001b[0m in \u001b[0;36meval\u001b[0;34m(self, ast, memory)\u001b[0m\n\u001b[1;32m     55\u001b[0m         \u001b[0;32mif\u001b[0m \u001b[0mmemory\u001b[0m \u001b[0;32mis\u001b[0m \u001b[0;32mNone\u001b[0m\u001b[0;34m:\u001b[0m\u001b[0;34m\u001b[0m\u001b[0;34m\u001b[0m\u001b[0m\n\u001b[1;32m     56\u001b[0m             \u001b[0mmemory\u001b[0m \u001b[0;34m=\u001b[0m \u001b[0mdict\u001b[0m\u001b[0;34m(\u001b[0m\u001b[0;34m)\u001b[0m\u001b[0;34m\u001b[0m\u001b[0;34m\u001b[0m\u001b[0m\n\u001b[0;32m---> 57\u001b[0;31m         \u001b[0;32mreturn\u001b[0m \u001b[0mself\u001b[0m\u001b[0;34m.\u001b[0m\u001b[0m_atw_eval_expr\u001b[0m\u001b[0;34m.\u001b[0m\u001b[0mstart\u001b[0m\u001b[0;34m(\u001b[0m\u001b[0mast\u001b[0m\u001b[0;34m,\u001b[0m \u001b[0mmemory\u001b[0m\u001b[0;34m)\u001b[0m\u001b[0;34m\u001b[0m\u001b[0;34m\u001b[0m\u001b[0m\n\u001b[0m\u001b[1;32m     58\u001b[0m \u001b[0;34m\u001b[0m\u001b[0m\n\u001b[1;32m     59\u001b[0m     \u001b[0;32mdef\u001b[0m \u001b[0mlatex\u001b[0m\u001b[0;34m(\u001b[0m\u001b[0mself\u001b[0m\u001b[0;34m,\u001b[0m \u001b[0mast\u001b[0m\u001b[0;34m,\u001b[0m \u001b[0mmemory\u001b[0m\u001b[0;34m)\u001b[0m\u001b[0;34m:\u001b[0m\u001b[0;34m\u001b[0m\u001b[0;34m\u001b[0m\u001b[0m\n",
      "\u001b[0;32m~/Documents/university/let/handouts/project/core/atw_expr_eval.py\u001b[0m in \u001b[0;36mstart\u001b[0;34m(self, ast, memory)\u001b[0m\n\u001b[1;32m     24\u001b[0m     \u001b[0;32mdef\u001b[0m \u001b[0mstart\u001b[0m\u001b[0;34m(\u001b[0m\u001b[0mself\u001b[0m\u001b[0;34m,\u001b[0m \u001b[0mast\u001b[0m\u001b[0;34m,\u001b[0m \u001b[0mmemory\u001b[0m\u001b[0;34m)\u001b[0m\u001b[0;34m:\u001b[0m\u001b[0;34m\u001b[0m\u001b[0;34m\u001b[0m\u001b[0m\n\u001b[1;32m     25\u001b[0m         \u001b[0mself\u001b[0m\u001b[0;34m.\u001b[0m\u001b[0mMEMORY\u001b[0m \u001b[0;34m=\u001b[0m \u001b[0mmemory\u001b[0m\u001b[0;34m\u001b[0m\u001b[0;34m\u001b[0m\u001b[0m\n\u001b[0;32m---> 26\u001b[0;31m         \u001b[0;32mreturn\u001b[0m \u001b[0mself\u001b[0m\u001b[0;34m(\u001b[0m\u001b[0mast\u001b[0m\u001b[0;34m)\u001b[0m\u001b[0;34m\u001b[0m\u001b[0;34m\u001b[0m\u001b[0m\n\u001b[0m\u001b[1;32m     27\u001b[0m \u001b[0;34m\u001b[0m\u001b[0m\n\u001b[1;32m     28\u001b[0m     \u001b[0;32mdef\u001b[0m \u001b[0m_atw_atomExpr\u001b[0m\u001b[0;34m(\u001b[0m\u001b[0mself\u001b[0m\u001b[0;34m,\u001b[0m \u001b[0mast\u001b[0m\u001b[0;34m)\u001b[0m\u001b[0;34m:\u001b[0m\u001b[0;34m\u001b[0m\u001b[0;34m\u001b[0m\u001b[0m\n",
      "\u001b[0;32m~/Documents/university/let/handouts/project/core/my_atw.py\u001b[0m in \u001b[0;36m__call__\u001b[0;34m(self, tree)\u001b[0m\n\u001b[1;32m     31\u001b[0m     \u001b[0;32mdef\u001b[0m \u001b[0m__call__\u001b[0m\u001b[0;34m(\u001b[0m\u001b[0mself\u001b[0m\u001b[0;34m,\u001b[0m \u001b[0mtree\u001b[0m\u001b[0;34m)\u001b[0m\u001b[0;34m:\u001b[0m\u001b[0;34m\u001b[0m\u001b[0;34m\u001b[0m\u001b[0m\n\u001b[1;32m     32\u001b[0m         \u001b[0mkey\u001b[0m \u001b[0;34m=\u001b[0m \u001b[0mtree\u001b[0m\u001b[0;34m.\u001b[0m\u001b[0mroot\u001b[0m\u001b[0;34m[\u001b[0m\u001b[0mself\u001b[0m\u001b[0;34m.\u001b[0m\u001b[0m_key\u001b[0m\u001b[0;34m]\u001b[0m\u001b[0;34m\u001b[0m\u001b[0;34m\u001b[0m\u001b[0m\n\u001b[0;32m---> 33\u001b[0;31m         \u001b[0;32mreturn\u001b[0m \u001b[0mself\u001b[0m\u001b[0;34m.\u001b[0m\u001b[0m_dispatch_table\u001b[0m\u001b[0;34m[\u001b[0m\u001b[0mkey\u001b[0m\u001b[0;34m]\u001b[0m\u001b[0;34m(\u001b[0m\u001b[0mtree\u001b[0m\u001b[0;34m)\u001b[0m \u001b[0;32mif\u001b[0m \u001b[0mkey\u001b[0m \u001b[0;32min\u001b[0m \u001b[0mself\u001b[0m\u001b[0;34m.\u001b[0m\u001b[0m_dispatch_table\u001b[0m \u001b[0;32melse\u001b[0m \u001b[0mself\u001b[0m\u001b[0;34m.\u001b[0m\u001b[0mcatchall\u001b[0m\u001b[0;34m(\u001b[0m\u001b[0mtree\u001b[0m\u001b[0;34m)\u001b[0m\u001b[0;34m\u001b[0m\u001b[0;34m\u001b[0m\u001b[0m\n\u001b[0m\u001b[1;32m     34\u001b[0m \u001b[0;34m\u001b[0m\u001b[0m\n\u001b[1;32m     35\u001b[0m \u001b[0;34m\u001b[0m\u001b[0m\n",
      "\u001b[0;32m~/Documents/university/let/handouts/project/core/util.py\u001b[0m in \u001b[0;36mcheck_type_aux\u001b[0;34m(*x)\u001b[0m\n\u001b[1;32m     35\u001b[0m \u001b[0;34m\u001b[0m\u001b[0m\n\u001b[1;32m     36\u001b[0m     \u001b[0;32mdef\u001b[0m \u001b[0mcheck_type_aux\u001b[0m\u001b[0;34m(\u001b[0m\u001b[0;34m*\u001b[0m\u001b[0mx\u001b[0m\u001b[0;34m)\u001b[0m\u001b[0;34m:\u001b[0m\u001b[0;34m\u001b[0m\u001b[0;34m\u001b[0m\u001b[0m\n\u001b[0;32m---> 37\u001b[0;31m         \u001b[0mres\u001b[0m \u001b[0;34m=\u001b[0m \u001b[0mf\u001b[0m\u001b[0;34m(\u001b[0m\u001b[0;34m*\u001b[0m\u001b[0mx\u001b[0m\u001b[0;34m)\u001b[0m\u001b[0;34m\u001b[0m\u001b[0;34m\u001b[0m\u001b[0m\n\u001b[0m\u001b[1;32m     38\u001b[0m         \u001b[0;32mif\u001b[0m \u001b[0misinstance\u001b[0m\u001b[0;34m(\u001b[0m\u001b[0mres\u001b[0m\u001b[0;34m,\u001b[0m \u001b[0mFraction\u001b[0m\u001b[0;34m)\u001b[0m \u001b[0;32mand\u001b[0m \u001b[0mres\u001b[0m\u001b[0;34m.\u001b[0m\u001b[0mdenominator\u001b[0m \u001b[0;34m!=\u001b[0m \u001b[0;36m1\u001b[0m\u001b[0;34m:\u001b[0m\u001b[0;34m\u001b[0m\u001b[0;34m\u001b[0m\u001b[0m\n\u001b[1;32m     39\u001b[0m             \u001b[0;32mreturn\u001b[0m \u001b[0mres\u001b[0m\u001b[0;34m\u001b[0m\u001b[0;34m\u001b[0m\u001b[0m\n",
      "\u001b[0;32m~/Documents/university/let/handouts/project/core/atw_expr_eval.py\u001b[0m in \u001b[0;36m_atw_powExpr\u001b[0;34m(self, ast)\u001b[0m\n\u001b[1;32m     59\u001b[0m         \u001b[0;32mif\u001b[0m \u001b[0;32mnot\u001b[0m \u001b[0misinstance\u001b[0m\u001b[0;34m(\u001b[0m\u001b[0mleft\u001b[0m\u001b[0;34m,\u001b[0m \u001b[0mfloat\u001b[0m\u001b[0;34m)\u001b[0m \u001b[0;32mand\u001b[0m \u001b[0;32mnot\u001b[0m \u001b[0misinstance\u001b[0m\u001b[0;34m(\u001b[0m\u001b[0mright\u001b[0m\u001b[0;34m,\u001b[0m \u001b[0mfloat\u001b[0m\u001b[0;34m)\u001b[0m\u001b[0;34m:\u001b[0m\u001b[0;34m\u001b[0m\u001b[0;34m\u001b[0m\u001b[0m\n\u001b[1;32m     60\u001b[0m \u001b[0;31m#            value = int(pow(left, right)) if right > 0 else Fraction(1, pow(left, -right))\u001b[0m\u001b[0;34m\u001b[0m\u001b[0;34m\u001b[0m\u001b[0;34m\u001b[0m\u001b[0m\n\u001b[0;32m---> 61\u001b[0;31m             \u001b[0mvalue\u001b[0m \u001b[0;34m=\u001b[0m \u001b[0mpow\u001b[0m\u001b[0;34m(\u001b[0m\u001b[0mleft\u001b[0m\u001b[0;34m,\u001b[0m \u001b[0mright\u001b[0m\u001b[0;34m)\u001b[0m \u001b[0;32mif\u001b[0m \u001b[0mright\u001b[0m \u001b[0;34m>\u001b[0m \u001b[0;36m0\u001b[0m \u001b[0;32melse\u001b[0m \u001b[0mFraction\u001b[0m\u001b[0;34m(\u001b[0m\u001b[0;36m1\u001b[0m\u001b[0;34m,\u001b[0m \u001b[0mpow\u001b[0m\u001b[0;34m(\u001b[0m\u001b[0mleft\u001b[0m\u001b[0;34m,\u001b[0m \u001b[0;34m-\u001b[0m\u001b[0mright\u001b[0m\u001b[0;34m)\u001b[0m\u001b[0;34m)\u001b[0m\u001b[0;34m\u001b[0m\u001b[0;34m\u001b[0m\u001b[0m\n\u001b[0m\u001b[1;32m     62\u001b[0m         \u001b[0;32melse\u001b[0m\u001b[0;34m:\u001b[0m\u001b[0;34m\u001b[0m\u001b[0;34m\u001b[0m\u001b[0m\n\u001b[1;32m     63\u001b[0m             \u001b[0mvalue\u001b[0m \u001b[0;34m=\u001b[0m \u001b[0mpow\u001b[0m\u001b[0;34m(\u001b[0m\u001b[0mleft\u001b[0m\u001b[0;34m,\u001b[0m \u001b[0mright\u001b[0m\u001b[0;34m)\u001b[0m\u001b[0;34m\u001b[0m\u001b[0;34m\u001b[0m\u001b[0m\n",
      "\u001b[0;32m~/anaconda3/lib/python3.8/fractions.py\u001b[0m in \u001b[0;36m__new__\u001b[0;34m(cls, numerator, denominator, _normalize)\u001b[0m\n\u001b[1;32m    172\u001b[0m                 )\n\u001b[1;32m    173\u001b[0m         \u001b[0;32melse\u001b[0m\u001b[0;34m:\u001b[0m\u001b[0;34m\u001b[0m\u001b[0;34m\u001b[0m\u001b[0m\n\u001b[0;32m--> 174\u001b[0;31m             raise TypeError(\"both arguments should be \"\n\u001b[0m\u001b[1;32m    175\u001b[0m                             \"Rational instances\")\n\u001b[1;32m    176\u001b[0m \u001b[0;34m\u001b[0m\u001b[0m\n",
      "\u001b[0;31mTypeError\u001b[0m: both arguments should be Rational instances"
     ]
    }
   ],
   "source": [
    "expr = '2 ^ -3 / 2'\n",
    "formatted_expr = expr.replace('x', '*').replace(':', '/').replace('^', '**')\n",
    "real_expr = expr.replace('x', '*').replace(':', '/')\n",
    "print(real_expr)\n",
    "res =  round(eval(formatted_expr), 3)\n",
    "shunt = shunting_eval(expr, True, False)\n",
    "ant = antlr_eval(expr, False, False)\n",
    "shunt, ant, res\n",
    "\n"
   ]
  },
  {
   "cell_type": "code",
   "execution_count": 7,
   "id": "50ac29f8",
   "metadata": {},
   "outputs": [
    {
     "data": {
      "text/plain": [
       "Fraction(4, 1)"
      ]
     },
     "execution_count": 7,
     "metadata": {},
     "output_type": "execute_result"
    }
   ],
   "source": [
    "Fraction(1, 2) ** -2"
   ]
  },
  {
   "cell_type": "code",
   "execution_count": 8,
   "id": "472aa4e6",
   "metadata": {},
   "outputs": [
    {
     "name": "stdout",
     "output_type": "stream",
     "text": [
      "['(', '75', '-', '7', '+', '--', '14', 'x', '35', 'x', '(', '70', ')', '-', '(', '23', 'x', '5', ':', '(', '40', ')', ')', ')', '/', '--', '--', '--', '97', '/', '--', '(', '43', ')', '/', '--', '--', '(', '65', ')', '^', '2', 'x', '89', ':', '34', 'x', '92', ':', '4', '+', '95', '+', '41', '/', '60', '^', '2', '^', '2', '-', '(', '(', '27', '-', '19', ':', '(', '7', ')', '-', '80', ':', '--', '10', ')', ')', '/', '(', '81', ')', '-', '63', '-', '20', 'x', '(', '(', '(', '(', '41', '/', '28', '/', '54', ')', 'x', '71', '-', '48', '-', '10', 'x', '88', ':', '46', '^', '2', ')', ')', ')', '-', '(', '--', '(', '64', ')', '/', '--', '--', '--', '9', '+', '22', '-', '58', ':', '--', '48', '^', '2', '^', '2', '^', '2', ')', ':', '--', '--', '(', '(', '(', '(', '25', '/', '(', '--', '89', '-', '60', '+', '99', ':', '56', 'x', '62', ')', '^', '2', ')', ')', ')', '^', '2', ')', '^', '2']\n"
     ]
    },
    {
     "data": {
      "text/plain": [
       "(Fraction(-3275873520263128885607736546050121549596584118220093800217319, 7580354141431009007654021884536779140654694400000000),\n",
       " Fraction(-76183143225802383286740081056231966937624492629956521121333, 176287305614674628084977253128762305596620800000000))"
      ]
     },
     "execution_count": 8,
     "metadata": {},
     "output_type": "execute_result"
    }
   ],
   "source": [
    "expr = '( 75 - 7 + - 14 x 35 x ( 70 ) - ( 23 x 5 : ( 40 ) ) ) / - - - 97 / - ( 43 ) / - - ( 65 ) ^ 2 x 89 : 34 x 92 : 4 + 95 + 41 / 60 ^ 2 ^ 2 - ( ( 27 - 19 : ( 7 ) - 80 : - 10 ) ) / ( 81 ) - 63 - 20 x ( ( ( ( 41 / 28 / 54 ) x 71 - 48 - 10 x 88 : 46 ^ 2 ) ) ) - ( - ( 64 ) / - - - 9 + 22 - 58 : - 48 ^ 2 ^ 2 ^ 2 ) : - - ( ( ( ( 25 / ( - 89 - 60 + 99 : 56 x 62 ) ^ 2 ) ) ) ^ 2 ) ^ 2'\n",
    "antlr_res = antlr_eval(expr)\n",
    "\n",
    "shunting_res = shunting_eval(expr)\n",
    "antlr_res, shunting_res\n",
    "\n"
   ]
  },
  {
   "cell_type": "code",
   "execution_count": 9,
   "id": "ab6b2e66",
   "metadata": {},
   "outputs": [
    {
     "data": {
      "text/plain": [
       "-44465.29303204521"
      ]
     },
     "execution_count": 9,
     "metadata": {},
     "output_type": "execute_result"
    }
   ],
   "source": [
    "75713/2704 * -1/36 * 1/25281 * 2.806 * 515070259.31"
   ]
  }
 ],
 "metadata": {
  "kernelspec": {
   "display_name": "Python 3 (ipykernel)",
   "language": "python",
   "name": "python3"
  },
  "language_info": {
   "codemirror_mode": {
    "name": "ipython",
    "version": 3
   },
   "file_extension": ".py",
   "mimetype": "text/x-python",
   "name": "python",
   "nbconvert_exporter": "python",
   "pygments_lexer": "ipython3",
   "version": "3.8.8"
  }
 },
 "nbformat": 4,
 "nbformat_minor": 5
}
