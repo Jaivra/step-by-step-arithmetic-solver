{
 "cells": [
  {
   "cell_type": "code",
   "execution_count": 1,
   "metadata": {},
   "outputs": [],
   "source": [
    "from textwrap import indent\n",
    "\n",
    "from IPython.display import Javascript\n",
    "\n",
    "from liblet import ANTLR, AnnotatedTreeWalker, Tree, pyast2tree, side_by_side\n",
    "\n",
    "from operator import add, mul, truediv, sub\n",
    "\n",
    "from operator import itemgetter\n",
    "\n",
    "from IPython.display import Latex\n",
    "\n",
    "from fractions import Fraction\n",
    "\n",
    "import importlib\n",
    "\n",
    "import core.arithmetic_manager\n",
    "\n",
    "from core.util import *"
   ]
  },
  {
   "cell_type": "code",
   "execution_count": 2,
   "metadata": {},
   "outputs": [],
   "source": [
    "importlib.reload(core.util)\n",
    "importlib.reload(core.arithmetic_manager)\n",
    "ArithManager = core.arithmetic_manager.ArithManager"
   ]
  },
  {
   "cell_type": "code",
   "execution_count": 8,
   "metadata": {},
   "outputs": [
    {
     "name": "stdout",
     "output_type": "stream",
     "text": [
      "ANTLR runtime and generated code versions disagree: 4.9.1!=4.7.2\n",
      "ANTLR runtime and generated code versions disagree: 4.9.1!=4.7.2\n"
     ]
    },
    {
     "data": {
      "text/latex": [
       "\\begin{align}{1 + 2 + 3 - 4 \\times 4 - 5 - 6}^{4 + 5 + 6 - \\left\\{4 + 5 + 6 - -\\color{blue}{\\left[3 + 4 + \\color{red}{\\boxed{{5}^{-2}}}\\right]}\\right\\}}\\end{align}"
      ],
      "text/plain": [
       "<IPython.core.display.Latex object>"
      ]
     },
     "metadata": {},
     "output_type": "display_data"
    },
    {
     "data": {
      "text/latex": [
       "\\begin{align}{1 + 2 + 3 - 4 \\times 4 - 5 - 6}^{4 + 5 + 6 - \\left\\{4 + 5 + 6 - -\\color{blue}{\\left[\\color{red}{\\boxed{3 + 4+\\color{green}{\\boxed{\\frac{1} {25}}}}}\\right]}\\right\\}}\\end{align}"
      ],
      "text/plain": [
       "<IPython.core.display.Latex object>"
      ]
     },
     "metadata": {},
     "output_type": "display_data"
    },
    {
     "data": {
      "text/latex": [
       "\\begin{align}{1 + 2 + 3 - 4 \\times 4 - 5 - 6}^{4 + 5 + 6 - \\color{blue}{\\left\\{4 + 5 + 6 - \\color{red}{\\boxed{-\\color{green}{\\boxed{\\frac{176} {25}}}}}\\right\\}}}\\end{align}"
      ],
      "text/plain": [
       "<IPython.core.display.Latex object>"
      ]
     },
     "metadata": {},
     "output_type": "display_data"
    },
    {
     "data": {
      "text/latex": [
       "\\begin{align}{1 + 2 + 3 - 4 \\times 4 - 5 - 6}^{4 + 5 + 6 - \\color{blue}{\\left\\{\\color{red}{\\boxed{4 + 5 + 6-\\color{green}{\\boxed{\\frac{-176} {25}}}}}\\right\\}}}\\end{align}"
      ],
      "text/plain": [
       "<IPython.core.display.Latex object>"
      ]
     },
     "metadata": {},
     "output_type": "display_data"
    },
    {
     "data": {
      "text/latex": [
       "\\begin{align}{1 + 2 + 3 - \\color{red}{\\boxed{4\\times4}} - 5 - 6}^{4 + 5 + 6 - \\color{green}{\\boxed{\\frac{551} {25}}}}\\end{align}"
      ],
      "text/plain": [
       "<IPython.core.display.Latex object>"
      ]
     },
     "metadata": {},
     "output_type": "display_data"
    },
    {
     "data": {
      "text/latex": [
       "\\begin{align}{\\color{red}{\\boxed{1 + 2 + 3 - \\color{green}{\\boxed{16}} - 5-6}}}^{4 + 5 + 6 - \\frac{551} {25}}\\end{align}"
      ],
      "text/plain": [
       "<IPython.core.display.Latex object>"
      ]
     },
     "metadata": {},
     "output_type": "display_data"
    },
    {
     "data": {
      "text/latex": [
       "\\begin{align}{\\color{green}{\\boxed{-21}}}^{\\color{red}{\\boxed{4 + 5 + 6-\\frac{551} {25}}}}\\end{align}"
      ],
      "text/plain": [
       "<IPython.core.display.Latex object>"
      ]
     },
     "metadata": {},
     "output_type": "display_data"
    },
    {
     "data": {
      "text/latex": [
       "\\begin{align}\\color{red}{\\boxed{{-21}^{\\color{green}{\\boxed{\\frac{-176} {25}}}}}}\\end{align}"
      ],
      "text/plain": [
       "<IPython.core.display.Latex object>"
      ]
     },
     "metadata": {},
     "output_type": "display_data"
    },
    {
     "ename": "TypeError",
     "evalue": "both arguments should be Rational instances",
     "output_type": "error",
     "traceback": [
      "\u001b[1;31m---------------------------------------------------------------------------\u001b[0m",
      "\u001b[1;31mTypeError\u001b[0m                                 Traceback (most recent call last)",
      "\u001b[1;32m<ipython-input-8-ce9d91f2dea5>\u001b[0m in \u001b[0;36m<module>\u001b[1;34m\u001b[0m\n\u001b[0;32m     28\u001b[0m     \u001b[1;32mfor\u001b[0m \u001b[0mchild\u001b[0m \u001b[1;32min\u001b[0m \u001b[0mparent_to_calc\u001b[0m\u001b[1;33m.\u001b[0m\u001b[0mchildren\u001b[0m\u001b[1;33m:\u001b[0m\u001b[1;33m\u001b[0m\u001b[1;33m\u001b[0m\u001b[0m\n\u001b[0;32m     29\u001b[0m         \u001b[1;32mif\u001b[0m \u001b[0mis_next_to_calc\u001b[0m\u001b[1;33m(\u001b[0m\u001b[0mchild\u001b[0m\u001b[1;33m)\u001b[0m\u001b[1;33m:\u001b[0m\u001b[1;33m\u001b[0m\u001b[1;33m\u001b[0m\u001b[0m\n\u001b[1;32m---> 30\u001b[1;33m             \u001b[0mchild\u001b[0m \u001b[1;33m=\u001b[0m \u001b[0mchild_to_calc\u001b[0m \u001b[1;33m=\u001b[0m \u001b[0mTree\u001b[0m\u001b[1;33m(\u001b[0m\u001b[1;33m{\u001b[0m\u001b[1;34m'type'\u001b[0m\u001b[1;33m:\u001b[0m \u001b[1;34m'atomExpr'\u001b[0m\u001b[1;33m,\u001b[0m \u001b[1;34m'value'\u001b[0m\u001b[1;33m:\u001b[0m \u001b[0mArithManager\u001b[0m\u001b[1;33m.\u001b[0m\u001b[0meval\u001b[0m\u001b[1;33m(\u001b[0m\u001b[0mchild\u001b[0m\u001b[1;33m,\u001b[0m \u001b[0mMEMORY\u001b[0m\u001b[1;33m)\u001b[0m\u001b[1;33m,\u001b[0m \u001b[1;34m'priority'\u001b[0m\u001b[1;33m:\u001b[0m \u001b[1;36m0\u001b[0m\u001b[1;33m,\u001b[0m \u001b[1;34m'_calc'\u001b[0m\u001b[1;33m:\u001b[0m \u001b[1;34m'last'\u001b[0m\u001b[1;33m}\u001b[0m\u001b[1;33m,\u001b[0m \u001b[1;33m[\u001b[0m\u001b[1;33m]\u001b[0m\u001b[1;33m)\u001b[0m\u001b[1;33m\u001b[0m\u001b[1;33m\u001b[0m\u001b[0m\n\u001b[0m\u001b[0;32m     31\u001b[0m         \u001b[0mchildren\u001b[0m\u001b[1;33m.\u001b[0m\u001b[0mappend\u001b[0m\u001b[1;33m(\u001b[0m\u001b[0mchild\u001b[0m\u001b[1;33m)\u001b[0m\u001b[1;33m\u001b[0m\u001b[1;33m\u001b[0m\u001b[0m\n\u001b[0;32m     32\u001b[0m     \u001b[0mparent_to_calc\u001b[0m\u001b[1;33m.\u001b[0m\u001b[0mchildren\u001b[0m \u001b[1;33m=\u001b[0m \u001b[0mchildren\u001b[0m\u001b[1;33m\u001b[0m\u001b[1;33m\u001b[0m\u001b[0m\n",
      "\u001b[1;32m~\\Documents\\masters-university\\linguaggi_e_traduttori\\handouts\\project\\let_project\\core\\arithmetic_manager.py\u001b[0m in \u001b[0;36meval\u001b[1;34m(ast, memory)\u001b[0m\n\u001b[0;32m     37\u001b[0m         \u001b[1;32mif\u001b[0m \u001b[0mmemory\u001b[0m \u001b[1;32mis\u001b[0m \u001b[1;32mNone\u001b[0m\u001b[1;33m:\u001b[0m\u001b[1;33m\u001b[0m\u001b[1;33m\u001b[0m\u001b[0m\n\u001b[0;32m     38\u001b[0m             \u001b[0mmemory\u001b[0m \u001b[1;33m=\u001b[0m \u001b[0mdict\u001b[0m\u001b[1;33m(\u001b[0m\u001b[1;33m)\u001b[0m\u001b[1;33m\u001b[0m\u001b[1;33m\u001b[0m\u001b[0m\n\u001b[1;32m---> 39\u001b[1;33m         \u001b[1;32mreturn\u001b[0m \u001b[0mexpr_eval\u001b[0m\u001b[1;33m(\u001b[0m\u001b[0mast\u001b[0m\u001b[1;33m,\u001b[0m \u001b[0mmemory\u001b[0m\u001b[1;33m)\u001b[0m\u001b[1;33m\u001b[0m\u001b[1;33m\u001b[0m\u001b[0m\n\u001b[0m\u001b[0;32m     40\u001b[0m \u001b[1;33m\u001b[0m\u001b[0m\n\u001b[0;32m     41\u001b[0m     \u001b[1;33m@\u001b[0m\u001b[0mstaticmethod\u001b[0m\u001b[1;33m\u001b[0m\u001b[1;33m\u001b[0m\u001b[0m\n",
      "\u001b[1;32m~\\Documents\\masters-university\\linguaggi_e_traduttori\\handouts\\project\\let_project\\core\\expr_eval.py\u001b[0m in \u001b[0;36mexec\u001b[1;34m(ast, memory)\u001b[0m\n\u001b[0;32m     22\u001b[0m     \u001b[1;32mglobal\u001b[0m \u001b[0mMEMORY\u001b[0m\u001b[1;33m\u001b[0m\u001b[1;33m\u001b[0m\u001b[0m\n\u001b[0;32m     23\u001b[0m     \u001b[0mMEMORY\u001b[0m \u001b[1;33m=\u001b[0m \u001b[0mmemory\u001b[0m\u001b[1;33m\u001b[0m\u001b[1;33m\u001b[0m\u001b[0m\n\u001b[1;32m---> 24\u001b[1;33m     \u001b[1;32mreturn\u001b[0m \u001b[0matw_eval\u001b[0m\u001b[1;33m(\u001b[0m\u001b[0mast\u001b[0m\u001b[1;33m)\u001b[0m\u001b[1;33m\u001b[0m\u001b[1;33m\u001b[0m\u001b[0m\n\u001b[0m\u001b[0;32m     25\u001b[0m \u001b[1;33m\u001b[0m\u001b[0m\n\u001b[0;32m     26\u001b[0m \u001b[1;33m@\u001b[0m\u001b[0matw_eval\u001b[0m\u001b[1;33m.\u001b[0m\u001b[0mregister\u001b[0m\u001b[1;33m\u001b[0m\u001b[1;33m\u001b[0m\u001b[0m\n",
      "\u001b[1;32m~\\anaconda3\\lib\\site-packages\\liblet\\antlr.py\u001b[0m in \u001b[0;36m__call__\u001b[1;34m(self, tree)\u001b[0m\n\u001b[0;32m    340\u001b[0m     \u001b[1;32mdef\u001b[0m \u001b[0m__call__\u001b[0m\u001b[1;33m(\u001b[0m\u001b[0mself\u001b[0m\u001b[1;33m,\u001b[0m \u001b[0mtree\u001b[0m\u001b[1;33m)\u001b[0m\u001b[1;33m:\u001b[0m\u001b[1;33m\u001b[0m\u001b[1;33m\u001b[0m\u001b[0m\n\u001b[0;32m    341\u001b[0m         \u001b[0mkey\u001b[0m \u001b[1;33m=\u001b[0m \u001b[0mtree\u001b[0m\u001b[1;33m.\u001b[0m\u001b[0mroot\u001b[0m\u001b[1;33m[\u001b[0m\u001b[0mself\u001b[0m\u001b[1;33m.\u001b[0m\u001b[0mkey\u001b[0m\u001b[1;33m]\u001b[0m\u001b[1;33m\u001b[0m\u001b[1;33m\u001b[0m\u001b[0m\n\u001b[1;32m--> 342\u001b[1;33m         \u001b[1;32mreturn\u001b[0m \u001b[0mself\u001b[0m\u001b[1;33m.\u001b[0m\u001b[0mdispatch_table\u001b[0m\u001b[1;33m[\u001b[0m\u001b[0mkey\u001b[0m\u001b[1;33m]\u001b[0m\u001b[1;33m(\u001b[0m\u001b[0mself\u001b[0m\u001b[1;33m.\u001b[0m\u001b[0m__call__\u001b[0m\u001b[1;33m,\u001b[0m \u001b[0mtree\u001b[0m\u001b[1;33m)\u001b[0m \u001b[1;32mif\u001b[0m \u001b[0mkey\u001b[0m \u001b[1;32min\u001b[0m \u001b[0mself\u001b[0m\u001b[1;33m.\u001b[0m\u001b[0mdispatch_table\u001b[0m \u001b[1;32melse\u001b[0m \u001b[0mself\u001b[0m\u001b[1;33m.\u001b[0m\u001b[0mcatchall_func\u001b[0m\u001b[1;33m(\u001b[0m\u001b[0mself\u001b[0m\u001b[1;33m.\u001b[0m\u001b[0m__call__\u001b[0m\u001b[1;33m,\u001b[0m \u001b[0mtree\u001b[0m\u001b[1;33m)\u001b[0m\u001b[1;33m\u001b[0m\u001b[1;33m\u001b[0m\u001b[0m\n\u001b[0m",
      "\u001b[1;32m~\\Documents\\masters-university\\linguaggi_e_traduttori\\handouts\\project\\let_project\\core\\expr_eval.py\u001b[0m in \u001b[0;36mpowExpr\u001b[1;34m(visit, ast)\u001b[0m\n\u001b[0;32m     54\u001b[0m     \u001b[0mleft\u001b[0m\u001b[1;33m,\u001b[0m \u001b[0mright\u001b[0m \u001b[1;33m=\u001b[0m \u001b[0mast\u001b[0m\u001b[1;33m.\u001b[0m\u001b[0mchildren\u001b[0m\u001b[1;33m\u001b[0m\u001b[1;33m\u001b[0m\u001b[0m\n\u001b[0;32m     55\u001b[0m     \u001b[0mleft\u001b[0m\u001b[1;33m,\u001b[0m \u001b[0mright\u001b[0m \u001b[1;33m=\u001b[0m \u001b[0mvisit\u001b[0m\u001b[1;33m(\u001b[0m\u001b[0mleft\u001b[0m\u001b[1;33m)\u001b[0m\u001b[1;33m,\u001b[0m \u001b[0mvisit\u001b[0m\u001b[1;33m(\u001b[0m\u001b[0mright\u001b[0m\u001b[1;33m)\u001b[0m\u001b[1;33m\u001b[0m\u001b[1;33m\u001b[0m\u001b[0m\n\u001b[1;32m---> 56\u001b[1;33m     \u001b[0mvalue\u001b[0m \u001b[1;33m=\u001b[0m \u001b[0mpow\u001b[0m\u001b[1;33m(\u001b[0m\u001b[0mleft\u001b[0m\u001b[1;33m,\u001b[0m \u001b[0mright\u001b[0m\u001b[1;33m)\u001b[0m \u001b[1;32mif\u001b[0m \u001b[0mright\u001b[0m \u001b[1;33m>\u001b[0m \u001b[1;36m0\u001b[0m \u001b[1;32melse\u001b[0m \u001b[0mFraction\u001b[0m\u001b[1;33m(\u001b[0m\u001b[1;36m1\u001b[0m\u001b[1;33m,\u001b[0m \u001b[0mpow\u001b[0m\u001b[1;33m(\u001b[0m\u001b[0mleft\u001b[0m\u001b[1;33m,\u001b[0m \u001b[1;33m-\u001b[0m\u001b[0mright\u001b[0m\u001b[1;33m)\u001b[0m\u001b[1;33m)\u001b[0m\u001b[1;33m\u001b[0m\u001b[1;33m\u001b[0m\u001b[0m\n\u001b[0m\u001b[0;32m     57\u001b[0m     \u001b[1;32mreturn\u001b[0m \u001b[0mvalue\u001b[0m\u001b[1;33m\u001b[0m\u001b[1;33m\u001b[0m\u001b[0m\n\u001b[0;32m     58\u001b[0m \u001b[1;33m\u001b[0m\u001b[0m\n",
      "\u001b[1;32m~\\anaconda3\\lib\\fractions.py\u001b[0m in \u001b[0;36m__new__\u001b[1;34m(cls, numerator, denominator, _normalize)\u001b[0m\n\u001b[0;32m    172\u001b[0m                 )\n\u001b[0;32m    173\u001b[0m         \u001b[1;32melse\u001b[0m\u001b[1;33m:\u001b[0m\u001b[1;33m\u001b[0m\u001b[1;33m\u001b[0m\u001b[0m\n\u001b[1;32m--> 174\u001b[1;33m             raise TypeError(\"both arguments should be \"\n\u001b[0m\u001b[0;32m    175\u001b[0m                             \"Rational instances\")\n\u001b[0;32m    176\u001b[0m \u001b[1;33m\u001b[0m\u001b[0m\n",
      "\u001b[1;31mTypeError\u001b[0m: both arguments should be Rational instances"
     ]
    }
   ],
   "source": [
    "ex1 = '1 + {2 x [(3 + 4 : 2) + 5] x 6} - [ 7 + (1 + 8) : 3 ] x [ 9 : (2 + 1) + 2 ]'\n",
    "ex2 = '<2+3>/4/<5+6>/7'\n",
    "ex3 = '2^<3+4^5:2^7>'\n",
    "ex4 = '3 + 13 x -<1 + 3>/<2^<1+4> - 6>'\n",
    "ex5a = '3 / < 4 + 2 > + 2 x { 3 : ( 4 + 5 ) + 2 ^ < 6 x 1/2 > } - < 2 x [ 5 x ( 3 + 4 ) + 5 ] - 1 > / 6'\n",
    "ex5b = '3 / < 4 + 2 > + 2 x ( 3 : ( 4 + 5 ) + 2 ^ < 6 x 1/2 > ) - < 2 x ( 5 x ( 3 + 4 ) + 5 ) - 1 > / 6'\n",
    "\n",
    "src = '<1+2+3-4x4-5-6>^<4+5+6-{4+5+6--[3+4+5^-2]}>'\n",
    "\n",
    "arithExpr = ArithManager.arith_expr('antlrGrammar.g')\n",
    "ast = ArithManager.ptree2ast(ArithManager.ptree(arithExpr, src))\n",
    "blocks = ArithManager.generate_blocks(ast)\n",
    "MEMORY = dict(blocks)\n",
    "\n",
    "main_block = blocks[-1][1]\n",
    "child_to_calc = None\n",
    "\n",
    "while blocks:\n",
    "    block_id, current_block = blocks[0]\n",
    "    parent_to_calc = ArithManager.annotate_with_priority(current_block)\n",
    "\n",
    "    tex, _ = ArithManager.latex_format(main_block, MEMORY)\n",
    "    display_latex(tex)\n",
    "    if child_to_calc and '_calc' in child_to_calc.root:\n",
    "        del child_to_calc.root['_calc']\n",
    "\n",
    "    children = []\n",
    "    for child in parent_to_calc.children:\n",
    "        if is_next_to_calc(child):\n",
    "            child = child_to_calc = Tree({'type': 'atomExpr', 'value': ArithManager.eval(child, MEMORY), 'priority': 0, '_calc': 'last'}, [])\n",
    "        children.append(child) \n",
    "    parent_to_calc.children = children\n",
    "\n",
    "    if is_calculable(current_block):\n",
    "        current_block = current_block.children[0]\n",
    "        blocks = blocks[1:]\n",
    "    \n",
    "    MEMORY[block_id] = current_block\n",
    "\n",
    "    \n",
    "tex, _ = ArithManager.latex_format(main_block, {})\n",
    "display_latex(tex)"
   ]
  },
  {
   "cell_type": "code",
   "execution_count": 4,
   "metadata": {},
   "outputs": [
    {
     "name": "stdout",
     "output_type": "stream",
     "text": [
      "ANTLR runtime and generated code versions disagree: 4.9.1!=4.7.2\n",
      "ANTLR runtime and generated code versions disagree: 4.9.1!=4.7.2\n"
     ]
    },
    {
     "data": {
      "image/svg+xml": [
       "<?xml version=\"1.0\" encoding=\"UTF-8\" standalone=\"no\"?>\r\n",
       "<!DOCTYPE svg PUBLIC \"-//W3C//DTD SVG 1.1//EN\"\r\n",
       " \"http://www.w3.org/Graphics/SVG/1.1/DTD/svg11.dtd\">\r\n",
       "<!-- Generated by graphviz version 2.47.3 (20210619.1520)\r\n",
       " -->\r\n",
       "<!-- Pages: 1 -->\r\n",
       "<svg width=\"206pt\" height=\"233pt\"\r\n",
       " viewBox=\"0.00 0.00 206.00 233.00\" xmlns=\"http://www.w3.org/2000/svg\" xmlns:xlink=\"http://www.w3.org/1999/xlink\">\r\n",
       "<g id=\"graph0\" class=\"graph\" transform=\"scale(1 1) rotate(0) translate(4 229)\">\r\n",
       "<polygon fill=\"white\" stroke=\"transparent\" points=\"-4,4 -4,-229 202,-229 202,4 -4,4\"/>\r\n",
       "<!-- 2006604637952 -->\r\n",
       "<g id=\"node1\" class=\"node\">\r\n",
       "<title>2006604637952</title>\r\n",
       "<polygon fill=\"none\" stroke=\"black\" points=\"72,-205.5 72,-224.5 98,-224.5 98,-205.5 72,-205.5\"/>\r\n",
       "<text text-anchor=\"start\" x=\"75\" y=\"-211.9\" font-family=\"Times New Roman,serif\" font-size=\"12.00\">type</text>\r\n",
       "<polygon fill=\"none\" stroke=\"black\" points=\"98,-205.5 98,-224.5 126,-224.5 126,-205.5 98,-205.5\"/>\r\n",
       "<text text-anchor=\"start\" x=\"101\" y=\"-211.9\" font-family=\"Times New Roman,serif\" font-size=\"12.00\">main</text>\r\n",
       "</g>\r\n",
       "<!-- 2006604637760 -->\r\n",
       "<g id=\"node2\" class=\"node\">\r\n",
       "<title>2006604637760</title>\r\n",
       "<polygon fill=\"none\" stroke=\"black\" points=\"39,-169 39,-188 78,-188 78,-169 39,-169\"/>\r\n",
       "<text text-anchor=\"start\" x=\"48.5\" y=\"-175.4\" font-family=\"Times New Roman,serif\" font-size=\"12.00\">type</text>\r\n",
       "<polygon fill=\"none\" stroke=\"black\" points=\"78,-169 78,-188 160,-188 160,-169 78,-169\"/>\r\n",
       "<text text-anchor=\"start\" x=\"81\" y=\"-175.4\" font-family=\"Times New Roman,serif\" font-size=\"12.00\">roundBlockExpr</text>\r\n",
       "<polygon fill=\"none\" stroke=\"black\" points=\"39,-150 39,-169 78,-169 78,-150 39,-150\"/>\r\n",
       "<text text-anchor=\"start\" x=\"42\" y=\"-156.4\" font-family=\"Times New Roman,serif\" font-size=\"12.00\">priority</text>\r\n",
       "<polygon fill=\"none\" stroke=\"black\" points=\"78,-150 78,-169 160,-169 160,-150 78,-150\"/>\r\n",
       "<text text-anchor=\"start\" x=\"115.5\" y=\"-156.4\" font-family=\"Times New Roman,serif\" font-size=\"12.00\">0</text>\r\n",
       "</g>\r\n",
       "<!-- 2006604637952&#45;&gt;2006604637760 -->\r\n",
       "<g id=\"edge1\" class=\"edge\">\r\n",
       "<title>2006604637952&#45;&gt;2006604637760</title>\r\n",
       "<path fill=\"none\" stroke=\"black\" d=\"M99,-205.92C99,-200.87 99,-194.28 99,-188.13\"/>\r\n",
       "</g>\r\n",
       "<!-- 2006604637568 -->\r\n",
       "<g id=\"node3\" class=\"node\">\r\n",
       "<title>2006604637568</title>\r\n",
       "<polygon fill=\"none\" stroke=\"black\" points=\"48,-112.5 48,-131.5 87,-131.5 87,-112.5 48,-112.5\"/>\r\n",
       "<text text-anchor=\"start\" x=\"57.5\" y=\"-118.9\" font-family=\"Times New Roman,serif\" font-size=\"12.00\">type</text>\r\n",
       "<polygon fill=\"none\" stroke=\"black\" points=\"87,-112.5 87,-131.5 151,-131.5 151,-112.5 87,-112.5\"/>\r\n",
       "<text text-anchor=\"start\" x=\"90\" y=\"-118.9\" font-family=\"Times New Roman,serif\" font-size=\"12.00\">addSubExpr</text>\r\n",
       "<polygon fill=\"none\" stroke=\"black\" points=\"48,-93.5 48,-112.5 87,-112.5 87,-93.5 48,-93.5\"/>\r\n",
       "<text text-anchor=\"start\" x=\"61\" y=\"-99.9\" font-family=\"Times New Roman,serif\" font-size=\"12.00\">op</text>\r\n",
       "<polygon fill=\"none\" stroke=\"black\" points=\"87,-93.5 87,-112.5 151,-112.5 151,-93.5 87,-93.5\"/>\r\n",
       "<text text-anchor=\"start\" x=\"115.5\" y=\"-99.9\" font-family=\"Times New Roman,serif\" font-size=\"12.00\">+</text>\r\n",
       "<polygon fill=\"none\" stroke=\"black\" points=\"48,-74.5 48,-93.5 87,-93.5 87,-74.5 48,-74.5\"/>\r\n",
       "<text text-anchor=\"start\" x=\"51\" y=\"-80.9\" font-family=\"Times New Roman,serif\" font-size=\"12.00\">priority</text>\r\n",
       "<polygon fill=\"none\" stroke=\"black\" points=\"87,-74.5 87,-93.5 151,-93.5 151,-74.5 87,-74.5\"/>\r\n",
       "<text text-anchor=\"start\" x=\"115.5\" y=\"-80.9\" font-family=\"Times New Roman,serif\" font-size=\"12.00\">1</text>\r\n",
       "</g>\r\n",
       "<!-- 2006604637760&#45;&gt;2006604637568 -->\r\n",
       "<g id=\"edge2\" class=\"edge\">\r\n",
       "<title>2006604637760&#45;&gt;2006604637568</title>\r\n",
       "<path fill=\"none\" stroke=\"black\" d=\"M99,-149.97C99,-144.4 99,-138.13 99,-132.06\"/>\r\n",
       "</g>\r\n",
       "<!-- 2006604385776 -->\r\n",
       "<g id=\"node4\" class=\"node\">\r\n",
       "<title>2006604385776</title>\r\n",
       "<polygon fill=\"none\" stroke=\"black\" points=\"0,-37.5 0,-56.5 39,-56.5 39,-37.5 0,-37.5\"/>\r\n",
       "<text text-anchor=\"start\" x=\"9.5\" y=\"-43.9\" font-family=\"Times New Roman,serif\" font-size=\"12.00\">type</text>\r\n",
       "<polygon fill=\"none\" stroke=\"black\" points=\"39,-37.5 39,-56.5 90,-56.5 90,-37.5 39,-37.5\"/>\r\n",
       "<text text-anchor=\"start\" x=\"42\" y=\"-43.9\" font-family=\"Times New Roman,serif\" font-size=\"12.00\">atomExpr</text>\r\n",
       "<polygon fill=\"none\" stroke=\"black\" points=\"0,-18.5 0,-37.5 39,-37.5 39,-18.5 0,-18.5\"/>\r\n",
       "<text text-anchor=\"start\" x=\"7.5\" y=\"-24.9\" font-family=\"Times New Roman,serif\" font-size=\"12.00\">value</text>\r\n",
       "<polygon fill=\"none\" stroke=\"black\" points=\"39,-18.5 39,-37.5 90,-37.5 90,-18.5 39,-18.5\"/>\r\n",
       "<text text-anchor=\"start\" x=\"61\" y=\"-24.9\" font-family=\"Times New Roman,serif\" font-size=\"12.00\">4</text>\r\n",
       "<polygon fill=\"none\" stroke=\"black\" points=\"0,0.5 0,-18.5 39,-18.5 39,0.5 0,0.5\"/>\r\n",
       "<text text-anchor=\"start\" x=\"3\" y=\"-5.9\" font-family=\"Times New Roman,serif\" font-size=\"12.00\">priority</text>\r\n",
       "<polygon fill=\"none\" stroke=\"black\" points=\"39,0.5 39,-18.5 90,-18.5 90,0.5 39,0.5\"/>\r\n",
       "<text text-anchor=\"start\" x=\"61\" y=\"-5.9\" font-family=\"Times New Roman,serif\" font-size=\"12.00\">0</text>\r\n",
       "</g>\r\n",
       "<!-- 2006604637568&#45;&gt;2006604385776 -->\r\n",
       "<g id=\"edge3\" class=\"edge\">\r\n",
       "<title>2006604637568&#45;&gt;2006604385776</title>\r\n",
       "<path fill=\"none\" stroke=\"black\" d=\"M78.58,-74.9C74.28,-69.09 69.75,-62.95 65.44,-57.14\"/>\r\n",
       "</g>\r\n",
       "<!-- 2006604637376 -->\r\n",
       "<g id=\"node5\" class=\"node\">\r\n",
       "<title>2006604637376</title>\r\n",
       "<polygon fill=\"none\" stroke=\"black\" points=\"108,-37.5 108,-56.5 147,-56.5 147,-37.5 108,-37.5\"/>\r\n",
       "<text text-anchor=\"start\" x=\"117.5\" y=\"-43.9\" font-family=\"Times New Roman,serif\" font-size=\"12.00\">type</text>\r\n",
       "<polygon fill=\"none\" stroke=\"black\" points=\"147,-37.5 147,-56.5 198,-56.5 198,-37.5 147,-37.5\"/>\r\n",
       "<text text-anchor=\"start\" x=\"150\" y=\"-43.9\" font-family=\"Times New Roman,serif\" font-size=\"12.00\">atomExpr</text>\r\n",
       "<polygon fill=\"none\" stroke=\"black\" points=\"108,-18.5 108,-37.5 147,-37.5 147,-18.5 108,-18.5\"/>\r\n",
       "<text text-anchor=\"start\" x=\"115.5\" y=\"-24.9\" font-family=\"Times New Roman,serif\" font-size=\"12.00\">value</text>\r\n",
       "<polygon fill=\"none\" stroke=\"black\" points=\"147,-18.5 147,-37.5 198,-37.5 198,-18.5 147,-18.5\"/>\r\n",
       "<text text-anchor=\"start\" x=\"169\" y=\"-24.9\" font-family=\"Times New Roman,serif\" font-size=\"12.00\">5</text>\r\n",
       "<polygon fill=\"none\" stroke=\"black\" points=\"108,0.5 108,-18.5 147,-18.5 147,0.5 108,0.5\"/>\r\n",
       "<text text-anchor=\"start\" x=\"111\" y=\"-5.9\" font-family=\"Times New Roman,serif\" font-size=\"12.00\">priority</text>\r\n",
       "<polygon fill=\"none\" stroke=\"black\" points=\"147,0.5 147,-18.5 198,-18.5 198,0.5 147,0.5\"/>\r\n",
       "<text text-anchor=\"start\" x=\"169\" y=\"-5.9\" font-family=\"Times New Roman,serif\" font-size=\"12.00\">0</text>\r\n",
       "</g>\r\n",
       "<!-- 2006604637568&#45;&gt;2006604637376 -->\r\n",
       "<g id=\"edge4\" class=\"edge\">\r\n",
       "<title>2006604637568&#45;&gt;2006604637376</title>\r\n",
       "<path fill=\"none\" stroke=\"black\" d=\"M119.42,-74.9C123.72,-69.09 128.25,-62.95 132.56,-57.14\"/>\r\n",
       "</g>\r\n",
       "<!-- 2006604385776&#45;&gt;2006604637376 -->\r\n",
       "</g>\r\n",
       "</svg>\r\n"
      ],
      "text/plain": [
       "({'type': 'main'}: ({'type': 'roundBlockExpr', 'priority': 0}: ({'type': 'addSubExpr', 'op': '+', 'priority': 1}: ({'type': 'atomExpr', 'value': 4, 'priority': 0}), ({'type': 'atomExpr', 'value': 5, 'priority': 0}))))"
      ]
     },
     "execution_count": 4,
     "metadata": {},
     "output_type": "execute_result"
    }
   ],
   "source": [
    "src = '(4 + 5)'\n",
    "\n",
    "\n",
    "arithExpr = ArithManager.arith_expr('antlrGrammar.g')\n",
    "ast = ArithManager.ptree2ast(ArithManager.ptree(arithExpr, src))\n",
    "ast"
   ]
  }
 ],
 "metadata": {
  "kernelspec": {
   "display_name": "Python 3",
   "language": "python",
   "name": "python3"
  },
  "language_info": {
   "codemirror_mode": {
    "name": "ipython",
    "version": 3
   },
   "file_extension": ".py",
   "mimetype": "text/x-python",
   "name": "python",
   "nbconvert_exporter": "python",
   "pygments_lexer": "ipython3",
   "version": "3.8.3"
  }
 },
 "nbformat": 4,
 "nbformat_minor": 5
}
