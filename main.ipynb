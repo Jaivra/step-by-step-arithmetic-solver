{
 "cells": [
  {
   "cell_type": "code",
   "execution_count": 1,
   "metadata": {},
   "outputs": [],
   "source": [
    "%load_ext autoreload\n",
    "%autoreload 2"
   ]
  },
  {
   "cell_type": "code",
   "execution_count": 2,
   "metadata": {},
   "outputs": [],
   "source": [
    "from textwrap import indent\n",
    "from IPython.display import Javascript\n",
    "\n",
    "from liblet import ANTLR, AnnotatedTreeWalker, Tree, pyast2tree, side_by_side\n",
    "\n",
    "from operator import add, mul, truediv, sub, itemgetter\n",
    "from fractions import Fraction\n",
    "\n",
    "from IPython.display import Latex\n",
    "\n",
    "import importlib\n",
    "\n",
    "from core.arithmetic_manager import ArithManager\n",
    "from core.util import *\n",
    "\n",
    "from core.shunting_yard_parser import ShuntingYardParser\n",
    "from core.arithmetic_manager import ArithManager\n",
    "from core.util import *"
   ]
  },
  {
   "cell_type": "code",
   "execution_count": 21,
   "metadata": {},
   "outputs": [],
   "source": [
    "def solve(expr, domain, show_ast = False, show_blocks = False, show_latex = False):\n",
    "    AM = ArithManager(domain)\n",
    "    \n",
    "    ast = AM.shuntingYardExpr2ast(expr)\n",
    "    if show_ast: display(ast)\n",
    "        \n",
    "    blocks = AM.blocks(ast)\n",
    "    \n",
    "    if show_blocks: \n",
    "        for block in blocks:\n",
    "            display(block[1])\n",
    "        \n",
    "    MEMORY = dict(blocks)\n",
    "    main_block = blocks[-1][1]\n",
    "    child_to_calc = None\n",
    "    current_block = block_id = None\n",
    "\n",
    "    while blocks and is_calculable(blocks[0][1]): blocks = blocks[1:]\n",
    "\n",
    "    while blocks:\n",
    "        block_id, current_block = blocks[0]\n",
    "        parent_to_calc = AM.prior(current_block)\n",
    "        tex = AM.latex(main_block, MEMORY)\n",
    "        if show_latex: display_latex(tex)\n",
    "        \n",
    "        parent_to_calc.children =  [Tree({'type': 'atomExpr', 'value': AM.eval(child, MEMORY), 'priority': 0, '_calc': 'last'}, []) \n",
    "                                    if is_next_to_calc(child) else child\n",
    "                                    for child in parent_to_calc.children]\n",
    "\n",
    "        if is_calculable(current_block):\n",
    "            current_block = current_block.children[0]\n",
    "            blocks = blocks[1:]\n",
    "\n",
    "        MEMORY[block_id] = current_block\n",
    "        print(MEMORY)\n",
    "\n",
    "    tex = AM.latex(main_block, {})\n",
    "    if show_latex: display_latex(tex)\n",
    "    \n",
    "    return main_block.children[0].root['value']\n",
    "\n",
    "\n",
    "\n"
   ]
  },
  {
   "cell_type": "code",
   "execution_count": 22,
   "metadata": {},
   "outputs": [
    {
     "data": {
      "text/latex": [
       "\\begin{align}\\frac{-\\color{blue}{\\left(\\color{red}{\\boxed{2+4}}\\right)}} {\\left(3 \\times 5\\right)}\\end{align}"
      ],
      "text/plain": [
       "<IPython.core.display.Latex object>"
      ]
     },
     "metadata": {},
     "output_type": "display_data"
    },
    {
     "name": "stdout",
     "output_type": "stream",
     "text": [
      "{'37': ({'type': 'atomExpr', 'value': 6, 'priority': 0, '_calc': 'last'}), '38': ({'type': 'roundBlockExpr', 'priority': 0}: ({'type': 'divProdExpr', 'op': 'x', 'priority': 2}: ({'type': 'atomExpr', 'value': 3, 'priority': 0}), ({'type': 'atomExpr', 'value': 5, 'priority': 0}))), '39': ({'type': 'main'}: ({'type': 'fractExpr', 'priority': 4}: ({'type': 'unaryExpr', 'op': '-', 'priority': 4}: ({'type': 'subExpr', 'ID': '37', 'priority': 0})), ({'type': 'subExpr', 'ID': '38', 'priority': 0})))}\n"
     ]
    },
    {
     "data": {
      "text/latex": [
       "\\begin{align}\\frac{-\\color{green}{\\boxed{6}}} {\\color{blue}{\\left(\\color{red}{\\boxed{3\\times5}}\\right)}}\\end{align}"
      ],
      "text/plain": [
       "<IPython.core.display.Latex object>"
      ]
     },
     "metadata": {},
     "output_type": "display_data"
    },
    {
     "name": "stdout",
     "output_type": "stream",
     "text": [
      "{'37': ({'type': 'atomExpr', 'value': 6, 'priority': 0}), '38': ({'type': 'atomExpr', 'value': 15, 'priority': 0, '_calc': 'last'}), '39': ({'type': 'main'}: ({'type': 'fractExpr', 'priority': 4}: ({'type': 'unaryExpr', 'op': '-', 'priority': 4}: ({'type': 'subExpr', 'ID': '37', 'priority': 0})), ({'type': 'subExpr', 'ID': '38', 'priority': 0})))}\n"
     ]
    },
    {
     "data": {
      "text/latex": [
       "\\begin{align}\\frac{\\color{red}{\\boxed{-6}}} {\\color{green}{\\boxed{15}}}\\end{align}"
      ],
      "text/plain": [
       "<IPython.core.display.Latex object>"
      ]
     },
     "metadata": {},
     "output_type": "display_data"
    },
    {
     "name": "stdout",
     "output_type": "stream",
     "text": [
      "{'37': ({'type': 'atomExpr', 'value': 6, 'priority': 0}), '38': ({'type': 'atomExpr', 'value': 15, 'priority': 0}), '39': ({'type': 'main'}: ({'type': 'fractExpr', 'priority': 3}: ({'type': 'atomExpr', 'value': -6, 'priority': 0, '_calc': 'last'}), ({'type': 'subExpr', 'ID': '38', 'priority': 0})))}\n"
     ]
    },
    {
     "data": {
      "text/latex": [
       "\\begin{align}\\color{red}{\\boxed{\\frac{\\color{green}{\\boxed{-6}}} {15}}}\\end{align}"
      ],
      "text/plain": [
       "<IPython.core.display.Latex object>"
      ]
     },
     "metadata": {},
     "output_type": "display_data"
    },
    {
     "name": "stdout",
     "output_type": "stream",
     "text": [
      "{'37': ({'type': 'atomExpr', 'value': 6, 'priority': 0}), '38': ({'type': 'atomExpr', 'value': 15, 'priority': 0}), '39': ({'type': 'atomExpr', 'value': Fraction(-2, 5), 'priority': 0, '_calc': 'last'})}\n"
     ]
    },
    {
     "data": {
      "text/latex": [
       "\\begin{align}\\color{green}{\\boxed{\\frac{-2} {5}}}\\end{align}"
      ],
      "text/plain": [
       "<IPython.core.display.Latex object>"
      ]
     },
     "metadata": {},
     "output_type": "display_data"
    },
    {
     "data": {
      "text/plain": [
       "Fraction(-2, 5)"
      ]
     },
     "execution_count": 22,
     "metadata": {},
     "output_type": "execute_result"
    }
   ],
   "source": [
    "ex1 = '1 + {2 x [(3 + 4 : 2) + 5] x 6} - [ 7 + (1 + 8) : 3 ] x [ 9 : (2 + 1) + 2 ]'\n",
    "ex2 = '< 2 + 3 > / 4 / < 5 + 6 > / 7'\n",
    "ex3 = '2 ^ < 3 + 4 ^ 5 : 2 ^ 7 >'\n",
    "ex4 = '3 + 13 x -<1 + 3>/<2^<1+4> - 6>'\n",
    "ex5a = '3 / < 4 + 2 > + 2 x { 3 : ( 4 + 5 ) + 2 ^ < 6 x 1/2 > } - < 2 x [ 5 x ( 3 + 4 ) + 5 ] - 1 > / 6 + 1.8'\n",
    "ex5b = '3 / < 4 + 2 > + 2 x ( 3 : ( 4 + 5 ) + 2 ^ < 6 x 1/2 > ) - < 2 x ( 5 x ( 3 + 4 ) + 5 ) - 1 >'\n",
    "\n",
    "\n",
    "src = '- (2 + 4) / (3 x 5)'\n",
    "solve(src, 'Q', show_latex = True)"
   ]
  },
  {
   "cell_type": "code",
   "execution_count": 35,
   "metadata": {},
   "outputs": [
    {
     "name": "stdout",
     "output_type": "stream",
     "text": [
      "UE\n"
     ]
    }
   ],
   "source": [
    "import re\n",
    "token = \"-1/5\"\n",
    "if re.match(r'\\-?\\d+(?:\\.\\d+)?/\\d+(?:\\.\\d+)?$', token):\n",
    "    print(\"UE\")"
   ]
  }
 ],
 "metadata": {
  "kernelspec": {
   "display_name": "Python 3 (ipykernel)",
   "language": "python",
   "name": "python3"
  },
  "language_info": {
   "codemirror_mode": {
    "name": "ipython",
    "version": 3
   },
   "file_extension": ".py",
   "mimetype": "text/x-python",
   "name": "python",
   "nbconvert_exporter": "python",
   "pygments_lexer": "ipython3",
   "version": "3.8.8"
  }
 },
 "nbformat": 4,
 "nbformat_minor": 4
}
