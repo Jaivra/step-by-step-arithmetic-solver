{
 "cells": [
  {
   "cell_type": "code",
   "execution_count": 1,
   "metadata": {},
   "outputs": [],
   "source": [
    "%load_ext autoreload\n",
    "%autoreload 2"
   ]
  },
  {
   "cell_type": "code",
   "execution_count": 2,
   "metadata": {},
   "outputs": [],
   "source": [
    "from textwrap import indent\n",
    "from IPython.display import Javascript\n",
    "\n",
    "from liblet import ANTLR, AnnotatedTreeWalker, Tree, pyast2tree, side_by_side\n",
    "\n",
    "from operator import add, mul, truediv, sub, itemgetter\n",
    "from fractions import Fraction\n",
    "\n",
    "from IPython.display import Latex\n",
    "\n",
    "import importlib\n",
    "\n",
    "from core.arithmetic_manager import ArithManager\n",
    "from core.util import *\n",
    "\n",
    "from core.shunting_yard_parser_new import ShuntingYardParser\n",
    "from core.arithmetic_manager import ArithManager\n",
    "from core.util import *"
   ]
  },
  {
   "cell_type": "code",
   "execution_count": 3,
   "metadata": {},
   "outputs": [],
   "source": [
    "def ast_eval(ast, show_blocks, show_latex):\n",
    "    AM = ArithManager()\n",
    "    \n",
    "    blocks = AM.blocks(ast)\n",
    "    \n",
    "    if show_blocks: print(blocks)\n",
    "        \n",
    "    MEMORY = dict(blocks)\n",
    "    main_block = blocks[-1][1]\n",
    "    child_to_calc = None\n",
    "    current_block = block_id = None\n",
    "\n",
    "    while blocks and is_calculable(blocks[0][1]): blocks = blocks[1:]\n",
    "\n",
    "    while blocks:\n",
    "        block_id, current_block = blocks[0]\n",
    "        parent_to_calc = AM.prior(current_block)\n",
    "        tex = AM.latex(main_block, MEMORY)\n",
    "        if show_latex: display_latex(tex)\n",
    "        \n",
    "        parent_to_calc.children =  [Tree({'type': 'atomExpr', 'value': AM.eval(child, MEMORY), 'priority': 0, '_calc': 'last'}, []) \n",
    "                                    if is_next_to_calc(child) else child\n",
    "                                    for child in parent_to_calc.children]\n",
    "\n",
    "        if is_calculable(current_block):\n",
    "            current_block = current_block.children[0]\n",
    "            blocks = blocks[1:]\n",
    "\n",
    "        MEMORY[block_id] = current_block\n",
    "\n",
    "    tex = AM.latex(main_block, {})\n",
    "    if show_latex: display_latex(tex)\n",
    "    \n",
    "    return main_block.children[0].root['value']\n",
    "\n",
    "\n",
    "def antlr_eval(expr, show_ptree = False, show_ast = False, show_blocks = False, show_latex = False):\n",
    "    AM = ArithManager()\n",
    "    ptree = AM.ptree('antlrGrammar.g',expr)\n",
    "    if show_ptree: display(ptree)\n",
    "    \n",
    "    ast = AM.ptree2ast(ptree)\n",
    "    if show_ast: display(ast)\n",
    "    return ast_eval(ast, show_blocks, show_latex)\n",
    "\n",
    "\n",
    "def shunting_eval(expr, show_ast = False, show_blocks = False, show_latex = False):\n",
    "    AM = ArithManager()\n",
    "\n",
    "    ast = AM.shuntingYardExpr2ast(expr)\n",
    "    if show_ast: display(ast)\n",
    "\n",
    "    return ast_eval(ast, show_blocks, show_latex)"
   ]
  },
  {
   "cell_type": "code",
   "execution_count": 72,
   "metadata": {},
   "outputs": [
    {
     "name": "stdout",
     "output_type": "stream",
     "text": [
      "11\n"
     ]
    },
    {
     "ename": "MalformedExpression",
     "evalue": "La parentesi in posizione 0 non è stata chiusa!\n\n \u001b[91m{\u001b[0m 2 + 3 - { 2 ^ -- 3 } ) } - 8 ",
     "output_type": "error",
     "traceback": [
      "An exception has occurred, use %tb to see the full traceback.\n",
      "\u001b[1;31mMalformedExpression\u001b[0m\u001b[1;31m:\u001b[0m La parentesi in posizione 0 non è stata chiusa!\n\n \u001b[91m{\u001b[0m 2 + 3 - { 2 ^ -- 3 } ) } - 8 \n"
     ]
    }
   ],
   "source": [
    "ex1 = '1 + {2 x [(3 + 4 : 2) + 5] x 6} - [ 7 + (1 + 8) : 3 ] x [ 9 : (2 + 1) + 2 ]'\n",
    "ex2 = '< 2 + 3 > / 4 / < 5 + 6 > / 7'\n",
    "ex3 = '2 ^ < 3 + 4 ^ 5 : 2 ^ 7 >'\n",
    "ex4 = '3 + 13 x -<1 + 3>/<2^<1+4> - 6>'\n",
    "ex5a = '3 / < 4 + 2 > + 2 x { 3 : ( 4 + 5 ) + 2 ^ < 6 x 1/2 > } - < 2 x [ 5 x ( 3 + 4 ) + 5 ] - 1 > / 6'\n",
    "ex5b = '3 / < 4 + 2 > + 2 x ( 3 : ( 4 + 5 ) + 2 ^ < 6 x 1/2 > ) - < 2 x ( 5 x ( 3 + 4 ) + 5 ) - 1 > / 6'\n",
    "\n",
    "src = \"{2+3-{2^-3})} - 8\"\n",
    "\n",
    "shunting_eval(src, show_latex = True)\n",
    "\n"
   ]
  },
  {
   "cell_type": "code",
   "execution_count": null,
   "metadata": {},
   "outputs": [],
   "source": [
    "class bcolors:\n",
    "    HEADER = '\\033[95m'\n",
    "    OKBLUE = '\\033[94m'\n",
    "    OKCYAN = '\\033[96m'\n",
    "    OKGREEN = '\\033[92m'\n",
    "    WARNING = '\\033[93m'\n",
    "    FAIL = '\\033[91m'\n",
    "    ENDC = '\\033[0m'\n",
    "    BOLD = '\\033[1m'\n",
    "    UNDERLINE = '\\033[4m'\n",
    "\n",
    "print('aaazzz\\u0332')\n",
    "print('\\033[91m' + \"(\" + '\\033[0m')\n",
    "\n"
   ]
  },
  {
   "cell_type": "code",
   "execution_count": null,
   "metadata": {},
   "outputs": [],
   "source": [
    "%%time\n",
    "\n",
    "shunting_eval(src)"
   ]
  },
  {
   "cell_type": "code",
   "execution_count": null,
   "metadata": {},
   "outputs": [],
   "source": [
    "%%time\n",
    "\n",
    "antlr_eval(src)"
   ]
  }
 ],
 "metadata": {
  "kernelspec": {
   "display_name": "Python 3",
   "language": "python",
   "name": "python3"
  },
  "language_info": {
   "codemirror_mode": {
    "name": "ipython",
    "version": 3
   },
   "file_extension": ".py",
   "mimetype": "text/x-python",
   "name": "python",
   "nbconvert_exporter": "python",
   "pygments_lexer": "ipython3",
   "version": "3.8.3"
  }
 },
 "nbformat": 4,
 "nbformat_minor": 4
}
