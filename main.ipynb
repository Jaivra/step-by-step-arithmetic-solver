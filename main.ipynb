{
 "cells": [
  {
   "cell_type": "code",
   "execution_count": 1,
   "metadata": {},
   "outputs": [],
   "source": [
    "%load_ext autoreload\n",
    "%autoreload 2"
   ]
  },
  {
   "cell_type": "code",
   "execution_count": 2,
   "metadata": {},
   "outputs": [],
   "source": [
    "from core.arithmetic_manager import ArithManager\n",
    "from core.my_exception import *\n",
    "from core.util import *\n",
    "import math"
   ]
  },
  {
   "cell_type": "code",
   "execution_count": 3,
   "metadata": {},
   "outputs": [],
   "source": [
    "def solve(expr, domain, show_ast = False, show_blocks = False, show_latex = False):\n",
    "    AM = ArithManager(domain)\n",
    "    \n",
    "    ast = AM.shuntingYardExpr2ast(expr)\n",
    "    if show_ast: display(ast)\n",
    "        \n",
    "    blocks = AM.blocks(ast)\n",
    "    \n",
    "    if show_blocks: \n",
    "        for block in blocks:\n",
    "            display(block[1])\n",
    "        \n",
    "    MEMORY = dict(blocks)\n",
    "    main_block = blocks[-1][1]\n",
    "    child_to_calc = None\n",
    "    current_block = block_id = None\n",
    "\n",
    "    while blocks and is_calculable(blocks[0][1]): blocks = blocks[1:]\n",
    "\n",
    "    while blocks:\n",
    "        block_id, current_block = blocks[0]\n",
    "        parent_to_calc = AM.prior(current_block)\n",
    "        tex = AM.latex(main_block, MEMORY)\n",
    "        if show_latex: display_latex(tex)\n",
    "        parent_to_calc.children =  [Tree({'type': 'atomExpr', 'value': AM.eval(child, MEMORY), 'priority': 0, '_calc': 'last'}, []) \n",
    "                                    if is_next_to_calc(child) else child\n",
    "                                    for child in parent_to_calc.children]\n",
    "\n",
    "        if is_calculable(current_block):\n",
    "            current_block = current_block.children[0]\n",
    "            blocks = blocks[1:]\n",
    "\n",
    "        MEMORY[block_id] = current_block\n",
    "\n",
    "    tex = AM.latex(main_block, {})\n",
    "    if show_latex: display_latex(tex)\n",
    "    \n",
    "    return main_block.children[0].root['value']\n",
    "\n",
    "\n",
    "\n"
   ]
  },
  {
   "cell_type": "code",
   "execution_count": 11,
   "metadata": {},
   "outputs": [
    {
     "data": {
      "text/latex": [
       "\\begin{align}\\frac{3}{4+2}+2\\times\\left(3:\\color{blue}{\\left(\\color{red}{\\boxed{4+5}}\\right)}+{2}^{6\\times\\frac{1}{2}}\\right)-\\frac{2\\times\\left(5\\times\\left(3+4\\right)+5\\right)-1}{6}\\end{align}"
      ],
      "text/plain": [
       "<IPython.core.display.Latex object>"
      ]
     },
     "metadata": {},
     "output_type": "display_data"
    },
    {
     "data": {
      "text/latex": [
       "\\begin{align}\\frac{3}{4+2}+2\\times\\left(3:\\color{green}{\\boxed{9}}+{2}^{6\\times\\frac{1}{2}}\\right)-\\frac{2\\times\\left(5\\times\\color{blue}{\\left(\\color{red}{\\boxed{3+4}}\\right)}+5\\right)-1}{6}\\end{align}"
      ],
      "text/plain": [
       "<IPython.core.display.Latex object>"
      ]
     },
     "metadata": {},
     "output_type": "display_data"
    },
    {
     "data": {
      "text/latex": [
       "\\begin{align}\\frac{3}{4+2}+2\\times\\color{blue}{\\left(3:9+{2}^{\\color{red}{\\boxed{6\\times\\frac{1}{2}}}}\\right)}-\\frac{2\\times\\left(5\\times\\color{green}{\\boxed{7}}+5\\right)-1}{6}\\end{align}"
      ],
      "text/plain": [
       "<IPython.core.display.Latex object>"
      ]
     },
     "metadata": {},
     "output_type": "display_data"
    },
    {
     "data": {
      "text/latex": [
       "\\begin{align}\\frac{3}{4+2}+2\\times\\color{blue}{\\left(3:9+\\color{red}{\\boxed{{2}^{\\color{green}{\\boxed{3}}}}}\\right)}-\\frac{2\\times\\left(5\\times7+5\\right)-1}{6}\\end{align}"
      ],
      "text/plain": [
       "<IPython.core.display.Latex object>"
      ]
     },
     "metadata": {},
     "output_type": "display_data"
    },
    {
     "data": {
      "text/latex": [
       "\\begin{align}\\frac{3}{4+2}+2\\times\\color{blue}{\\left(\\color{red}{\\boxed{3:9}}+\\color{green}{\\boxed{8}}\\right)}-\\frac{2\\times\\left(5\\times7+5\\right)-1}{6}\\end{align}"
      ],
      "text/plain": [
       "<IPython.core.display.Latex object>"
      ]
     },
     "metadata": {},
     "output_type": "display_data"
    },
    {
     "data": {
      "text/latex": [
       "\\begin{align}\\frac{3}{4+2}+2\\times\\color{blue}{\\left(\\color{red}{\\boxed{\\color{green}{\\boxed{\\frac{1}{3}}}+8}}\\right)}-\\frac{2\\times\\left(5\\times7+5\\right)-1}{6}\\end{align}"
      ],
      "text/plain": [
       "<IPython.core.display.Latex object>"
      ]
     },
     "metadata": {},
     "output_type": "display_data"
    },
    {
     "data": {
      "text/latex": [
       "\\begin{align}\\frac{3}{4+2}+2\\times\\color{green}{\\boxed{\\frac{25}{3}}}-\\frac{2\\times\\color{blue}{\\left(\\color{red}{\\boxed{5\\times7}}+5\\right)}-1}{6}\\end{align}"
      ],
      "text/plain": [
       "<IPython.core.display.Latex object>"
      ]
     },
     "metadata": {},
     "output_type": "display_data"
    },
    {
     "data": {
      "text/latex": [
       "\\begin{align}\\frac{3}{4+2}+2\\times\\frac{25}{3}-\\frac{2\\times\\color{blue}{\\left(\\color{red}{\\boxed{\\color{green}{\\boxed{35}}+5}}\\right)}-1}{6}\\end{align}"
      ],
      "text/plain": [
       "<IPython.core.display.Latex object>"
      ]
     },
     "metadata": {},
     "output_type": "display_data"
    },
    {
     "data": {
      "text/latex": [
       "\\begin{align}\\frac{3}{\\color{red}{\\boxed{4+2}}}+2\\times\\frac{25}{3}-\\frac{2\\times\\color{green}{\\boxed{40}}-1}{6}\\end{align}"
      ],
      "text/plain": [
       "<IPython.core.display.Latex object>"
      ]
     },
     "metadata": {},
     "output_type": "display_data"
    },
    {
     "data": {
      "text/latex": [
       "\\begin{align}\\color{red}{\\boxed{\\frac{3}{\\color{green}{\\boxed{6}}}}}+2\\times\\frac{25}{3}-\\frac{2\\times40-1}{6}\\end{align}"
      ],
      "text/plain": [
       "<IPython.core.display.Latex object>"
      ]
     },
     "metadata": {},
     "output_type": "display_data"
    },
    {
     "data": {
      "text/latex": [
       "\\begin{align}\\color{green}{\\boxed{\\frac{1}{2}}}+2\\times\\frac{25}{3}-\\frac{\\color{red}{\\boxed{2\\times40}}-1}{6}\\end{align}"
      ],
      "text/plain": [
       "<IPython.core.display.Latex object>"
      ]
     },
     "metadata": {},
     "output_type": "display_data"
    },
    {
     "data": {
      "text/latex": [
       "\\begin{align}\\frac{1}{2}+2\\times\\frac{25}{3}-\\frac{\\color{red}{\\boxed{\\color{green}{\\boxed{80}}-1}}}{6}\\end{align}"
      ],
      "text/plain": [
       "<IPython.core.display.Latex object>"
      ]
     },
     "metadata": {},
     "output_type": "display_data"
    },
    {
     "data": {
      "text/latex": [
       "\\begin{align}\\frac{1}{2}+2\\times\\frac{25}{3}-\\color{red}{\\boxed{\\frac{\\color{green}{\\boxed{79}}}{6}}}\\end{align}"
      ],
      "text/plain": [
       "<IPython.core.display.Latex object>"
      ]
     },
     "metadata": {},
     "output_type": "display_data"
    },
    {
     "data": {
      "text/latex": [
       "\\begin{align}\\frac{1}{2}+\\color{red}{\\boxed{2\\times\\frac{25}{3}}}-\\color{green}{\\boxed{\\frac{79}{6}}}\\end{align}"
      ],
      "text/plain": [
       "<IPython.core.display.Latex object>"
      ]
     },
     "metadata": {},
     "output_type": "display_data"
    },
    {
     "data": {
      "text/latex": [
       "\\begin{align}\\color{red}{\\boxed{\\frac{1}{2}+\\color{green}{\\boxed{\\frac{50}{3}}}-\\frac{79}{6}}}\\end{align}"
      ],
      "text/plain": [
       "<IPython.core.display.Latex object>"
      ]
     },
     "metadata": {},
     "output_type": "display_data"
    },
    {
     "data": {
      "text/latex": [
       "\\begin{align}\\color{green}{\\boxed{4}}\\end{align}"
      ],
      "text/plain": [
       "<IPython.core.display.Latex object>"
      ]
     },
     "metadata": {},
     "output_type": "display_data"
    },
    {
     "data": {
      "text/plain": [
       "4"
      ]
     },
     "execution_count": 11,
     "metadata": {},
     "output_type": "execute_result"
    }
   ],
   "source": [
    "ex1 = '1 + {2 x [(3 + 4 : 2) + 5] x 6} - [ 7 + (1 + 8) : 3 ] x [ 9 : (2 + 1) + 2 ]'\n",
    "ex2 = '< 2 + 3 > / 4 / < 5 + 6 > / 7'\n",
    "ex3 = '2 ^ < 3 + 4 ^ 5 : 2 ^ 7 >'\n",
    "ex4 = '3 + 13 x -<1 + 3>/<2^<1+4> - 6>'\n",
    "ex5a = '3 / < 4 + 2 > + 2 x { 3 : ( 4 + 5 ) + 2 ^ < 6 x 1/2 > } - < 2 x [ 5 x ( 3 + 4 ) + 5 ] - 1 > / 6'\n",
    "ex5b = '3 / < 4 + 2 > + 2 x ( 3 : ( 4 + 5 ) + 2 ^ < 6 x 1/2 > ) - < 2 x ( 5 x ( 3 + 4 ) + 5 ) - 1 > / 6'\n",
    "\n",
    "\n",
    "src = ex5b\n",
    "solve(src, 'R', show_latex = True)"
   ]
  },
  {
   "cell_type": "code",
   "execution_count": null,
   "metadata": {},
   "outputs": [],
   "source": [
    "if is_integer(str(Fraction(3, 1))):\n",
    "    print(\"SI\")\n",
    "    \n"
   ]
  },
  {
   "cell_type": "code",
   "execution_count": null,
   "metadata": {},
   "outputs": [],
   "source": [
    "r = r'([+-]?(?:0|[1-9]\\d*)(?:\\.\\d*)?(?:[eE][+\\-]?\\d+))$'\n",
    "if re.match(r, '1e6'): print(\"*****\")"
   ]
  }
 ],
 "metadata": {
  "kernelspec": {
   "display_name": "Python 3 (ipykernel)",
   "language": "python",
   "name": "python3"
  },
  "language_info": {
   "codemirror_mode": {
    "name": "ipython",
    "version": 3
   },
   "file_extension": ".py",
   "mimetype": "text/x-python",
   "name": "python",
   "nbconvert_exporter": "python",
   "pygments_lexer": "ipython3",
   "version": "3.8.8"
  }
 },
 "nbformat": 4,
 "nbformat_minor": 4
}
