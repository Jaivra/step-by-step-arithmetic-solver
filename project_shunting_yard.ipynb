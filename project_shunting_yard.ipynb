{
 "cells": [
  {
   "cell_type": "code",
   "execution_count": null,
   "id": "c4704d28",
   "metadata": {},
   "outputs": [],
   "source": [
    "from textwrap import dedent, indent\n",
    "\n",
    "from liblet import (\n",
    "    Production, \n",
    "    Grammar, \n",
    "    Derivation, \n",
    "    ProductionGraph,\n",
    "    TopDownInstantaneousDescription,\n",
    "    Stack,\n",
    "    Table,\n",
    "    Tree,\n",
    "    closure, \n",
    "    warn, \n",
    "    show_calls, \n",
    "    union_of, \n",
    "    dod2table, \n",
    "    side_by_side,\n",
    "    dict2table,\n",
    "    suffixes,\n",
    "    ε, HASH,\n",
    "    __version__)"
   ]
  },
  {
   "cell_type": "code",
   "execution_count": null,
   "id": "7e5f482d",
   "metadata": {},
   "outputs": [],
   "source": [
    "def compute_εfirst(G):\n",
    "\n",
    "    FIRST = Table(1, element = set) # questo significa che gli elementi dell tabella sono insiemi\n",
    "\n",
    "    # per prima cosa, il caso banele \n",
    "    for t in G.T: FIRST[(t, )] = {t} # attenzione, gli indici sono forme sentenziali, ossia tuple!\n",
    "        \n",
    "    # qualche caso \"extra\" che ci verrà comodo poi    \n",
    "    FIRST[tuple()] = {ε}\n",
    "    FIRST[(ε, )] = {ε}\n",
    "    FIRST[(HASH, )] = {HASH}\n",
    "\n",
    "    @closure\n",
    "    def update_with_suffixes(FIRST):\n",
    "        for N, α in G.P:\n",
    "            FIRST[(N, )] |= FIRST[α]\n",
    "            for γ in suffixes(α):\n",
    "                A, *β = γ\n",
    "                FIRST[γ] |= FIRST[(A, )] - {ε}\n",
    "                if ε in FIRST[(A, )]: FIRST[γ] |= FIRST[β]\n",
    "        return FIRST\n",
    "\n",
    "    return update_with_suffixes(FIRST)"
   ]
  },
  {
   "cell_type": "code",
   "execution_count": null,
   "id": "69115dcd",
   "metadata": {},
   "outputs": [],
   "source": [
    "def compute_follow(G, FIRST):\n",
    "    \n",
    "    FOLLOW = Table(1, set)\n",
    "    FOLLOW[G.S] |= {HASH}\n",
    "    \n",
    "    @closure\n",
    "    def complete_follow(FOLLOW):\n",
    "        for X, ω in G.P:\n",
    "            for γ in suffixes(ω): # X -> α A β (α è mangiato dal suffisso)\n",
    "                A, *β = γ\n",
    "                if A not in G.N: continue\n",
    "                FOLLOW[A] |= FIRST[β] - {ε}\n",
    "                if ε in FIRST[β]: FOLLOW[A] |= FOLLOW[X]\n",
    "        return FOLLOW\n",
    "    \n",
    "    return complete_follow(FOLLOW)"
   ]
  },
  {
   "cell_type": "code",
   "execution_count": null,
   "id": "2e4f9940",
   "metadata": {},
   "outputs": [],
   "source": [
    "def compute_table(G, FIRST, FOLLOW):\n",
    "    \n",
    "    TABLE = Table(2)\n",
    "    FIRST_TABLE = Table(2)\n",
    "    FOLLOW_TABLE = Table(2)\n",
    "\n",
    "    for P in G.P:\n",
    "        A, α = P\n",
    "        for a in FIRST[α] - {'ε'}:\n",
    "            if FIRST_TABLE[A, a] is not None:\n",
    "                warn('First/first conflict on ({}, {}) for production {}'.format(A, a, P))\n",
    "            else:\n",
    "                FIRST_TABLE[A, a] = P\n",
    "                TABLE[A, a] = P\n",
    "        if 'ε' in FIRST[α]:\n",
    "            for a in FOLLOW[A]:\n",
    "                if FIRST_TABLE[A, a] is not None:\n",
    "                    warn('First/follow conflict on ({}, {}) for production {}'.format(A, a, P))\n",
    "                if FOLLOW_TABLE[A, a] is not None:\n",
    "                    warn('Follow/follow conflict on ({}, {}) for production {}'.format(A, a, P))\n",
    "                if FIRST_TABLE[A, a] is None and FOLLOW_TABLE[A, a] is None:\n",
    "                    FOLLOW_TABLE[A, a] = P\n",
    "                    TABLE[A, a] = P\n",
    "    return TABLE"
   ]
  },
  {
   "cell_type": "code",
   "execution_count": null,
   "id": "c51d9f4d",
   "metadata": {},
   "outputs": [],
   "source": [
    "def parse(G, TABLE, INPUT):\n",
    "    tdid = TopDownInstantaneousDescription(G, INPUT)\n",
    "    while not tdid.is_done():\n",
    "        if tdid.top() in G.N:\n",
    "            P = TABLE[tdid.top(), tdid.head()]\n",
    "            if P is None:\n",
    "                warn('No production for ({}, {}) at {}.'.format(tdid.top(), tdid.head(), tdid.steps) )\n",
    "                return None \n",
    "            tdid = tdid.predict(P)\n",
    "        else:\n",
    "            if tdid.top() == ε or tdid.top() == tdid.head():\n",
    "                tdid = tdid.match()\n",
    "            else:\n",
    "                warn('Expecting {}, got {}.'.format(tdid.top(), tdid.head()))\n",
    "                return None   \n",
    "    return Derivation(G).leftmost(tdid.steps)"
   ]
  },
  {
   "cell_type": "code",
   "execution_count": null,
   "id": "028e1bca",
   "metadata": {},
   "outputs": [],
   "source": [
    "G = Grammar.from_string(\"\"\"\n",
    "E  -> T E'\n",
    "E' -> + T E' | - T E' | ε\n",
    "T  -> F T' | ε\n",
    "T' -> * F T' | / F T'\n",
    "F  -> ( E ) | t\n",
    "\"\"\")\n",
    "\n",
    "G = Grammar.from_string(\"\"\"\n",
    "S -> Add\n",
    "Add -> Mul AddAux\n",
    "AddAux -> + Mul AddAux | - Mul AddAux | ε\n",
    "\n",
    "Mul -> Fract MulAux\n",
    "MulAux -> x Fract MulAux | : Fract MulAux | ε\n",
    "\n",
    "Fract -> Pow FractAux\n",
    "FractAux -> / Pow FractAux | ε\n",
    "\n",
    "Pow -> F PowAux\n",
    "PowAux -> ^ F PowAux | ε\n",
    "F -> ( Add ) | [ Add ] | { Add } | < Add > | Num\n",
    "\n",
    "Num -> Digit Num | ε\n",
    "Digit -> 1 | 2 | 3 | 4 | 5 | 6 | 7 | 8 | 9 | 0\n",
    "\n",
    "\"\"\")\n",
    "\n",
    "G = Grammar.from_string(\"\"\"\n",
    "E -> E1 E1T\n",
    "E1 -> E2 E2T\n",
    "E1T -> - E1 E1T | + E1 E1T | ε\n",
    "E2 -> E3 E3T\n",
    "E2T -> x E2 E2T |: E2 E2T | ε\n",
    "E3 -> ( E )  | n\n",
    "E3T -> ^ E3 E3T | ε\n",
    "\"\"\")\n",
    "\n",
    "\n",
    "FIRST = compute_εfirst(G)\n",
    "FIRST.restrict_to({(N, ) for N in G.N})\n",
    "FOLLOW = compute_follow(G, FIRST)\n",
    "TABLE = compute_table(G, FIRST, FOLLOW)"
   ]
  },
  {
   "cell_type": "code",
   "execution_count": null,
   "id": "5597f450",
   "metadata": {},
   "outputs": [],
   "source": [
    "def derivation_to_parsetree(d):\n",
    "    root = [{'name': d.G.S}]\n",
    "    sentence = [root, ] \n",
    "    print(d.steps())\n",
    "    for prod, pos in d.steps():\n",
    "        tree = sentence[pos]\n",
    "        children = [[{'name': X}] for X in d.G.P[prod].rhs]\n",
    "        tree.extend(children)\n",
    "        children = [child for child in children if child[0]['name'] != 'ε']\n",
    "        sentence = sentence[:pos] + children + sentence[pos + 1:]\n",
    "        \n",
    "    return root"
   ]
  },
  {
   "cell_type": "code",
   "execution_count": null,
   "id": "9d83d7ec",
   "metadata": {},
   "outputs": [],
   "source": [
    "ex5b = '3 / < 4 + 2 > + 2 x ( 3 : ( 4 + 5 ) + 2 ^ < 6 x 1 / 2 > ) - < 2 x ( 5 x ( 3 + 4 ) + 5 ) - 1 > / 6'\n",
    "\n",
    "src = ' n  - n + n'\n",
    " \n",
    "d = parse(G, TABLE, src.split())\n",
    "pt = derivation_to_parsetree(d)\n",
    "ptree = Tree.from_lol(pt)\n",
    "ProductionGraph(d)\n",
    "display(ptree)\n",
    "\n",
    "atw_ptree_to_ast = AtwPtreeToAst()\n",
    "#ast = atw_ptree_to_ast.start(ptree)\n",
    "#ast\n",
    "\n",
    "# SDD https://stackoverflow.com/questions/47622118/how-ll1-parser-handle-right-associative-grammar"
   ]
  },
  {
   "cell_type": "code",
   "execution_count": null,
   "id": "7ad053ea",
   "metadata": {},
   "outputs": [],
   "source": [
    "ptree"
   ]
  },
  {
   "cell_type": "code",
   "execution_count": null,
   "id": "6deef8d6",
   "metadata": {},
   "outputs": [],
   "source": [
    "ex1 = '1 + { 2 x [ ( 3 + 4 : 2 ) + 5 ] x 6 } - [ 7 + ( 1 + 8 ) : 3 ] x [ 9 : ( 2 + 1 ) + 2 ]'\n",
    "ex2 = '< 2 + 3 > / 4 / < 5 + 6 > / 7'\n",
    "ex3 = '2 ^ < 3 + 4 ^ 5 : 2 ^ 7 >'\n",
    "ex4 = '3 + 1 3 x < 1 + 3 > / < 2 ^ < 1 + 4 > - 6 >'\n",
    "ex5a = '3 / < 4 + 2 > + 2 x { 3 : ( 4 + 5 ) + 2 ^ < 6 x 1/2 > } - < 2 x [ 5 x ( 3 + 4 ) + 5 ] - 1 > / 6'\n",
    "ex5b = '3 / < 4 + 2 > + 2 x ( 3 : ( 4 + 5 ) + 2 ^ < 6 x 1 / 2 > ) - < 2 x ( 5 x ( 3 + 4 ) + 5 ) - 1 > / 6'\n",
    "\n",
    "src = ' 8 - 4 + 5'\n",
    "\n",
    "d = parse(G, TABLE, src.split())\n",
    "pt = derivation_to_parsetree(d)\n",
    "ptree = Tree.from_lol(pt)\n",
    "ProductionGraph(d)\n",
    "ptree\n",
    "atw_ptree_to_ast = AtwPtreeToAst()\n",
    "ast = atw_ptree_to_ast.start(ptree)\n",
    "\n",
    "\n",
    "AM = ArithManager()\n",
    "\n",
    "blocks = AM.blocks(ast)\n",
    "MEMORY = dict(blocks)\n",
    "\n",
    "main_block = blocks[-1][1]\n",
    "child_to_calc = None\n",
    "\n",
    "current_block = block_id = None\n",
    "\n",
    "while blocks and is_calculable(blocks[0][1]): blocks = blocks[1:]\n",
    "    \n",
    "while blocks:\n",
    "    block_id, current_block = blocks[0]\n",
    "        \n",
    "    parent_to_calc = AM.prior(current_block)\n",
    "    display_latex(AM.latex(main_block, MEMORY))\n",
    "\n",
    "    parent_to_calc.children =  [Tree({'type': 'atomExpr', 'value': AM.eval(child, MEMORY), 'priority': 0, '_calc': 'last'}, []) \n",
    "                                if is_next_to_calc(child) else child\n",
    "                                for child in parent_to_calc.children]\n",
    "    \n",
    "    if is_calculable(current_block):\n",
    "        current_block = current_block.children[0]\n",
    "        blocks = blocks[1:]\n",
    "        \n",
    "    MEMORY[block_id] = current_block\n",
    "\n",
    "display_latex(AM.latex(main_block, {}))"
   ]
  },
  {
   "cell_type": "code",
   "execution_count": null,
   "id": "559a12cc",
   "metadata": {},
   "outputs": [],
   "source": [
    "%load_ext autoreload\n",
    "%autoreload 2"
   ]
  },
  {
   "cell_type": "code",
   "execution_count": null,
   "id": "38a47095",
   "metadata": {},
   "outputs": [],
   "source": [
    "from core.atw_my_ptree_to_ast import AtwPtreeToAst\n",
    "from core.arithmetic_manager import ArithManager\n",
    "from core.util import *"
   ]
  },
  {
   "cell_type": "code",
   "execution_count": null,
   "id": "5a6e0fac",
   "metadata": {},
   "outputs": [],
   "source": [
    "atw_ptree_to_ast = AtwPtreeToAst()\n",
    "atw_ptree_to_ast.start(ptree)"
   ]
  },
  {
   "cell_type": "code",
   "execution_count": null,
   "id": "4cbd901f",
   "metadata": {},
   "outputs": [],
   "source": []
  },
  {
   "cell_type": "code",
   "execution_count": null,
   "id": "b3fb7be4",
   "metadata": {},
   "outputs": [],
   "source": []
  },
  {
   "cell_type": "code",
   "execution_count": null,
   "id": "de13646b",
   "metadata": {},
   "outputs": [],
   "source": []
  },
  {
   "cell_type": "code",
   "execution_count": null,
   "id": "6f922147",
   "metadata": {},
   "outputs": [],
   "source": []
  },
  {
   "cell_type": "code",
   "execution_count": null,
   "id": "3af7d929",
   "metadata": {},
   "outputs": [],
   "source": [
    "# Shunting-yard Algorithm implemented in Python.\n",
    "# Takes a string using infix notation and outputs it in postfix.\n",
    "# For example: (5+4)*8 -> 5 4 + 8 *\n",
    "\n",
    "import re\n",
    "from collections import namedtuple\n",
    "\n",
    "opinfo = namedtuple('Operator', 'precedence associativity')\n",
    "operator_info = {\n",
    "    \"+\": opinfo(0, \"L\"),\n",
    "    \"-\": opinfo(0, \"L\"),\n",
    "    \"/\": opinfo(1, \"L\"),\n",
    "    \"*\": opinfo(1, \"L\"),\n",
    "    \"!\": opinfo(2, \"L\"),\n",
    "    \"^\": opinfo(2, \"R\"),\n",
    "}\n",
    "\n",
    "\n",
    "def tokenize(input_string):\n",
    "    cleaned = re.sub(r'\\s+', \"\", input_string)\n",
    "    chars = list(cleaned)\n",
    "\n",
    "    output = []\n",
    "    state = \"\"\n",
    "    buf = \"\"\n",
    "\n",
    "    while len(chars) != 0:\n",
    "        char = chars.pop(0)\n",
    "\n",
    "        if char.isdigit():\n",
    "            if state != \"num\":\n",
    "                output.append(buf) if buf != \"\" else False\n",
    "                buf = \"\"\n",
    "\n",
    "            state = \"num\"\n",
    "            buf += char\n",
    "\n",
    "        elif char in operator_info.keys() or char in [\"(\", \")\"]:\n",
    "            output.append(buf) if buf != \"\" else False\n",
    "            buf = \"\"\n",
    "\n",
    "            output.append(char)\n",
    "\n",
    "        else:\n",
    "            if state != \"func\":\n",
    "                output.append(buf) if buf != \"\" else False\n",
    "                buf = \"\"\n",
    "\n",
    "            state = \"func\"\n",
    "            buf += char\n",
    "\n",
    "    output.append(buf) if buf != \"\" else False\n",
    "    return output\n",
    "\n",
    "\n",
    "def shunt(tokens):\n",
    "    tokens += ['end']\n",
    "    operators = []\n",
    "    output = []\n",
    "\n",
    "    while len(tokens) != 1:\n",
    "        current_token = tokens.pop(0)\n",
    "\n",
    "        if current_token.isdigit():\n",
    "            # Is a number\n",
    "            print(\"number\", current_token)\n",
    "            output.append(current_token)\n",
    "\n",
    "        elif current_token in operator_info.keys():\n",
    "            # Is an operator\n",
    "            print(\"op\", current_token)\n",
    "\n",
    "            while True:\n",
    "                if len(operators) == 0:\n",
    "                    break\n",
    "\n",
    "                satisfied = False\n",
    "\n",
    "                if operators[-1].isalpha():\n",
    "                    # is a function\n",
    "                    satisfied = True\n",
    "\n",
    "                if operators[-1] not in [\"(\", \")\"]:\n",
    "                    if operator_info[operators[-1]].precedence > operator_info[current_token].precedence:\n",
    "                        # operator at top has greater precedence\n",
    "                        satisfied = True\n",
    "\n",
    "                    elif operator_info[operators[-1]].precedence == operator_info[current_token].precedence:\n",
    "                        if operator_info[operators[-1]].associativity == \"left\":\n",
    "                            # equal precedence and has left associativity\n",
    "                            satisfied = True\n",
    "\n",
    "                satisfied = satisfied and operators[-1] != \"(\"\n",
    "\n",
    "                if not satisfied:\n",
    "                    break\n",
    "\n",
    "                output.append(operators.pop())\n",
    "\n",
    "            operators.append(current_token)\n",
    "\n",
    "        elif current_token == \"(\":\n",
    "            # Is left bracket\n",
    "            print(\"left\", current_token)\n",
    "            operators.append(current_token)\n",
    "\n",
    "        elif current_token == \")\":\n",
    "            # Is right bracket\n",
    "            print(\"right\", current_token)\n",
    "\n",
    "            while True:\n",
    "                if len(operators) == 0:\n",
    "                    break\n",
    "\n",
    "                if operators[-1] == \"(\":\n",
    "                    break\n",
    "\n",
    "                output.append(operators.pop())\n",
    "\n",
    "            if len(operators) != 0 and operators[-1] == \"(\":\n",
    "                operators.pop()\n",
    "\n",
    "        else:\n",
    "            # Is a function name\n",
    "            print(\"func\", current_token)\n",
    "            operators.append(current_token)\n",
    "\n",
    "    output.extend(operators[::-1])\n",
    "\n",
    "    return output\n",
    "\n",
    "\n",
    "tokens = tokenize(\"(3 - 4 + 5) + (4 + 4 - 5)\")\n",
    "print(\" \".join(shunt(tokens)))\n",
    "(3 - 4 + 5) + (4 + 4 - 5)"
   ]
  },
  {
   "cell_type": "code",
   "execution_count": null,
   "id": "59d0fb60",
   "metadata": {},
   "outputs": [],
   "source": [
    "from liblet import Stack\n",
    "st = Stack()\n",
    "def evaluatePostfix(exp):\n",
    "        for i in exp:\n",
    "            if i.isdigit():\n",
    "                st.push(i)\n",
    "            else:\n",
    "                val1 = st.pop()\n",
    "                val2 = st.pop()\n",
    "                st.push(str(eval(val2 + i + val1)))\n",
    " \n",
    "        return int(st.pop())"
   ]
  },
  {
   "cell_type": "code",
   "execution_count": null,
   "id": "a1d90f43",
   "metadata": {},
   "outputs": [],
   "source": []
  },
  {
   "cell_type": "code",
   "execution_count": null,
   "id": "8e7438f9",
   "metadata": {},
   "outputs": [],
   "source": []
  },
  {
   "cell_type": "code",
   "execution_count": null,
   "id": "25775410",
   "metadata": {},
   "outputs": [],
   "source": []
  },
  {
   "cell_type": "code",
   "execution_count": null,
   "id": "e712c24e",
   "metadata": {},
   "outputs": [],
   "source": []
  },
  {
   "cell_type": "code",
   "execution_count": null,
   "id": "23cb7874",
   "metadata": {},
   "outputs": [],
   "source": []
  },
  {
   "cell_type": "code",
   "execution_count": null,
   "id": "d4a0a553",
   "metadata": {},
   "outputs": [],
   "source": []
  },
  {
   "cell_type": "code",
   "execution_count": null,
   "id": "4ad1809d",
   "metadata": {},
   "outputs": [],
   "source": [
    "import re\n",
    "from collections import namedtuple\n",
    "from liblet import Stack, Queue\n",
    "\n",
    "opinfo = namedtuple('Operator', 'prec assoc')\n",
    "operators = {\n",
    "    \"+\": opinfo(0, \"L\"),\n",
    "    \"-\": opinfo(0, \"L\"),\n",
    "    \"/\": opinfo(1, \"L\"),\n",
    "    \"*\": opinfo(1, \"L\"),\n",
    "    \"!\": opinfo(2, \"L\"),\n",
    "    \"^\": opinfo(2, \"R\"),\n",
    "}\n",
    "\n",
    "\n",
    "st = Stack()\n",
    "q = Queue()\n",
    "def shunt(expr):\n",
    "    clean_expr = expr.split()\n",
    "    tokens = list(clean_expr)\n",
    "    tokens\n",
    "    while tokens:\n",
    "        token = tokens[0]\n",
    "        if token.isdigit():\n",
    "            q.enqueue(token)\n",
    "        elif token in operators.keys():\n",
    "            while st and st.peek() != '(' and \\\n",
    "            (operators[st.peek()].prec > operators[token].prec or \n",
    "                 (operators[st.peek()].prec == operators[token].prec and operators[token].assoc == 'L')):\n",
    "                    \n",
    "                q.enqueue(st.pop())\n",
    "            st.push(token)\n",
    "        elif token == '(':\n",
    "            st.push(token)\n",
    "        elif token == ')':\n",
    "            while st.peek() != '(':\n",
    "                q.enqueue(st.pop())\n",
    "            st.pop()\n",
    "        tokens = tokens[1:]\n",
    "        print(token, \":\", st, q)\n",
    "    while st:\n",
    "        q.enqueue(st.pop())\n",
    "    return ' '.join(q)\n",
    "\n",
    "\n",
    "operator_st = Stack()\n",
    "operand_st = Stack()\n",
    "def shunt_tree(expr):\n",
    "    clean_expr = expr.split()\n",
    "    tokens = list(clean_expr)\n",
    "    tokens\n",
    "    while tokens:\n",
    "        token = tokens[0]\n",
    "        if token.isdigit():\n",
    "            atom = Tree({'type': 'atom', 'value': int(token)})\n",
    "            operand_st.push(atom)\n",
    "        elif token in operators.keys():\n",
    "            while operator_st and operator_st.peek() != '(' and \\\n",
    "            (operators[operator_st.peek()].prec > operators[token].prec or \n",
    "                 (operators[operator_st.peek()].prec == operators[token].prec and operators[token].assoc == 'L')):\n",
    "                #print(\"****\", q)\n",
    "                right = operand_st.top()\n",
    "                left = operand_st.top()\n",
    "                op = Tree({'type': 'op', 'value': operator_st.pop()}, [left, right])\n",
    "                operand_st.push(op)\n",
    "            operator_st.push(token)\n",
    "        elif token == '(':\n",
    "            operator_stack.push(token)\n",
    "        elif token == ')':\n",
    "            while operator_stack.peek() != '(':\n",
    "                right = operand_st.top()\n",
    "                left = operand_st.top()\n",
    "                op = Tree({'type': 'op', 'value': operator_stack.pop()}, [left, right])\n",
    "                operand_stack.push(op)\n",
    "            operator_stack.pop()\n",
    "        tokens = tokens[1:]\n",
    "        #print(token, \":\", operator_st, operand_st)\n",
    "    while operator_stack:\n",
    "        right = operand_st.top()\n",
    "        left = operand_st.top()\n",
    "        op = Tree({'type': 'op', 'value': operator_stack.pop()}, [left, right])\n",
    "        operand_stack.push(op)\n",
    "    return operand_stack.pop()\n",
    "\n",
    "expr = '2 - 3 + ( 4 + 5 )'\n",
    "t = shunt_tree(expr)\n",
    "t"
   ]
  },
  {
   "cell_type": "code",
   "execution_count": null,
   "id": "9ffb43f2",
   "metadata": {},
   "outputs": [],
   "source": [
    "# Shunting-yard Algorithm implemented in Python.\n",
    "# Takes a string using infix notation and outputs it in postfix.\n",
    "# For example: (5+4)*8 -> 5 4 + 8 *\n",
    "\n",
    "import re\n",
    "from collections import namedtuple\n",
    "\n",
    "opinfo = namedtuple('Operator', 'precedence associativity')\n",
    "operator_info = {\n",
    "    \"+\": opinfo(0, \"L\"),\n",
    "    \"-\": opinfo(0, \"L\"),\n",
    "    \"/\": opinfo(1, \"L\"),\n",
    "    \"*\": opinfo(1, \"L\"),\n",
    "    \"!\": opinfo(2, \"L\"),\n",
    "    \"^\": opinfo(2, \"R\"),\n",
    "}\n",
    "\n",
    "\n",
    "def tokenize(input_string):\n",
    "    cleaned = re.sub(r'\\s+', \"\", input_string)\n",
    "    chars = list(cleaned)\n",
    "    print(chars)\n",
    "\n",
    "    output = []\n",
    "    state = \"\"\n",
    "    buf = \"\"\n",
    "\n",
    "    while len(chars) != 0:\n",
    "        char = chars.pop(0)\n",
    "\n",
    "        if char.isdigit():\n",
    "            if state != \"num\":\n",
    "                output.append(buf) if buf != \"\" else False\n",
    "                buf = \"\"\n",
    "\n",
    "            state = \"num\"\n",
    "            buf += char\n",
    "\n",
    "        elif char in operator_info.keys() or char in [\"(\", \")\"]:\n",
    "            output.append(buf) if buf != \"\" else False\n",
    "            buf = \"\"\n",
    "\n",
    "            output.append(char)\n",
    "\n",
    "        else:\n",
    "            if state != \"func\":\n",
    "                output.append(buf) if buf != \"\" else False\n",
    "                buf = \"\"\n",
    "\n",
    "            state = \"func\"\n",
    "            buf += char\n",
    "\n",
    "    output.append(buf) if buf != \"\" else False\n",
    "    return output\n",
    "\n",
    "\n",
    "def shunt(tokens):\n",
    "    tokens += ['end']\n",
    "    operators = []\n",
    "    output = []\n",
    "\n",
    "    while len(tokens) != 1:\n",
    "        current_token = tokens.pop(0)\n",
    "\n",
    "        if current_token.isdigit():\n",
    "            # Is a number\n",
    "            print(\"number\", current_token)\n",
    "            output.append(current_token)\n",
    "\n",
    "        elif current_token in operator_info.keys():\n",
    "            # Is an operator\n",
    "            print(\"op\", current_token)\n",
    "\n",
    "            while True:\n",
    "                if len(operators) == 0:\n",
    "                    break\n",
    "\n",
    "                satisfied = False\n",
    "\n",
    "                if operators[-1].isalpha():\n",
    "                    # is a function\n",
    "                    satisfied = True\n",
    "\n",
    "                if operators[-1] not in [\"(\", \")\"]:\n",
    "                    if operator_info[operators[-1]].precedence > operator_info[current_token].precedence:\n",
    "                        # operator at top has greater precedence\n",
    "                        satisfied = True\n",
    "\n",
    "                    elif operator_info[operators[-1]].precedence == operator_info[current_token].precedence:\n",
    "                        if operator_info[operators[-1]].associativity == \"left\":\n",
    "                            # equal precedence and has left associativity\n",
    "                            satisfied = True\n",
    "\n",
    "                satisfied = satisfied and operators[-1] != \"(\"\n",
    "\n",
    "                if not satisfied:\n",
    "                    break\n",
    "\n",
    "                output.append(operators.pop())\n",
    "\n",
    "            operators.append(current_token)\n",
    "\n",
    "        elif current_token == \"(\":\n",
    "            # Is left bracket\n",
    "            print(\"left\", current_token)\n",
    "            operators.append(current_token)\n",
    "\n",
    "        elif current_token == \")\":\n",
    "            # Is right bracket\n",
    "            print(\"right\", current_token)\n",
    "\n",
    "            while True:\n",
    "                if len(operators) == 0:\n",
    "                    break\n",
    "\n",
    "                if operators[-1] == \"(\":\n",
    "                    break\n",
    "\n",
    "                output.append(operators.pop())\n",
    "\n",
    "            if len(operators) != 0 and operators[-1] == \"(\":\n",
    "                operators.pop()\n",
    "\n",
    "        else:\n",
    "            # Is a function name\n",
    "            print(\"func\", current_token)\n",
    "            operators.append(current_token)\n",
    "\n",
    "    output.extend(operators[::-1])\n",
    "\n",
    "    return output\n",
    "\n",
    "expr = '2 - 43'\n",
    "\n",
    "tokens = tokenize(expr)\n",
    "print(\" \".join(shunt(tokens)))\n",
    "tokens"
   ]
  },
  {
   "cell_type": "code",
   "execution_count": null,
   "id": "d9d8ed46",
   "metadata": {},
   "outputs": [],
   "source": []
  },
  {
   "cell_type": "code",
   "execution_count": null,
   "id": "ae670542",
   "metadata": {},
   "outputs": [],
   "source": []
  },
  {
   "cell_type": "code",
   "execution_count": null,
   "id": "b4f4b7d8",
   "metadata": {},
   "outputs": [],
   "source": []
  },
  {
   "cell_type": "code",
   "execution_count": 1,
   "id": "33a83492",
   "metadata": {},
   "outputs": [],
   "source": [
    "%load_ext autoreload\n",
    "%autoreload 2"
   ]
  },
  {
   "cell_type": "code",
   "execution_count": 2,
   "id": "70abce5e",
   "metadata": {},
   "outputs": [],
   "source": [
    "from core.arithmetic_manager import ArithManager\n",
    "from core.util import *"
   ]
  },
  {
   "cell_type": "code",
   "execution_count": 48,
   "id": "04dd0e43",
   "metadata": {},
   "outputs": [
    {
     "data": {
      "text/latex": [
       "\\begin{align}\\frac{3} {4 + 2} + 2 \\times \\left(3 : \\color{blue}{\\left(\\color{red}{\\boxed{4+5}}\\right)} + {2}^{6 \\times \\frac{1} {2}}\\right) - \\frac{2 \\times \\left(5 \\times \\left(3 + 4\\right) + 5\\right) - 1} {6}\\end{align}"
      ],
      "text/plain": [
       "<IPython.core.display.Latex object>"
      ]
     },
     "metadata": {},
     "output_type": "display_data"
    },
    {
     "data": {
      "text/latex": [
       "\\begin{align}\\frac{3} {4 + 2} + 2 \\times \\left(3 : \\color{green}{\\boxed{9}} + {2}^{6 \\times \\frac{1} {2}}\\right) - \\frac{2 \\times \\left(5 \\times \\color{blue}{\\left(\\color{red}{\\boxed{3+4}}\\right)} + 5\\right) - 1} {6}\\end{align}"
      ],
      "text/plain": [
       "<IPython.core.display.Latex object>"
      ]
     },
     "metadata": {},
     "output_type": "display_data"
    },
    {
     "data": {
      "text/latex": [
       "\\begin{align}\\frac{3} {4 + 2} + 2 \\times \\color{blue}{\\left(3 : 9 + {2}^{6 \\times \\color{red}{\\boxed{\\frac{1} {2}}}}\\right)} - \\frac{2 \\times \\left(5 \\times \\color{green}{\\boxed{7}} + 5\\right) - 1} {6}\\end{align}"
      ],
      "text/plain": [
       "<IPython.core.display.Latex object>"
      ]
     },
     "metadata": {},
     "output_type": "display_data"
    },
    {
     "data": {
      "text/latex": [
       "\\begin{align}\\frac{3} {4 + 2} + 2 \\times \\color{blue}{\\left(3 : 9 + {2}^{\\color{red}{\\boxed{6\\times\\color{green}{\\boxed{\\frac{1} {2}}}}}}\\right)} - \\frac{2 \\times \\left(5 \\times 7 + 5\\right) - 1} {6}\\end{align}"
      ],
      "text/plain": [
       "<IPython.core.display.Latex object>"
      ]
     },
     "metadata": {},
     "output_type": "display_data"
    },
    {
     "data": {
      "text/latex": [
       "\\begin{align}\\frac{3} {4 + 2} + 2 \\times \\color{blue}{\\left(3 : 9 + \\color{red}{\\boxed{{2}^{\\color{green}{\\boxed{3}}}}}\\right)} - \\frac{2 \\times \\left(5 \\times 7 + 5\\right) - 1} {6}\\end{align}"
      ],
      "text/plain": [
       "<IPython.core.display.Latex object>"
      ]
     },
     "metadata": {},
     "output_type": "display_data"
    },
    {
     "data": {
      "text/latex": [
       "\\begin{align}\\frac{3} {4 + 2} + 2 \\times \\color{blue}{\\left(\\color{red}{\\boxed{3:9}} + \\color{green}{\\boxed{8}}\\right)} - \\frac{2 \\times \\left(5 \\times 7 + 5\\right) - 1} {6}\\end{align}"
      ],
      "text/plain": [
       "<IPython.core.display.Latex object>"
      ]
     },
     "metadata": {},
     "output_type": "display_data"
    },
    {
     "data": {
      "text/latex": [
       "\\begin{align}\\frac{3} {4 + 2} + 2 \\times \\color{blue}{\\left(\\color{red}{\\boxed{\\color{green}{\\boxed{\\frac{1} {3}}}+8}}\\right)} - \\frac{2 \\times \\left(5 \\times 7 + 5\\right) - 1} {6}\\end{align}"
      ],
      "text/plain": [
       "<IPython.core.display.Latex object>"
      ]
     },
     "metadata": {},
     "output_type": "display_data"
    },
    {
     "data": {
      "text/latex": [
       "\\begin{align}\\frac{3} {4 + 2} + 2 \\times \\color{green}{\\boxed{\\frac{25} {3}}} - \\frac{2 \\times \\color{blue}{\\left(\\color{red}{\\boxed{5\\times7}} + 5\\right)} - 1} {6}\\end{align}"
      ],
      "text/plain": [
       "<IPython.core.display.Latex object>"
      ]
     },
     "metadata": {},
     "output_type": "display_data"
    },
    {
     "data": {
      "text/latex": [
       "\\begin{align}\\frac{3} {4 + 2} + 2 \\times \\frac{25} {3} - \\frac{2 \\times \\color{blue}{\\left(\\color{red}{\\boxed{\\color{green}{\\boxed{35}}+5}}\\right)} - 1} {6}\\end{align}"
      ],
      "text/plain": [
       "<IPython.core.display.Latex object>"
      ]
     },
     "metadata": {},
     "output_type": "display_data"
    },
    {
     "data": {
      "text/latex": [
       "\\begin{align}\\frac{3} {\\color{red}{\\boxed{4+2}}} + 2 \\times \\frac{25} {3} - \\frac{2 \\times \\color{green}{\\boxed{40}} - 1} {6}\\end{align}"
      ],
      "text/plain": [
       "<IPython.core.display.Latex object>"
      ]
     },
     "metadata": {},
     "output_type": "display_data"
    },
    {
     "data": {
      "text/latex": [
       "\\begin{align}\\color{red}{\\boxed{\\frac{3} {\\color{green}{\\boxed{6}}}}} + 2 \\times \\frac{25} {3} - \\frac{2 \\times 40 - 1} {6}\\end{align}"
      ],
      "text/plain": [
       "<IPython.core.display.Latex object>"
      ]
     },
     "metadata": {},
     "output_type": "display_data"
    },
    {
     "data": {
      "text/latex": [
       "\\begin{align}\\color{green}{\\boxed{\\frac{1} {2}}} + 2 \\times \\frac{25} {3} - \\frac{\\color{red}{\\boxed{2\\times40}} - 1} {6}\\end{align}"
      ],
      "text/plain": [
       "<IPython.core.display.Latex object>"
      ]
     },
     "metadata": {},
     "output_type": "display_data"
    },
    {
     "data": {
      "text/latex": [
       "\\begin{align}\\frac{1} {2} + 2 \\times \\frac{25} {3} - \\frac{\\color{red}{\\boxed{\\color{green}{\\boxed{80}}-1}}} {6}\\end{align}"
      ],
      "text/plain": [
       "<IPython.core.display.Latex object>"
      ]
     },
     "metadata": {},
     "output_type": "display_data"
    },
    {
     "data": {
      "text/latex": [
       "\\begin{align}\\frac{1} {2} + 2 \\times \\frac{25} {3} - \\color{red}{\\boxed{\\frac{\\color{green}{\\boxed{79}}} {6}}}\\end{align}"
      ],
      "text/plain": [
       "<IPython.core.display.Latex object>"
      ]
     },
     "metadata": {},
     "output_type": "display_data"
    },
    {
     "data": {
      "text/latex": [
       "\\begin{align}\\frac{1} {2} + \\color{red}{\\boxed{2\\times\\frac{25} {3}}} - \\color{green}{\\boxed{\\frac{79} {6}}}\\end{align}"
      ],
      "text/plain": [
       "<IPython.core.display.Latex object>"
      ]
     },
     "metadata": {},
     "output_type": "display_data"
    },
    {
     "data": {
      "text/latex": [
       "\\begin{align}\\color{red}{\\boxed{\\frac{1} {2} + \\color{green}{\\boxed{\\frac{50} {3}}}-\\frac{79} {6}}}\\end{align}"
      ],
      "text/plain": [
       "<IPython.core.display.Latex object>"
      ]
     },
     "metadata": {},
     "output_type": "display_data"
    },
    {
     "data": {
      "text/latex": [
       "\\begin{align}\\color{green}{\\boxed{4}}\\end{align}"
      ],
      "text/plain": [
       "<IPython.core.display.Latex object>"
      ]
     },
     "metadata": {},
     "output_type": "display_data"
    }
   ],
   "source": [
    "ex1 = '1 + { 2 x [ ( 3 + 4 : 2 ) + 5 ] x 6 } - [ 7 + ( 1 + 8 ) : 3 ] x [ 9 : ( 2 + 1 ) + 2 ]'\n",
    "ex2 = '< 2 + 3 > / 4 / < 5 + 6 > / 7'\n",
    "ex3 = '2 ^ < 3 + 4 ^ 5 : 2 ^ 7 >'\n",
    "ex4 = '3 + 13 x - < 1 + 3 > / < 2 ^ < 1 + 4 > - 6 >'\n",
    "ex5a = '3 / < 4 + 2 > + 2 x { 3 : ( 4 + 5 ) + 2 ^ < 6 x 1/2 > } - < 2 x [ 5 x ( 3 + 4 ) + 5 ] - 1 > / 6'\n",
    "ex5b = '3 / < 4 + 2 > + 2 x ( 3 : ( 4 + 5 ) + 2 ^ < 6 x 1/2 > ) - < 2 x ( 5 x ( 3 + 4 ) + 5 ) - 1 > / 6'\n",
    "\n",
    "expr = ex5b\n",
    "\n",
    "AM = ArithManager()\n",
    "\n",
    "ast = AM.shuntingYardExpr2ast(expr)\n",
    "\n",
    "blocks = AM.blocks(ast)\n",
    "MEMORY = dict(blocks)\n",
    "\n",
    "#display(ast)\n",
    "\n",
    "main_block = blocks[-1][1]\n",
    "child_to_calc = None\n",
    "\n",
    "current_block = block_id = None\n",
    "\n",
    "while blocks and is_calculable(blocks[0][1]): blocks = blocks[1:]\n",
    "    \n",
    "while blocks:\n",
    "    block_id, current_block = blocks[0]\n",
    "        \n",
    "    parent_to_calc = AM.prior(current_block)\n",
    "    display_latex(AM.latex(main_block, MEMORY))\n",
    "\n",
    "    parent_to_calc.children =  [Tree({'type': 'atomExpr', 'value': AM.eval(child, MEMORY), 'priority': 0, '_calc': 'last'}, []) \n",
    "                                if is_next_to_calc(child) else child\n",
    "                                for child in parent_to_calc.children]\n",
    "    \n",
    "    if is_calculable(current_block):\n",
    "        current_block = current_block.children[0]\n",
    "        blocks = blocks[1:]\n",
    "        \n",
    "    MEMORY[block_id] = current_block\n",
    "\n",
    "display_latex(AM.latex(main_block, {}))\n",
    "#main_block.children[0].root['value']"
   ]
  },
  {
   "cell_type": "code",
   "execution_count": 104,
   "id": "fda980b6",
   "metadata": {},
   "outputs": [
    {
     "data": {
      "text/plain": [
       "['']"
      ]
     },
     "execution_count": 104,
     "metadata": {},
     "output_type": "execute_result"
    }
   ],
   "source": [
    "import re\n",
    "\n",
    "expr = '-456+324/43.43-43x343'\n",
    "\n",
    "\n",
    "reg = re.compile(r'-?\\d+(\\.\\d+)?/')\n",
    "                 #/[0-9]+|\\d|\\d+|[^ 0-9]')\n",
    "tokens = re.findall(reg, expr)\n",
    "\n",
    "tokens    "
   ]
  },
  {
   "cell_type": "code",
   "execution_count": null,
   "id": "f14bb751",
   "metadata": {},
   "outputs": [],
   "source": [
    "from collections import namedtuple\n",
    "\n",
    "opinfo = namedtuple('Operator', 'prec assoc type')\n",
    "operators = {\n",
    "    \"+\": opinfo(0, \"L\", \"bin\"),\n",
    "    \"-\": opinfo(0, \"L\", \"bin\"),\n",
    "    \":\": opinfo(1, \"L\", \"bin\"),\n",
    "    \"x\": opinfo(1, \"L\", \"bin\"),\n",
    "    \"/\": opinfo(2, \"L\", \"bin\"),\n",
    "    \"++\": opinfo(3, \"L\", \"un\"),\n",
    "    \"--\": opinfo(3, \"L\", \"un\"),\n",
    "    \"^\": opinfo(4, \"R\", \"bin\"),\n",
    "}"
   ]
  },
  {
   "cell_type": "code",
   "execution_count": null,
   "id": "5021f933",
   "metadata": {},
   "outputs": [],
   "source": [
    "set(operators.keys()) | {'<'}"
   ]
  },
  {
   "cell_type": "code",
   "execution_count": null,
   "id": "d5990bae",
   "metadata": {},
   "outputs": [],
   "source": [
    "class Expression:\n",
    "    pass\n",
    "\n",
    "class Number(Expression):\n",
    "    def __init__(self, num):\n",
    "        self.num = num\n",
    "\n",
    "    def __str__(self):\n",
    "        return str(self.num)\n",
    "\n",
    "class BinaryExpression(Expression):\n",
    "    def __init__(self, left, op, right):\n",
    "        self.left = left\n",
    "        self.op = op\n",
    "        self.right = right\n",
    "\n",
    "    def __str__(self):\n",
    "        return f\"{self.left} {self.op} {self.right}\"\n",
    "\n",
    "class ParenthesizedExpression(Expression):\n",
    "    def __init__(self, exp):\n",
    "        self.exp = exp\n",
    "\n",
    "    def __str__(self):\n",
    "        return f\"( {self.exp} )\"\n",
    "\n",
    "e1 = Number(5)\n",
    "print(e1)\n",
    "\n",
    "e2 = BinaryExpression(Number(8), \"+\", ParenthesizedExpression(BinaryExpression(Number(7), \"*\", e1)))\n",
    "print(e2)"
   ]
  },
  {
   "cell_type": "code",
   "execution_count": null,
   "id": "13a39085",
   "metadata": {},
   "outputs": [],
   "source": [
    "import re\n",
    "\n",
    "token = '-234.324'\n",
    "if re.match(r'-?[0-9]+$', token):\n",
    "    print(\"sI\")\n"
   ]
  },
  {
   "cell_type": "code",
   "execution_count": null,
   "id": "eab8d619",
   "metadata": {},
   "outputs": [],
   "source": [
    "from random import random, randint, choice\n",
    "\n",
    "def randomExpression(prob):\n",
    "    p = random()\n",
    "    if p > prob:\n",
    "        return Number(randint(1, 100))\n",
    "    elif randint(0, 1) == 0:\n",
    "        return ParenthesizedExpression(randomExpression(prob / 1.2))\n",
    "    else:\n",
    "        left = randomExpression(prob / 1.2)\n",
    "        op = choice([\"+\", \"-\", \"x\",\":\", \"/\", '^'])\n",
    "        if op == '^': right = 2\n",
    "        else: right = randomExpression(prob / 1.2)\n",
    "        return BinaryExpression(left, op, right)\n",
    "\n",
    "expr = str(randomExpression(10))\n",
    "print(expr)"
   ]
  }
 ],
 "metadata": {
  "kernelspec": {
   "display_name": "let",
   "language": "python",
   "name": "let"
  },
  "language_info": {
   "codemirror_mode": {
    "name": "ipython",
    "version": 3
   },
   "file_extension": ".py",
   "mimetype": "text/x-python",
   "name": "python",
   "nbconvert_exporter": "python",
   "pygments_lexer": "ipython3",
   "version": "3.8.8"
  }
 },
 "nbformat": 4,
 "nbformat_minor": 5
}
