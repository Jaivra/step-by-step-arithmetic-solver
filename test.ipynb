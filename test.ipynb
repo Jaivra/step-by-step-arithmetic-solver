{
 "cells": [
  {
   "cell_type": "code",
   "execution_count": 1,
   "metadata": {},
   "outputs": [],
   "source": [
    "%load_ext autoreload\n",
    "%autoreload 2"
   ]
  },
  {
   "cell_type": "code",
   "execution_count": 2,
   "metadata": {},
   "outputs": [],
   "source": [
    "from textwrap import indent\n",
    "from IPython.display import Javascript\n",
    "from liblet import ANTLR, AnnotatedTreeWalker, Tree, pyast2tree, side_by_side\n",
    "from IPython.display import Latex\n",
    "from fractions import Fraction\n",
    "import importlib\n",
    "from core.arithmetic_manager import ArithManager\n",
    "from core.util import *\n",
    "from core.shunting_yard_parser import ShuntingYardParser\n",
    "from core.arithmetic_manager import ArithManager\n",
    "from core.util import *"
   ]
  },
  {
   "cell_type": "code",
   "execution_count": 3,
   "metadata": {},
   "outputs": [],
   "source": [
    "def ast_eval(ast, show_blocks, show_latex):\n",
    "    AM = ArithManager()\n",
    "    \n",
    "    blocks = AM.blocks(ast)\n",
    "    \n",
    "    if show_blocks: print(blocks)\n",
    "        \n",
    "    MEMORY = dict(blocks)\n",
    "    main_block = blocks[-1][1]\n",
    "    child_to_calc = None\n",
    "    current_block = block_id = None\n",
    "\n",
    "    while blocks and is_calculable(blocks[0][1]): blocks = blocks[1:]\n",
    "\n",
    "    while blocks:\n",
    "        block_id, current_block = blocks[0]\n",
    "        parent_to_calc = AM.prior(current_block)\n",
    "        tex = AM.latex(main_block, MEMORY)\n",
    "        if show_latex: display_latex(tex)\n",
    "        \n",
    "        parent_to_calc.children =  [Tree({'type': 'atomExpr', 'value': AM.eval(child, MEMORY), 'priority': 0, '_calc': 'last'}, []) \n",
    "                                    if is_next_to_calc(child) else child\n",
    "                                    for child in parent_to_calc.children]\n",
    "\n",
    "        if is_calculable(current_block):\n",
    "            current_block = current_block.children[0]\n",
    "            blocks = blocks[1:]\n",
    "\n",
    "        MEMORY[block_id] = current_block\n",
    "\n",
    "    tex = AM.latex(main_block, {})\n",
    "    if show_latex: display_latex(tex)\n",
    "    \n",
    "    return main_block.children[0].root['value']\n",
    "\n",
    "\n",
    "def antlr_eval(expr, show_ptree = False, show_ast = False, show_blocks = False, show_latex = False):\n",
    "    AM = ArithManager()\n",
    "    ptree = AM.ptree('antlrGrammar.g',expr)\n",
    "    if show_ptree: display(ptree)\n",
    "    \n",
    "    ast = AM.ptree2ast(ptree)\n",
    "    if show_ast: display(ast)\n",
    "    return ast_eval(ast, show_blocks, show_latex)\n",
    "\n",
    "\n",
    "def shunting_eval(expr, show_ast = False, show_blocks = False, show_latex = False):\n",
    "    AM = ArithManager()\n",
    "\n",
    "    ast = AM.shuntingYardExpr2ast(expr)\n",
    "    if show_ast: display(ast)\n",
    "\n",
    "    return ast_eval(ast, show_blocks, show_latex)"
   ]
  },
  {
   "cell_type": "code",
   "execution_count": 4,
   "metadata": {},
   "outputs": [
    {
     "name": "stdout",
     "output_type": "stream",
     "text": [
      "ANTLR runtime and generated code versions disagree: 4.9.1!=4.7.2\n",
      "ANTLR runtime and generated code versions disagree: 4.9.1!=4.7.2\n",
      "** EXCEPTION SHUNTING **  can't convert complex to int\n",
      "ANTLR runtime and generated code versions disagree: 4.9.1!=4.7.2\n",
      "ANTLR runtime and generated code versions disagree: 4.9.1!=4.7.2\n",
      "ANTLR runtime and generated code versions disagree: 4.9.1!=4.7.2\n",
      "ANTLR runtime and generated code versions disagree: 4.9.1!=4.7.2\n",
      "ANTLR runtime and generated code versions disagree: 4.9.1!=4.7.2\n",
      "ANTLR runtime and generated code versions disagree: 4.9.1!=4.7.2\n",
      "ANTLR runtime and generated code versions disagree: 4.9.1!=4.7.2\n",
      "ANTLR runtime and generated code versions disagree: 4.9.1!=4.7.2\n",
      "ANTLR runtime and generated code versions disagree: 4.9.1!=4.7.2\n",
      "ANTLR runtime and generated code versions disagree: 4.9.1!=4.7.2\n",
      "ANTLR runtime and generated code versions disagree: 4.9.1!=4.7.2\n",
      "ANTLR runtime and generated code versions disagree: 4.9.1!=4.7.2\n",
      "ANTLR runtime and generated code versions disagree: 4.9.1!=4.7.2\n",
      "ANTLR runtime and generated code versions disagree: 4.9.1!=4.7.2\n",
      "ANTLR runtime and generated code versions disagree: 4.9.1!=4.7.2\n",
      "ANTLR runtime and generated code versions disagree: 4.9.1!=4.7.2\n",
      "ANTLR runtime and generated code versions disagree: 4.9.1!=4.7.2\n",
      "ANTLR runtime and generated code versions disagree: 4.9.1!=4.7.2\n",
      "ANTLR runtime and generated code versions disagree: 4.9.1!=4.7.2\n",
      "ANTLR runtime and generated code versions disagree: 4.9.1!=4.7.2\n",
      "ANTLR runtime and generated code versions disagree: 4.9.1!=4.7.2\n",
      "ANTLR runtime and generated code versions disagree: 4.9.1!=4.7.2\n",
      "ANTLR runtime and generated code versions disagree: 4.9.1!=4.7.2\n",
      "ANTLR runtime and generated code versions disagree: 4.9.1!=4.7.2\n",
      "ANTLR runtime and generated code versions disagree: 4.9.1!=4.7.2\n",
      "ANTLR runtime and generated code versions disagree: 4.9.1!=4.7.2\n",
      "ANTLR runtime and generated code versions disagree: 4.9.1!=4.7.2\n",
      "ANTLR runtime and generated code versions disagree: 4.9.1!=4.7.2\n",
      "ANTLR runtime and generated code versions disagree: 4.9.1!=4.7.2\n",
      "ANTLR runtime and generated code versions disagree: 4.9.1!=4.7.2\n",
      "ANTLR runtime and generated code versions disagree: 4.9.1!=4.7.2\n",
      "ANTLR runtime and generated code versions disagree: 4.9.1!=4.7.2\n",
      "ANTLR runtime and generated code versions disagree: 4.9.1!=4.7.2\n",
      "ANTLR runtime and generated code versions disagree: 4.9.1!=4.7.2\n",
      "ANTLR runtime and generated code versions disagree: 4.9.1!=4.7.2\n",
      "ANTLR runtime and generated code versions disagree: 4.9.1!=4.7.2\n",
      "ANTLR runtime and generated code versions disagree: 4.9.1!=4.7.2\n",
      "ANTLR runtime and generated code versions disagree: 4.9.1!=4.7.2\n",
      "ANTLR runtime and generated code versions disagree: 4.9.1!=4.7.2\n",
      "ANTLR runtime and generated code versions disagree: 4.9.1!=4.7.2\n",
      "ANTLR runtime and generated code versions disagree: 4.9.1!=4.7.2\n",
      "ANTLR runtime and generated code versions disagree: 4.9.1!=4.7.2\n",
      "ANTLR runtime and generated code versions disagree: 4.9.1!=4.7.2\n",
      "ANTLR runtime and generated code versions disagree: 4.9.1!=4.7.2\n",
      "ANTLR runtime and generated code versions disagree: 4.9.1!=4.7.2\n",
      "ANTLR runtime and generated code versions disagree: 4.9.1!=4.7.2\n",
      "** EXCEPTION SHUNTING **  can't convert complex to int\n",
      "ANTLR runtime and generated code versions disagree: 4.9.1!=4.7.2\n",
      "ANTLR runtime and generated code versions disagree: 4.9.1!=4.7.2\n",
      "ANTLR runtime and generated code versions disagree: 4.9.1!=4.7.2\n",
      "ANTLR runtime and generated code versions disagree: 4.9.1!=4.7.2\n",
      "ANTLR runtime and generated code versions disagree: 4.9.1!=4.7.2\n",
      "ANTLR runtime and generated code versions disagree: 4.9.1!=4.7.2\n",
      "ANTLR runtime and generated code versions disagree: 4.9.1!=4.7.2\n",
      "ANTLR runtime and generated code versions disagree: 4.9.1!=4.7.2\n",
      "** EXCEPTION SHUNTING **  can't convert complex to int\n",
      "ANTLR runtime and generated code versions disagree: 4.9.1!=4.7.2\n",
      "ANTLR runtime and generated code versions disagree: 4.9.1!=4.7.2\n",
      "ANTLR runtime and generated code versions disagree: 4.9.1!=4.7.2\n",
      "ANTLR runtime and generated code versions disagree: 4.9.1!=4.7.2\n",
      "*** WRONG 7 ***\n",
      "\n",
      " $$$ 0 $$$   ( - - ( ( 59 ) ) - ( ( 31 ) ) + - ( - ( 9 x 9 + 55 x 28 - 67 ) ) - - - 9 + 39 ^ 2 - - ( ( ( - 10 / - 99 / 89 / 78 x ( 3 ) ) ) ) + - ( ( 5 - 21 x 1 ) / 13 x ( ( - 42 ) ) ) / - ( - 73 ) - - ( - ( - 7 - - ( 29 ) + 2 ) x - 37 ^ -2 ) + 5 x 14 - ( - - 55 ) / - 62 x - 40 ^ -2 / ( ( 58 ) ) / 70 + - - ( 42 ) / 78 x 84 / 46 - 16 / ( ( 85 ) ) + - 49 ^ 2 ^ -2 / 72 ^ -2 x - ( 69 x 31 x 59 + ( ( 56 ) ) ^ -2 - ( 54 ) ) ) x ( - ( ( 20 - ( 17 ) ^ -2 x - ( 15 ) ^ -2 - 49 + 52 ) ) ) / ( ( 3 - 97 + - - 68 / - 92 / ( - ( 63 ) ^ 2 ) ) + ( - 20 ) - - 38 / ( 8 ) / 27 ) / - - 99 x - 56 + - 33 - 71 + 17 + ( 2 / - 56 - 20 - 69 ) + 68 - ( 57 ) / 11 / 17 - 44 ^ 2 + ( ( 74 ) ^ -2 ) + - 53 / - ( 48 ) / 78 / ( ( 36 x - 23 ) - 1 ) ^ 2 / ( 57 ) x ( 92 ^ 2 ) - - - - 23 / - 41 - ( - - 55 x ( 65 x 8 ) x ( 68 / 85 ) x ( - 71 ) x ( ( 56 ) ^ -2 ) x ( - 39 x 27 + ( ( - 5 ) x 42 ) - ( 12 / 43 ) - 60 ^ -2 ^ -2 ) ^ 2 )\n",
      " $$$ 1 $$$   - ( ( ( ( 63 ^ -2 / - - 54 ) ) x - ( ( - 61 x 53 ) ^ 2 ) ) ^ -2 ) + - - 78 + - ( 40 ) / 17 / 82 x - ( - 69 ) x 82 ^ 2 ^ 2 ^ 2 - ( - 46 + 96 x - ( 68 ) ^ -2 - ( 81 ) ^ 2 x - - - - 65 / 3 ) + ( - ( 81 ) + ( 98 ) + 58 ^ 2 / - 29 x ( ( - 78 ) + 64 / 37 + - ( - 54 ) - - ( 98 + - 56 ^ 2 ) ) - 58 x 79 / 12 ^ 2 / - 64 / - 55 / ( ( - 30 - ( 50 ) / ( - 18 ^ 2 - 15 + ( 34 ) ^ -2 ) + 65 / 96 + ( 95 ) / ( 35 ) ) ) ) / - ( 41 + ( 53 - 90 ) - ( 39 ) x 69 - 43 / ( 68 ) ^ -2 x - 61 - ( 35 - - ( 92 ) + 1 ) / - 19 / - ( - - 87 / ( 12 ^ 2 ) ) ) / - - - ( ( ( 64 ) ) ) ^ -2 x ( ( 19 ) x 21 - 96 x - 100 / 59 x - 73 )\n",
      " $$$ 2 $$$   ( ( - - ( ( - 37 ) ) ^ -2 / 69 ^ 2 ^ 2 / ( ( 41 ) ) ^ 2 x 21 + 12 - 88 x 48 + 34 ^ 2 + ( ( 96 x ( 14 ) / 33 ) - ( ( 62 ) ) ^ 2 ^ -2 ) + - ( ( ( ( 14 ) ) ) ) ^ -2 x - 59 ^ -2 + - ( 61 - 64 ) - ( 95 ) / - - 21 + 7 / 6 ^ -2 ^ 2 x ( - 70 x ( 98 ) ) x 30 / - ( - 40 ^ -2 ^ -2 ) / ( ( 48 ) - - 21 + ( - 57 ) x - 98 + 36 + ( - 42 ) ) ) )\n",
      " $$$ 3 $$$   ( ( ( ( - 67 + ( 86 ) ) ^ 2 ) + - ( - ( 59 / 78 + 12 ^ -2 ) + - 77 ) / 47 x ( 98 ^ -2 - 30 ) ) ^ 2 - ( - ( - ( 75 + ( 34 ) / 39 ^ -2 ) ) ) ^ -2 ) - - - ( - 27 - ( 57 ^ 2 ) ^ 2 ^ -2 + ( 35 + 28 ) x 38 x 39 x - ( 5 ) ) x ( - - 86 ^ 2 + - 28 ) + - 23 - ( ( 89 ) ) + - ( - - 26 x ( 10 ) ) + ( ( ( ( 12 / 98 ) ) ^ -2 ) ) / - - ( 30 ^ -2 ) + ( - - 3 x - 37 + - 6 - ( 68 - - ( 41 ) ) ) + ( ( 52 ) ^ 2 ) ^ -2\n",
      " $$$ 4 $$$   ( ( ( - - - - ( ( 75 ) ) - ( 53 ) ) ) ) - ( ( ( - 46 + ( 95 ) x 60 ) / - - ( ( 28 ) - - ( 4 ) ) ^ -2 ) ) x - ( - 38 + 67 x 3 x - 68 + 62 / - 28 ) x - ( 76 ) + ( - 7 - 83 ) + - 6 / ( ( - 66 - 47 ) ) x ( 20 / 22 ) + - ( - ( 92 ) + - ( 80 ) / - 28 + - 88 / ( 75 ) x - ( 32 x 51 ) ) ^ -2 ^ -2 x - ( ( ( - 72 / 53 - 33 / 50 - - 53 - ( - 21 ) + ( ( ( - 8 ) - - 13 ^ 2 / 83 ) ) ) ) ^ -2 ) ^ -2\n",
      " $$$ 5 $$$   ( ( ( - - ( ( 11 ) ) x - 73 - - - ( 46 ) x 43 x 81 ^ 2 ) + - - ( - - - 34 + - 100 ) - - 9 - 39 / - 12 - - 6 ^ -2 + - 68 + 2 - ( 66 ) + ( 84 ) / - 55 ^ -2 x ( 34 x 43 ) ^ -2 ^ -2 x ( ( 50 x 47 x 17 x 67 - 81 + - - 47 x 77 / ( 19 - 71 ) + 54 ^ 2 ) ^ -2 ^ 2 x - ( 42 ) x - - - - 85 ^ -2 x 28 - - 48 ) ) )\n",
      " $$$ 6 $$$   - 53 / - 47 + 10 ^ 2 + - 31 / - ( 65 ) + - 13 / 83 ^ 2 + 28 x 17 x 89 ^ -2 x 18 - - ( - ( ( 35 x 3 ^ -2 ) ) + 1 / 91 x 2 ) + - 82 ^ 2 / 67 x 72 x ( ( - 33 ) - 57 ^ -2 ^ 2 ) - - 7 + 74 ^ 2 ^ 2 - 70 ^ 2 - - ( ( - - 70 / ( ( - 31 ) ) ) ) + ( ( ( 44 ^ -2 / - 70 / 42 - 86 / 77 / ( 19 ) x ( - 16 / 11 ) x 79 + 63 ^ 2 ^ 2 ) ) + ( ( - - ( ( 68 ^ -2 ) ) ) ) ) x - ( ( ( 57 + 26 ^ 2 ) ) ^ -2 ^ -2 ) ^ -2 - ( ( - ( 50 ) - ( 79 - 14 ) ^ 2 ) ) ^ -2 ^ 2\n"
     ]
    }
   ],
   "source": [
    "from core.expression_generator import generate_expression\n",
    "\n",
    "wrong_expr = []\n",
    "for _ in range(30):\n",
    "    exception = False\n",
    "    expr = generate_expression(4)\n",
    "    \n",
    "    try:\n",
    "        antlr_res = antlr_eval(expr)\n",
    "    except Exception as e:\n",
    "        exception = True\n",
    "\n",
    "    try:\n",
    "        shunting_res = shunting_eval(expr)\n",
    "        if exception: \n",
    "            wrong_expr.append(expr)\n",
    "            continue\n",
    "    except Exception as e:\n",
    "        print('** EXCEPTION SHUNTING ** ', e)\n",
    "        if not exception: \n",
    "            wrong_expr.append(expr)\n",
    "        continue\n",
    "\n",
    "    formatted_expr = expr.replace('x', '*').replace(':', '/').replace('^', '**')\n",
    "    res =  round(eval(formatted_expr), 3)\n",
    "\n",
    "    if antlr_res != shunting_res or abs(antlr_res - res) > 1:\n",
    "        wrong_expr.append(expr)\n",
    "        \n",
    "    \n",
    "    #print(antlr_res, shunting_res, res)\n",
    "        \n",
    "if wrong_expr != []:\n",
    "    print(f'*** WRONG {len(wrong_expr)} ***\\n')\n",
    "    for i, it in enumerate(wrong_expr):\n",
    "        print(f' $$$ {i} $$$  ', it)\n",
    "else:\n",
    "    print(\"ALL DONE\")"
   ]
  },
  {
   "cell_type": "code",
   "execution_count": 30,
   "metadata": {},
   "outputs": [
    {
     "name": "stdout",
     "output_type": "stream",
     "text": [
      "['39', '/', '--', '15', '/', '16']\n"
     ]
    },
    {
     "data": {
      "image/svg+xml": [
       "<?xml version=\"1.0\" encoding=\"UTF-8\" standalone=\"no\"?>\r\n",
       "<!DOCTYPE svg PUBLIC \"-//W3C//DTD SVG 1.1//EN\"\r\n",
       " \"http://www.w3.org/Graphics/SVG/1.1/DTD/svg11.dtd\">\r\n",
       "<!-- Generated by graphviz version 2.47.3 (20210619.1520)\r\n",
       " -->\r\n",
       "<!-- Pages: 1 -->\r\n",
       "<svg width=\"261pt\" height=\"346pt\"\r\n",
       " viewBox=\"0.00 0.00 261.00 346.00\" xmlns=\"http://www.w3.org/2000/svg\" xmlns:xlink=\"http://www.w3.org/1999/xlink\">\r\n",
       "<g id=\"graph0\" class=\"graph\" transform=\"scale(1 1) rotate(0) translate(4 342)\">\r\n",
       "<polygon fill=\"white\" stroke=\"transparent\" points=\"-4,4 -4,-342 257,-342 257,4 -4,4\"/>\r\n",
       "<!-- 2824912767968 -->\r\n",
       "<g id=\"node1\" class=\"node\">\r\n",
       "<title>2824912767968</title>\r\n",
       "<polygon fill=\"none\" stroke=\"black\" points=\"72,-318.5 72,-337.5 98,-337.5 98,-318.5 72,-318.5\"/>\r\n",
       "<text text-anchor=\"start\" x=\"75\" y=\"-324.9\" font-family=\"Times New Roman,serif\" font-size=\"12.00\">type</text>\r\n",
       "<polygon fill=\"none\" stroke=\"black\" points=\"98,-318.5 98,-337.5 126,-337.5 126,-318.5 98,-318.5\"/>\r\n",
       "<text text-anchor=\"start\" x=\"101\" y=\"-324.9\" font-family=\"Times New Roman,serif\" font-size=\"12.00\">main</text>\r\n",
       "</g>\r\n",
       "<!-- 2824912765760 -->\r\n",
       "<g id=\"node2\" class=\"node\">\r\n",
       "<title>2824912765760</title>\r\n",
       "<polygon fill=\"none\" stroke=\"black\" points=\"55,-281.5 55,-300.5 94,-300.5 94,-281.5 55,-281.5\"/>\r\n",
       "<text text-anchor=\"start\" x=\"64.5\" y=\"-287.9\" font-family=\"Times New Roman,serif\" font-size=\"12.00\">type</text>\r\n",
       "<polygon fill=\"none\" stroke=\"black\" points=\"94,-281.5 94,-300.5 143,-300.5 143,-281.5 94,-281.5\"/>\r\n",
       "<text text-anchor=\"start\" x=\"97\" y=\"-287.9\" font-family=\"Times New Roman,serif\" font-size=\"12.00\">fractExpr</text>\r\n",
       "<polygon fill=\"none\" stroke=\"black\" points=\"55,-262.5 55,-281.5 94,-281.5 94,-262.5 55,-262.5\"/>\r\n",
       "<text text-anchor=\"start\" x=\"58\" y=\"-268.9\" font-family=\"Times New Roman,serif\" font-size=\"12.00\">priority</text>\r\n",
       "<polygon fill=\"none\" stroke=\"black\" points=\"94,-262.5 94,-281.5 143,-281.5 143,-262.5 94,-262.5\"/>\r\n",
       "<text text-anchor=\"start\" x=\"115\" y=\"-268.9\" font-family=\"Times New Roman,serif\" font-size=\"12.00\">0</text>\r\n",
       "<polygon fill=\"none\" stroke=\"black\" points=\"55,-243.5 55,-262.5 94,-262.5 94,-243.5 55,-243.5\"/>\r\n",
       "<text text-anchor=\"start\" x=\"62\" y=\"-249.9\" font-family=\"Times New Roman,serif\" font-size=\"12.00\">_calc</text>\r\n",
       "<polygon fill=\"none\" stroke=\"black\" points=\"94,-243.5 94,-262.5 143,-262.5 143,-243.5 94,-243.5\"/>\r\n",
       "<text text-anchor=\"start\" x=\"109\" y=\"-249.9\" font-family=\"Times New Roman,serif\" font-size=\"12.00\">next</text>\r\n",
       "</g>\r\n",
       "<!-- 2824912767968&#45;&gt;2824912765760 -->\r\n",
       "<g id=\"edge1\" class=\"edge\">\r\n",
       "<title>2824912767968&#45;&gt;2824912765760</title>\r\n",
       "<path fill=\"none\" stroke=\"black\" d=\"M99,-318.58C99,-313.79 99,-307.59 99,-301.33\"/>\r\n",
       "</g>\r\n",
       "<!-- 2824931420816 -->\r\n",
       "<g id=\"node3\" class=\"node\">\r\n",
       "<title>2824931420816</title>\r\n",
       "<polygon fill=\"none\" stroke=\"black\" points=\"0,-197 0,-216 39,-216 39,-197 0,-197\"/>\r\n",
       "<text text-anchor=\"start\" x=\"9.5\" y=\"-203.4\" font-family=\"Times New Roman,serif\" font-size=\"12.00\">type</text>\r\n",
       "<polygon fill=\"none\" stroke=\"black\" points=\"39,-197 39,-216 90,-216 90,-197 39,-197\"/>\r\n",
       "<text text-anchor=\"start\" x=\"42\" y=\"-203.4\" font-family=\"Times New Roman,serif\" font-size=\"12.00\">atomExpr</text>\r\n",
       "<polygon fill=\"none\" stroke=\"black\" points=\"0,-178 0,-197 39,-197 39,-178 0,-178\"/>\r\n",
       "<text text-anchor=\"start\" x=\"7.5\" y=\"-184.4\" font-family=\"Times New Roman,serif\" font-size=\"12.00\">value</text>\r\n",
       "<polygon fill=\"none\" stroke=\"black\" points=\"39,-178 39,-197 90,-197 90,-178 39,-178\"/>\r\n",
       "<text text-anchor=\"start\" x=\"58\" y=\"-184.4\" font-family=\"Times New Roman,serif\" font-size=\"12.00\">39</text>\r\n",
       "<polygon fill=\"none\" stroke=\"black\" points=\"0,-159 0,-178 39,-178 39,-159 0,-159\"/>\r\n",
       "<text text-anchor=\"start\" x=\"3\" y=\"-165.4\" font-family=\"Times New Roman,serif\" font-size=\"12.00\">priority</text>\r\n",
       "<polygon fill=\"none\" stroke=\"black\" points=\"39,-159 39,-178 90,-178 90,-159 39,-159\"/>\r\n",
       "<text text-anchor=\"start\" x=\"61\" y=\"-165.4\" font-family=\"Times New Roman,serif\" font-size=\"12.00\">0</text>\r\n",
       "</g>\r\n",
       "<!-- 2824912765760&#45;&gt;2824931420816 -->\r\n",
       "<g id=\"edge2\" class=\"edge\">\r\n",
       "<title>2824912765760&#45;&gt;2824931420816</title>\r\n",
       "<path fill=\"none\" stroke=\"black\" d=\"M80.72,-243.57C75.03,-234.87 68.76,-225.3 63.08,-216.62\"/>\r\n",
       "</g>\r\n",
       "<!-- 2824930943568 -->\r\n",
       "<g id=\"node4\" class=\"node\">\r\n",
       "<title>2824930943568</title>\r\n",
       "<polygon fill=\"none\" stroke=\"black\" points=\"108,-207 108,-226 147,-226 147,-207 108,-207\"/>\r\n",
       "<text text-anchor=\"start\" x=\"117.5\" y=\"-213.4\" font-family=\"Times New Roman,serif\" font-size=\"12.00\">type</text>\r\n",
       "<polygon fill=\"none\" stroke=\"black\" points=\"147,-207 147,-226 200,-226 200,-207 147,-207\"/>\r\n",
       "<text text-anchor=\"start\" x=\"150\" y=\"-213.4\" font-family=\"Times New Roman,serif\" font-size=\"12.00\">unaryExpr</text>\r\n",
       "<polygon fill=\"none\" stroke=\"black\" points=\"108,-188 108,-207 147,-207 147,-188 108,-188\"/>\r\n",
       "<text text-anchor=\"start\" x=\"121\" y=\"-194.4\" font-family=\"Times New Roman,serif\" font-size=\"12.00\">op</text>\r\n",
       "<polygon fill=\"none\" stroke=\"black\" points=\"147,-188 147,-207 200,-207 200,-188 147,-188\"/>\r\n",
       "<text text-anchor=\"start\" x=\"171\" y=\"-194.4\" font-family=\"Times New Roman,serif\" font-size=\"12.00\">&#45;</text>\r\n",
       "<polygon fill=\"none\" stroke=\"black\" points=\"108,-169 108,-188 147,-188 147,-169 108,-169\"/>\r\n",
       "<text text-anchor=\"start\" x=\"111\" y=\"-175.4\" font-family=\"Times New Roman,serif\" font-size=\"12.00\">priority</text>\r\n",
       "<polygon fill=\"none\" stroke=\"black\" points=\"147,-169 147,-188 200,-188 200,-169 147,-169\"/>\r\n",
       "<text text-anchor=\"start\" x=\"170\" y=\"-175.4\" font-family=\"Times New Roman,serif\" font-size=\"12.00\">0</text>\r\n",
       "<polygon fill=\"none\" stroke=\"black\" points=\"108,-150 108,-169 147,-169 147,-150 108,-150\"/>\r\n",
       "<text text-anchor=\"start\" x=\"115\" y=\"-156.4\" font-family=\"Times New Roman,serif\" font-size=\"12.00\">_calc</text>\r\n",
       "<polygon fill=\"none\" stroke=\"black\" points=\"147,-150 147,-169 200,-169 200,-150 147,-150\"/>\r\n",
       "<text text-anchor=\"start\" x=\"164\" y=\"-156.4\" font-family=\"Times New Roman,serif\" font-size=\"12.00\">next</text>\r\n",
       "</g>\r\n",
       "<!-- 2824912765760&#45;&gt;2824930943568 -->\r\n",
       "<g id=\"edge3\" class=\"edge\">\r\n",
       "<title>2824912765760&#45;&gt;2824930943568</title>\r\n",
       "<path fill=\"none\" stroke=\"black\" d=\"M117.62,-243.57C121.36,-237.96 125.35,-231.98 129.26,-226.12\"/>\r\n",
       "</g>\r\n",
       "<!-- 2824931420816&#45;&gt;2824930943568 -->\r\n",
       "<!-- 2824930946976 -->\r\n",
       "<g id=\"node5\" class=\"node\">\r\n",
       "<title>2824930946976</title>\r\n",
       "<polygon fill=\"none\" stroke=\"black\" points=\"110,-112.5 110,-131.5 149,-131.5 149,-112.5 110,-112.5\"/>\r\n",
       "<text text-anchor=\"start\" x=\"119.5\" y=\"-118.9\" font-family=\"Times New Roman,serif\" font-size=\"12.00\">type</text>\r\n",
       "<polygon fill=\"none\" stroke=\"black\" points=\"149,-112.5 149,-131.5 198,-131.5 198,-112.5 149,-112.5\"/>\r\n",
       "<text text-anchor=\"start\" x=\"152\" y=\"-118.9\" font-family=\"Times New Roman,serif\" font-size=\"12.00\">fractExpr</text>\r\n",
       "<polygon fill=\"none\" stroke=\"black\" points=\"110,-93.5 110,-112.5 149,-112.5 149,-93.5 110,-93.5\"/>\r\n",
       "<text text-anchor=\"start\" x=\"113\" y=\"-99.9\" font-family=\"Times New Roman,serif\" font-size=\"12.00\">priority</text>\r\n",
       "<polygon fill=\"none\" stroke=\"black\" points=\"149,-93.5 149,-112.5 198,-112.5 198,-93.5 149,-93.5\"/>\r\n",
       "<text text-anchor=\"start\" x=\"170\" y=\"-99.9\" font-family=\"Times New Roman,serif\" font-size=\"12.00\">0</text>\r\n",
       "<polygon fill=\"none\" stroke=\"black\" points=\"110,-74.5 110,-93.5 149,-93.5 149,-74.5 110,-74.5\"/>\r\n",
       "<text text-anchor=\"start\" x=\"117\" y=\"-80.9\" font-family=\"Times New Roman,serif\" font-size=\"12.00\">_calc</text>\r\n",
       "<polygon fill=\"none\" stroke=\"black\" points=\"149,-74.5 149,-93.5 198,-93.5 198,-74.5 149,-74.5\"/>\r\n",
       "<text text-anchor=\"start\" x=\"164\" y=\"-80.9\" font-family=\"Times New Roman,serif\" font-size=\"12.00\">next</text>\r\n",
       "</g>\r\n",
       "<!-- 2824930943568&#45;&gt;2824930946976 -->\r\n",
       "<g id=\"edge5\" class=\"edge\">\r\n",
       "<title>2824930943568&#45;&gt;2824930946976</title>\r\n",
       "<path fill=\"none\" stroke=\"black\" d=\"M154,-149.61C154,-143.81 154,-137.91 154,-132.37\"/>\r\n",
       "</g>\r\n",
       "<!-- 2824930945008 -->\r\n",
       "<g id=\"node6\" class=\"node\">\r\n",
       "<title>2824930945008</title>\r\n",
       "<polygon fill=\"none\" stroke=\"black\" points=\"55,-37.5 55,-56.5 94,-56.5 94,-37.5 55,-37.5\"/>\r\n",
       "<text text-anchor=\"start\" x=\"64.5\" y=\"-43.9\" font-family=\"Times New Roman,serif\" font-size=\"12.00\">type</text>\r\n",
       "<polygon fill=\"none\" stroke=\"black\" points=\"94,-37.5 94,-56.5 145,-56.5 145,-37.5 94,-37.5\"/>\r\n",
       "<text text-anchor=\"start\" x=\"97\" y=\"-43.9\" font-family=\"Times New Roman,serif\" font-size=\"12.00\">atomExpr</text>\r\n",
       "<polygon fill=\"none\" stroke=\"black\" points=\"55,-18.5 55,-37.5 94,-37.5 94,-18.5 55,-18.5\"/>\r\n",
       "<text text-anchor=\"start\" x=\"62.5\" y=\"-24.9\" font-family=\"Times New Roman,serif\" font-size=\"12.00\">value</text>\r\n",
       "<polygon fill=\"none\" stroke=\"black\" points=\"94,-18.5 94,-37.5 145,-37.5 145,-18.5 94,-18.5\"/>\r\n",
       "<text text-anchor=\"start\" x=\"113\" y=\"-24.9\" font-family=\"Times New Roman,serif\" font-size=\"12.00\">15</text>\r\n",
       "<polygon fill=\"none\" stroke=\"black\" points=\"55,0.5 55,-18.5 94,-18.5 94,0.5 55,0.5\"/>\r\n",
       "<text text-anchor=\"start\" x=\"58\" y=\"-5.9\" font-family=\"Times New Roman,serif\" font-size=\"12.00\">priority</text>\r\n",
       "<polygon fill=\"none\" stroke=\"black\" points=\"94,0.5 94,-18.5 145,-18.5 145,0.5 94,0.5\"/>\r\n",
       "<text text-anchor=\"start\" x=\"116\" y=\"-5.9\" font-family=\"Times New Roman,serif\" font-size=\"12.00\">0</text>\r\n",
       "</g>\r\n",
       "<!-- 2824930946976&#45;&gt;2824930945008 -->\r\n",
       "<g id=\"edge6\" class=\"edge\">\r\n",
       "<title>2824930946976&#45;&gt;2824930945008</title>\r\n",
       "<path fill=\"none\" stroke=\"black\" d=\"M133.58,-74.9C129.28,-69.09 124.75,-62.95 120.44,-57.14\"/>\r\n",
       "</g>\r\n",
       "<!-- 2824930944336 -->\r\n",
       "<g id=\"node7\" class=\"node\">\r\n",
       "<title>2824930944336</title>\r\n",
       "<polygon fill=\"none\" stroke=\"black\" points=\"163,-37.5 163,-56.5 202,-56.5 202,-37.5 163,-37.5\"/>\r\n",
       "<text text-anchor=\"start\" x=\"172.5\" y=\"-43.9\" font-family=\"Times New Roman,serif\" font-size=\"12.00\">type</text>\r\n",
       "<polygon fill=\"none\" stroke=\"black\" points=\"202,-37.5 202,-56.5 253,-56.5 253,-37.5 202,-37.5\"/>\r\n",
       "<text text-anchor=\"start\" x=\"205\" y=\"-43.9\" font-family=\"Times New Roman,serif\" font-size=\"12.00\">atomExpr</text>\r\n",
       "<polygon fill=\"none\" stroke=\"black\" points=\"163,-18.5 163,-37.5 202,-37.5 202,-18.5 163,-18.5\"/>\r\n",
       "<text text-anchor=\"start\" x=\"170.5\" y=\"-24.9\" font-family=\"Times New Roman,serif\" font-size=\"12.00\">value</text>\r\n",
       "<polygon fill=\"none\" stroke=\"black\" points=\"202,-18.5 202,-37.5 253,-37.5 253,-18.5 202,-18.5\"/>\r\n",
       "<text text-anchor=\"start\" x=\"221\" y=\"-24.9\" font-family=\"Times New Roman,serif\" font-size=\"12.00\">16</text>\r\n",
       "<polygon fill=\"none\" stroke=\"black\" points=\"163,0.5 163,-18.5 202,-18.5 202,0.5 163,0.5\"/>\r\n",
       "<text text-anchor=\"start\" x=\"166\" y=\"-5.9\" font-family=\"Times New Roman,serif\" font-size=\"12.00\">priority</text>\r\n",
       "<polygon fill=\"none\" stroke=\"black\" points=\"202,0.5 202,-18.5 253,-18.5 253,0.5 202,0.5\"/>\r\n",
       "<text text-anchor=\"start\" x=\"224\" y=\"-5.9\" font-family=\"Times New Roman,serif\" font-size=\"12.00\">0</text>\r\n",
       "</g>\r\n",
       "<!-- 2824930946976&#45;&gt;2824930944336 -->\r\n",
       "<g id=\"edge7\" class=\"edge\">\r\n",
       "<title>2824930946976&#45;&gt;2824930944336</title>\r\n",
       "<path fill=\"none\" stroke=\"black\" d=\"M174.42,-74.9C178.72,-69.09 183.25,-62.95 187.56,-57.14\"/>\r\n",
       "</g>\r\n",
       "<!-- 2824930945008&#45;&gt;2824930944336 -->\r\n",
       "</g>\r\n",
       "</svg>\r\n"
      ],
      "text/plain": [
       "({'type': 'main'}: ({'type': 'fractExpr', 'priority': 0, '_calc': 'next'}: ({'type': 'atomExpr', 'value': 39, 'priority': 0}), ({'type': 'unaryExpr', 'op': '-', 'priority': 0, '_calc': 'next'}: ({'type': 'fractExpr', 'priority': 0, '_calc': 'next'}: ({'type': 'atomExpr', 'value': 15, 'priority': 0}), ({'type': 'atomExpr', 'value': 16, 'priority': 0})))))"
      ]
     },
     "execution_count": 30,
     "metadata": {},
     "output_type": "execute_result"
    }
   ],
   "source": [
    "shunting_yard_parser = ShuntingYardParser()\n",
    "\n",
    "ast = shunting_yard_parser.parse(expr)\n",
    "ast_eval(ast, False, False)\n",
    "ast"
   ]
  },
  {
   "cell_type": "code",
   "execution_count": 59,
   "metadata": {},
   "outputs": [
    {
     "name": "stdout",
     "output_type": "stream",
     "text": [
      "  84  / - 55 ^ -2 * ( 34 * 43 ) ^ -2 ^ -2 * ( 100000 ^ -2 ^ 2 * - 2 * 28 - - 48 )\n"
     ]
    },
    {
     "data": {
      "text/latex": [
       "\\begin{align}\\frac{84} {-{55}^{-2}} \\times {\\color{blue}{\\left(\\color{red}{\\boxed{34\\times43}}\\right)}}^{-{2}^{-2}} \\times \\left({100000}^{-{2}^{2}} \\times -2 \\times 28 - -48\\right)\\end{align}"
      ],
      "text/plain": [
       "<IPython.core.display.Latex object>"
      ]
     },
     "metadata": {},
     "output_type": "display_data"
    },
    {
     "data": {
      "text/latex": [
       "\\begin{align}\\frac{84} {-{55}^{-2}} \\times {\\color{green}{\\boxed{1462}}}^{-{2}^{-2}} \\times \\color{blue}{\\left({100000}^{-\\color{red}{\\boxed{{2}^{2}}}} \\times -2 \\times 28 - -48\\right)}\\end{align}"
      ],
      "text/plain": [
       "<IPython.core.display.Latex object>"
      ]
     },
     "metadata": {},
     "output_type": "display_data"
    },
    {
     "data": {
      "text/latex": [
       "\\begin{align}\\frac{84} {-{55}^{-2}} \\times {1462}^{-{2}^{-2}} \\times \\color{blue}{\\left({100000}^{\\color{red}{\\boxed{-\\color{green}{\\boxed{4}}}}} \\times -2 \\times 28 - -48\\right)}\\end{align}"
      ],
      "text/plain": [
       "<IPython.core.display.Latex object>"
      ]
     },
     "metadata": {},
     "output_type": "display_data"
    },
    {
     "data": {
      "text/latex": [
       "\\begin{align}\\frac{84} {-{55}^{-2}} \\times {1462}^{-{2}^{-2}} \\times \\color{blue}{\\left(\\color{red}{\\boxed{{100000}^{\\color{green}{\\boxed{-4}}}}} \\times -2 \\times 28 - -48\\right)}\\end{align}"
      ],
      "text/plain": [
       "<IPython.core.display.Latex object>"
      ]
     },
     "metadata": {},
     "output_type": "display_data"
    },
    {
     "data": {
      "text/latex": [
       "\\begin{align}\\frac{84} {-{55}^{-2}} \\times {1462}^{-{2}^{-2}} \\times \\color{blue}{\\left(\\color{red}{\\boxed{\\color{green}{\\boxed{\\frac{1} {100000000000000000000}}} \\times -2\\times28}} - -48\\right)}\\end{align}"
      ],
      "text/plain": [
       "<IPython.core.display.Latex object>"
      ]
     },
     "metadata": {},
     "output_type": "display_data"
    },
    {
     "data": {
      "text/latex": [
       "\\begin{align}\\frac{84} {-{55}^{-2}} \\times {1462}^{-{2}^{-2}} \\times \\color{blue}{\\left(\\color{red}{\\boxed{\\color{green}{\\boxed{\\frac{-7} {12500000000000000000}}}--48}}\\right)}\\end{align}"
      ],
      "text/plain": [
       "<IPython.core.display.Latex object>"
      ]
     },
     "metadata": {},
     "output_type": "display_data"
    },
    {
     "data": {
      "text/latex": [
       "\\begin{align}\\frac{84} {-\\color{red}{\\boxed{{55}^{-2}}}} \\times {1462}^{-{2}^{-2}} \\times \\color{green}{\\boxed{\\frac{599999999999999999993} {12500000000000000000}}}\\end{align}"
      ],
      "text/plain": [
       "<IPython.core.display.Latex object>"
      ]
     },
     "metadata": {},
     "output_type": "display_data"
    },
    {
     "data": {
      "text/latex": [
       "\\begin{align}\\frac{84} {-\\color{green}{\\boxed{\\frac{1} {3025}}}} \\times {1462}^{-\\color{red}{\\boxed{{2}^{-2}}}} \\times \\frac{599999999999999999993} {12500000000000000000}\\end{align}"
      ],
      "text/plain": [
       "<IPython.core.display.Latex object>"
      ]
     },
     "metadata": {},
     "output_type": "display_data"
    },
    {
     "data": {
      "text/latex": [
       "\\begin{align}\\frac{84} {-\\frac{1} {3025}} \\times {1462}^{\\color{red}{\\boxed{-\\color{green}{\\boxed{\\frac{1} {4}}}}}} \\times \\frac{599999999999999999993} {12500000000000000000}\\end{align}"
      ],
      "text/plain": [
       "<IPython.core.display.Latex object>"
      ]
     },
     "metadata": {},
     "output_type": "display_data"
    },
    {
     "data": {
      "text/latex": [
       "\\begin{align}\\frac{84} {-\\frac{1} {3025}} \\times \\color{red}{\\boxed{{1462}^{\\color{green}{\\boxed{\\frac{-1} {4}}}}}} \\times \\frac{599999999999999999993} {12500000000000000000}\\end{align}"
      ],
      "text/plain": [
       "<IPython.core.display.Latex object>"
      ]
     },
     "metadata": {},
     "output_type": "display_data"
    },
    {
     "data": {
      "text/latex": [
       "\\begin{align}\\frac{84} {\\color{red}{\\boxed{-\\frac{1} {3025}}}} \\times \\color{green}{\\boxed{0.162}} \\times \\frac{599999999999999999993} {12500000000000000000}\\end{align}"
      ],
      "text/plain": [
       "<IPython.core.display.Latex object>"
      ]
     },
     "metadata": {},
     "output_type": "display_data"
    },
    {
     "data": {
      "text/latex": [
       "\\begin{align}\\color{red}{\\boxed{\\frac{84} {\\color{green}{\\boxed{\\frac{-1} {3025}}}}}} \\times 0.162 \\times \\frac{599999999999999999993} {12500000000000000000}\\end{align}"
      ],
      "text/plain": [
       "<IPython.core.display.Latex object>"
      ]
     },
     "metadata": {},
     "output_type": "display_data"
    },
    {
     "data": {
      "text/latex": [
       "\\begin{align}\\color{red}{\\boxed{\\color{green}{\\boxed{-254100}} \\times 0.162\\times\\frac{599999999999999999993} {12500000000000000000}}}\\end{align}"
      ],
      "text/plain": [
       "<IPython.core.display.Latex object>"
      ]
     },
     "metadata": {},
     "output_type": "display_data"
    },
    {
     "data": {
      "text/latex": [
       "\\begin{align}\\color{green}{\\boxed{-1975881.6}}\\end{align}"
      ],
      "text/plain": [
       "<IPython.core.display.Latex object>"
      ]
     },
     "metadata": {},
     "output_type": "display_data"
    },
    {
     "name": "stdout",
     "output_type": "stream",
     "text": [
      "ANTLR runtime and generated code versions disagree: 4.9.1!=4.7.2\n",
      "ANTLR runtime and generated code versions disagree: 4.9.1!=4.7.2\n",
      "-1975881.6 \n",
      " -1975881.6 \n",
      " -1972463.881\n"
     ]
    }
   ],
   "source": [
    "expr = '  84  / - 55 ^ -2 x ( 34 x 43 ) ^ -2 ^ -2 x ( 100000 ^ -2 ^ 2 x - 2 x 28 - - 48 )'\n",
    "\n",
    "formatted_expr = expr.replace('x', '*').replace(':', '/').replace('^', '**')\n",
    "real_expr = expr.replace('x', '*').replace(':', '/')\n",
    "print(real_expr)\n",
    "res =  round(eval(formatted_expr), 3)\n",
    "shunt = shunting_eval(expr, show_latex=True)\n",
    "ant = antlr_eval(expr, False, False)\n",
    "print(shunt, '\\n', ant, '\\n', res)\n",
    "\n"
   ]
  },
  {
   "cell_type": "code",
   "execution_count": null,
   "metadata": {},
   "outputs": [],
   "source": []
  },
  {
   "cell_type": "code",
   "execution_count": 10,
   "metadata": {},
   "outputs": [
    {
     "data": {
      "text/plain": [
       "-44465.29303204521"
      ]
     },
     "execution_count": 10,
     "metadata": {},
     "output_type": "execute_result"
    }
   ],
   "source": [
    "24291467244042595080163/3981725937"
   ]
  }
 ],
 "metadata": {
  "kernelspec": {
   "display_name": "Python 3",
   "language": "python",
   "name": "python3"
  },
  "language_info": {
   "codemirror_mode": {
    "name": "ipython",
    "version": 3
   },
   "file_extension": ".py",
   "mimetype": "text/x-python",
   "name": "python",
   "nbconvert_exporter": "python",
   "pygments_lexer": "ipython3",
   "version": "3.8.3"
  }
 },
 "nbformat": 4,
 "nbformat_minor": 5
}
