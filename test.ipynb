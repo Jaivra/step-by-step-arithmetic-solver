{
 "cells": [
  {
   "cell_type": "code",
   "execution_count": 1,
   "id": "8856907a",
   "metadata": {},
   "outputs": [],
   "source": [
    "%load_ext autoreload\n",
    "%autoreload 2"
   ]
  },
  {
   "cell_type": "code",
   "execution_count": 2,
   "id": "b2633ee5",
   "metadata": {},
   "outputs": [],
   "source": [
    "from textwrap import indent\n",
    "from IPython.display import Javascript\n",
    "from liblet import ANTLR, AnnotatedTreeWalker, Tree, pyast2tree, side_by_side\n",
    "from IPython.display import Latex\n",
    "from fractions import Fraction\n",
    "import importlib\n",
    "from core.arithmetic_manager import ArithManager\n",
    "from core.util import *\n",
    "from core.shunting_yard_parser import ShuntingYardParser\n",
    "from core.arithmetic_manager import ArithManager\n",
    "from core.util import *"
   ]
  },
  {
   "cell_type": "code",
   "execution_count": 3,
   "id": "b7b358bc",
   "metadata": {},
   "outputs": [],
   "source": [
    "def ast_eval(ast, show_blocks, show_latex):\n",
    "    AM = ArithManager()\n",
    "    \n",
    "    blocks = AM.blocks(ast)\n",
    "    \n",
    "    if show_blocks: print(blocks)\n",
    "        \n",
    "    MEMORY = dict(blocks)\n",
    "    main_block = blocks[-1][1]\n",
    "    child_to_calc = None\n",
    "    current_block = block_id = None\n",
    "\n",
    "    while blocks and is_calculable(blocks[0][1]): blocks = blocks[1:]\n",
    "\n",
    "    while blocks:\n",
    "        block_id, current_block = blocks[0]\n",
    "        parent_to_calc = AM.prior(current_block)\n",
    "        tex = AM.latex(main_block, MEMORY)\n",
    "        if show_latex: display_latex(tex)\n",
    "        \n",
    "        parent_to_calc.children =  [Tree({'type': 'atomExpr', 'value': AM.eval(child, MEMORY), 'priority': 0, '_calc': 'last'}, []) \n",
    "                                    if is_next_to_calc(child) else child\n",
    "                                    for child in parent_to_calc.children]\n",
    "\n",
    "        if is_calculable(current_block):\n",
    "            current_block = current_block.children[0]\n",
    "            blocks = blocks[1:]\n",
    "\n",
    "        MEMORY[block_id] = current_block\n",
    "\n",
    "    tex = AM.latex(main_block, {})\n",
    "    if show_latex: display_latex(tex)\n",
    "    \n",
    "    return main_block.children[0].root['value']\n",
    "\n",
    "\n",
    "def antlr_eval(expr, show_ptree = False, show_ast = False, show_blocks = False, show_latex = False):\n",
    "    AM = ArithManager()\n",
    "    ptree = AM.ptree('antlrGrammar.g',expr)\n",
    "    if show_ptree: display(ptree)\n",
    "    \n",
    "    ast = AM.ptree2ast(ptree)\n",
    "    if show_ast: display(ast)\n",
    "    return ast_eval(ast, show_blocks, show_latex)\n",
    "\n",
    "\n",
    "def shunting_eval(expr, show_ast = False, show_blocks = False, show_latex = False):\n",
    "    AM = ArithManager()\n",
    "\n",
    "    ast = AM.shuntingYardExpr2ast(expr)\n",
    "    if show_ast: display(ast)\n",
    "\n",
    "    return ast_eval(ast, show_blocks, show_latex)"
   ]
  },
  {
   "cell_type": "code",
   "execution_count": 34,
   "id": "d8fb893d",
   "metadata": {},
   "outputs": [
    {
     "name": "stdout",
     "output_type": "stream",
     "text": [
      "** EXCEPTION SHUNTING **  can't convert complex to int\n",
      "** EXCEPTION SHUNTING **  can't convert complex to int\n",
      "ALL DONE\n"
     ]
    }
   ],
   "source": [
    "from core.expression_generator import generate_expression\n",
    "\n",
    "wrong_expr = []\n",
    "for _ in range(100):\n",
    "    exception = False\n",
    "    expr = generate_expression(2)\n",
    "    \n",
    "    try:\n",
    "        antlr_res = antlr_eval(expr)\n",
    "    except Exception as e:\n",
    "        exception = True\n",
    "\n",
    "    try:\n",
    "        shunting_res = shunting_eval(expr)\n",
    "        if exception: \n",
    "            wrong_expr.append(expr)\n",
    "            continue\n",
    "    except Exception as e:\n",
    "        print('** EXCEPTION SHUNTING ** ', e)\n",
    "        if not exception: \n",
    "            wrong_expr.append(expr)\n",
    "        continue\n",
    "\n",
    "    formatted_expr = expr.replace('x', '*').replace(':', '/').replace('^', '**')\n",
    "    res =  round(eval(formatted_expr), 3)\n",
    "\n",
    "    if antlr_res != shunting_res or abs(antlr_res - res) > 1:\n",
    "        wrong_expr.append(expr)\n",
    "        \n",
    "    \n",
    "    #print(antlr_res, shunting_res, res)\n",
    "        \n",
    "if wrong_expr != []:\n",
    "    print(f'*** WRONG {len(wrong_expr)} ***\\n')\n",
    "    for i, it in enumerate(wrong_expr):\n",
    "        print(f' $$$ {i} $$$  ', it)\n",
    "else:\n",
    "    print(\"ALL DONE\")"
   ]
  },
  {
   "cell_type": "code",
   "execution_count": 32,
   "id": "5ca2d68f",
   "metadata": {},
   "outputs": [
    {
     "name": "stdout",
     "output_type": "stream",
     "text": [
      "( + ( - ( 9 ) - 79 ^ 2 - 13 + 85 ) * ( ( ( 38 ) + 39 + 81 * 22 ^ 2 ) * 10 / 91 * ( 7 ) - 36 / 11 + 66 / - ( 74 ) ) ^ 2 * ( - ( - 45 + 43 - - 46 * 39 ^ 2 ) ) )\n",
      "11044770611980883860874200/27994681 \n",
      " 11044770611980883860874200/27994681 \n",
      " 3.945310400922547e+17\n"
     ]
    },
    {
     "data": {
      "text/plain": [
       "3.945310400922548e+17"
      ]
     },
     "execution_count": 32,
     "metadata": {},
     "output_type": "execute_result"
    }
   ],
   "source": [
    "expr = '( + ( - ( 9 ) - 79 ^ 2 - 13 + 85 ) x ( ( ( 38 ) + 39 + 81 x 22 ^ 2 ) x 10 / 91 x ( 7 ) - 36 / 11 + 66 / - ( 74 ) ) ^ 2 x ( - ( - 45 + 43 - - 46 x 39 ^ 2 ) ) )'\n",
    "formatted_expr = expr.replace('x', '*').replace(':', '/').replace('^', '**')\n",
    "real_expr = expr.replace('x', '*').replace(':', '/')\n",
    "print(real_expr)\n",
    "res =  round(eval(formatted_expr), 3)\n",
    "shunt = shunting_eval(expr, show_latex=False)\n",
    "ant = antlr_eval(expr, False, False)\n",
    "print(shunt, '\\n', ant, '\\n', res)"
   ]
  }
 ],
 "metadata": {
  "kernelspec": {
   "display_name": "Python 3 (ipykernel)",
   "language": "python",
   "name": "python3"
  },
  "language_info": {
   "codemirror_mode": {
    "name": "ipython",
    "version": 3
   },
   "file_extension": ".py",
   "mimetype": "text/x-python",
   "name": "python",
   "nbconvert_exporter": "python",
   "pygments_lexer": "ipython3",
   "version": "3.8.8"
  }
 },
 "nbformat": 4,
 "nbformat_minor": 5
}
