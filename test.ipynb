{
 "cells": [
  {
   "cell_type": "code",
   "execution_count": 1,
   "metadata": {},
   "outputs": [],
   "source": [
    "%load_ext autoreload\n",
    "%autoreload 2"
   ]
  },
  {
   "cell_type": "code",
   "execution_count": 2,
   "metadata": {},
   "outputs": [],
   "source": [
    "from textwrap import indent\n",
    "from IPython.display import Javascript\n",
    "from liblet import ANTLR, AnnotatedTreeWalker, Tree, pyast2tree, side_by_side\n",
    "from IPython.display import Latex\n",
    "from fractions import Fraction\n",
    "import importlib\n",
    "from core.arithmetic_manager import ArithManager\n",
    "from core.util import *\n",
    "from core.shunting_yard_parser import ShuntingYardParser\n",
    "from core.arithmetic_manager import ArithManager\n",
    "from core.util import *"
   ]
  },
  {
   "cell_type": "code",
   "execution_count": 3,
   "metadata": {},
   "outputs": [],
   "source": [
    "def ast_eval(ast, domain, show_blocks, show_latex):\n",
    "    AM = ArithManager()\n",
    "    \n",
    "    blocks = AM.blocks(ast)\n",
    "    \n",
    "    if show_blocks: print(blocks)\n",
    "        \n",
    "    MEMORY = dict(blocks)\n",
    "    main_block = blocks[-1][1]\n",
    "    child_to_calc = None\n",
    "    current_block = block_id = None\n",
    "\n",
    "    while blocks and is_calculable(blocks[0][1]): blocks = blocks[1:]\n",
    "\n",
    "    while blocks:\n",
    "        block_id, current_block = blocks[0]\n",
    "        parent_to_calc = AM.prior(current_block)\n",
    "        tex = AM.latex(main_block, MEMORY)\n",
    "        if show_latex: display_latex(tex)\n",
    "        \n",
    "        parent_to_calc.children =  [Tree({'type': 'atomExpr', 'value': AM.eval(child, domain, MEMORY), 'priority': 0, '_calc': 'last'}, []) \n",
    "                                    if is_next_to_calc(child) else child\n",
    "                                    for child in parent_to_calc.children]\n",
    "\n",
    "        if is_calculable(current_block):\n",
    "            current_block = current_block.children[0]\n",
    "            blocks = blocks[1:]\n",
    "\n",
    "        MEMORY[block_id] = current_block\n",
    "\n",
    "    tex = AM.latex(main_block, {})\n",
    "    if show_latex: display_latex(tex)\n",
    "    \n",
    "    return main_block.children[0].root['value']\n",
    "\n",
    "\n",
    "\n",
    "def shunting_eval(expr, domain, show_ast = False, show_blocks = False, show_latex = False):\n",
    "    AM = ArithManager()\n",
    "\n",
    "    ast = AM.shuntingYardExpr2ast(expr)\n",
    "    if show_ast: display(ast)\n",
    "\n",
    "    return ast_eval(ast, domain, show_blocks, show_latex)"
   ]
  },
  {
   "cell_type": "code",
   "execution_count": 7,
   "metadata": {},
   "outputs": [
    {
     "name": "stdout",
     "output_type": "stream",
     "text": [
      "** EXCEPTION SHUNTING **  DOMINIO ERRATO!!!!!\n",
      "** EXCEPTION SHUNTING **  DOMINIO ERRATO!!!!!\n",
      "** EXCEPTION SHUNTING **  DOMINIO ERRATO!!!!!\n",
      "** EXCEPTION SHUNTING **  DOMINIO ERRATO!!!!!\n",
      "*** WRONG 4 ***\n",
      "\n",
      " $$$ 0 $$$   - 96 - 16 ^ 2 ^ -2 / - 48 - 41 ^ 2 x - 51 - 37 + 78 / 15 / 88 - 68 - 93 x 82 ^ -2 ^ -2 / - - 62 ^ 2 ^ 2 - 85 / 19 - 22 / 9 ^ -2 - - 79 x 79 - 82 / - 24 + 63 x 97 - - 74 + 93 / - 63 - - 3 ^ -2 x 83 / 6 - 11 ^ -2 + - 16 - 24 / 71 - 91 ^ 2 / - - - 69 / 44 - - 11 ^ -2 x - 40 / 23 - - 96 x - - 49 x - 66 ^ 2 x - 94 x 77 + 98 / 32 ^ -2 x 58 / 98 x 3 - - 1 x 35 ^ 2 + 56 x - 18 / 11 - 48 - 40 / - - 97 - 57 + - - - 24 / 9 + - 69 - 31 + - - 89 + - - - - 5 - - - - - 59 / - 16 x 23 / - - - 61 x 38 x 62 - 45 / 34 + 29 + 13 ^ -2 / 61 - - - 11 - - - 8 / 39 + 80 x 85 ^ 2 / 58 + 1 + - 29 - 54 ^ 2 - - - 3 ^ 2 - 49 x 13 x 43 / 63 ^ -2 ^ -2\n",
      " $$$ 1 $$$   - - - 30 / 2 x - 4 ^ -2 + - - 96 x 3 - - 97 ^ -2 ^ 2 / - 69 ^ 2 ^ 2 ^ -2 + 80 + 43 / 69 + 27 + 50 - - 32 ^ -2 ^ 2 x 77 + 83 ^ -2 ^ 2 + - - 77 + 39 - 85 + - 79 / - - - 49 ^ 2\n",
      " $$$ 2 $$$   - - - 10 / - 27 x - - 8 x 67 + 84 x - 49 / - 88 + 60 ^ 2 + 72 x 81 ^ 2 / 82 + 51 + 40 / 69 ^ 2 / - - - 41 - - 93 ^ -2 / - - 91 ^ 2 ^ -2 x - - 64 + - 27 - - 18 + - 2 x 32 x 69 + 23 x 25 x 12 - - 97 x - 70 x - - 22 + 95 x - 31 / 39 + 35 + 82 / 74 + 45 ^ 2\n",
      " $$$ 3 $$$   - - - 65 - - 64 + - - 7 - 86 / - 88 x - 16 - 28 - 65 ^ -2 x - 13 - 51 ^ -2 ^ 2 ^ 2 ^ -2 ^ -2 + - - 71 - - - 18 - 90 + - 24 - 87 ^ 2 x - 23 x 55 - 26 - 57 / 76 / 7 x - 4 / 66 / 15 / - 7 - - 57 - - 21 x 47 - - 29 - 57 - 26 x - - 6 / 82 ^ 2 + - - - 42 + 52 x 55 + 53 x 51 x 49 + 1 - 70 + 81 / - 58 + - 90 - 94 x 77 / - 60 / 74 / 54 - 81 x 31 - 46 - 25 ^ 2 / - - 84 x 21 + 25 / 21 - - 15 ^ 2 - - - - - 94 + 44 ^ -2 / - 52 / - - - 18 - 94 + 97 - 25 ^ 2 - - - - 31 / - - - 99 / 40 - 64 / 24 / - 47 x - - 58 - 77 - - 23 x - 14 + 87 / 5 ^ 2 ^ 2 ^ 2 - - - 46 + 1 + 16 ^ -2 x 29 / - 2 / 1 + - - - 7 - 57 ^ 2 x - - 39 ^ 2 x - 97 / - 76 x 85 / - 91 x - 40 / - 49 ^ -2 - - - 91 / - - 98 - - 87 ^ -2\n"
     ]
    }
   ],
   "source": [
    "from core.expression_generator import generate_expression\n",
    "\n",
    "wrong_expr = []\n",
    "for _ in range(30):\n",
    "    exception = False\n",
    "    expr = generate_expression(3)\n",
    "\n",
    "    try:\n",
    "        shunting_res = shunting_eval(expr, 'R')\n",
    "        if exception: \n",
    "            wrong_expr.append(expr)\n",
    "            continue\n",
    "    except Exception as e:\n",
    "        print('** EXCEPTION SHUNTING ** ', e)\n",
    "        if not exception: \n",
    "            wrong_expr.append(expr)\n",
    "        continue\n",
    "\n",
    "    formatted_expr = expr.replace('x', '*').replace(':', '/').replace('^', '**')\n",
    "    res =  round(eval(formatted_expr), 3)\n",
    "\n",
    "    if abs(shunting_res - res) > 1:\n",
    "        wrong_expr.append(expr)\n",
    "        \n",
    "    \n",
    "    #print(antlr_res, shunting_res, res)\n",
    "        \n",
    "if wrong_expr != []:\n",
    "    print(f'*** WRONG {len(wrong_expr)} ***\\n')\n",
    "    for i, it in enumerate(wrong_expr):\n",
    "        print(f' $$$ {i} $$$  ', it)\n",
    "else:\n",
    "    print(\"ALL DONE\")"
   ]
  },
  {
   "cell_type": "code",
   "execution_count": 37,
   "metadata": {},
   "outputs": [
    {
     "name": "stdout",
     "output_type": "stream",
     "text": [
      " - - - 10 / - 27 * - - 8 * 67 + 84 * - 49 / - 88 + 60 ^ 2 + 72 * 81 ^ 2 / 82 + 51 + 40 / 69 ^ 2 / - - - 41 - - 93 ^ -2 / - - 91 ^ 2 ^ -2 * - - 64 + - 27 - - 18 + - 2 * 32 * 69 + 23 * 25 * 12 - - 97 * - 70 * - - 22 + 95 * - 31 / 39 + 35 + 82 / 74 + 45 ^ 2\n",
      "-135262.2332269 \n",
      " -135262.2332269\n"
     ]
    }
   ],
   "source": [
    "expr = ' - - - 10 / - 27 x - - 8 x 67 + 84 x - 49 / - 88 + 60 ^ 2 + 72 x 81 ^ 2 / 82 + 51 + 40 / 69 ^ 2 / - - - 41 - - 93 ^ -2 / - - 91 ^ 2 ^ -2 x - - 64 + - 27 - - 18 + - 2 x 32 x 69 + 23 x 25 x 12 - - 97 x - 70 x - - 22 + 95 x - 31 / 39 + 35 + 82 / 74 + 45 ^ 2'\n",
    "formatted_expr = expr.replace('x', '*').replace(':', '/').replace('^', '**')\n",
    "real_expr = expr.replace('x', '*').replace(':', '/')\n",
    "print(real_expr)\n",
    "res =  round(eval(formatted_expr), 7)\n",
    "shunt = round(float(shunting_eval(expr, 'R', show_latex=False)), 7)\n",
    "print(shunt, '\\n', res)"
   ]
  },
  {
   "cell_type": "code",
   "execution_count": 34,
   "metadata": {},
   "outputs": [
    {
     "data": {
      "text/plain": [
       "4.801020627936657e+40"
      ]
     },
     "execution_count": 34,
     "metadata": {},
     "output_type": "execute_result"
    }
   ],
   "source": [
    "token = '-3.743464808816791e-05'\n",
    "if re.match(r'-?[0-9]+\\.[0-9]+$', token):\n",
    "    print(\"YES\")\n",
    "    \n",
    "\n",
    "    \n",
    "10.4**40"
   ]
  }
 ],
 "metadata": {
  "kernelspec": {
   "display_name": "Python 3",
   "language": "python",
   "name": "python3"
  },
  "language_info": {
   "codemirror_mode": {
    "name": "ipython",
    "version": 3
   },
   "file_extension": ".py",
   "mimetype": "text/x-python",
   "name": "python",
   "nbconvert_exporter": "python",
   "pygments_lexer": "ipython3",
   "version": "3.8.3"
  }
 },
 "nbformat": 4,
 "nbformat_minor": 5
}
