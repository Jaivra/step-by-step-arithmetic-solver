{
 "cells": [
  {
   "cell_type": "code",
   "execution_count": 68,
   "id": "8856907a",
   "metadata": {},
   "outputs": [
    {
     "name": "stdout",
     "output_type": "stream",
     "text": [
      "The autoreload extension is already loaded. To reload it, use:\n",
      "  %reload_ext autoreload\n"
     ]
    }
   ],
   "source": [
    "%load_ext autoreload\n",
    "%autoreload 2"
   ]
  },
  {
   "cell_type": "code",
   "execution_count": 69,
   "id": "b2633ee5",
   "metadata": {},
   "outputs": [],
   "source": [
    "from textwrap import indent\n",
    "from IPython.display import Javascript\n",
    "from liblet import ANTLR, AnnotatedTreeWalker, Tree, pyast2tree, side_by_side\n",
    "from IPython.display import Latex\n",
    "from fractions import Fraction\n",
    "import importlib\n",
    "from core.arithmetic_manager import ArithManager\n",
    "from core.util import *\n",
    "from core.shunting_yard_parser import ShuntingYardParser\n",
    "from core.arithmetic_manager import ArithManager\n",
    "from core.util import *"
   ]
  },
  {
   "cell_type": "code",
   "execution_count": 70,
   "id": "b7b358bc",
   "metadata": {},
   "outputs": [],
   "source": [
    "def ast_eval(ast, show_blocks, show_latex):\n",
    "    AM = ArithManager()\n",
    "    \n",
    "    blocks = AM.blocks(ast)\n",
    "    \n",
    "    if show_blocks: print(blocks)\n",
    "        \n",
    "    MEMORY = dict(blocks)\n",
    "    main_block = blocks[-1][1]\n",
    "    child_to_calc = None\n",
    "    current_block = block_id = None\n",
    "\n",
    "    while blocks and is_calculable(blocks[0][1]): blocks = blocks[1:]\n",
    "\n",
    "    while blocks:\n",
    "        block_id, current_block = blocks[0]\n",
    "        parent_to_calc = AM.prior(current_block)\n",
    "        tex = AM.latex(main_block, MEMORY)\n",
    "        if show_latex: display_latex(tex)\n",
    "        \n",
    "        parent_to_calc.children =  [Tree({'type': 'atomExpr', 'value': AM.eval(child, MEMORY), 'priority': 0, '_calc': 'last'}, []) \n",
    "                                    if is_next_to_calc(child) else child\n",
    "                                    for child in parent_to_calc.children]\n",
    "\n",
    "        if is_calculable(current_block):\n",
    "            current_block = current_block.children[0]\n",
    "            blocks = blocks[1:]\n",
    "\n",
    "        MEMORY[block_id] = current_block\n",
    "\n",
    "    tex = AM.latex(main_block, {})\n",
    "    if show_latex: display_latex(tex)\n",
    "    \n",
    "    return main_block.children[0].root['value']\n",
    "\n",
    "\n",
    "def antlr_eval(expr, show_ptree = False, show_ast = False, show_blocks = False, show_latex = False):\n",
    "    AM = ArithManager()\n",
    "    ptree = AM.ptree('antlrGrammar.g',expr)\n",
    "    if show_ptree: display(ptree)\n",
    "    \n",
    "    ast = AM.ptree2ast(ptree)\n",
    "    if show_ast: display(ast)\n",
    "    return ast_eval(ast, show_blocks, show_latex)\n",
    "\n",
    "\n",
    "def shunting_eval(expr, show_ast = False, show_blocks = False, show_latex = False):\n",
    "    AM = ArithManager()\n",
    "\n",
    "    ast = AM.shuntingYardExpr2ast(expr)\n",
    "    if show_ast: display(ast)\n",
    "\n",
    "    return ast_eval(ast, show_blocks, show_latex)"
   ]
  },
  {
   "cell_type": "code",
   "execution_count": 74,
   "id": "d8fb893d",
   "metadata": {},
   "outputs": [
    {
     "name": "stdout",
     "output_type": "stream",
     "text": [
      "ALL DONE\n"
     ]
    }
   ],
   "source": [
    "from core.expression_generator import generate_expression\n",
    "\n",
    "wrong_expr = []\n",
    "for _ in range(30):\n",
    "    exception = False\n",
    "    expr = generate_expression(2)\n",
    "    \n",
    "    try:\n",
    "        antlr_res = antlr_eval(expr)\n",
    "    except Exception as e:\n",
    "        exception = True\n",
    "\n",
    "    try:\n",
    "        shunting_res = shunting_eval(expr)\n",
    "        if exception: \n",
    "            wrong_expr.append(expr)\n",
    "            continue\n",
    "    except Exception as e:\n",
    "        print('** EXCEPTION SHUNTING ** ', e)\n",
    "        if not exception: \n",
    "            wrong_expr.append(expr)\n",
    "        continue\n",
    "\n",
    "    formatted_expr = expr.replace('x', '*').replace(':', '/').replace('^', '**')\n",
    "    res =  round(eval(formatted_expr), 3)\n",
    "\n",
    "    if antlr_res != shunting_res or abs(antlr_res - res) > 1:\n",
    "        wrong_expr.append(expr)\n",
    "        \n",
    "    \n",
    "    #print(antlr_res, shunting_res, res)\n",
    "        \n",
    "if wrong_expr != []:\n",
    "    print(f'*** WRONG {len(wrong_expr)} ***\\n')\n",
    "    for i, it in enumerate(wrong_expr):\n",
    "        print(f' $$$ {i} $$$  ', it)\n",
    "else:\n",
    "    print(\"ALL DONE\")"
   ]
  },
  {
   "cell_type": "code",
   "execution_count": 75,
   "id": "5ca2d68f",
   "metadata": {},
   "outputs": [
    {
     "name": "stdout",
     "output_type": "stream",
     "text": [
      "-2^-2/3\n",
      "-0.0833333 \n",
      " -0.0833333 \n",
      " -0.0833333\n"
     ]
    }
   ],
   "source": [
    "expr = '-2^-2/3'\n",
    "formatted_expr = expr.replace('x', '*').replace(':', '/').replace('^', '**')\n",
    "real_expr = expr.replace('x', '*').replace(':', '/')\n",
    "print(real_expr)\n",
    "res =  round(eval(formatted_expr), 7)\n",
    "shunt = round(float(shunting_eval(expr, show_latex=False)), 7)\n",
    "ant = round(float(antlr_eval(expr, show_latex=False)), 7)\n",
    "print(shunt, '\\n', ant, '\\n', res)"
   ]
  }
 ],
 "metadata": {
  "kernelspec": {
   "display_name": "Python 3 (ipykernel)",
   "language": "python",
   "name": "python3"
  },
  "language_info": {
   "codemirror_mode": {
    "name": "ipython",
    "version": 3
   },
   "file_extension": ".py",
   "mimetype": "text/x-python",
   "name": "python",
   "nbconvert_exporter": "python",
   "pygments_lexer": "ipython3",
   "version": "3.8.8"
  }
 },
 "nbformat": 4,
 "nbformat_minor": 5
}
